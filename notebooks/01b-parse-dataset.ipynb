{
 "cells": [
  {
   "cell_type": "code",
   "execution_count": 1,
   "metadata": {},
   "outputs": [],
   "source": [
    "import polars as pl\n",
    "import pandas as pd\n",
    "from tqdm.notebook import tqdm\n",
    "import os"
   ]
  },
  {
   "cell_type": "code",
   "execution_count": 2,
   "metadata": {},
   "outputs": [],
   "source": [
    "import sys\n",
    "code_dir = os.path.realpath(os.path.join(os.getcwd(), \"..\", \"src\"))\n",
    "\n",
    "sys.path.append(code_dir)"
   ]
  },
  {
   "cell_type": "code",
   "execution_count": 3,
   "metadata": {},
   "outputs": [
    {
     "name": "stdout",
     "output_type": "stream",
     "text": [
      "/Users/johnnatan/matterlabs/research-proj-inscriptions/data/\n"
     ]
    }
   ],
   "source": [
    "import os\n",
    "data_dir = os.path.realpath(os.path.join(os.getcwd(), \"..\", \"data\")) + os.sep\n",
    "print(data_dir)"
   ]
  },
  {
   "cell_type": "code",
   "execution_count": 4,
   "metadata": {},
   "outputs": [],
   "source": [
    "from utils import Utils"
   ]
  },
  {
   "cell_type": "code",
   "execution_count": 5,
   "metadata": {},
   "outputs": [
    {
     "data": {
      "text/plain": [
       "(10, 11)"
      ]
     },
     "execution_count": 5,
     "metadata": {},
     "output_type": "execute_result"
    }
   ],
   "source": [
    "inscriptions_df = pl.scan_parquet(\n",
    "    data_dir + \"inscriptions_df.parquet\").limit(10).collect()\n",
    "inscriptions_df.shape"
   ]
  },
  {
   "cell_type": "code",
   "execution_count": 6,
   "metadata": {},
   "outputs": [
    {
     "data": {
      "text/html": [
       "<div><style>\n",
       ".dataframe > thead > tr,\n",
       ".dataframe > tbody > tr {\n",
       "  text-align: right;\n",
       "  white-space: pre-wrap;\n",
       "}\n",
       "</style>\n",
       "<small>shape: (10, 11)</small><table border=\"1\" class=\"dataframe\"><thead><tr><th>block_number</th><th>tx_hash</th><th>tx_input_data</th><th>issuer</th><th>receiver</th><th>timestamp</th><th>gas_used</th><th>gas_effective_price</th><th>fees</th><th>tx_status</th><th>decoded_input_data</th></tr><tr><td>i64</td><td>str</td><td>str</td><td>str</td><td>str</td><td>datetime[μs]</td><td>i64</td><td>i64</td><td>f64</td><td>i64</td><td>str</td></tr></thead><tbody><tr><td>6332862</td><td>&quot;0x2359c19cc71569daf700191b894c…</td><td>&quot;0x646174613a2c64617368626f6172…</td><td>&quot;0x86f04d8f599a5b56ddcd91a9689a…</td><td>&quot;0x86f04d8f599a5b56ddcd91a9689a…</td><td>2023-06-18 02:04:06</td><td>215530</td><td>250000000</td><td>0.000054</td><td>1</td><td>&quot;data:,dashboard&quot;</td></tr><tr><td>6351363</td><td>&quot;0x9fb936db146658f1d43a79373426…</td><td>&quot;0x646174613a696d6167652f706e67…</td><td>&quot;0x39ebe965aff2f3803305db701c8e…</td><td>&quot;0x488bd13f16a23a41344e2c11ff18…</td><td>2023-06-18 07:13:34</td><td>221181</td><td>250000000</td><td>0.000055</td><td>1</td><td>&quot;data:image/png;base64,iVBORw0K…</td></tr><tr><td>6351394</td><td>&quot;0x364528a9e973bbc69cabc3250f99…</td><td>&quot;0x646174613a696d6167652f706e67…</td><td>&quot;0x39ebe965aff2f3803305db701c8e…</td><td>&quot;0x488bd13f16a23a41344e2c11ff18…</td><td>2023-06-18 07:14:05</td><td>148688</td><td>250000000</td><td>0.000037</td><td>1</td><td>&quot;data:image/png;base64,iVBORw0K…</td></tr><tr><td>6351410</td><td>&quot;0x0d746c0320ff460b817e974c8b3f…</td><td>&quot;0x646174613a696d6167652f706e67…</td><td>&quot;0x39ebe965aff2f3803305db701c8e…</td><td>&quot;0x488bd13f16a23a41344e2c11ff18…</td><td>2023-06-18 07:14:21</td><td>220987</td><td>250000000</td><td>0.000055</td><td>1</td><td>&quot;data:image/png;base64,iVBORw0K…</td></tr><tr><td>6351431</td><td>&quot;0xcd99fb93cee9376e985142223d52…</td><td>&quot;0x646174613a696d6167652f706e67…</td><td>&quot;0x39ebe965aff2f3803305db701c8e…</td><td>&quot;0x488bd13f16a23a41344e2c11ff18…</td><td>2023-06-18 07:14:42</td><td>147604</td><td>250000000</td><td>0.000037</td><td>1</td><td>&quot;data:image/png;base64,iVBORw0K…</td></tr><tr><td>6351443</td><td>&quot;0xa0c43eb48897c9ba8541b3fc4dc6…</td><td>&quot;0x646174613a696d6167652f706e67…</td><td>&quot;0x39ebe965aff2f3803305db701c8e…</td><td>&quot;0x39ebe965aff2f3803305db701c8e…</td><td>2023-06-18 07:14:54</td><td>147716</td><td>250000000</td><td>0.000037</td><td>1</td><td>&quot;data:image/png;base64,iVBORw0K…</td></tr><tr><td>6351455</td><td>&quot;0xee9be591cef37cb455c66b9fe12a…</td><td>&quot;0x646174613a696d6167652f706e67…</td><td>&quot;0x39ebe965aff2f3803305db701c8e…</td><td>&quot;0x39ebe965aff2f3803305db701c8e…</td><td>2023-06-18 07:15:06</td><td>147681</td><td>250000000</td><td>0.000037</td><td>1</td><td>&quot;data:image/png;base64,iVBORw0K…</td></tr><tr><td>6351470</td><td>&quot;0xee36abd218177a6961584799c1dd…</td><td>&quot;0x646174613a696d6167652f706e67…</td><td>&quot;0x39ebe965aff2f3803305db701c8e…</td><td>&quot;0x39ebe965aff2f3803305db701c8e…</td><td>2023-06-18 07:15:21</td><td>220235</td><td>250000000</td><td>0.000055</td><td>1</td><td>&quot;data:image/png;base64,iVBORw0K…</td></tr><tr><td>6351484</td><td>&quot;0x7eee16dde0c3fb5bd08df92093d4…</td><td>&quot;0x646174613a696d6167652f706e67…</td><td>&quot;0x39ebe965aff2f3803305db701c8e…</td><td>&quot;0x39ebe965aff2f3803305db701c8e…</td><td>2023-06-18 07:15:35</td><td>147949</td><td>250000000</td><td>0.000037</td><td>1</td><td>&quot;data:image/png;base64,iVBORw0K…</td></tr><tr><td>6351506</td><td>&quot;0xae6fb7f7feab5dcbdc302e018206…</td><td>&quot;0x646174613a696d6167652f706e67…</td><td>&quot;0x39ebe965aff2f3803305db701c8e…</td><td>&quot;0x39ebe965aff2f3803305db701c8e…</td><td>2023-06-18 07:15:57</td><td>221269</td><td>250000000</td><td>0.000055</td><td>1</td><td>&quot;data:image/png;base64,iVBORw0K…</td></tr></tbody></table></div>"
      ],
      "text/plain": [
       "shape: (10, 11)\n",
       "┌───────────┬───────────┬───────────┬───────────┬───┬───────────┬──────────┬───────────┬───────────┐\n",
       "│ block_num ┆ tx_hash   ┆ tx_input_ ┆ issuer    ┆ … ┆ gas_effec ┆ fees     ┆ tx_status ┆ decoded_i │\n",
       "│ ber       ┆ ---       ┆ data      ┆ ---       ┆   ┆ tive_pric ┆ ---      ┆ ---       ┆ nput_data │\n",
       "│ ---       ┆ str       ┆ ---       ┆ str       ┆   ┆ e         ┆ f64      ┆ i64       ┆ ---       │\n",
       "│ i64       ┆           ┆ str       ┆           ┆   ┆ ---       ┆          ┆           ┆ str       │\n",
       "│           ┆           ┆           ┆           ┆   ┆ i64       ┆          ┆           ┆           │\n",
       "╞═══════════╪═══════════╪═══════════╪═══════════╪═══╪═══════════╪══════════╪═══════════╪═══════════╡\n",
       "│ 6332862   ┆ 0x2359c19 ┆ 0x6461746 ┆ 0x86f04d8 ┆ … ┆ 250000000 ┆ 0.000054 ┆ 1         ┆ data:,das │\n",
       "│           ┆ cc71569da ┆ 13a2c6461 ┆ f599a5b56 ┆   ┆           ┆          ┆           ┆ hboard    │\n",
       "│           ┆ f700191b8 ┆ 7368626f6 ┆ ddcd91a96 ┆   ┆           ┆          ┆           ┆           │\n",
       "│           ┆ 94c…      ┆ 172…      ┆ 89a…      ┆   ┆           ┆          ┆           ┆           │\n",
       "│ 6351363   ┆ 0x9fb936d ┆ 0x6461746 ┆ 0x39ebe96 ┆ … ┆ 250000000 ┆ 0.000055 ┆ 1         ┆ data:imag │\n",
       "│           ┆ b146658f1 ┆ 13a696d61 ┆ 5aff2f380 ┆   ┆           ┆          ┆           ┆ e/png;bas │\n",
       "│           ┆ d43a79373 ┆ 67652f706 ┆ 3305db701 ┆   ┆           ┆          ┆           ┆ e64,iVBOR │\n",
       "│           ┆ 426…      ┆ e67…      ┆ c8e…      ┆   ┆           ┆          ┆           ┆ w0K…      │\n",
       "│ 6351394   ┆ 0x364528a ┆ 0x6461746 ┆ 0x39ebe96 ┆ … ┆ 250000000 ┆ 0.000037 ┆ 1         ┆ data:imag │\n",
       "│           ┆ 9e973bbc6 ┆ 13a696d61 ┆ 5aff2f380 ┆   ┆           ┆          ┆           ┆ e/png;bas │\n",
       "│           ┆ 9cabc3250 ┆ 67652f706 ┆ 3305db701 ┆   ┆           ┆          ┆           ┆ e64,iVBOR │\n",
       "│           ┆ f99…      ┆ e67…      ┆ c8e…      ┆   ┆           ┆          ┆           ┆ w0K…      │\n",
       "│ 6351410   ┆ 0x0d746c0 ┆ 0x6461746 ┆ 0x39ebe96 ┆ … ┆ 250000000 ┆ 0.000055 ┆ 1         ┆ data:imag │\n",
       "│           ┆ 320ff460b ┆ 13a696d61 ┆ 5aff2f380 ┆   ┆           ┆          ┆           ┆ e/png;bas │\n",
       "│           ┆ 817e974c8 ┆ 67652f706 ┆ 3305db701 ┆   ┆           ┆          ┆           ┆ e64,iVBOR │\n",
       "│           ┆ b3f…      ┆ e67…      ┆ c8e…      ┆   ┆           ┆          ┆           ┆ w0K…      │\n",
       "│ 6351431   ┆ 0xcd99fb9 ┆ 0x6461746 ┆ 0x39ebe96 ┆ … ┆ 250000000 ┆ 0.000037 ┆ 1         ┆ data:imag │\n",
       "│           ┆ 3cee9376e ┆ 13a696d61 ┆ 5aff2f380 ┆   ┆           ┆          ┆           ┆ e/png;bas │\n",
       "│           ┆ 985142223 ┆ 67652f706 ┆ 3305db701 ┆   ┆           ┆          ┆           ┆ e64,iVBOR │\n",
       "│           ┆ d52…      ┆ e67…      ┆ c8e…      ┆   ┆           ┆          ┆           ┆ w0K…      │\n",
       "│ 6351443   ┆ 0xa0c43eb ┆ 0x6461746 ┆ 0x39ebe96 ┆ … ┆ 250000000 ┆ 0.000037 ┆ 1         ┆ data:imag │\n",
       "│           ┆ 48897c9ba ┆ 13a696d61 ┆ 5aff2f380 ┆   ┆           ┆          ┆           ┆ e/png;bas │\n",
       "│           ┆ 8541b3fc4 ┆ 67652f706 ┆ 3305db701 ┆   ┆           ┆          ┆           ┆ e64,iVBOR │\n",
       "│           ┆ dc6…      ┆ e67…      ┆ c8e…      ┆   ┆           ┆          ┆           ┆ w0K…      │\n",
       "│ 6351455   ┆ 0xee9be59 ┆ 0x6461746 ┆ 0x39ebe96 ┆ … ┆ 250000000 ┆ 0.000037 ┆ 1         ┆ data:imag │\n",
       "│           ┆ 1cef37cb4 ┆ 13a696d61 ┆ 5aff2f380 ┆   ┆           ┆          ┆           ┆ e/png;bas │\n",
       "│           ┆ 55c66b9fe ┆ 67652f706 ┆ 3305db701 ┆   ┆           ┆          ┆           ┆ e64,iVBOR │\n",
       "│           ┆ 12a…      ┆ e67…      ┆ c8e…      ┆   ┆           ┆          ┆           ┆ w0K…      │\n",
       "│ 6351470   ┆ 0xee36abd ┆ 0x6461746 ┆ 0x39ebe96 ┆ … ┆ 250000000 ┆ 0.000055 ┆ 1         ┆ data:imag │\n",
       "│           ┆ 218177a69 ┆ 13a696d61 ┆ 5aff2f380 ┆   ┆           ┆          ┆           ┆ e/png;bas │\n",
       "│           ┆ 61584799c ┆ 67652f706 ┆ 3305db701 ┆   ┆           ┆          ┆           ┆ e64,iVBOR │\n",
       "│           ┆ 1dd…      ┆ e67…      ┆ c8e…      ┆   ┆           ┆          ┆           ┆ w0K…      │\n",
       "│ 6351484   ┆ 0x7eee16d ┆ 0x6461746 ┆ 0x39ebe96 ┆ … ┆ 250000000 ┆ 0.000037 ┆ 1         ┆ data:imag │\n",
       "│           ┆ de0c3fb5b ┆ 13a696d61 ┆ 5aff2f380 ┆   ┆           ┆          ┆           ┆ e/png;bas │\n",
       "│           ┆ d08df9209 ┆ 67652f706 ┆ 3305db701 ┆   ┆           ┆          ┆           ┆ e64,iVBOR │\n",
       "│           ┆ 3d4…      ┆ e67…      ┆ c8e…      ┆   ┆           ┆          ┆           ┆ w0K…      │\n",
       "│ 6351506   ┆ 0xae6fb7f ┆ 0x6461746 ┆ 0x39ebe96 ┆ … ┆ 250000000 ┆ 0.000055 ┆ 1         ┆ data:imag │\n",
       "│           ┆ 7feab5dcb ┆ 13a696d61 ┆ 5aff2f380 ┆   ┆           ┆          ┆           ┆ e/png;bas │\n",
       "│           ┆ dc302e018 ┆ 67652f706 ┆ 3305db701 ┆   ┆           ┆          ┆           ┆ e64,iVBOR │\n",
       "│           ┆ 206…      ┆ e67…      ┆ c8e…      ┆   ┆           ┆          ┆           ┆ w0K…      │\n",
       "└───────────┴───────────┴───────────┴───────────┴───┴───────────┴──────────┴───────────┴───────────┘"
      ]
     },
     "execution_count": 6,
     "metadata": {},
     "output_type": "execute_result"
    }
   ],
   "source": [
    "inscriptions_df"
   ]
  },
  {
   "cell_type": "code",
   "execution_count": 7,
   "metadata": {},
   "outputs": [
    {
     "data": {
      "text/plain": [
       "OrderedDict([('block_number', Int64),\n",
       "             ('tx_hash', String),\n",
       "             ('tx_input_data', String),\n",
       "             ('issuer', String),\n",
       "             ('receiver', String),\n",
       "             ('timestamp', Datetime(time_unit='us', time_zone=None)),\n",
       "             ('gas_used', Int64),\n",
       "             ('gas_effective_price', Int64),\n",
       "             ('fees', Float64),\n",
       "             ('tx_status', Int64)])"
      ]
     },
     "execution_count": 7,
     "metadata": {},
     "output_type": "execute_result"
    }
   ],
   "source": [
    "schema = inscriptions_df.schema\n",
    "schema.pop('decoded_input_data')\n",
    "schema"
   ]
  },
  {
   "cell_type": "code",
   "execution_count": 8,
   "metadata": {},
   "outputs": [],
   "source": [
    "columns_renamed = {\n",
    "    'tx_hash': 'tx_hash',\n",
    "    'block_number': 'block_number',\n",
    "    'tx_input': 'tx_input_data',\n",
    "    'tx_from_address': 'issuer',\n",
    "    'tx_to_address': 'receiver',\n",
    "    'receipt_gas_used': 'gas_used',\n",
    "    'block_timestamp': 'timestamp',\n",
    "    'effective_gas_price': 'gas_effective_price',\n",
    "    'receipt_status': 'tx_status',\n",
    "    'value': 'amount',\n",
    "    'receipt_effective_gas_price': 'gas_effective_price'\n",
    "}\n",
    "\n",
    "collumns_selected = [\n",
    "    'block_number',\n",
    "    'tx_hash',\n",
    "    'tx_input_data',\n",
    "    'issuer',\n",
    "    'receiver',\n",
    "    'timestamp',\n",
    "    'gas_used',\n",
    "    'gas_effective_price',\n",
    "    'fees',\n",
    "    'tx_status',\n",
    "]\n",
    "\n",
    "\n",
    "def rename_columns(df):\n",
    "    df = df.rename(columns=columns_renamed)\n",
    "    if 'gas_effective_price' not in df.columns:\n",
    "        df = df.rename(columns={'gas_price': 'gas_effective_price'})\n",
    "    return df\n",
    "\n",
    "\n",
    "def preprocess_dataframe(df):\n",
    "    df['fees'] = df['gas_used'] * df['gas_effective_price']/1e18\n",
    "    df['timestamp'] = pd.to_datetime(df['timestamp'])\n",
    "    return df\n",
    "\n",
    "\n",
    "def to_polars(df):\n",
    "    return pl.DataFrame._from_pandas(df[collumns_selected], schema=schema)\n",
    "\n",
    "\n",
    "def persitst_to_parquet(df, filepath):\n",
    "    df.write_parquet(filepath)"
   ]
  },
  {
   "cell_type": "code",
   "execution_count": 9,
   "metadata": {},
   "outputs": [
    {
     "data": {
      "text/plain": [
       "['arbitrum', 'base', 'bsc', 'ethereum', 'fantom', 'optimism', 'zksync']"
      ]
     },
     "execution_count": 9,
     "metadata": {},
     "output_type": "execute_result"
    }
   ],
   "source": [
    "chains_path = os.path.realpath(os.path.join(data_dir, \"chains\")) + os.sep\n",
    "chains = sorted([chain for chain in os.listdir(chains_path)\n",
    "                if os.path.isdir(chains_path+chain)])\n",
    "chains.remove('avalanche')\n",
    "chains"
   ]
  },
  {
   "cell_type": "code",
   "execution_count": 11,
   "metadata": {},
   "outputs": [
    {
     "data": {
      "application/vnd.jupyter.widget-view+json": {
       "model_id": "89d4671ddfcb4765b4fa20115ed8e3a0",
       "version_major": 2,
       "version_minor": 0
      },
      "text/plain": [
       "  0%|          | 0/7 [00:00<?, ?it/s]"
      ]
     },
     "metadata": {},
     "output_type": "display_data"
    },
    {
     "name": "stdout",
     "output_type": "stream",
     "text": [
      "arbitrum\n",
      "base\n",
      "bsc\n",
      "ethereum\n",
      "fantom\n",
      "optimism\n",
      "zksync\n"
     ]
    }
   ],
   "source": [
    "for chain in tqdm(chains):\n",
    "    print(chain)\n",
    "    filenames = [filename for filename in os.listdir(\n",
    "        chains_path + chain) if filename.endswith(\".csv.gz\")]\n",
    "    if os.path.exists(chains_path + chain + \"_inscriptions.parquet\"):\n",
    "        print(\"Already processed\", chain)\n",
    "        continue\n",
    "    dfs = []\n",
    "    for filename in filenames:\n",
    "        filepath = chains_path + chain + os.sep + filename\n",
    "        df = pd.read_csv(filepath)\n",
    "        df = rename_columns(df)\n",
    "        df = preprocess_dataframe(df)\n",
    "        if df.shape[0] > 0:\n",
    "            dfs.append(df)\n",
    "    dfs = pd.concat(dfs)\n",
    "    df = to_polars(dfs)\n",
    "    df = df.with_columns(\n",
    "        pl.col('tx_input_data').map_elements(Utils.decode_input_data,\n",
    "                                             return_dtype=pl.String)\n",
    "    )\n",
    "    df = df.rename({'tx_input_data': 'decoded_input_data'})\n",
    "    persitst_to_parquet(df, filepath=chains_path +\n",
    "                        chain + \"_inscriptions.parquet\")"
   ]
  }
 ],
 "metadata": {
  "kernelspec": {
   "display_name": "Python 3",
   "language": "python",
   "name": "python3"
  },
  "language_info": {
   "codemirror_mode": {
    "name": "ipython",
    "version": 3
   },
   "file_extension": ".py",
   "mimetype": "text/x-python",
   "name": "python",
   "nbconvert_exporter": "python",
   "pygments_lexer": "ipython3",
   "version": "3.11.7"
  }
 },
 "nbformat": 4,
 "nbformat_minor": 2
}
