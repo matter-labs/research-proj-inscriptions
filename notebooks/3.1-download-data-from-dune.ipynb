{
 "cells": [
  {
   "cell_type": "markdown",
   "metadata": {
    "id": "nvtHymD2TUSi"
   },
   "source": [
    "# Download query from Dune\n",
    "\n",
    "#### Maria Silva, April 2024\n",
    "\n",
    "Note that we are running this from google colab!!! This means that you will not be able to run this notebook without access to the secrets and a google colab enviroment."
   ]
  },
  {
   "cell_type": "markdown",
   "metadata": {
    "id": "EIgaVqXJTkus"
   },
   "source": [
    "## Imports and secrets"
   ]
  },
  {
   "cell_type": "code",
   "execution_count": null,
   "metadata": {
    "id": "QI95GWvJTTr-"
   },
   "outputs": [],
   "source": [
    "import json\n",
    "import pickle\n",
    "import requests\n",
    "import pandas as pd\n",
    "from google.colab import userdata"
   ]
  },
  {
   "cell_type": "code",
   "execution_count": null,
   "metadata": {
    "id": "bArAm5INyYnq"
   },
   "outputs": [],
   "source": [
    "DUNE_API_KEY = userdata.get('X-DUNE-API-KEY')\n",
    "SECRETE_GCP_KEY = userdata.get('secret_gcp_key')\n",
    "\n",
    "with open('secret_gcp_key.json', 'w') as f:\n",
    "    f.write(SECRETE_GCP_KEY)"
   ]
  },
  {
   "cell_type": "markdown",
   "metadata": {
    "id": "ISyjbwKrTbmL"
   },
   "source": [
    "## Install gfuse and mount GCP bucket"
   ]
  },
  {
   "cell_type": "code",
   "execution_count": null,
   "metadata": {
    "id": "qEq9Ryro5kdd"
   },
   "outputs": [],
   "source": [
    "%%capture\n",
    "!echo \"deb http://packages.cloud.google.com/apt gcsfuse-bionic main\" > /etc/apt/sources.list.d/gcsfuse.list\n",
    "!curl https://packages.cloud.google.com/apt/doc/apt-key.gpg | apt-key add -\n",
    "!apt -qq update\n",
    "!apt -qq install gcsfuse"
   ]
  },
  {
   "cell_type": "code",
   "execution_count": null,
   "metadata": {
    "colab": {
     "base_uri": "https://localhost:8080/"
    },
    "id": "sZLfhja14Ui3",
    "outputId": "4a03e87f-400e-46f0-fc69-844a82a0aa19"
   },
   "outputs": [],
   "source": [
    "!mkdir -p research-analysis-422212-storage\n",
    "!gcsfuse --key-file secret_gcp_key.json  research-analysis-422212-storage research-analysis-422212-storage\n",
    "!touch research-analysis-422212-storage/test"
   ]
  },
  {
   "cell_type": "markdown",
   "metadata": {
    "id": "0KXGgArIx2t-"
   },
   "source": [
    "## Download data"
   ]
  },
  {
   "cell_type": "code",
   "execution_count": null,
   "metadata": {
    "colab": {
     "base_uri": "https://localhost:8080/"
    },
    "id": "UBZiF1j_NUg_",
    "outputId": "9ec2edfa-b873-4712-96b8-ae834f527153"
   },
   "outputs": [],
   "source": [
    "# Query settings\n",
    "query_id = \"3685205\"\n",
    "out_file_name = \"zksync_gas_data.csv\"\n",
    "\n",
    "# Request\n",
    "url = f\"https://api.dune.com/api/v1/query/{query_id}/results?allow_partial_results=true&limit=250000\"\n",
    "headers = {\"X-DUNE-API-KEY\": DUNE_API_KEY}\n",
    "\n",
    "# Pagination loop\n",
    "data_df = pd.DataFrame()\n",
    "n = 0\n",
    "while url:\n",
    "  response = requests.request(\"GET\", url, headers=headers)\n",
    "  results = json.loads(response.text)\n",
    "  if \"error\" in results:\n",
    "    if results[\"error\"] == 'internal error':\n",
    "      response = requests.request(\"GET\", url, headers=headers)\n",
    "      results = json.loads(response.text)\n",
    "  temp_data = results['result']['rows']\n",
    "  temp_data_df = pd.DataFrame(temp_data)\n",
    "  data_df = pd.concat([data_df, temp_data_df], ignore_index=True)\n",
    "  if n % 100 == 0:\n",
    "    data_df.to_csv(f\"./research-analysis-422212-storage/temp_{out_file_name}\", index=False)\n",
    "    print(f\"Checkpointed at {url}\")\n",
    "  n += 1\n",
    "  if 'next_uri' in results:\n",
    "    url = results['next_uri']\n",
    "  else:\n",
    "    url = None\n",
    "\n",
    "data_df.to_csv(f\"./research-analysis-422212-storage/{out_file_name}\", index=False)\n",
    "print(\"Done\")"
   ]
  },
  {
   "cell_type": "code",
   "execution_count": null,
   "metadata": {
    "colab": {
     "base_uri": "https://localhost:8080/"
    },
    "id": "mKMQmxKAzluP",
    "outputId": "1da0a200-eb89-4c9d-b011-d8ce577343f8"
   },
   "outputs": [],
   "source": [
    "data_df.info()"
   ]
  },
  {
   "cell_type": "code",
   "execution_count": null,
   "metadata": {
    "colab": {
     "base_uri": "https://localhost:8080/",
     "height": 342
    },
    "id": "arY2hD99_Sep",
    "outputId": "3962a0ed-2a21-4b9c-c315-f8a3db8a85d5"
   },
   "outputs": [],
   "source": [
    "data_df.head()"
   ]
  },
  {
   "cell_type": "code",
   "execution_count": null,
   "metadata": {
    "colab": {
     "base_uri": "https://localhost:8080/",
     "height": 342
    },
    "id": "_RlTg_T-F-Tl",
    "outputId": "e436159b-b24a-461c-9ed7-10021549b4be"
   },
   "outputs": [],
   "source": [
    "data_df.tail()"
   ]
  }
 ],
 "metadata": {
  "colab": {
   "provenance": []
  },
  "kernelspec": {
   "display_name": "Python 3 (ipykernel)",
   "language": "python",
   "name": "python3"
  },
  "language_info": {
   "codemirror_mode": {
    "name": "ipython",
    "version": 3
   },
   "file_extension": ".py",
   "mimetype": "text/x-python",
   "name": "python",
   "nbconvert_exporter": "python",
   "pygments_lexer": "ipython3",
   "version": "3.9.19"
  }
 },
 "nbformat": 4,
 "nbformat_minor": 4
}
