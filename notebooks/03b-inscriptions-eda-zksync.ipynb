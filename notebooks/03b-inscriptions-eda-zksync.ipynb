{
 "cells": [
  {
   "cell_type": "markdown",
   "metadata": {},
   "source": [
    "# Project Inscriptions -- Exploratory Data Analysis\n",
    "\n",
    "**Johnnatan Messias**, April 2024\n"
   ]
  },
  {
   "cell_type": "code",
   "execution_count": 1,
   "metadata": {},
   "outputs": [],
   "source": [
    "import os\n",
    "from tqdm.notebook import tqdm\n",
    "import polars as pl\n",
    "import json\n",
    "import plotly.graph_objects as go"
   ]
  },
  {
   "cell_type": "code",
   "execution_count": 2,
   "metadata": {},
   "outputs": [],
   "source": [
    "import sys\n",
    "code_dir = os.path.realpath(os.path.join(os.getcwd(), \"..\", \"src\"))\n",
    "\n",
    "sys.path.append(code_dir)"
   ]
  },
  {
   "cell_type": "code",
   "execution_count": 50,
   "metadata": {},
   "outputs": [
    {
     "ename": "ImportError",
     "evalue": "cannot import name 'get_plotly_layout' from 'plot_utils' (/Users/kris/Library/Python/3.9/lib/python/site-packages/plot_utils/__init__.py)",
     "output_type": "error",
     "traceback": [
      "\u001b[0;31m---------------------------------------------------------------------------\u001b[0m",
      "\u001b[0;31mImportError\u001b[0m                               Traceback (most recent call last)",
      "Cell \u001b[0;32mIn[50], line 1\u001b[0m\n\u001b[0;32m----> 1\u001b[0m \u001b[39mfrom\u001b[39;00m \u001b[39mplot_utils\u001b[39;00m \u001b[39mimport\u001b[39;00m get_plotly_layout\n\u001b[1;32m      2\u001b[0m \u001b[39mfrom\u001b[39;00m \u001b[39mplot_utils\u001b[39;00m \u001b[39mimport\u001b[39;00m colors\n\u001b[1;32m      3\u001b[0m width, height \u001b[39m=\u001b[39m \u001b[39m800\u001b[39m, \u001b[39m450\u001b[39m\n",
      "\u001b[0;31mImportError\u001b[0m: cannot import name 'get_plotly_layout' from 'plot_utils' (/Users/kris/Library/Python/3.9/lib/python/site-packages/plot_utils/__init__.py)"
     ]
    }
   ],
   "source": [
    "from plot_utils import get_plotly_layout\n",
    "from plot_utils import colors\n",
    "width, height = 800, 450"
   ]
  },
  {
   "cell_type": "code",
   "execution_count": 51,
   "metadata": {},
   "outputs": [],
   "source": [
    "import matplotlib\n",
    "matplotlib.rcParams['pdf.fonttype'] = 42\n",
    "matplotlib.rcParams['ps.fonttype'] = 42\n",
    "\n",
    "width, height = 800, 450\n",
    "layout = go.Layout(\n",
    "    template='simple_white',\n",
    "    font=dict(size=18, family='Clear Sans'),\n",
    "    margin=go.layout.Margin(\n",
    "        l=10,  # left margin\n",
    "        r=10,  # right margin\n",
    "        b=10,  # bottom margin\n",
    "        t=10  # top margin\n",
    "    ),\n",
    "    width=width,\n",
    "    height=height,\n",
    "    xaxis=dict(minor_ticks=\"inside\", showgrid=True,\n",
    "               griddash='dash', minor_griddash=\"dot\"),\n",
    "    yaxis=dict(minor_ticks=\"inside\", showgrid=True,\n",
    "               griddash='dash', minor_griddash=\"dot\")\n",
    ")"
   ]
  },
  {
   "cell_type": "code",
   "execution_count": 52,
   "metadata": {},
   "outputs": [],
   "source": [
    "colors = {'red': '#ee443a', 'blue': '#42bbf1', 'dark_blue': '#1a4fec',\n",
    "          'green': '#50be61', 'grey': '#b7b7b7', 'orange': '#f28222', 'purple': '#6e18ee', 'brown': '#a65628', 'pink': '#ef4793',\n",
    "          'yellow': '#f8c94c', 'black': '#000000', 'white': '#ffffff', 'light_blue': '#a6cee3', 'light_green': '#b2df8a',\n",
    "          'light_grey': '#999999', 'light_orange': '#fdbf6f', 'light_purple': '#cab2d6', 'light_brown': '#ffff99', 'light_pink': '#1f78b4',\n",
    "          'light_yellow': '#fb9a99', 'light_black': '#e31a1c', 'light_white': '#33a02c', 'gold': '#ff7f00', 'silver': '#b2df8a'}\n",
    "styles = ['-', '--', ':', '-.']\n",
    "percentiles = [.01, .05, .1, .2, .25, .50, .75, .8, .9, .95, .99]\n",
    "linestyles = ['dotted', 'dotted', 'solid', 'dashdot', 'dashed', 'solid']"
   ]
  },
  {
   "cell_type": "code",
   "execution_count": 3,
   "metadata": {},
   "outputs": [],
   "source": [
    "# Existing dataset dir\n",
    "data_dir = '../data/'\n",
    "\n",
    "# Existing plots dir\n",
    "plots_dir = data_dir+'/plots/'\n",
    "os.makedirs(data_dir, exist_ok=True)\n",
    "os.makedirs(plots_dir, exist_ok=True)"
   ]
  },
  {
   "cell_type": "code",
   "execution_count": null,
   "metadata": {},
   "outputs": [],
   "source": [
    "inscriptions_tag = '0x646174613a'"
   ]
  },
  {
   "cell_type": "markdown",
   "metadata": {},
   "source": [
    "## Exploratory Data Analysis\n"
   ]
  },
  {
   "cell_type": "code",
   "execution_count": 4,
   "metadata": {},
   "outputs": [],
   "source": [
    "def parse_input_data(data):\n",
    "    response = dict()\n",
    "    if data is None:\n",
    "        response = None\n",
    "    else:\n",
    "        if data.startswith('data:,{'):\n",
    "            response['type'] = 'json'\n",
    "            response['data'] = ','.join(data.split(',')[1:])\n",
    "        elif data.startswith('data:image/png;'):\n",
    "            response['type'] = 'image/png'\n",
    "            response['data'] = ','.join(data.split(',')[1:])\n",
    "        elif data.startswith('data:application/json,'):\n",
    "            response['type'] = 'application/json'\n",
    "            response['data'] = ','.join(data.split(',')[1:])\n",
    "        elif data.startswith('data:application/json,'):\n",
    "            response['type'] = 'application/json'\n",
    "            response['data'] = ','.join(data.split(',')[1:])\n",
    "        else:\n",
    "            response['type'] = 'unknown'\n",
    "            response['data'] = data\n",
    "    return response"
   ]
  },
  {
   "cell_type": "code",
   "execution_count": 5,
   "metadata": {},
   "outputs": [
    {
     "name": "stdout",
     "output_type": "stream",
     "text": [
      "There are 17060492 inscriptions in our dataset.\n"
     ]
    },
    {
     "data": {
      "text/html": [
       "<div><style>\n",
       ".dataframe > thead > tr,\n",
       ".dataframe > tbody > tr {\n",
       "  text-align: right;\n",
       "  white-space: pre-wrap;\n",
       "}\n",
       "</style>\n",
       "<small>shape: (5, 11)</small><table border=\"1\" class=\"dataframe\"><thead><tr><th>block_number</th><th>tx_hash</th><th>tx_input_data</th><th>issuer</th><th>receiver</th><th>timestamp</th><th>gas_used</th><th>gas_effective_price</th><th>fees</th><th>tx_status</th><th>decoded_input_data</th></tr><tr><td>i64</td><td>str</td><td>str</td><td>str</td><td>str</td><td>datetime[μs]</td><td>i64</td><td>i64</td><td>f64</td><td>i64</td><td>str</td></tr></thead><tbody><tr><td>6332862</td><td>&quot;0x2359c19cc715…</td><td>&quot;0x646174613a2c…</td><td>&quot;0x86f04d8f599a…</td><td>&quot;0x86f04d8f599a…</td><td>2023-06-18 02:04:06</td><td>215530</td><td>250000000</td><td>0.000054</td><td>1</td><td>&quot;data:,dashboar…</td></tr><tr><td>6351363</td><td>&quot;0x9fb936db1466…</td><td>&quot;0x646174613a69…</td><td>&quot;0x39ebe965aff2…</td><td>&quot;0x488bd13f16a2…</td><td>2023-06-18 07:13:34</td><td>221181</td><td>250000000</td><td>0.000055</td><td>1</td><td>&quot;data:image/png…</td></tr><tr><td>6351394</td><td>&quot;0x364528a9e973…</td><td>&quot;0x646174613a69…</td><td>&quot;0x39ebe965aff2…</td><td>&quot;0x488bd13f16a2…</td><td>2023-06-18 07:14:05</td><td>148688</td><td>250000000</td><td>0.000037</td><td>1</td><td>&quot;data:image/png…</td></tr><tr><td>6351410</td><td>&quot;0x0d746c0320ff…</td><td>&quot;0x646174613a69…</td><td>&quot;0x39ebe965aff2…</td><td>&quot;0x488bd13f16a2…</td><td>2023-06-18 07:14:21</td><td>220987</td><td>250000000</td><td>0.000055</td><td>1</td><td>&quot;data:image/png…</td></tr><tr><td>6351431</td><td>&quot;0xcd99fb93cee9…</td><td>&quot;0x646174613a69…</td><td>&quot;0x39ebe965aff2…</td><td>&quot;0x488bd13f16a2…</td><td>2023-06-18 07:14:42</td><td>147604</td><td>250000000</td><td>0.000037</td><td>1</td><td>&quot;data:image/png…</td></tr></tbody></table></div>"
      ],
      "text/plain": [
       "shape: (5, 11)\n",
       "┌───────────┬───────────┬───────────┬───────────┬───┬───────────┬──────────┬───────────┬───────────┐\n",
       "│ block_num ┆ tx_hash   ┆ tx_input_ ┆ issuer    ┆ … ┆ gas_effec ┆ fees     ┆ tx_status ┆ decoded_i │\n",
       "│ ber       ┆ ---       ┆ data      ┆ ---       ┆   ┆ tive_pric ┆ ---      ┆ ---       ┆ nput_data │\n",
       "│ ---       ┆ str       ┆ ---       ┆ str       ┆   ┆ e         ┆ f64      ┆ i64       ┆ ---       │\n",
       "│ i64       ┆           ┆ str       ┆           ┆   ┆ ---       ┆          ┆           ┆ str       │\n",
       "│           ┆           ┆           ┆           ┆   ┆ i64       ┆          ┆           ┆           │\n",
       "╞═══════════╪═══════════╪═══════════╪═══════════╪═══╪═══════════╪══════════╪═══════════╪═══════════╡\n",
       "│ 6332862   ┆ 0x2359c19 ┆ 0x6461746 ┆ 0x86f04d8 ┆ … ┆ 250000000 ┆ 0.000054 ┆ 1         ┆ data:,das │\n",
       "│           ┆ cc71569da ┆ 13a2c6461 ┆ f599a5b56 ┆   ┆           ┆          ┆           ┆ hboard    │\n",
       "│           ┆ f700191b8 ┆ 7368626f6 ┆ ddcd91a96 ┆   ┆           ┆          ┆           ┆           │\n",
       "│           ┆ 94cf4…    ┆ 17264     ┆ 89a66…    ┆   ┆           ┆          ┆           ┆           │\n",
       "│ 6351363   ┆ 0x9fb936d ┆ 0x6461746 ┆ 0x39ebe96 ┆ … ┆ 250000000 ┆ 0.000055 ┆ 1         ┆ data:imag │\n",
       "│           ┆ b146658f1 ┆ 13a696d61 ┆ 5aff2f380 ┆   ┆           ┆          ┆           ┆ e/png;bas │\n",
       "│           ┆ d43a79373 ┆ 67652f706 ┆ 3305db701 ┆   ┆           ┆          ┆           ┆ e64,iVBOR │\n",
       "│           ┆ 4269d…    ┆ e673b…    ┆ c8ebc…    ┆   ┆           ┆          ┆           ┆ w0KGg…    │\n",
       "│ 6351394   ┆ 0x364528a ┆ 0x6461746 ┆ 0x39ebe96 ┆ … ┆ 250000000 ┆ 0.000037 ┆ 1         ┆ data:imag │\n",
       "│           ┆ 9e973bbc6 ┆ 13a696d61 ┆ 5aff2f380 ┆   ┆           ┆          ┆           ┆ e/png;bas │\n",
       "│           ┆ 9cabc3250 ┆ 67652f706 ┆ 3305db701 ┆   ┆           ┆          ┆           ┆ e64,iVBOR │\n",
       "│           ┆ f99f3…    ┆ e673b…    ┆ c8ebc…    ┆   ┆           ┆          ┆           ┆ w0KGg…    │\n",
       "│ 6351410   ┆ 0x0d746c0 ┆ 0x6461746 ┆ 0x39ebe96 ┆ … ┆ 250000000 ┆ 0.000055 ┆ 1         ┆ data:imag │\n",
       "│           ┆ 320ff460b ┆ 13a696d61 ┆ 5aff2f380 ┆   ┆           ┆          ┆           ┆ e/png;bas │\n",
       "│           ┆ 817e974c8 ┆ 67652f706 ┆ 3305db701 ┆   ┆           ┆          ┆           ┆ e64,iVBOR │\n",
       "│           ┆ b3f1d…    ┆ e673b…    ┆ c8ebc…    ┆   ┆           ┆          ┆           ┆ w0KGg…    │\n",
       "│ 6351431   ┆ 0xcd99fb9 ┆ 0x6461746 ┆ 0x39ebe96 ┆ … ┆ 250000000 ┆ 0.000037 ┆ 1         ┆ data:imag │\n",
       "│           ┆ 3cee9376e ┆ 13a696d61 ┆ 5aff2f380 ┆   ┆           ┆          ┆           ┆ e/png;bas │\n",
       "│           ┆ 985142223 ┆ 67652f706 ┆ 3305db701 ┆   ┆           ┆          ┆           ┆ e64,iVBOR │\n",
       "│           ┆ d52f8…    ┆ e673b…    ┆ c8ebc…    ┆   ┆           ┆          ┆           ┆ w0KGg…    │\n",
       "└───────────┴───────────┴───────────┴───────────┴───┴───────────┴──────────┴───────────┴───────────┘"
      ]
     },
     "execution_count": 5,
     "metadata": {},
     "output_type": "execute_result"
    }
   ],
   "source": [
    "# Loading inscriptions dataframe from a file\n",
    "inscriptions_df = pl.scan_parquet(\n",
    "    data_dir+'inscriptions_df.parquet').collect(streaming=True)\n",
    "print(\"There are {} inscriptions in our dataset.\".format(\n",
    "    inscriptions_df.shape[0]))\n",
    "inscriptions_df.head()"
   ]
  },
  {
   "cell_type": "code",
   "execution_count": 7,
   "metadata": {},
   "outputs": [
    {
     "name": "stdout",
     "output_type": "stream",
     "text": [
      "There are 17054466 unique transactions in our dataset.\n",
      "There are 470864 unique issuers in our dataset.\n",
      "There are 2713534 unique blocks in our dataset.\n",
      "The average number of inscriptions per block is 6.28 inscriptions.\n",
      "The minimum and max block numbers containing inscriptions are: 6332862 and 29799866.\n",
      "The minimum timestamp is 2023-06-18 02:04:06 and the maximum timestamp is 2024-03-25 02:19:14.\n"
     ]
    }
   ],
   "source": [
    "print(\"There are {} unique transactions in our dataset.\".format(\n",
    "    inscriptions_df['tx_hash'].n_unique()))\n",
    "print(\"There are {} unique issuers in our dataset.\".format(\n",
    "    inscriptions_df['issuer'].n_unique()))\n",
    "print(\"There are {} unique blocks in our dataset.\".format(\n",
    "    inscriptions_df['block_number'].n_unique()))\n",
    "print(\"The average number of inscriptions per block is {} inscriptions.\".format(round(\n",
    "    inscriptions_df['tx_hash'].n_unique()/inscriptions_df['block_number'].n_unique(), 2)))\n",
    "\n",
    "print(\"The minimum and max block numbers containing inscriptions are: {} and {}.\".format(\n",
    "    inscriptions_df['block_number'].min(), inscriptions_df['block_number'].max()))\n",
    "\n",
    "print(\"The minimum timestamp is {} and the maximum timestamp is {}.\".format(\n",
    "    inscriptions_df['timestamp'].min(), inscriptions_df['timestamp'].max()))"
   ]
  },
  {
   "cell_type": "code",
   "execution_count": 6,
   "metadata": {},
   "outputs": [
    {
     "name": "stdout",
     "output_type": "stream",
     "text": [
      "There are 16863729 tokens.\n"
     ]
    },
    {
     "data": {
      "text/html": [
       "<div><style>\n",
       ".dataframe > thead > tr,\n",
       ".dataframe > tbody > tr {\n",
       "  text-align: right;\n",
       "  white-space: pre-wrap;\n",
       "}\n",
       "</style>\n",
       "<small>shape: (5, 11)</small><table border=\"1\" class=\"dataframe\"><thead><tr><th>block_number</th><th>tx_hash</th><th>tx_input_data</th><th>issuer</th><th>receiver</th><th>timestamp</th><th>gas_used</th><th>gas_effective_price</th><th>fees</th><th>tx_status</th><th>decoded_input_data</th></tr><tr><td>i64</td><td>str</td><td>str</td><td>str</td><td>str</td><td>datetime[μs]</td><td>i64</td><td>i64</td><td>f64</td><td>i64</td><td>str</td></tr></thead><tbody><tr><td>6359996</td><td>&quot;0x51c592fc710d…</td><td>&quot;0x646174613a2c…</td><td>&quot;0x171c8be8b926…</td><td>&quot;0x171c8be8b926…</td><td>2023-06-18 09:38:14</td><td>219331</td><td>250000000</td><td>0.000055</td><td>1</td><td>&quot;{&quot;p&quot;:&quot;erc-20&quot;,…</td></tr><tr><td>6360292</td><td>&quot;0xb453be720aee…</td><td>&quot;0x646174613a2c…</td><td>&quot;0x61fd0d043d51…</td><td>&quot;0x61fd0d043d51…</td><td>2023-06-18 09:43:10</td><td>221045</td><td>250000000</td><td>0.000055</td><td>1</td><td>&quot;{&quot;p&quot;:&quot;erc-20&quot;,…</td></tr><tr><td>6360319</td><td>&quot;0xd6e8059343a9…</td><td>&quot;0x646174613a2c…</td><td>&quot;0x34e4915528dc…</td><td>&quot;0x34e4915528dc…</td><td>2023-06-18 09:43:37</td><td>220718</td><td>250000000</td><td>0.000055</td><td>1</td><td>&quot;{&quot;p&quot;:&quot;erc-20&quot;,…</td></tr><tr><td>6360372</td><td>&quot;0x91e1c6e17a3f…</td><td>&quot;0x646174613a2c…</td><td>&quot;0x61fd0d043d51…</td><td>&quot;0x61fd0d043d51…</td><td>2023-06-18 09:44:30</td><td>219600</td><td>250000000</td><td>0.000055</td><td>1</td><td>&quot;{&quot;p&quot;:&quot;erc-20&quot;,…</td></tr><tr><td>6360489</td><td>&quot;0x0c3e0555c76f…</td><td>&quot;0x646174613a2c…</td><td>&quot;0x531e2b809625…</td><td>&quot;0x531e2b809625…</td><td>2023-06-18 09:46:28</td><td>220008</td><td>250000000</td><td>0.000055</td><td>1</td><td>&quot;{&quot;p&quot;:&quot;erc-20&quot;,…</td></tr></tbody></table></div>"
      ],
      "text/plain": [
       "shape: (5, 11)\n",
       "┌───────────┬───────────┬───────────┬───────────┬───┬───────────┬──────────┬───────────┬───────────┐\n",
       "│ block_num ┆ tx_hash   ┆ tx_input_ ┆ issuer    ┆ … ┆ gas_effec ┆ fees     ┆ tx_status ┆ decoded_i │\n",
       "│ ber       ┆ ---       ┆ data      ┆ ---       ┆   ┆ tive_pric ┆ ---      ┆ ---       ┆ nput_data │\n",
       "│ ---       ┆ str       ┆ ---       ┆ str       ┆   ┆ e         ┆ f64      ┆ i64       ┆ ---       │\n",
       "│ i64       ┆           ┆ str       ┆           ┆   ┆ ---       ┆          ┆           ┆ str       │\n",
       "│           ┆           ┆           ┆           ┆   ┆ i64       ┆          ┆           ┆           │\n",
       "╞═══════════╪═══════════╪═══════════╪═══════════╪═══╪═══════════╪══════════╪═══════════╪═══════════╡\n",
       "│ 6359996   ┆ 0x51c592f ┆ 0x6461746 ┆ 0x171c8be ┆ … ┆ 250000000 ┆ 0.000055 ┆ 1         ┆ {\"p\":\"erc │\n",
       "│           ┆ c710d411d ┆ 13a2c7b22 ┆ 8b92674f7 ┆   ┆           ┆          ┆           ┆ -20\",\"op\" │\n",
       "│           ┆ 31a419911 ┆ 70223a226 ┆ d7b0593ac ┆   ┆           ┆          ┆           ┆ :\"mint\",\" │\n",
       "│           ┆ e29fa…    ┆ 57263…    ┆ a4619…    ┆   ┆           ┆          ┆           ┆ tick\"…    │\n",
       "│ 6360292   ┆ 0xb453be7 ┆ 0x6461746 ┆ 0x61fd0d0 ┆ … ┆ 250000000 ┆ 0.000055 ┆ 1         ┆ {\"p\":\"erc │\n",
       "│           ┆ 20aee20c9 ┆ 13a2c7b22 ┆ 43d519f5a ┆   ┆           ┆          ┆           ┆ -20\",\"op\" │\n",
       "│           ┆ ff7b61c5b ┆ 70223a226 ┆ 2bd057850 ┆   ┆           ┆          ┆           ┆ :\"mint\",\" │\n",
       "│           ┆ 3c734…    ┆ 57263…    ┆ 00f30…    ┆   ┆           ┆          ┆           ┆ tick\"…    │\n",
       "│ 6360319   ┆ 0xd6e8059 ┆ 0x6461746 ┆ 0x34e4915 ┆ … ┆ 250000000 ┆ 0.000055 ┆ 1         ┆ {\"p\":\"erc │\n",
       "│           ┆ 343a9ce12 ┆ 13a2c7b22 ┆ 528dca498 ┆   ┆           ┆          ┆           ┆ -20\",\"op\" │\n",
       "│           ┆ cbb94576e ┆ 70223a226 ┆ 186001e92 ┆   ┆           ┆          ┆           ┆ :\"mint\",\" │\n",
       "│           ┆ d38f5…    ┆ 57263…    ┆ da04b…    ┆   ┆           ┆          ┆           ┆ tick\"…    │\n",
       "│ 6360372   ┆ 0x91e1c6e ┆ 0x6461746 ┆ 0x61fd0d0 ┆ … ┆ 250000000 ┆ 0.000055 ┆ 1         ┆ {\"p\":\"erc │\n",
       "│           ┆ 17a3f22aa ┆ 13a2c7b22 ┆ 43d519f5a ┆   ┆           ┆          ┆           ┆ -20\",\"op\" │\n",
       "│           ┆ ae5a6a68e ┆ 70223a226 ┆ 2bd057850 ┆   ┆           ┆          ┆           ┆ :\"mint\",\" │\n",
       "│           ┆ dcd78…    ┆ 57263…    ┆ 00f30…    ┆   ┆           ┆          ┆           ┆ tick\"…    │\n",
       "│ 6360489   ┆ 0x0c3e055 ┆ 0x6461746 ┆ 0x531e2b8 ┆ … ┆ 250000000 ┆ 0.000055 ┆ 1         ┆ {\"p\":\"erc │\n",
       "│           ┆ 5c76f6bd9 ┆ 13a2c7b22 ┆ 0962557d0 ┆   ┆           ┆          ┆           ┆ -20\",\"op\" │\n",
       "│           ┆ 76049ef0c ┆ 70223a226 ┆ f170e4d55 ┆   ┆           ┆          ┆           ┆ :\"mint\",\" │\n",
       "│           ┆ dead4…    ┆ 57263…    ┆ a41a1…    ┆   ┆           ┆          ┆           ┆ tick\"…    │\n",
       "└───────────┴───────────┴───────────┴───────────┴───┴───────────┴──────────┴───────────┴───────────┘"
      ]
     },
     "execution_count": 6,
     "metadata": {},
     "output_type": "execute_result"
    }
   ],
   "source": [
    "tokens_df = (inscriptions_df\n",
    "             .filter(pl.col('decoded_input_data').str.starts_with('data:,{'))\n",
    "             .with_columns(pl.col('decoded_input_data').str.slice(6).alias('decoded_input_data')))\n",
    "print(\"There are {} tokens.\".format(tokens_df.shape[0]))\n",
    "tokens_df.head()"
   ]
  },
  {
   "cell_type": "code",
   "execution_count": 9,
   "metadata": {},
   "outputs": [
    {
     "data": {
      "text/plain": [
       "196763"
      ]
     },
     "execution_count": 9,
     "metadata": {},
     "output_type": "execute_result"
    }
   ],
   "source": [
    "inscriptions_df.shape[0] - tokens_df.shape[0]"
   ]
  },
  {
   "cell_type": "code",
   "execution_count": 7,
   "metadata": {},
   "outputs": [],
   "source": [
    "del inscriptions_df"
   ]
  },
  {
   "cell_type": "code",
   "execution_count": null,
   "metadata": {},
   "outputs": [],
   "source": [
    "# if not os.path.exists(data_dir+'inscriptions_tokens.parquet'):\n",
    "#     print(\"File does not exist: Parsing inscriptions -- tokens\")\n",
    "#     df = list()\n",
    "#     pbar = tqdm(total=tokens_df.shape[0],\n",
    "#                 desc='Parsing inscriptions -- tokens')\n",
    "#     for row in tokens_df.iter_rows(named=True):\n",
    "#         pbar.update(1)\n",
    "#         try:\n",
    "#             input_in_json = json.loads(row['decoded_input_data'])\n",
    "#         except:\n",
    "#             continue\n",
    "#         data = {\n",
    "#             'block_number': row['block_number'],\n",
    "#             'tx_hash': row['tx_hash'],\n",
    "#             'issuer': row['issuer'],\n",
    "#             'timestamp': row['timestamp'],\n",
    "#             'gas_used': row['gas_used'],\n",
    "#             'gas_effective_price': row['gas_effective_price'],\n",
    "#             'fees': row['fees'],\n",
    "#             'tx_status': row['tx_status'],\n",
    "#         }\n",
    "#         data.update(input_in_json)\n",
    "#         df.append(data)\n",
    "#     pbar.close()\n",
    "#     print(\"There are {} tokens.\".format(len(df)))\n",
    "#     df = pl.DataFrame(df)\n",
    "#     df.write_parquet(data_dir+'inscriptions_tokens.parquet')\n",
    "# else:\n",
    "#     print(\"Loading inscriptions_tokens.parquet\")\n",
    "#     df = pl.read_parquet(data_dir+'inscriptions_tokens.parquet')\n",
    "#     print(\"There are {} tokens.\".format(df.shape[0]))\n",
    "#     df.head()"
   ]
  },
  {
   "cell_type": "code",
   "execution_count": 8,
   "metadata": {},
   "outputs": [
    {
     "data": {
      "text/html": [
       "<div><style>\n",
       ".dataframe > thead > tr,\n",
       ".dataframe > tbody > tr {\n",
       "  text-align: right;\n",
       "  white-space: pre-wrap;\n",
       "}\n",
       "</style>\n",
       "<small>shape: (16_863_729, 17)</small><table border=\"1\" class=\"dataframe\"><thead><tr><th>block_number</th><th>tx_hash</th><th>tx_input_data</th><th>issuer</th><th>receiver</th><th>timestamp</th><th>gas_used</th><th>gas_effective_price</th><th>fees</th><th>tx_status</th><th>decoded_input_data</th><th>p</th><th>op</th><th>tick</th><th>amt</th><th>tx</th><th>price</th></tr><tr><td>i64</td><td>str</td><td>str</td><td>str</td><td>str</td><td>datetime[μs]</td><td>i64</td><td>i64</td><td>f64</td><td>i64</td><td>str</td><td>str</td><td>str</td><td>str</td><td>str</td><td>str</td><td>str</td></tr></thead><tbody><tr><td>6359996</td><td>&quot;0x51c592fc710d…</td><td>&quot;0x646174613a2c…</td><td>&quot;0x171c8be8b926…</td><td>&quot;0x171c8be8b926…</td><td>2023-06-18 09:38:14</td><td>219331</td><td>250000000</td><td>0.000055</td><td>1</td><td>&quot;{&quot;p&quot;:&quot;erc-20&quot;,…</td><td>&quot;erc-20&quot;</td><td>&quot;mint&quot;</td><td>&quot;eths&quot;</td><td>&quot;1000&quot;</td><td>null</td><td>null</td></tr><tr><td>6360292</td><td>&quot;0xb453be720aee…</td><td>&quot;0x646174613a2c…</td><td>&quot;0x61fd0d043d51…</td><td>&quot;0x61fd0d043d51…</td><td>2023-06-18 09:43:10</td><td>221045</td><td>250000000</td><td>0.000055</td><td>1</td><td>&quot;{&quot;p&quot;:&quot;erc-20&quot;,…</td><td>&quot;erc-20&quot;</td><td>&quot;mint&quot;</td><td>&quot;eths&quot;</td><td>&quot;1000&quot;</td><td>null</td><td>null</td></tr><tr><td>6360319</td><td>&quot;0xd6e8059343a9…</td><td>&quot;0x646174613a2c…</td><td>&quot;0x34e4915528dc…</td><td>&quot;0x34e4915528dc…</td><td>2023-06-18 09:43:37</td><td>220718</td><td>250000000</td><td>0.000055</td><td>1</td><td>&quot;{&quot;p&quot;:&quot;erc-20&quot;,…</td><td>&quot;erc-20&quot;</td><td>&quot;mint&quot;</td><td>&quot;eths&quot;</td><td>&quot;1000&quot;</td><td>null</td><td>null</td></tr><tr><td>6360372</td><td>&quot;0x91e1c6e17a3f…</td><td>&quot;0x646174613a2c…</td><td>&quot;0x61fd0d043d51…</td><td>&quot;0x61fd0d043d51…</td><td>2023-06-18 09:44:30</td><td>219600</td><td>250000000</td><td>0.000055</td><td>1</td><td>&quot;{&quot;p&quot;:&quot;erc-20&quot;,…</td><td>&quot;erc-20&quot;</td><td>&quot;mint&quot;</td><td>&quot;eths&quot;</td><td>&quot;1000&quot;</td><td>null</td><td>null</td></tr><tr><td>6360489</td><td>&quot;0x0c3e0555c76f…</td><td>&quot;0x646174613a2c…</td><td>&quot;0x531e2b809625…</td><td>&quot;0x531e2b809625…</td><td>2023-06-18 09:46:28</td><td>220008</td><td>250000000</td><td>0.000055</td><td>1</td><td>&quot;{&quot;p&quot;:&quot;erc-20&quot;,…</td><td>&quot;erc-20&quot;</td><td>&quot;mint&quot;</td><td>&quot;eths&quot;</td><td>&quot;1000&quot;</td><td>null</td><td>null</td></tr><tr><td>&hellip;</td><td>&hellip;</td><td>&hellip;</td><td>&hellip;</td><td>&hellip;</td><td>&hellip;</td><td>&hellip;</td><td>&hellip;</td><td>&hellip;</td><td>&hellip;</td><td>&hellip;</td><td>&hellip;</td><td>&hellip;</td><td>&hellip;</td><td>&hellip;</td><td>&hellip;</td><td>&hellip;</td></tr><tr><td>29797541</td><td>&quot;0x6d7a455b610e…</td><td>&quot;0x646174613a2c…</td><td>&quot;0xd3c90777cd42…</td><td>&quot;0xd3c90777cd42…</td><td>2024-03-25 01:37:58</td><td>306798</td><td>25000000</td><td>0.000008</td><td>1</td><td>&quot;{&quot;p&quot;:&quot;zrc-20&quot;,…</td><td>&quot;zrc-20&quot;</td><td>&quot;mint&quot;</td><td>&quot;sync&quot;</td><td>&quot;4&quot;</td><td>null</td><td>null</td></tr><tr><td>29798894</td><td>&quot;0x8107111e20db…</td><td>&quot;0x646174613a2c…</td><td>&quot;0x04cd82afeda3…</td><td>&quot;0x0a88bc5c32b6…</td><td>2024-03-25 02:01:56</td><td>184878</td><td>25000000</td><td>0.000005</td><td>1</td><td>&quot;{&quot;p&quot;:&quot;layer2-2…</td><td>&quot;layer2-20&quot;</td><td>&quot;claim&quot;</td><td>&quot;$L2&quot;</td><td>&quot;1000&quot;</td><td>null</td><td>null</td></tr><tr><td>29799033</td><td>&quot;0xfd3d42ba744c…</td><td>&quot;0x646174613a2c…</td><td>&quot;0x4280e40231e3…</td><td>&quot;0x4280e40231e3…</td><td>2024-03-25 02:04:15</td><td>146423</td><td>25000000</td><td>0.000004</td><td>1</td><td>&quot;{&quot;p&quot;:&quot;zrc-20&quot;,…</td><td>&quot;zrc-20&quot;</td><td>&quot;mint&quot;</td><td>&quot;sync&quot;</td><td>&quot;4&quot;</td><td>null</td><td>null</td></tr><tr><td>29799057</td><td>&quot;0x5cc763cc3e00…</td><td>&quot;0x646174613a2c…</td><td>&quot;0x4280e40231e3…</td><td>&quot;0x4280e40231e3…</td><td>2024-03-25 02:04:39</td><td>104899</td><td>25000000</td><td>0.000003</td><td>1</td><td>&quot;{&quot;p&quot;:&quot;zrc-20&quot;,…</td><td>&quot;zrc-20&quot;</td><td>&quot;mint&quot;</td><td>&quot;sync&quot;</td><td>&quot;4&quot;</td><td>null</td><td>null</td></tr><tr><td>29799069</td><td>&quot;0xc740fce39864…</td><td>&quot;0x646174613a2c…</td><td>&quot;0xfdd885944cf3…</td><td>&quot;0x0a88bc5c32b6…</td><td>2024-03-25 02:05:07</td><td>184921</td><td>25000000</td><td>0.000005</td><td>1</td><td>&quot;{&quot;p&quot;:&quot;layer2-2…</td><td>&quot;layer2-20&quot;</td><td>&quot;claim&quot;</td><td>&quot;$L2&quot;</td><td>&quot;1000&quot;</td><td>null</td><td>null</td></tr></tbody></table></div>"
      ],
      "text/plain": [
       "shape: (16_863_729, 17)\n",
       "┌──────────────┬────────────────┬────────────────┬────────────────┬───┬──────┬──────┬──────┬───────┐\n",
       "│ block_number ┆ tx_hash        ┆ tx_input_data  ┆ issuer         ┆ … ┆ tick ┆ amt  ┆ tx   ┆ price │\n",
       "│ ---          ┆ ---            ┆ ---            ┆ ---            ┆   ┆ ---  ┆ ---  ┆ ---  ┆ ---   │\n",
       "│ i64          ┆ str            ┆ str            ┆ str            ┆   ┆ str  ┆ str  ┆ str  ┆ str   │\n",
       "╞══════════════╪════════════════╪════════════════╪════════════════╪═══╪══════╪══════╪══════╪═══════╡\n",
       "│ 6359996      ┆ 0x51c592fc710d ┆ 0x646174613a2c ┆ 0x171c8be8b926 ┆ … ┆ eths ┆ 1000 ┆ null ┆ null  │\n",
       "│              ┆ 411d31a419911e ┆ 7b2270223a2265 ┆ 74f7d7b0593aca ┆   ┆      ┆      ┆      ┆       │\n",
       "│              ┆ 29fa…          ┆ 7263…          ┆ 4619…          ┆   ┆      ┆      ┆      ┆       │\n",
       "│ 6360292      ┆ 0xb453be720aee ┆ 0x646174613a2c ┆ 0x61fd0d043d51 ┆ … ┆ eths ┆ 1000 ┆ null ┆ null  │\n",
       "│              ┆ 20c9ff7b61c5b3 ┆ 7b2270223a2265 ┆ 9f5a2bd0578500 ┆   ┆      ┆      ┆      ┆       │\n",
       "│              ┆ c734…          ┆ 7263…          ┆ 0f30…          ┆   ┆      ┆      ┆      ┆       │\n",
       "│ 6360319      ┆ 0xd6e8059343a9 ┆ 0x646174613a2c ┆ 0x34e4915528dc ┆ … ┆ eths ┆ 1000 ┆ null ┆ null  │\n",
       "│              ┆ ce12cbb94576ed ┆ 7b2270223a2265 ┆ a498186001e92d ┆   ┆      ┆      ┆      ┆       │\n",
       "│              ┆ 38f5…          ┆ 7263…          ┆ a04b…          ┆   ┆      ┆      ┆      ┆       │\n",
       "│ 6360372      ┆ 0x91e1c6e17a3f ┆ 0x646174613a2c ┆ 0x61fd0d043d51 ┆ … ┆ eths ┆ 1000 ┆ null ┆ null  │\n",
       "│              ┆ 22aaae5a6a68ed ┆ 7b2270223a2265 ┆ 9f5a2bd0578500 ┆   ┆      ┆      ┆      ┆       │\n",
       "│              ┆ cd78…          ┆ 7263…          ┆ 0f30…          ┆   ┆      ┆      ┆      ┆       │\n",
       "│ 6360489      ┆ 0x0c3e0555c76f ┆ 0x646174613a2c ┆ 0x531e2b809625 ┆ … ┆ eths ┆ 1000 ┆ null ┆ null  │\n",
       "│              ┆ 6bd976049ef0cd ┆ 7b2270223a2265 ┆ 57d0f170e4d55a ┆   ┆      ┆      ┆      ┆       │\n",
       "│              ┆ ead4…          ┆ 7263…          ┆ 41a1…          ┆   ┆      ┆      ┆      ┆       │\n",
       "│ …            ┆ …              ┆ …              ┆ …              ┆ … ┆ …    ┆ …    ┆ …    ┆ …     │\n",
       "│ 29797541     ┆ 0x6d7a455b610e ┆ 0x646174613a2c ┆ 0xd3c90777cd42 ┆ … ┆ sync ┆ 4    ┆ null ┆ null  │\n",
       "│              ┆ 58d828406a3e84 ┆ 7b2270223a227a ┆ 96c5d156c27ec6 ┆   ┆      ┆      ┆      ┆       │\n",
       "│              ┆ 44f9…          ┆ 7263…          ┆ 1f48…          ┆   ┆      ┆      ┆      ┆       │\n",
       "│ 29798894     ┆ 0x8107111e20db ┆ 0x646174613a2c ┆ 0x04cd82afeda3 ┆ … ┆ $L2  ┆ 1000 ┆ null ┆ null  │\n",
       "│              ┆ 35acaf840dc306 ┆ 7b2270223a226c ┆ de067112877b75 ┆   ┆      ┆      ┆      ┆       │\n",
       "│              ┆ efe8…          ┆ 6179…          ┆ 5aad…          ┆   ┆      ┆      ┆      ┆       │\n",
       "│ 29799033     ┆ 0xfd3d42ba744c ┆ 0x646174613a2c ┆ 0x4280e40231e3 ┆ … ┆ sync ┆ 4    ┆ null ┆ null  │\n",
       "│              ┆ e2c14f8030f5cd ┆ 7b2270223a227a ┆ 2a9c8fc5bc7510 ┆   ┆      ┆      ┆      ┆       │\n",
       "│              ┆ 1745…          ┆ 7263…          ┆ 3546…          ┆   ┆      ┆      ┆      ┆       │\n",
       "│ 29799057     ┆ 0x5cc763cc3e00 ┆ 0x646174613a2c ┆ 0x4280e40231e3 ┆ … ┆ sync ┆ 4    ┆ null ┆ null  │\n",
       "│              ┆ d9610ff48be1db ┆ 7b2270223a227a ┆ 2a9c8fc5bc7510 ┆   ┆      ┆      ┆      ┆       │\n",
       "│              ┆ cd44…          ┆ 7263…          ┆ 3546…          ┆   ┆      ┆      ┆      ┆       │\n",
       "│ 29799069     ┆ 0xc740fce39864 ┆ 0x646174613a2c ┆ 0xfdd885944cf3 ┆ … ┆ $L2  ┆ 1000 ┆ null ┆ null  │\n",
       "│              ┆ 857d1eadd19540 ┆ 7b2270223a226c ┆ 249a91c054f856 ┆   ┆      ┆      ┆      ┆       │\n",
       "│              ┆ d663…          ┆ 6179…          ┆ 2919…          ┆   ┆      ┆      ┆      ┆       │\n",
       "└──────────────┴────────────────┴────────────────┴────────────────┴───┴──────┴──────┴──────┴───────┘"
      ]
     },
     "execution_count": 8,
     "metadata": {},
     "output_type": "execute_result"
    }
   ],
   "source": [
    "inscriptions_parsed = (tokens_df\n",
    "                       .with_columns([\n",
    "                           pl.col('decoded_input_data').str.json_path_match(\n",
    "                               r\"$.p\").alias('p'),\n",
    "                           pl.col('decoded_input_data').str.json_path_match(\n",
    "                               r\"$.op\").alias('op'),\n",
    "                           pl.col('decoded_input_data').str.json_path_match(\n",
    "                               r\"$.tick\").alias('tick'),\n",
    "                           pl.col('decoded_input_data').str.json_path_match(\n",
    "                               r\"$.amt\").alias('amt'),\n",
    "                           pl.col('decoded_input_data').str.json_path_match(\n",
    "                               r\"$.tx\").alias('tx'),\n",
    "                           pl.col('decoded_input_data').str.json_path_match(\n",
    "                               r\"$.price\").alias('price'),\n",
    "\n",
    "                       ]))\n",
    "inscriptions_parsed"
   ]
  },
  {
   "cell_type": "code",
   "execution_count": 9,
   "metadata": {},
   "outputs": [],
   "source": [
    "del tokens_df"
   ]
  },
  {
   "cell_type": "code",
   "execution_count": 10,
   "metadata": {},
   "outputs": [
    {
     "name": "stderr",
     "output_type": "stream",
     "text": [
      "/var/folders/y_/27jchs_x56gfpv07wkchjxj40000gn/T/ipykernel_1638/317071789.py:3: DeprecationWarning: `count` is deprecated. It has been renamed to `len`.\n",
      "  value_counts = data.group_by('p').count().sort('count', descending=True)\n",
      "/var/folders/y_/27jchs_x56gfpv07wkchjxj40000gn/T/ipykernel_1638/317071789.py:6: DeprecationWarning: `count` is deprecated. It has been renamed to `len`.\n",
      "  value_counts = data.group_by('tick').count().sort('count', descending=True)\n",
      "/var/folders/y_/27jchs_x56gfpv07wkchjxj40000gn/T/ipykernel_1638/317071789.py:9: DeprecationWarning: `count` is deprecated. It has been renamed to `len`.\n",
      "  value_counts = data.group_by('op').count().sort('count', descending=True)\n",
      "/var/folders/y_/27jchs_x56gfpv07wkchjxj40000gn/T/ipykernel_1638/317071789.py:16: DeprecationWarning: `count` is deprecated. It has been renamed to `len`.\n",
      "  value_counts = data.group_by('tick', 'p', 'op').count().sort('tick', 'p', 'op', descending=True)\n"
     ]
    },
    {
     "data": {
      "text/html": [
       "<div><style>\n",
       ".dataframe > thead > tr,\n",
       ".dataframe > tbody > tr {\n",
       "  text-align: right;\n",
       "  white-space: pre-wrap;\n",
       "}\n",
       "</style>\n",
       "<small>shape: (68, 4)</small><table border=\"1\" class=\"dataframe\"><thead><tr><th>tick</th><th>p</th><th>op</th><th>count</th></tr><tr><td>str</td><td>str</td><td>str</td><td>u32</td></tr></thead><tbody><tr><td>&quot;zkzk&quot;</td><td>&quot;zrc-20&quot;</td><td>&quot;transfer&quot;</td><td>171</td></tr><tr><td>&quot;zkzk&quot;</td><td>&quot;zrc-20&quot;</td><td>&quot;mint&quot;</td><td>1219956</td></tr><tr><td>&quot;zkzk&quot;</td><td>&quot;zrc-20&quot;</td><td>&quot;deploy&quot;</td><td>312</td></tr><tr><td>&quot;zkzk&quot;</td><td>&quot;zks-20&quot;</td><td>&quot;mint&quot;</td><td>1</td></tr><tr><td>&quot;zkzk&quot;</td><td>&quot;zks-20&quot;</td><td>&quot;deploy&quot;</td><td>1</td></tr><tr><td>&hellip;</td><td>&hellip;</td><td>&hellip;</td><td>&hellip;</td></tr><tr><td>&quot;$L2&quot;</td><td>&quot;layer2-20&quot;</td><td>&quot;claim&quot;</td><td>5651395</td></tr><tr><td>&quot;$L2&quot;</td><td>&quot;layer2-20&quot;</td><td>&quot;Others&quot;</td><td>4</td></tr><tr><td>&quot;$L2&quot;</td><td>&quot;Others&quot;</td><td>&quot;mint&quot;</td><td>21</td></tr><tr><td>&quot;$L2&quot;</td><td>&quot;Others&quot;</td><td>&quot;claim&quot;</td><td>63</td></tr><tr><td>&quot;$L2&quot;</td><td>&quot;Others&quot;</td><td>&quot;Others&quot;</td><td>323</td></tr></tbody></table></div>"
      ],
      "text/plain": [
       "shape: (68, 4)\n",
       "┌──────┬───────────┬──────────┬─────────┐\n",
       "│ tick ┆ p         ┆ op       ┆ count   │\n",
       "│ ---  ┆ ---       ┆ ---      ┆ ---     │\n",
       "│ str  ┆ str       ┆ str      ┆ u32     │\n",
       "╞══════╪═══════════╪══════════╪═════════╡\n",
       "│ zkzk ┆ zrc-20    ┆ transfer ┆ 171     │\n",
       "│ zkzk ┆ zrc-20    ┆ mint     ┆ 1219956 │\n",
       "│ zkzk ┆ zrc-20    ┆ deploy   ┆ 312     │\n",
       "│ zkzk ┆ zks-20    ┆ mint     ┆ 1       │\n",
       "│ zkzk ┆ zks-20    ┆ deploy   ┆ 1       │\n",
       "│ …    ┆ …         ┆ …        ┆ …       │\n",
       "│ $L2  ┆ layer2-20 ┆ claim    ┆ 5651395 │\n",
       "│ $L2  ┆ layer2-20 ┆ Others   ┆ 4       │\n",
       "│ $L2  ┆ Others    ┆ mint     ┆ 21      │\n",
       "│ $L2  ┆ Others    ┆ claim    ┆ 63      │\n",
       "│ $L2  ┆ Others    ┆ Others   ┆ 323     │\n",
       "└──────┴───────────┴──────────┴─────────┘"
      ]
     },
     "execution_count": 10,
     "metadata": {},
     "output_type": "execute_result"
    }
   ],
   "source": [
    "data = inscriptions_parsed.filter(pl.col('p').is_not_null() & (pl.col('p') != ''))\n",
    "\n",
    "value_counts = data.group_by('p').count().sort('count', descending=True)\n",
    "top_protocols = value_counts.head(6)['p']\n",
    "\n",
    "value_counts = data.group_by('tick').count().sort('count', descending=True)\n",
    "top_ticks = value_counts.head(6)['tick']\n",
    "\n",
    "value_counts = data.group_by('op').count().sort('count', descending=True)\n",
    "top_operations = value_counts.head(6)['op']\n",
    "\n",
    "data = data.with_columns(pl.when(pl.col('p').is_in(top_protocols)).then('p').otherwise(pl.lit('Others')).alias('p'))\n",
    "data = data.with_columns(pl.when(pl.col('tick').is_in(top_ticks)).then('tick').otherwise(pl.lit('Others')).alias('tick'))\n",
    "data = data.with_columns(pl.when(pl.col('op').is_in(top_operations)).then('op').otherwise(pl.lit('Others')).alias('op'))\n",
    "\n",
    "value_counts = data.group_by('tick', 'p', 'op').count().sort('tick', 'p', 'op', descending=True)\n",
    "\n",
    "\n",
    "value_counts"
   ]
  },
  {
   "cell_type": "code",
   "execution_count": 33,
   "metadata": {},
   "outputs": [
    {
     "data": {
      "text/html": [
       "<div><style>\n",
       ".dataframe > thead > tr,\n",
       ".dataframe > tbody > tr {\n",
       "  text-align: right;\n",
       "  white-space: pre-wrap;\n",
       "}\n",
       "</style>\n",
       "<small>shape: (1_206, 17)</small><table border=\"1\" class=\"dataframe\"><thead><tr><th>block_number</th><th>tx_hash</th><th>tx_input_data</th><th>issuer</th><th>receiver</th><th>timestamp</th><th>gas_used</th><th>gas_effective_price</th><th>fees</th><th>tx_status</th><th>decoded_input_data</th><th>p</th><th>op</th><th>tick</th><th>amt</th><th>tx</th><th>price</th></tr><tr><td>i64</td><td>str</td><td>str</td><td>str</td><td>str</td><td>datetime[μs]</td><td>i64</td><td>i64</td><td>f64</td><td>i64</td><td>str</td><td>str</td><td>str</td><td>str</td><td>str</td><td>str</td><td>str</td></tr></thead><tbody><tr><td>22233365</td><td>&quot;0x4a9c0858e3d4…</td><td>&quot;0x646174613a2c…</td><td>&quot;0xcd5446c946f4…</td><td>&quot;0xf4f837133a7b…</td><td>2023-12-23 15:57:49</td><td>258436</td><td>150000000</td><td>0.000039</td><td>1</td><td>&quot;{&quot;p&quot;:&quot;era-20&quot;,…</td><td>&quot;era-20&quot;</td><td>&quot;buy&quot;</td><td>null</td><td>null</td><td>&quot;57d7eb724a78a2…</td><td>null</td></tr><tr><td>22891846</td><td>&quot;0x9550ac3a5850…</td><td>&quot;0x646174613a2c…</td><td>&quot;0x055c851d9d3a…</td><td>&quot;0xc84567f12d0e…</td><td>2023-12-31 18:54:30</td><td>190106</td><td>150000000</td><td>0.000029</td><td>1</td><td>&quot;{&quot;p&quot;:&quot;era-20&quot;,…</td><td>&quot;era-20&quot;</td><td>&quot;buy&quot;</td><td>null</td><td>null</td><td>&quot;0x57d7e...695d…</td><td>null</td></tr><tr><td>22892003</td><td>&quot;0x70a3781ced6c…</td><td>&quot;0x646174613a2c…</td><td>&quot;0x055c851d9d3a…</td><td>&quot;0xc84567f12d0e…</td><td>2023-12-31 18:57:13</td><td>190918</td><td>150000000</td><td>0.000029</td><td>1</td><td>&quot;{&quot;p&quot;:&quot;era-20&quot;,…</td><td>&quot;era-20&quot;</td><td>&quot;buy&quot;</td><td>null</td><td>null</td><td>&quot;0x57d7eb724a78…</td><td>null</td></tr><tr><td>22894412</td><td>&quot;0x24675d250d17…</td><td>&quot;0x646174613a2c…</td><td>&quot;0x055c851d9d3a…</td><td>&quot;0x055c851d9d3a…</td><td>2023-12-31 19:38:43</td><td>187463</td><td>150000000</td><td>0.000028</td><td>1</td><td>&quot;{&quot;p&quot;:&quot;era-20&quot;,…</td><td>&quot;era-20&quot;</td><td>&quot;buy&quot;</td><td>null</td><td>null</td><td>&quot;0xb7873241572a…</td><td>null</td></tr><tr><td>22895362</td><td>&quot;0xf5919bbfcbc0…</td><td>&quot;0x646174613a2c…</td><td>&quot;0x055c851d9d3a…</td><td>&quot;0x055c851d9d3a…</td><td>2023-12-31 19:55:03</td><td>200689</td><td>150000000</td><td>0.00003</td><td>1</td><td>&quot;{&quot;p&quot;:&quot;era-20&quot;,…</td><td>&quot;era-20&quot;</td><td>&quot;buy&quot;</td><td>null</td><td>null</td><td>&quot;0x05388d7a8e00…</td><td>null</td></tr><tr><td>&hellip;</td><td>&hellip;</td><td>&hellip;</td><td>&hellip;</td><td>&hellip;</td><td>&hellip;</td><td>&hellip;</td><td>&hellip;</td><td>&hellip;</td><td>&hellip;</td><td>&hellip;</td><td>&hellip;</td><td>&hellip;</td><td>&hellip;</td><td>&hellip;</td><td>&hellip;</td><td>&hellip;</td></tr><tr><td>29753896</td><td>&quot;0x1f3612377013…</td><td>&quot;0x646174613a2c…</td><td>&quot;0xb92ec3280324…</td><td>&quot;0x3894af06d4f9…</td><td>2024-03-24 12:44:48</td><td>126878</td><td>25000000</td><td>0.000003</td><td>1</td><td>&quot;{&quot;p&quot;:&quot;era-20&quot;,…</td><td>&quot;era-20&quot;</td><td>&quot;buy&quot;</td><td>null</td><td>null</td><td>&quot;0xf7324c791e29…</td><td>null</td></tr><tr><td>29754661</td><td>&quot;0x4c72611e5353…</td><td>&quot;0x646174613a2c…</td><td>&quot;0xc0d861751bc0…</td><td>&quot;0xb92ec3280324…</td><td>2024-03-24 12:58:51</td><td>205424</td><td>25000000</td><td>0.000005</td><td>1</td><td>&quot;{&quot;p&quot;:&quot;era-20&quot;,…</td><td>&quot;era-20&quot;</td><td>&quot;buy&quot;</td><td>null</td><td>null</td><td>&quot;0x4fb85de02857…</td><td>null</td></tr><tr><td>29760265</td><td>&quot;0x0d6ae45b4c7d…</td><td>&quot;0x646174613a2c…</td><td>&quot;0x055266b934a8…</td><td>&quot;0x28893320e3ec…</td><td>2024-03-24 14:40:01</td><td>219770</td><td>25000000</td><td>0.000005</td><td>1</td><td>&quot;{&quot;p&quot;:&quot;era-20&quot;,…</td><td>&quot;era-20&quot;</td><td>&quot;buy&quot;</td><td>null</td><td>null</td><td>&quot;0xbe1a48aeacc6…</td><td>null</td></tr><tr><td>29788740</td><td>&quot;0xa4d7ecad2649…</td><td>&quot;0x646174613a2c…</td><td>&quot;0x556940aa64a0…</td><td>&quot;0xe9c298cc5697…</td><td>2024-03-24 23:04:18</td><td>211897</td><td>25000000</td><td>0.000005</td><td>1</td><td>&quot;{&quot;p&quot;:&quot;era-20&quot;,…</td><td>&quot;era-20&quot;</td><td>&quot;buy&quot;</td><td>null</td><td>null</td><td>&quot;0x4099c9da7304…</td><td>null</td></tr><tr><td>29791150</td><td>&quot;0x8412b0c2ca4a…</td><td>&quot;0x646174613a2c…</td><td>&quot;0x110b8b6717c4…</td><td>&quot;0x3894af06d4f9…</td><td>2024-03-24 23:45:53</td><td>211617</td><td>25000000</td><td>0.000005</td><td>1</td><td>&quot;{&quot;p&quot;:&quot;era-20&quot;,…</td><td>&quot;era-20&quot;</td><td>&quot;buy&quot;</td><td>null</td><td>null</td><td>&quot;0x0002db9aad16…</td><td>null</td></tr></tbody></table></div>"
      ],
      "text/plain": [
       "shape: (1_206, 17)\n",
       "┌──────────────┬──────────────┬──────────────┬─────────────┬───┬──────┬──────┬─────────────┬───────┐\n",
       "│ block_number ┆ tx_hash      ┆ tx_input_dat ┆ issuer      ┆ … ┆ tick ┆ amt  ┆ tx          ┆ price │\n",
       "│ ---          ┆ ---          ┆ a            ┆ ---         ┆   ┆ ---  ┆ ---  ┆ ---         ┆ ---   │\n",
       "│ i64          ┆ str          ┆ ---          ┆ str         ┆   ┆ str  ┆ str  ┆ str         ┆ str   │\n",
       "│              ┆              ┆ str          ┆             ┆   ┆      ┆      ┆             ┆       │\n",
       "╞══════════════╪══════════════╪══════════════╪═════════════╪═══╪══════╪══════╪═════════════╪═══════╡\n",
       "│ 22233365     ┆ 0x4a9c0858e3 ┆ 0x646174613a ┆ 0xcd5446c94 ┆ … ┆ null ┆ null ┆ 57d7eb724a7 ┆ null  │\n",
       "│              ┆ d4ad62331c66 ┆ 2c7b2270223a ┆ 6f45eba0121 ┆   ┆      ┆      ┆ 8a290bd06ee ┆       │\n",
       "│              ┆ 311c63bc…    ┆ 22657261…    ┆ 65a1eace31… ┆   ┆      ┆      ┆ 832d536407… ┆       │\n",
       "│ 22891846     ┆ 0x9550ac3a58 ┆ 0x646174613a ┆ 0x055c851d9 ┆ … ┆ null ┆ null ┆ 0x57d7e...6 ┆ null  │\n",
       "│              ┆ 508571a54630 ┆ 2c7b2270223a ┆ d3aab85bd68 ┆   ┆      ┆      ┆ 95d         ┆       │\n",
       "│              ┆ 4e598240…    ┆ 22657261…    ┆ 2bedbb8261… ┆   ┆      ┆      ┆             ┆       │\n",
       "│ 22892003     ┆ 0x70a3781ced ┆ 0x646174613a ┆ 0x055c851d9 ┆ … ┆ null ┆ null ┆ 0x57d7eb724 ┆ null  │\n",
       "│              ┆ 6c77f9898278 ┆ 2c7b2270223a ┆ d3aab85bd68 ┆   ┆      ┆      ┆ a78a290bd06 ┆       │\n",
       "│              ┆ 65576ee2…    ┆ 22657261…    ┆ 2bedbb8261… ┆   ┆      ┆      ┆ ee832d5364… ┆       │\n",
       "│ 22894412     ┆ 0x24675d250d ┆ 0x646174613a ┆ 0x055c851d9 ┆ … ┆ null ┆ null ┆ 0xb78732415 ┆ null  │\n",
       "│              ┆ 17ed72bf3dce ┆ 2c7b2270223a ┆ d3aab85bd68 ┆   ┆      ┆      ┆ 72ab17c06c2 ┆       │\n",
       "│              ┆ ef50b0ba…    ┆ 22657261…    ┆ 2bedbb8261… ┆   ┆      ┆      ┆ a32b2f43a4… ┆       │\n",
       "│ 22895362     ┆ 0xf5919bbfcb ┆ 0x646174613a ┆ 0x055c851d9 ┆ … ┆ null ┆ null ┆ 0x05388d7a8 ┆ null  │\n",
       "│              ┆ c009189fda33 ┆ 2c7b2270223a ┆ d3aab85bd68 ┆   ┆      ┆      ┆ e000bee0e32 ┆       │\n",
       "│              ┆ c23f1adf…    ┆ 22657261…    ┆ 2bedbb8261… ┆   ┆      ┆      ┆ 48bec0d741… ┆       │\n",
       "│ …            ┆ …            ┆ …            ┆ …           ┆ … ┆ …    ┆ …    ┆ …           ┆ …     │\n",
       "│ 29753896     ┆ 0x1f36123770 ┆ 0x646174613a ┆ 0xb92ec3280 ┆ … ┆ null ┆ null ┆ 0xf7324c791 ┆ null  │\n",
       "│              ┆ 1342513804ba ┆ 2c7b2270223a ┆ 324526dcc23 ┆   ┆      ┆      ┆ e29ae772244 ┆       │\n",
       "│              ┆ a985f15c…    ┆ 22657261…    ┆ 66e3273fad… ┆   ┆      ┆      ┆ dbb123d242… ┆       │\n",
       "│ 29754661     ┆ 0x4c72611e53 ┆ 0x646174613a ┆ 0xc0d861751 ┆ … ┆ null ┆ null ┆ 0x4fb85de02 ┆ null  │\n",
       "│              ┆ 537fc22dc7ee ┆ 2c7b2270223a ┆ bc0de2cd019 ┆   ┆      ┆      ┆ 857e934ab9b ┆       │\n",
       "│              ┆ 1ca6e2ec…    ┆ 22657261…    ┆ 7ac22d1081… ┆   ┆      ┆      ┆ 2350874f0e… ┆       │\n",
       "│ 29760265     ┆ 0x0d6ae45b4c ┆ 0x646174613a ┆ 0x055266b93 ┆ … ┆ null ┆ null ┆ 0xbe1a48aea ┆ null  │\n",
       "│              ┆ 7d43153a5958 ┆ 2c7b2270223a ┆ 4a859dd4fbf ┆   ┆      ┆      ┆ cc60595790f ┆       │\n",
       "│              ┆ 5a8f8dd7…    ┆ 22657261…    ┆ 6e5fb3f92b… ┆   ┆      ┆      ┆ 89a0a5e016… ┆       │\n",
       "│ 29788740     ┆ 0xa4d7ecad26 ┆ 0x646174613a ┆ 0x556940aa6 ┆ … ┆ null ┆ null ┆ 0x4099c9da7 ┆ null  │\n",
       "│              ┆ 496e78192ca5 ┆ 2c7b2270223a ┆ 4a03686ef9e ┆   ┆      ┆      ┆ 3045cd5bdb8 ┆       │\n",
       "│              ┆ 846a3db1…    ┆ 22657261…    ┆ 1c71f50f40… ┆   ┆      ┆      ┆ f591b4c664… ┆       │\n",
       "│ 29791150     ┆ 0x8412b0c2ca ┆ 0x646174613a ┆ 0x110b8b671 ┆ … ┆ null ┆ null ┆ 0x0002db9aa ┆ null  │\n",
       "│              ┆ 4afb1e39b76f ┆ 2c7b2270223a ┆ 7c4da32d86a ┆   ┆      ┆      ┆ d160e9cf39a ┆       │\n",
       "│              ┆ 8e7249c0…    ┆ 22657261…    ┆ 8d3ef78964… ┆   ┆      ┆      ┆ 103140cd29… ┆       │\n",
       "└──────────────┴──────────────┴──────────────┴─────────────┴───┴──────┴──────┴─────────────┴───────┘"
      ]
     },
     "execution_count": 33,
     "metadata": {},
     "output_type": "execute_result"
    }
   ],
   "source": [
    "#data = inscriptions_parsed.filter((pl.col('p')=='zrc-20') & (pl.col('tick')=='sync') & (pl.col('op') == 'transfer'))\n",
    "data = inscriptions_parsed.filter((pl.col('p')=='era-20') &  (pl.col('op') == 'buy'))\n",
    "\n",
    "data"
   ]
  },
  {
   "cell_type": "code",
   "execution_count": null,
   "metadata": {},
   "outputs": [],
   "source": [
    "inscriptions_parsed.filter(pl.col('price').is_not_null()).head()"
   ]
  },
  {
   "cell_type": "markdown",
   "metadata": {},
   "source": [
    "### What are the top deployed inscriptions on zkSync?\n"
   ]
  },
  {
   "cell_type": "code",
   "execution_count": null,
   "metadata": {},
   "outputs": [],
   "source": [
    "inscriptions_parsed['op'].value_counts().sort('count', descending=True).head(10)"
   ]
  },
  {
   "cell_type": "code",
   "execution_count": null,
   "metadata": {},
   "outputs": [],
   "source": [
    "data = inscriptions_parsed[['p']].to_pandas().copy()\n",
    "top_protocols = data['p'].value_counts().iloc[:5].index\n",
    "data.loc[~data['p'].isin(top_protocols), 'p'] = 'Others'\n",
    "\n",
    "print(data['p'].value_counts(normalize=False))\n",
    "data = data['p'].value_counts(normalize=True)*100\n",
    "\n",
    "fig = go.Figure(layout=get_plotly_layout(width=width, height=height))\n",
    "\n",
    "fig.add_trace(go.Bar(x=data.index, y=data.values,\n",
    "              marker_color=colors['blue'], textposition='auto', text=data.values.round(2), name='Protocols'))\n",
    "fig.update_layout(yaxis_title=\"Percentage\",\n",
    "                  xaxis_title=\"Protocol\", yaxis_ticksuffix=\"%\")\n",
    "\n",
    "fig.update_traces(\n",
    "    texttemplate='<b>%{text:,.4}</b>', textfont_size=18)\n",
    "fig.update_yaxes(range=[0, 100])\n",
    "\n",
    "fig.write_image(plots_dir+\"top-15-protocols-zksync.pdf\")\n",
    "\n",
    "fig.show('png')"
   ]
  },
  {
   "cell_type": "code",
   "execution_count": null,
   "metadata": {},
   "outputs": [],
   "source": [
    "data = inscriptions_parsed[['op']].to_pandas().copy()\n",
    "top_protocols = data['op'].value_counts().iloc[:5].index\n",
    "data.loc[~data['op'].isin(top_protocols), 'op'] = 'Others'\n",
    "\n",
    "print(data['op'].value_counts(normalize=False))\n",
    "data = data['op'].value_counts(normalize=True)*100\n",
    "\n",
    "fig = go.Figure(layout=get_plotly_layout(width=width, height=height))\n",
    "\n",
    "fig.add_trace(go.Bar(x=data.index, y=data.values,\n",
    "              marker_color=colors['blue'], textposition='auto', text=data.values.round(2), name='Operation'))\n",
    "fig.update_layout(yaxis_title=\"Percentage\",\n",
    "                  xaxis_title=\"Operation\", yaxis_ticksuffix=\"%\")\n",
    "\n",
    "fig.update_traces(\n",
    "    texttemplate='<b>%{text:,.4}</b>', textfont_size=18)\n",
    "fig.update_yaxes(range=[0, 100])\n",
    "\n",
    "fig.write_image(plots_dir+\"top-15-operation-zksync.pdf\")\n",
    "\n",
    "fig.show('png')"
   ]
  },
  {
   "cell_type": "code",
   "execution_count": null,
   "metadata": {},
   "outputs": [],
   "source": [
    "data = inscriptions_parsed[['tick']].to_pandas().copy()\n",
    "top_protocols = data['tick'].value_counts().iloc[:5].index\n",
    "data.loc[~data['tick'].isin(top_protocols), 'tick'] = 'Others'\n",
    "\n",
    "print(data['tick'].value_counts(normalize=False))\n",
    "data = data['tick'].value_counts(normalize=True)*100\n",
    "\n",
    "fig = go.Figure(layout=get_plotly_layout(width=width, height=height))\n",
    "\n",
    "fig.add_trace(go.Bar(x=data.index, y=data.values,\n",
    "              marker_color=colors['blue'], textposition='auto', text=data.values.round(2), name='Protocols'))\n",
    "fig.update_layout(yaxis_title=\"Percentage\",\n",
    "                  xaxis_title=\"Tick\", yaxis_ticksuffix=\"%\")\n",
    "\n",
    "fig.update_traces(\n",
    "    texttemplate='<b>%{text:,.4}</b>', textfont_size=18)\n",
    "fig.update_yaxes(range=[0, 100])\n",
    "\n",
    "fig.write_image(plots_dir+\"top-15-tick-zksync.pdf\")\n",
    "\n",
    "fig.show('png')"
   ]
  },
  {
   "cell_type": "code",
   "execution_count": null,
   "metadata": {},
   "outputs": [],
   "source": [
    "inscriptions_parsed.filter(pl.col('tick').eq('bgnt') & pl.col('op').eq('list'))"
   ]
  },
  {
   "cell_type": "code",
   "execution_count": null,
   "metadata": {},
   "outputs": [],
   "source": [
    "inscriptions_parsed.filter(pl.col('p').eq('era-20') & pl.col('op').eq('buy'))"
   ]
  },
  {
   "cell_type": "code",
   "execution_count": null,
   "metadata": {},
   "outputs": [],
   "source": [
    "data = inscriptions_parsed.filter(pl.col('op').eq('deploy')).to_pandas().copy()\n",
    "top_protocols = data['p'].value_counts().iloc[:5].index\n",
    "data.loc[~data['p'].isin(top_protocols), 'p'] = 'Others'\n",
    "\n",
    "print(data['p'].value_counts(normalize=False))\n",
    "data = data['p'].value_counts(normalize=True)*100\n",
    "\n",
    "\n",
    "fig = go.Figure(layout=get_plotly_layout(width=width, height=height))\n",
    "\n",
    "fig.add_trace(go.Bar(x=data.index, y=data.values,\n",
    "              marker_color=colors['blue'], textposition='auto', text=data.values.round(2), name='Protocols'))\n",
    "fig.update_layout(yaxis_title=\"Percentage\",\n",
    "                  xaxis_title=\"Protocols deployed\", yaxis_ticksuffix=\"%\")\n",
    "\n",
    "fig.update_traces(\n",
    "    texttemplate='<b>%{text:,.4}</b>', textfont_size=18)\n",
    "fig.update_yaxes(range=[0, 100])\n",
    "\n",
    "fig.write_image(plots_dir+\"top-15-deployed-protocols-zksync.pdf\")\n",
    "\n",
    "fig.show('png')"
   ]
  },
  {
   "cell_type": "code",
   "execution_count": null,
   "metadata": {},
   "outputs": [],
   "source": [
    "data = inscriptions_parsed.filter(pl.col('op').eq('deploy')).to_pandas().copy()\n",
    "top_protocols = data['tick'].value_counts().iloc[:5].index\n",
    "data.loc[~data['tick'].isin(top_protocols), 'tick'] = 'Others'\n",
    "\n",
    "print(data['tick'].value_counts(normalize=False))\n",
    "data = data['tick'].value_counts(normalize=True)*100\n",
    "\n",
    "\n",
    "fig = go.Figure(layout=get_plotly_layout(width=width, height=height))\n",
    "\n",
    "fig.add_trace(go.Bar(x=data.index, y=data.values,\n",
    "              marker_color=colors['blue'], textposition='auto', text=data.values.round(2), name='Ticks'))\n",
    "fig.update_layout(yaxis_title=\"Percentage\",\n",
    "                  xaxis_title=\"Ticks deployed\", yaxis_ticksuffix=\"%\")\n",
    "\n",
    "fig.update_traces(\n",
    "    texttemplate='<b>%{text:,.4}</b>', textfont_size=18)\n",
    "fig.update_yaxes(range=[0, 100])\n",
    "\n",
    "fig.write_image(plots_dir+\"ticks-zksync.pdf\")\n",
    "\n",
    "fig.show('png')"
   ]
  },
  {
   "cell_type": "code",
   "execution_count": null,
   "metadata": {},
   "outputs": [],
   "source": [
    "# Loading all txs inscriptions dataframe from a file\n",
    "all_txs_df = pl.scan_parquet(\n",
    "    data_dir+'inscriptions_all_txs_df.parquet').collect(streaming=True)\n",
    "print(\"There are {} txs in our dataset.\".format(\n",
    "    all_txs_df.shape[0]))\n",
    "all_txs_df.head()"
   ]
  },
  {
   "cell_type": "code",
   "execution_count": null,
   "metadata": {},
   "outputs": [],
   "source": [
    "print(\"There are {} unique transactions in our dataset.\".format(\n",
    "    all_txs_df['tx_hash'].n_unique()))\n",
    "print(\"There are {} unique blocks in our dataset.\".format(\n",
    "    all_txs_df['block_number'].n_unique()))\n",
    "print(\"The average number of txs per block is {} txs.\".format(round(\n",
    "    all_txs_df['tx_hash'].n_unique()/all_txs_df['block_number'].n_unique(), 2)))\n",
    "\n",
    "print(\"The minimum and max number of txs per block are: {} and {}.\".format(\n",
    "    all_txs_df['block_number'].min(), all_txs_df['block_number'].max()))\n",
    "\n",
    "print(\"The minimum timestamp is {} and the maximum timestamp is {}.\".format(\n",
    "    all_txs_df['timestamp'].min(), all_txs_df['timestamp'].max()))"
   ]
  },
  {
   "cell_type": "code",
   "execution_count": null,
   "metadata": {},
   "outputs": [],
   "source": [
    "# Number of inscriptions in comparison to the total number of transactions per day on zkSync Era\n",
    "\n",
    "all_txs_per_day = (all_txs_df[['block_number', 'timestamp']]\n",
    "                   .sort('timestamp').group_by_dynamic(\"timestamp\", every=\"1d\")\n",
    "                   .agg(pl.len()))\n",
    "\n",
    "inscriptions_txs_per_day = (all_txs_df.filter(pl.col('is_inscription').eq(True))[['block_number', 'timestamp']]\n",
    "                            .sort('timestamp')\n",
    "                            .group_by_dynamic(\"timestamp\", every=\"1d\")\n",
    "                            .agg(pl.len()))\n",
    "\n",
    "\n",
    "fig = go.Figure(layout=get_plotly_layout(width=width, height=height))\n",
    "fig.add_trace(go.Scatter(\n",
    "    x=all_txs_per_day['timestamp'], y=all_txs_per_day['len'], line=dict(color=colors['blue'], width=3, dash='solid'), mode='lines', name='Transactions'))\n",
    "fig.add_trace(go.Scatter(\n",
    "    x=inscriptions_txs_per_day['timestamp'], y=inscriptions_txs_per_day['len'], line=dict(color=colors['red'], width=3, dash='solid'),  mode='lines', name='Inscripted transactions'))\n",
    "# fig.add_trace(go.Scatter(\n",
    "#     x=self_txs_per_day['timestamp'], y=self_txs_per_day['len'], line=dict(color=colors['green'], width=3, dash='solid'),  mode='lines', name='Self-transfer transactions'))\n",
    "\n",
    "fig.update_layout(yaxis_title=\"Number of transactions\",\n",
    "                  xaxis_title=\"Date\", legend=dict(xanchor='center',\n",
    "                                                  x=0.5, y=1.02, orientation='h'))\n",
    "\n",
    "fig.write_image(plots_dir+'fraction-of-inscriptions-zksync.pdf')\n",
    "fig.show('png')"
   ]
  },
  {
   "cell_type": "code",
   "execution_count": null,
   "metadata": {},
   "outputs": [],
   "source": [
    "# Distribution of the percentage of inscriptions in comparison to the total number of transactions per week on zkSync\n",
    "\n",
    "all_txs_per_day = (all_txs_df[['block_number', 'timestamp']]\n",
    "                   .sort('timestamp').group_by_dynamic(\"timestamp\", every=\"6h\")\n",
    "                   .agg(pl.len()))\n",
    "\n",
    "inscriptions_txs_per_day = (all_txs_df.filter(pl.col('is_inscription').eq(True))[['block_number', 'timestamp']]\n",
    "                            .sort('timestamp')\n",
    "                            .group_by_dynamic(\"timestamp\", every=\"6h\")\n",
    "                            .agg(pl.len()))\n",
    "\n",
    "data = inscriptions_txs_per_day.join(all_txs_per_day, on='timestamp', how='left', suffix='_all_txs').with_columns(\n",
    "    pl.col('len').truediv(pl.col('len_all_txs')).alias('fraction'))\n",
    "\n",
    "\n",
    "fig = go.Figure(layout=get_plotly_layout(width=width, height=height))\n",
    "fig.add_trace(go.Scatter(\n",
    "    x=data['timestamp'], y=data['fraction']*100, line=dict(color=colors['blue'], width=3, dash='solid'), mode='lines', name='Transactions'))\n",
    "\n",
    "fig.update_xaxes(range=['2023-11-09', '2024-03-24'])\n",
    "\n",
    "fig.update_yaxes(range=[0, 100])\n",
    "\n",
    "fig.update_layout(yaxis_title=\"Percentage\",\n",
    "                  xaxis_title=\"Date\",  yaxis_ticksuffix=\"%\", legend=dict(xanchor='center',\n",
    "                                                                         x=0.5, y=1.02, orientation='h'))\n",
    "\n",
    "fig.write_image(plots_dir+'fraction-of-inscriptions-zksync.pdf')\n",
    "fig.show('png')"
   ]
  },
  {
   "cell_type": "code",
   "execution_count": 34,
   "metadata": {},
   "outputs": [],
   "source": [
    "inscription_buysell = inscriptions_parsed.filter((pl.col('op')=='buy') | (pl.col('op')=='sell'))"
   ]
  },
  {
   "cell_type": "code",
   "execution_count": 35,
   "metadata": {},
   "outputs": [
    {
     "data": {
      "text/html": [
       "<div><style>\n",
       ".dataframe > thead > tr,\n",
       ".dataframe > tbody > tr {\n",
       "  text-align: right;\n",
       "  white-space: pre-wrap;\n",
       "}\n",
       "</style>\n",
       "<small>shape: (2, 17)</small><table border=\"1\" class=\"dataframe\"><thead><tr><th>block_number</th><th>tx_hash</th><th>tx_input_data</th><th>issuer</th><th>receiver</th><th>timestamp</th><th>gas_used</th><th>gas_effective_price</th><th>fees</th><th>tx_status</th><th>decoded_input_data</th><th>p</th><th>op</th><th>tick</th><th>amt</th><th>tx</th><th>price</th></tr><tr><td>i64</td><td>str</td><td>str</td><td>str</td><td>str</td><td>datetime[μs]</td><td>i64</td><td>i64</td><td>f64</td><td>i64</td><td>str</td><td>str</td><td>str</td><td>str</td><td>str</td><td>str</td><td>str</td></tr></thead><tbody><tr><td>22233365</td><td>&quot;0x4a9c0858e3d4…</td><td>&quot;0x646174613a2c…</td><td>&quot;0xcd5446c946f4…</td><td>&quot;0xf4f837133a7b…</td><td>2023-12-23 15:57:49</td><td>258436</td><td>150000000</td><td>0.000039</td><td>1</td><td>&quot;{&quot;p&quot;:&quot;era-20&quot;,…</td><td>&quot;era-20&quot;</td><td>&quot;buy&quot;</td><td>null</td><td>null</td><td>&quot;57d7eb724a78a2…</td><td>null</td></tr><tr><td>21964532</td><td>&quot;0x115725014c9b…</td><td>&quot;0x646174613a2c…</td><td>&quot;0xacac7716be22…</td><td>&quot;0xaa97f900599d…</td><td>2023-12-20 10:39:45</td><td>653341</td><td>190000000</td><td>0.000124</td><td>1</td><td>&quot;{&quot;p&quot;:&quot;zrc-20&quot;,…</td><td>&quot;zrc-20&quot;</td><td>&quot;sell&quot;</td><td>null</td><td>null</td><td>null</td><td>null</td></tr></tbody></table></div>"
      ],
      "text/plain": [
       "shape: (2, 17)\n",
       "┌──────────────┬──────────────┬──────────────┬─────────────┬───┬──────┬──────┬─────────────┬───────┐\n",
       "│ block_number ┆ tx_hash      ┆ tx_input_dat ┆ issuer      ┆ … ┆ tick ┆ amt  ┆ tx          ┆ price │\n",
       "│ ---          ┆ ---          ┆ a            ┆ ---         ┆   ┆ ---  ┆ ---  ┆ ---         ┆ ---   │\n",
       "│ i64          ┆ str          ┆ ---          ┆ str         ┆   ┆ str  ┆ str  ┆ str         ┆ str   │\n",
       "│              ┆              ┆ str          ┆             ┆   ┆      ┆      ┆             ┆       │\n",
       "╞══════════════╪══════════════╪══════════════╪═════════════╪═══╪══════╪══════╪═════════════╪═══════╡\n",
       "│ 22233365     ┆ 0x4a9c0858e3 ┆ 0x646174613a ┆ 0xcd5446c94 ┆ … ┆ null ┆ null ┆ 57d7eb724a7 ┆ null  │\n",
       "│              ┆ d4ad62331c66 ┆ 2c7b2270223a ┆ 6f45eba0121 ┆   ┆      ┆      ┆ 8a290bd06ee ┆       │\n",
       "│              ┆ 311c63bc…    ┆ 22657261…    ┆ 65a1eace31… ┆   ┆      ┆      ┆ 832d536407… ┆       │\n",
       "│ 21964532     ┆ 0x115725014c ┆ 0x646174613a ┆ 0xacac7716b ┆ … ┆ null ┆ null ┆ null        ┆ null  │\n",
       "│              ┆ 9b5a450d7efb ┆ 2c7b2270223a ┆ e221a9585bc ┆   ┆      ┆      ┆             ┆       │\n",
       "│              ┆ f45fee38…    ┆ 227a7263…    ┆ acd5cc1e5c… ┆   ┆      ┆      ┆             ┆       │\n",
       "└──────────────┴──────────────┴──────────────┴─────────────┴───┴──────┴──────┴─────────────┴───────┘"
      ]
     },
     "execution_count": 35,
     "metadata": {},
     "output_type": "execute_result"
    }
   ],
   "source": [
    "inscription_buysell.unique('p')\n",
    "#only zrc-20 and era-20"
   ]
  },
  {
   "cell_type": "code",
   "execution_count": 36,
   "metadata": {},
   "outputs": [
    {
     "name": "stdout",
     "output_type": "stream",
     "text": [
      "There are 1204 merged buy and sell.\n",
      "Out of total 1309 of buy and sell.\n"
     ]
    },
    {
     "data": {
      "text/html": [
       "<div><style>\n",
       ".dataframe > thead > tr,\n",
       ".dataframe > tbody > tr {\n",
       "  text-align: right;\n",
       "  white-space: pre-wrap;\n",
       "}\n",
       "</style>\n",
       "<small>shape: (5, 33)</small><table border=\"1\" class=\"dataframe\"><thead><tr><th>block_number</th><th>tx_hash</th><th>tx_input_data</th><th>issuer</th><th>receiver</th><th>timestamp</th><th>gas_used</th><th>gas_effective_price</th><th>fees</th><th>tx_status</th><th>decoded_input_data</th><th>p</th><th>op</th><th>tick</th><th>amt</th><th>tx</th><th>price</th><th>block_number_right</th><th>tx_input_data_right</th><th>issuer_right</th><th>receiver_right</th><th>timestamp_right</th><th>gas_used_right</th><th>gas_effective_price_right</th><th>fees_right</th><th>tx_status_right</th><th>decoded_input_data_right</th><th>p_right</th><th>op_right</th><th>tick_right</th><th>amt_right</th><th>tx_right</th><th>price_right</th></tr><tr><td>i64</td><td>str</td><td>str</td><td>str</td><td>str</td><td>datetime[μs]</td><td>i64</td><td>i64</td><td>f64</td><td>i64</td><td>str</td><td>str</td><td>str</td><td>str</td><td>str</td><td>str</td><td>str</td><td>i64</td><td>str</td><td>str</td><td>str</td><td>datetime[μs]</td><td>i64</td><td>i64</td><td>f64</td><td>i64</td><td>str</td><td>str</td><td>str</td><td>str</td><td>str</td><td>str</td><td>str</td></tr></thead><tbody><tr><td>24378005</td><td>&quot;0x1babe31683ef…</td><td>&quot;0x646174613a2c…</td><td>&quot;0x0f63ae83d785…</td><td>&quot;0xcd5446c946f4…</td><td>2024-01-18 18:14:06</td><td>627369</td><td>100000000</td><td>0.000063</td><td>1</td><td>&quot;{&quot;p&quot;:&quot;era-20&quot;,…</td><td>&quot;era-20&quot;</td><td>&quot;buy&quot;</td><td>null</td><td>null</td><td>&quot;0xccca8ddf683d…</td><td>null</td><td>22219206</td><td>&quot;0x646174613a2c…</td><td>&quot;0xcd5446c946f4…</td><td>&quot;0xcd5446c946f4…</td><td>2023-12-23 11:49:37</td><td>204594</td><td>150000000</td><td>0.000031</td><td>1</td><td>&quot;{&quot;p&quot;:&quot;era-20&quot;,…</td><td>&quot;era-20&quot;</td><td>&quot;list&quot;</td><td>&quot;bgnt&quot;</td><td>&quot;5&quot;</td><td>null</td><td>&quot;10000000000000…</td></tr><tr><td>22892003</td><td>&quot;0x70a3781ced6c…</td><td>&quot;0x646174613a2c…</td><td>&quot;0x055c851d9d3a…</td><td>&quot;0xc84567f12d0e…</td><td>2023-12-31 18:57:13</td><td>190918</td><td>150000000</td><td>0.000029</td><td>1</td><td>&quot;{&quot;p&quot;:&quot;era-20&quot;,…</td><td>&quot;era-20&quot;</td><td>&quot;buy&quot;</td><td>null</td><td>null</td><td>&quot;0x57d7eb724a78…</td><td>null</td><td>22233218</td><td>&quot;0x646174613a2c…</td><td>&quot;0xf4f837133a7b…</td><td>&quot;0xf4f837133a7b…</td><td>2023-12-23 15:55:16</td><td>271386</td><td>150000000</td><td>0.000041</td><td>1</td><td>&quot;{&quot;p&quot;:&quot;era-20&quot;,…</td><td>&quot;era-20&quot;</td><td>&quot;list&quot;</td><td>&quot;bgnt&quot;</td><td>&quot;5&quot;</td><td>null</td><td>&quot;10000000000000…</td></tr><tr><td>22901583</td><td>&quot;0x20db3f736cb4…</td><td>&quot;0x646174613a2c…</td><td>&quot;0x055c851d9d3a…</td><td>&quot;0xf4f837133a7b…</td><td>2023-12-31 21:41:35</td><td>211201</td><td>150000000</td><td>0.000032</td><td>1</td><td>&quot;{&quot;p&quot;:&quot;era-20&quot;,…</td><td>&quot;era-20&quot;</td><td>&quot;buy&quot;</td><td>null</td><td>null</td><td>&quot;0x57d7eb724a78…</td><td>null</td><td>22233218</td><td>&quot;0x646174613a2c…</td><td>&quot;0xf4f837133a7b…</td><td>&quot;0xf4f837133a7b…</td><td>2023-12-23 15:55:16</td><td>271386</td><td>150000000</td><td>0.000041</td><td>1</td><td>&quot;{&quot;p&quot;:&quot;era-20&quot;,…</td><td>&quot;era-20&quot;</td><td>&quot;list&quot;</td><td>&quot;bgnt&quot;</td><td>&quot;5&quot;</td><td>null</td><td>&quot;10000000000000…</td></tr><tr><td>22895362</td><td>&quot;0xf5919bbfcbc0…</td><td>&quot;0x646174613a2c…</td><td>&quot;0x055c851d9d3a…</td><td>&quot;0x055c851d9d3a…</td><td>2023-12-31 19:55:03</td><td>200689</td><td>150000000</td><td>0.00003</td><td>1</td><td>&quot;{&quot;p&quot;:&quot;era-20&quot;,…</td><td>&quot;era-20&quot;</td><td>&quot;buy&quot;</td><td>null</td><td>null</td><td>&quot;0x05388d7a8e00…</td><td>null</td><td>22890920</td><td>&quot;0x646174613a2c…</td><td>&quot;0x055c851d9d3a…</td><td>&quot;0x055c851d9d3a…</td><td>2023-12-31 18:38:32</td><td>196051</td><td>150000000</td><td>0.000029</td><td>1</td><td>&quot;{&quot;p&quot;:&quot;era-20&quot;,…</td><td>&quot;era-20&quot;</td><td>&quot;list&quot;</td><td>&quot;bgnt&quot;</td><td>&quot;5&quot;</td><td>null</td><td>&quot;0.000000000000…</td></tr><tr><td>22895909</td><td>&quot;0x5a0412b4eaa1…</td><td>&quot;0x646174613a2c…</td><td>&quot;0x055c851d9d3a…</td><td>&quot;0x055c851d9d3a…</td><td>2023-12-31 20:04:28</td><td>198759</td><td>150000000</td><td>0.00003</td><td>1</td><td>&quot;{&quot;p&quot;:&quot;era-20&quot;,…</td><td>&quot;era-20&quot;</td><td>&quot;buy&quot;</td><td>null</td><td>null</td><td>&quot;0x05388d7a8e00…</td><td>null</td><td>22890920</td><td>&quot;0x646174613a2c…</td><td>&quot;0x055c851d9d3a…</td><td>&quot;0x055c851d9d3a…</td><td>2023-12-31 18:38:32</td><td>196051</td><td>150000000</td><td>0.000029</td><td>1</td><td>&quot;{&quot;p&quot;:&quot;era-20&quot;,…</td><td>&quot;era-20&quot;</td><td>&quot;list&quot;</td><td>&quot;bgnt&quot;</td><td>&quot;5&quot;</td><td>null</td><td>&quot;0.000000000000…</td></tr></tbody></table></div>"
      ],
      "text/plain": [
       "shape: (5, 33)\n",
       "┌───────────┬───────────┬───────────┬───────────┬───┬───────────┬───────────┬──────────┬───────────┐\n",
       "│ block_num ┆ tx_hash   ┆ tx_input_ ┆ issuer    ┆ … ┆ tick_righ ┆ amt_right ┆ tx_right ┆ price_rig │\n",
       "│ ber       ┆ ---       ┆ data      ┆ ---       ┆   ┆ t         ┆ ---       ┆ ---      ┆ ht        │\n",
       "│ ---       ┆ str       ┆ ---       ┆ str       ┆   ┆ ---       ┆ str       ┆ str      ┆ ---       │\n",
       "│ i64       ┆           ┆ str       ┆           ┆   ┆ str       ┆           ┆          ┆ str       │\n",
       "╞═══════════╪═══════════╪═══════════╪═══════════╪═══╪═══════════╪═══════════╪══════════╪═══════════╡\n",
       "│ 24378005  ┆ 0x1babe31 ┆ 0x6461746 ┆ 0x0f63ae8 ┆ … ┆ bgnt      ┆ 5         ┆ null     ┆ 100000000 │\n",
       "│           ┆ 683efd9bd ┆ 13a2c7b22 ┆ 3d78594a3 ┆   ┆           ┆           ┆          ┆ 00000     │\n",
       "│           ┆ 05990ebfa ┆ 70223a226 ┆ e6774d598 ┆   ┆           ┆           ┆          ┆           │\n",
       "│           ┆ 19c76…    ┆ 57261…    ┆ f0c62…    ┆   ┆           ┆           ┆          ┆           │\n",
       "│ 22892003  ┆ 0x70a3781 ┆ 0x6461746 ┆ 0x055c851 ┆ … ┆ bgnt      ┆ 5         ┆ null     ┆ 100000000 │\n",
       "│           ┆ ced6c77f9 ┆ 13a2c7b22 ┆ d9d3aab85 ┆   ┆           ┆           ┆          ┆ 00000     │\n",
       "│           ┆ 898278655 ┆ 70223a226 ┆ bd682bedb ┆   ┆           ┆           ┆          ┆           │\n",
       "│           ┆ 76ee2…    ┆ 57261…    ┆ b8261…    ┆   ┆           ┆           ┆          ┆           │\n",
       "│ 22901583  ┆ 0x20db3f7 ┆ 0x6461746 ┆ 0x055c851 ┆ … ┆ bgnt      ┆ 5         ┆ null     ┆ 100000000 │\n",
       "│           ┆ 36cb4094d ┆ 13a2c7b22 ┆ d9d3aab85 ┆   ┆           ┆           ┆          ┆ 00000     │\n",
       "│           ┆ a2dd084b1 ┆ 70223a226 ┆ bd682bedb ┆   ┆           ┆           ┆          ┆           │\n",
       "│           ┆ 67e5c…    ┆ 57261…    ┆ b8261…    ┆   ┆           ┆           ┆          ┆           │\n",
       "│ 22895362  ┆ 0xf5919bb ┆ 0x6461746 ┆ 0x055c851 ┆ … ┆ bgnt      ┆ 5         ┆ null     ┆ 0.0000000 │\n",
       "│           ┆ fcbc00918 ┆ 13a2c7b22 ┆ d9d3aab85 ┆   ┆           ┆           ┆          ┆ 000000000 │\n",
       "│           ┆ 9fda33c23 ┆ 70223a226 ┆ bd682bedb ┆   ┆           ┆           ┆          ┆ 01        │\n",
       "│           ┆ f1adf…    ┆ 57261…    ┆ b8261…    ┆   ┆           ┆           ┆          ┆           │\n",
       "│ 22895909  ┆ 0x5a0412b ┆ 0x6461746 ┆ 0x055c851 ┆ … ┆ bgnt      ┆ 5         ┆ null     ┆ 0.0000000 │\n",
       "│           ┆ 4eaa1375e ┆ 13a2c7b22 ┆ d9d3aab85 ┆   ┆           ┆           ┆          ┆ 000000000 │\n",
       "│           ┆ 90e84c7d5 ┆ 70223a226 ┆ bd682bedb ┆   ┆           ┆           ┆          ┆ 01        │\n",
       "│           ┆ 8a7e8…    ┆ 57261…    ┆ b8261…    ┆   ┆           ┆           ┆          ┆           │\n",
       "└───────────┴───────────┴───────────┴───────────┴───┴───────────┴───────────┴──────────┴───────────┘"
      ]
     },
     "execution_count": 36,
     "metadata": {},
     "output_type": "execute_result"
    }
   ],
   "source": [
    "merged_df = inscription_buysell.join(inscriptions_parsed, how='inner', left_on='tx', right_on = 'tx_hash' )\n",
    "\n",
    "print(\"There are {} merged buy and sell.\".format(merged_df.shape[0]))\n",
    "print(\"Out of total {} of buy and sell.\".format(inscription_buysell.shape[0]))\n",
    "merged_df.head()\n"
   ]
  },
  {
   "cell_type": "code",
   "execution_count": 37,
   "metadata": {},
   "outputs": [],
   "source": [
    "merged_df = merged_df.with_columns(pl.col('amt_right').cast(pl.Int32))"
   ]
  },
  {
   "cell_type": "code",
   "execution_count": 38,
   "metadata": {},
   "outputs": [
    {
     "data": {
      "text/html": [
       "<div><style>\n",
       ".dataframe > thead > tr,\n",
       ".dataframe > tbody > tr {\n",
       "  text-align: right;\n",
       "  white-space: pre-wrap;\n",
       "}\n",
       "</style>\n",
       "<small>shape: (1_204, 33)</small><table border=\"1\" class=\"dataframe\"><thead><tr><th>block_number</th><th>tx_hash</th><th>tx_input_data</th><th>issuer</th><th>receiver</th><th>timestamp</th><th>gas_used</th><th>gas_effective_price</th><th>fees</th><th>tx_status</th><th>decoded_input_data</th><th>p</th><th>op</th><th>tick</th><th>amt</th><th>tx</th><th>price</th><th>block_number_right</th><th>tx_input_data_right</th><th>issuer_right</th><th>receiver_right</th><th>timestamp_right</th><th>gas_used_right</th><th>gas_effective_price_right</th><th>fees_right</th><th>tx_status_right</th><th>decoded_input_data_right</th><th>p_right</th><th>op_right</th><th>tick_right</th><th>amt_right</th><th>tx_right</th><th>price_right</th></tr><tr><td>i64</td><td>str</td><td>str</td><td>str</td><td>str</td><td>datetime[μs]</td><td>i64</td><td>i64</td><td>f64</td><td>i64</td><td>str</td><td>str</td><td>str</td><td>str</td><td>str</td><td>str</td><td>str</td><td>i64</td><td>str</td><td>str</td><td>str</td><td>datetime[μs]</td><td>i64</td><td>i64</td><td>f64</td><td>i64</td><td>str</td><td>str</td><td>str</td><td>str</td><td>i32</td><td>str</td><td>f32</td></tr></thead><tbody><tr><td>24378005</td><td>&quot;0x1babe31683ef…</td><td>&quot;0x646174613a2c…</td><td>&quot;0x0f63ae83d785…</td><td>&quot;0xcd5446c946f4…</td><td>2024-01-18 18:14:06</td><td>627369</td><td>100000000</td><td>0.000063</td><td>1</td><td>&quot;{&quot;p&quot;:&quot;era-20&quot;,…</td><td>&quot;era-20&quot;</td><td>&quot;buy&quot;</td><td>null</td><td>null</td><td>&quot;0xccca8ddf683d…</td><td>null</td><td>22219206</td><td>&quot;0x646174613a2c…</td><td>&quot;0xcd5446c946f4…</td><td>&quot;0xcd5446c946f4…</td><td>2023-12-23 11:49:37</td><td>204594</td><td>150000000</td><td>0.000031</td><td>1</td><td>&quot;{&quot;p&quot;:&quot;era-20&quot;,…</td><td>&quot;era-20&quot;</td><td>&quot;list&quot;</td><td>&quot;bgnt&quot;</td><td>5</td><td>null</td><td>1.0000e13</td></tr><tr><td>22892003</td><td>&quot;0x70a3781ced6c…</td><td>&quot;0x646174613a2c…</td><td>&quot;0x055c851d9d3a…</td><td>&quot;0xc84567f12d0e…</td><td>2023-12-31 18:57:13</td><td>190918</td><td>150000000</td><td>0.000029</td><td>1</td><td>&quot;{&quot;p&quot;:&quot;era-20&quot;,…</td><td>&quot;era-20&quot;</td><td>&quot;buy&quot;</td><td>null</td><td>null</td><td>&quot;0x57d7eb724a78…</td><td>null</td><td>22233218</td><td>&quot;0x646174613a2c…</td><td>&quot;0xf4f837133a7b…</td><td>&quot;0xf4f837133a7b…</td><td>2023-12-23 15:55:16</td><td>271386</td><td>150000000</td><td>0.000041</td><td>1</td><td>&quot;{&quot;p&quot;:&quot;era-20&quot;,…</td><td>&quot;era-20&quot;</td><td>&quot;list&quot;</td><td>&quot;bgnt&quot;</td><td>5</td><td>null</td><td>1.0000e13</td></tr><tr><td>22901583</td><td>&quot;0x20db3f736cb4…</td><td>&quot;0x646174613a2c…</td><td>&quot;0x055c851d9d3a…</td><td>&quot;0xf4f837133a7b…</td><td>2023-12-31 21:41:35</td><td>211201</td><td>150000000</td><td>0.000032</td><td>1</td><td>&quot;{&quot;p&quot;:&quot;era-20&quot;,…</td><td>&quot;era-20&quot;</td><td>&quot;buy&quot;</td><td>null</td><td>null</td><td>&quot;0x57d7eb724a78…</td><td>null</td><td>22233218</td><td>&quot;0x646174613a2c…</td><td>&quot;0xf4f837133a7b…</td><td>&quot;0xf4f837133a7b…</td><td>2023-12-23 15:55:16</td><td>271386</td><td>150000000</td><td>0.000041</td><td>1</td><td>&quot;{&quot;p&quot;:&quot;era-20&quot;,…</td><td>&quot;era-20&quot;</td><td>&quot;list&quot;</td><td>&quot;bgnt&quot;</td><td>5</td><td>null</td><td>1.0000e13</td></tr><tr><td>22895362</td><td>&quot;0xf5919bbfcbc0…</td><td>&quot;0x646174613a2c…</td><td>&quot;0x055c851d9d3a…</td><td>&quot;0x055c851d9d3a…</td><td>2023-12-31 19:55:03</td><td>200689</td><td>150000000</td><td>0.00003</td><td>1</td><td>&quot;{&quot;p&quot;:&quot;era-20&quot;,…</td><td>&quot;era-20&quot;</td><td>&quot;buy&quot;</td><td>null</td><td>null</td><td>&quot;0x05388d7a8e00…</td><td>null</td><td>22890920</td><td>&quot;0x646174613a2c…</td><td>&quot;0x055c851d9d3a…</td><td>&quot;0x055c851d9d3a…</td><td>2023-12-31 18:38:32</td><td>196051</td><td>150000000</td><td>0.000029</td><td>1</td><td>&quot;{&quot;p&quot;:&quot;era-20&quot;,…</td><td>&quot;era-20&quot;</td><td>&quot;list&quot;</td><td>&quot;bgnt&quot;</td><td>5</td><td>null</td><td>1.0000e-18</td></tr><tr><td>22895909</td><td>&quot;0x5a0412b4eaa1…</td><td>&quot;0x646174613a2c…</td><td>&quot;0x055c851d9d3a…</td><td>&quot;0x055c851d9d3a…</td><td>2023-12-31 20:04:28</td><td>198759</td><td>150000000</td><td>0.00003</td><td>1</td><td>&quot;{&quot;p&quot;:&quot;era-20&quot;,…</td><td>&quot;era-20&quot;</td><td>&quot;buy&quot;</td><td>null</td><td>null</td><td>&quot;0x05388d7a8e00…</td><td>null</td><td>22890920</td><td>&quot;0x646174613a2c…</td><td>&quot;0x055c851d9d3a…</td><td>&quot;0x055c851d9d3a…</td><td>2023-12-31 18:38:32</td><td>196051</td><td>150000000</td><td>0.000029</td><td>1</td><td>&quot;{&quot;p&quot;:&quot;era-20&quot;,…</td><td>&quot;era-20&quot;</td><td>&quot;list&quot;</td><td>&quot;bgnt&quot;</td><td>5</td><td>null</td><td>1.0000e-18</td></tr><tr><td>&hellip;</td><td>&hellip;</td><td>&hellip;</td><td>&hellip;</td><td>&hellip;</td><td>&hellip;</td><td>&hellip;</td><td>&hellip;</td><td>&hellip;</td><td>&hellip;</td><td>&hellip;</td><td>&hellip;</td><td>&hellip;</td><td>&hellip;</td><td>&hellip;</td><td>&hellip;</td><td>&hellip;</td><td>&hellip;</td><td>&hellip;</td><td>&hellip;</td><td>&hellip;</td><td>&hellip;</td><td>&hellip;</td><td>&hellip;</td><td>&hellip;</td><td>&hellip;</td><td>&hellip;</td><td>&hellip;</td><td>&hellip;</td><td>&hellip;</td><td>&hellip;</td><td>&hellip;</td><td>&hellip;</td></tr><tr><td>29693762</td><td>&quot;0x33d9a68d8920…</td><td>&quot;0x646174613a2c…</td><td>&quot;0xc0d861751bc0…</td><td>&quot;0x22bfcf932947…</td><td>2024-03-23 18:58:21</td><td>222952</td><td>25000000</td><td>0.000006</td><td>1</td><td>&quot;{&quot;p&quot;:&quot;era-20&quot;,…</td><td>&quot;era-20&quot;</td><td>&quot;buy&quot;</td><td>null</td><td>null</td><td>&quot;0xe1c47f3c80b2…</td><td>null</td><td>29644847</td><td>&quot;0x646174613a2c…</td><td>&quot;0x22bfcf932947…</td><td>&quot;0x22bfcf932947…</td><td>2024-03-23 04:20:09</td><td>162187</td><td>25000000</td><td>0.000004</td><td>1</td><td>&quot;{&quot;p&quot;:&quot;era-20&quot;,…</td><td>&quot;era-20&quot;</td><td>&quot;list&quot;</td><td>&quot;bgnt&quot;</td><td>500</td><td>null</td><td>5.0000e14</td></tr><tr><td>29788740</td><td>&quot;0xa4d7ecad2649…</td><td>&quot;0x646174613a2c…</td><td>&quot;0x556940aa64a0…</td><td>&quot;0xe9c298cc5697…</td><td>2024-03-24 23:04:18</td><td>211897</td><td>25000000</td><td>0.000005</td><td>1</td><td>&quot;{&quot;p&quot;:&quot;era-20&quot;,…</td><td>&quot;era-20&quot;</td><td>&quot;buy&quot;</td><td>null</td><td>null</td><td>&quot;0x4099c9da7304…</td><td>null</td><td>29670056</td><td>&quot;0x646174613a2c…</td><td>&quot;0xe9c298cc5697…</td><td>&quot;0xe9c298cc5697…</td><td>2024-03-23 11:53:05</td><td>113640</td><td>25000000</td><td>0.000003</td><td>1</td><td>&quot;{&quot;p&quot;:&quot;era-20&quot;,…</td><td>&quot;era-20&quot;</td><td>&quot;list&quot;</td><td>&quot;bgnt&quot;</td><td>10</td><td>null</td><td>1.4000e14</td></tr><tr><td>29753896</td><td>&quot;0x1f3612377013…</td><td>&quot;0x646174613a2c…</td><td>&quot;0xb92ec3280324…</td><td>&quot;0x3894af06d4f9…</td><td>2024-03-24 12:44:48</td><td>126878</td><td>25000000</td><td>0.000003</td><td>1</td><td>&quot;{&quot;p&quot;:&quot;era-20&quot;,…</td><td>&quot;era-20&quot;</td><td>&quot;buy&quot;</td><td>null</td><td>null</td><td>&quot;0xf7324c791e29…</td><td>null</td><td>29753808</td><td>&quot;0x646174613a2c…</td><td>&quot;0x3894af06d4f9…</td><td>&quot;0x3894af06d4f9…</td><td>2024-03-24 12:43:20</td><td>162869</td><td>25000000</td><td>0.000004</td><td>1</td><td>&quot;{&quot;p&quot;:&quot;era-20&quot;,…</td><td>&quot;era-20&quot;</td><td>&quot;list&quot;</td><td>&quot;bgnt&quot;</td><td>15</td><td>null</td><td>6.0000e12</td></tr><tr><td>29791150</td><td>&quot;0x8412b0c2ca4a…</td><td>&quot;0x646174613a2c…</td><td>&quot;0x110b8b6717c4…</td><td>&quot;0x3894af06d4f9…</td><td>2024-03-24 23:45:53</td><td>211617</td><td>25000000</td><td>0.000005</td><td>1</td><td>&quot;{&quot;p&quot;:&quot;era-20&quot;,…</td><td>&quot;era-20&quot;</td><td>&quot;buy&quot;</td><td>null</td><td>null</td><td>&quot;0x0002db9aad16…</td><td>null</td><td>29753931</td><td>&quot;0x646174613a2c…</td><td>&quot;0x3894af06d4f9…</td><td>&quot;0x3894af06d4f9…</td><td>2024-03-24 12:45:39</td><td>162737</td><td>25000000</td><td>0.000004</td><td>1</td><td>&quot;{&quot;p&quot;:&quot;era-20&quot;,…</td><td>&quot;era-20&quot;</td><td>&quot;list&quot;</td><td>&quot;bgnt&quot;</td><td>14</td><td>null</td><td>2.0000e14</td></tr><tr><td>29754661</td><td>&quot;0x4c72611e5353…</td><td>&quot;0x646174613a2c…</td><td>&quot;0xc0d861751bc0…</td><td>&quot;0xb92ec3280324…</td><td>2024-03-24 12:58:51</td><td>205424</td><td>25000000</td><td>0.000005</td><td>1</td><td>&quot;{&quot;p&quot;:&quot;era-20&quot;,…</td><td>&quot;era-20&quot;</td><td>&quot;buy&quot;</td><td>null</td><td>null</td><td>&quot;0x4fb85de02857…</td><td>null</td><td>29754632</td><td>&quot;0x646174613a2c…</td><td>&quot;0xb92ec3280324…</td><td>&quot;0xb92ec3280324…</td><td>2024-03-24 12:58:07</td><td>105011</td><td>25000000</td><td>0.000003</td><td>1</td><td>&quot;{&quot;p&quot;:&quot;era-20&quot;,…</td><td>&quot;era-20&quot;</td><td>&quot;list&quot;</td><td>&quot;bgnt&quot;</td><td>5</td><td>null</td><td>1.0000e12</td></tr></tbody></table></div>"
      ],
      "text/plain": [
       "shape: (1_204, 33)\n",
       "┌───────────┬───────────┬───────────┬───────────┬───┬───────────┬───────────┬──────────┬───────────┐\n",
       "│ block_num ┆ tx_hash   ┆ tx_input_ ┆ issuer    ┆ … ┆ tick_righ ┆ amt_right ┆ tx_right ┆ price_rig │\n",
       "│ ber       ┆ ---       ┆ data      ┆ ---       ┆   ┆ t         ┆ ---       ┆ ---      ┆ ht        │\n",
       "│ ---       ┆ str       ┆ ---       ┆ str       ┆   ┆ ---       ┆ i32       ┆ str      ┆ ---       │\n",
       "│ i64       ┆           ┆ str       ┆           ┆   ┆ str       ┆           ┆          ┆ f32       │\n",
       "╞═══════════╪═══════════╪═══════════╪═══════════╪═══╪═══════════╪═══════════╪══════════╪═══════════╡\n",
       "│ 24378005  ┆ 0x1babe31 ┆ 0x6461746 ┆ 0x0f63ae8 ┆ … ┆ bgnt      ┆ 5         ┆ null     ┆ 1.0000e13 │\n",
       "│           ┆ 683efd9bd ┆ 13a2c7b22 ┆ 3d78594a3 ┆   ┆           ┆           ┆          ┆           │\n",
       "│           ┆ 05990ebfa ┆ 70223a226 ┆ e6774d598 ┆   ┆           ┆           ┆          ┆           │\n",
       "│           ┆ 19c76…    ┆ 57261…    ┆ f0c62…    ┆   ┆           ┆           ┆          ┆           │\n",
       "│ 22892003  ┆ 0x70a3781 ┆ 0x6461746 ┆ 0x055c851 ┆ … ┆ bgnt      ┆ 5         ┆ null     ┆ 1.0000e13 │\n",
       "│           ┆ ced6c77f9 ┆ 13a2c7b22 ┆ d9d3aab85 ┆   ┆           ┆           ┆          ┆           │\n",
       "│           ┆ 898278655 ┆ 70223a226 ┆ bd682bedb ┆   ┆           ┆           ┆          ┆           │\n",
       "│           ┆ 76ee2…    ┆ 57261…    ┆ b8261…    ┆   ┆           ┆           ┆          ┆           │\n",
       "│ 22901583  ┆ 0x20db3f7 ┆ 0x6461746 ┆ 0x055c851 ┆ … ┆ bgnt      ┆ 5         ┆ null     ┆ 1.0000e13 │\n",
       "│           ┆ 36cb4094d ┆ 13a2c7b22 ┆ d9d3aab85 ┆   ┆           ┆           ┆          ┆           │\n",
       "│           ┆ a2dd084b1 ┆ 70223a226 ┆ bd682bedb ┆   ┆           ┆           ┆          ┆           │\n",
       "│           ┆ 67e5c…    ┆ 57261…    ┆ b8261…    ┆   ┆           ┆           ┆          ┆           │\n",
       "│ 22895362  ┆ 0xf5919bb ┆ 0x6461746 ┆ 0x055c851 ┆ … ┆ bgnt      ┆ 5         ┆ null     ┆ 1.0000e-1 │\n",
       "│           ┆ fcbc00918 ┆ 13a2c7b22 ┆ d9d3aab85 ┆   ┆           ┆           ┆          ┆ 8         │\n",
       "│           ┆ 9fda33c23 ┆ 70223a226 ┆ bd682bedb ┆   ┆           ┆           ┆          ┆           │\n",
       "│           ┆ f1adf…    ┆ 57261…    ┆ b8261…    ┆   ┆           ┆           ┆          ┆           │\n",
       "│ 22895909  ┆ 0x5a0412b ┆ 0x6461746 ┆ 0x055c851 ┆ … ┆ bgnt      ┆ 5         ┆ null     ┆ 1.0000e-1 │\n",
       "│           ┆ 4eaa1375e ┆ 13a2c7b22 ┆ d9d3aab85 ┆   ┆           ┆           ┆          ┆ 8         │\n",
       "│           ┆ 90e84c7d5 ┆ 70223a226 ┆ bd682bedb ┆   ┆           ┆           ┆          ┆           │\n",
       "│           ┆ 8a7e8…    ┆ 57261…    ┆ b8261…    ┆   ┆           ┆           ┆          ┆           │\n",
       "│ …         ┆ …         ┆ …         ┆ …         ┆ … ┆ …         ┆ …         ┆ …        ┆ …         │\n",
       "│ 29693762  ┆ 0x33d9a68 ┆ 0x6461746 ┆ 0xc0d8617 ┆ … ┆ bgnt      ┆ 500       ┆ null     ┆ 5.0000e14 │\n",
       "│           ┆ d892084c7 ┆ 13a2c7b22 ┆ 51bc0de2c ┆   ┆           ┆           ┆          ┆           │\n",
       "│           ┆ 89d72afd9 ┆ 70223a226 ┆ d0197ac22 ┆   ┆           ┆           ┆          ┆           │\n",
       "│           ┆ feb50…    ┆ 57261…    ┆ d1081…    ┆   ┆           ┆           ┆          ┆           │\n",
       "│ 29788740  ┆ 0xa4d7eca ┆ 0x6461746 ┆ 0x556940a ┆ … ┆ bgnt      ┆ 10        ┆ null     ┆ 1.4000e14 │\n",
       "│           ┆ d26496e78 ┆ 13a2c7b22 ┆ a64a03686 ┆   ┆           ┆           ┆          ┆           │\n",
       "│           ┆ 192ca5846 ┆ 70223a226 ┆ ef9e1c71f ┆   ┆           ┆           ┆          ┆           │\n",
       "│           ┆ a3db1…    ┆ 57261…    ┆ 50f40…    ┆   ┆           ┆           ┆          ┆           │\n",
       "│ 29753896  ┆ 0x1f36123 ┆ 0x6461746 ┆ 0xb92ec32 ┆ … ┆ bgnt      ┆ 15        ┆ null     ┆ 6.0000e12 │\n",
       "│           ┆ 770134251 ┆ 13a2c7b22 ┆ 80324526d ┆   ┆           ┆           ┆          ┆           │\n",
       "│           ┆ 3804baa98 ┆ 70223a226 ┆ cc2366e32 ┆   ┆           ┆           ┆          ┆           │\n",
       "│           ┆ 5f15c…    ┆ 57261…    ┆ 73fad…    ┆   ┆           ┆           ┆          ┆           │\n",
       "│ 29791150  ┆ 0x8412b0c ┆ 0x6461746 ┆ 0x110b8b6 ┆ … ┆ bgnt      ┆ 14        ┆ null     ┆ 2.0000e14 │\n",
       "│           ┆ 2ca4afb1e ┆ 13a2c7b22 ┆ 717c4da32 ┆   ┆           ┆           ┆          ┆           │\n",
       "│           ┆ 39b76f8e7 ┆ 70223a226 ┆ d86a8d3ef ┆   ┆           ┆           ┆          ┆           │\n",
       "│           ┆ 249c0…    ┆ 57261…    ┆ 78964…    ┆   ┆           ┆           ┆          ┆           │\n",
       "│ 29754661  ┆ 0x4c72611 ┆ 0x6461746 ┆ 0xc0d8617 ┆ … ┆ bgnt      ┆ 5         ┆ null     ┆ 1.0000e12 │\n",
       "│           ┆ e53537fc2 ┆ 13a2c7b22 ┆ 51bc0de2c ┆   ┆           ┆           ┆          ┆           │\n",
       "│           ┆ 2dc7ee1ca ┆ 70223a226 ┆ d0197ac22 ┆   ┆           ┆           ┆          ┆           │\n",
       "│           ┆ 6e2ec…    ┆ 57261…    ┆ d1081…    ┆   ┆           ┆           ┆          ┆           │\n",
       "└───────────┴───────────┴───────────┴───────────┴───┴───────────┴───────────┴──────────┴───────────┘"
      ]
     },
     "execution_count": 38,
     "metadata": {},
     "output_type": "execute_result"
    }
   ],
   "source": [
    "merged_df = merged_df.with_columns(pl.col('price_right').cast(pl.Float32))\n",
    "merged_df"
   ]
  },
  {
   "cell_type": "code",
   "execution_count": 39,
   "metadata": {},
   "outputs": [
    {
     "data": {
      "text/html": [
       "<div><style>\n",
       ".dataframe > thead > tr,\n",
       ".dataframe > tbody > tr {\n",
       "  text-align: right;\n",
       "  white-space: pre-wrap;\n",
       "}\n",
       "</style>\n",
       "<small>shape: (1_204, 34)</small><table border=\"1\" class=\"dataframe\"><thead><tr><th>block_number</th><th>tx_hash</th><th>tx_input_data</th><th>issuer</th><th>receiver</th><th>timestamp</th><th>gas_used</th><th>gas_effective_price</th><th>fees</th><th>tx_status</th><th>decoded_input_data</th><th>p</th><th>op</th><th>tick</th><th>amt</th><th>tx</th><th>price</th><th>block_number_right</th><th>tx_input_data_right</th><th>issuer_right</th><th>receiver_right</th><th>timestamp_right</th><th>gas_used_right</th><th>gas_effective_price_right</th><th>fees_right</th><th>tx_status_right</th><th>decoded_input_data_right</th><th>p_right</th><th>op_right</th><th>tick_right</th><th>amt_right</th><th>tx_right</th><th>price_right</th><th>price_1token</th></tr><tr><td>i64</td><td>str</td><td>str</td><td>str</td><td>str</td><td>datetime[μs]</td><td>i64</td><td>i64</td><td>f64</td><td>i64</td><td>str</td><td>str</td><td>str</td><td>str</td><td>str</td><td>str</td><td>str</td><td>i64</td><td>str</td><td>str</td><td>str</td><td>datetime[μs]</td><td>i64</td><td>i64</td><td>f64</td><td>i64</td><td>str</td><td>str</td><td>str</td><td>str</td><td>i32</td><td>str</td><td>f32</td><td>f64</td></tr></thead><tbody><tr><td>24378005</td><td>&quot;0x1babe31683ef…</td><td>&quot;0x646174613a2c…</td><td>&quot;0x0f63ae83d785…</td><td>&quot;0xcd5446c946f4…</td><td>2024-01-18 18:14:06</td><td>627369</td><td>100000000</td><td>0.000063</td><td>1</td><td>&quot;{&quot;p&quot;:&quot;era-20&quot;,…</td><td>&quot;era-20&quot;</td><td>&quot;buy&quot;</td><td>null</td><td>null</td><td>&quot;0xccca8ddf683d…</td><td>null</td><td>22219206</td><td>&quot;0x646174613a2c…</td><td>&quot;0xcd5446c946f4…</td><td>&quot;0xcd5446c946f4…</td><td>2023-12-23 11:49:37</td><td>204594</td><td>150000000</td><td>0.000031</td><td>1</td><td>&quot;{&quot;p&quot;:&quot;era-20&quot;,…</td><td>&quot;era-20&quot;</td><td>&quot;list&quot;</td><td>&quot;bgnt&quot;</td><td>5</td><td>null</td><td>1.0000e13</td><td>2.0000e12</td></tr><tr><td>22892003</td><td>&quot;0x70a3781ced6c…</td><td>&quot;0x646174613a2c…</td><td>&quot;0x055c851d9d3a…</td><td>&quot;0xc84567f12d0e…</td><td>2023-12-31 18:57:13</td><td>190918</td><td>150000000</td><td>0.000029</td><td>1</td><td>&quot;{&quot;p&quot;:&quot;era-20&quot;,…</td><td>&quot;era-20&quot;</td><td>&quot;buy&quot;</td><td>null</td><td>null</td><td>&quot;0x57d7eb724a78…</td><td>null</td><td>22233218</td><td>&quot;0x646174613a2c…</td><td>&quot;0xf4f837133a7b…</td><td>&quot;0xf4f837133a7b…</td><td>2023-12-23 15:55:16</td><td>271386</td><td>150000000</td><td>0.000041</td><td>1</td><td>&quot;{&quot;p&quot;:&quot;era-20&quot;,…</td><td>&quot;era-20&quot;</td><td>&quot;list&quot;</td><td>&quot;bgnt&quot;</td><td>5</td><td>null</td><td>1.0000e13</td><td>2.0000e12</td></tr><tr><td>22901583</td><td>&quot;0x20db3f736cb4…</td><td>&quot;0x646174613a2c…</td><td>&quot;0x055c851d9d3a…</td><td>&quot;0xf4f837133a7b…</td><td>2023-12-31 21:41:35</td><td>211201</td><td>150000000</td><td>0.000032</td><td>1</td><td>&quot;{&quot;p&quot;:&quot;era-20&quot;,…</td><td>&quot;era-20&quot;</td><td>&quot;buy&quot;</td><td>null</td><td>null</td><td>&quot;0x57d7eb724a78…</td><td>null</td><td>22233218</td><td>&quot;0x646174613a2c…</td><td>&quot;0xf4f837133a7b…</td><td>&quot;0xf4f837133a7b…</td><td>2023-12-23 15:55:16</td><td>271386</td><td>150000000</td><td>0.000041</td><td>1</td><td>&quot;{&quot;p&quot;:&quot;era-20&quot;,…</td><td>&quot;era-20&quot;</td><td>&quot;list&quot;</td><td>&quot;bgnt&quot;</td><td>5</td><td>null</td><td>1.0000e13</td><td>2.0000e12</td></tr><tr><td>22895362</td><td>&quot;0xf5919bbfcbc0…</td><td>&quot;0x646174613a2c…</td><td>&quot;0x055c851d9d3a…</td><td>&quot;0x055c851d9d3a…</td><td>2023-12-31 19:55:03</td><td>200689</td><td>150000000</td><td>0.00003</td><td>1</td><td>&quot;{&quot;p&quot;:&quot;era-20&quot;,…</td><td>&quot;era-20&quot;</td><td>&quot;buy&quot;</td><td>null</td><td>null</td><td>&quot;0x05388d7a8e00…</td><td>null</td><td>22890920</td><td>&quot;0x646174613a2c…</td><td>&quot;0x055c851d9d3a…</td><td>&quot;0x055c851d9d3a…</td><td>2023-12-31 18:38:32</td><td>196051</td><td>150000000</td><td>0.000029</td><td>1</td><td>&quot;{&quot;p&quot;:&quot;era-20&quot;,…</td><td>&quot;era-20&quot;</td><td>&quot;list&quot;</td><td>&quot;bgnt&quot;</td><td>5</td><td>null</td><td>1.0000e-18</td><td>2.0000e-19</td></tr><tr><td>22895909</td><td>&quot;0x5a0412b4eaa1…</td><td>&quot;0x646174613a2c…</td><td>&quot;0x055c851d9d3a…</td><td>&quot;0x055c851d9d3a…</td><td>2023-12-31 20:04:28</td><td>198759</td><td>150000000</td><td>0.00003</td><td>1</td><td>&quot;{&quot;p&quot;:&quot;era-20&quot;,…</td><td>&quot;era-20&quot;</td><td>&quot;buy&quot;</td><td>null</td><td>null</td><td>&quot;0x05388d7a8e00…</td><td>null</td><td>22890920</td><td>&quot;0x646174613a2c…</td><td>&quot;0x055c851d9d3a…</td><td>&quot;0x055c851d9d3a…</td><td>2023-12-31 18:38:32</td><td>196051</td><td>150000000</td><td>0.000029</td><td>1</td><td>&quot;{&quot;p&quot;:&quot;era-20&quot;,…</td><td>&quot;era-20&quot;</td><td>&quot;list&quot;</td><td>&quot;bgnt&quot;</td><td>5</td><td>null</td><td>1.0000e-18</td><td>2.0000e-19</td></tr><tr><td>&hellip;</td><td>&hellip;</td><td>&hellip;</td><td>&hellip;</td><td>&hellip;</td><td>&hellip;</td><td>&hellip;</td><td>&hellip;</td><td>&hellip;</td><td>&hellip;</td><td>&hellip;</td><td>&hellip;</td><td>&hellip;</td><td>&hellip;</td><td>&hellip;</td><td>&hellip;</td><td>&hellip;</td><td>&hellip;</td><td>&hellip;</td><td>&hellip;</td><td>&hellip;</td><td>&hellip;</td><td>&hellip;</td><td>&hellip;</td><td>&hellip;</td><td>&hellip;</td><td>&hellip;</td><td>&hellip;</td><td>&hellip;</td><td>&hellip;</td><td>&hellip;</td><td>&hellip;</td><td>&hellip;</td><td>&hellip;</td></tr><tr><td>29693762</td><td>&quot;0x33d9a68d8920…</td><td>&quot;0x646174613a2c…</td><td>&quot;0xc0d861751bc0…</td><td>&quot;0x22bfcf932947…</td><td>2024-03-23 18:58:21</td><td>222952</td><td>25000000</td><td>0.000006</td><td>1</td><td>&quot;{&quot;p&quot;:&quot;era-20&quot;,…</td><td>&quot;era-20&quot;</td><td>&quot;buy&quot;</td><td>null</td><td>null</td><td>&quot;0xe1c47f3c80b2…</td><td>null</td><td>29644847</td><td>&quot;0x646174613a2c…</td><td>&quot;0x22bfcf932947…</td><td>&quot;0x22bfcf932947…</td><td>2024-03-23 04:20:09</td><td>162187</td><td>25000000</td><td>0.000004</td><td>1</td><td>&quot;{&quot;p&quot;:&quot;era-20&quot;,…</td><td>&quot;era-20&quot;</td><td>&quot;list&quot;</td><td>&quot;bgnt&quot;</td><td>500</td><td>null</td><td>5.0000e14</td><td>1.0000e12</td></tr><tr><td>29788740</td><td>&quot;0xa4d7ecad2649…</td><td>&quot;0x646174613a2c…</td><td>&quot;0x556940aa64a0…</td><td>&quot;0xe9c298cc5697…</td><td>2024-03-24 23:04:18</td><td>211897</td><td>25000000</td><td>0.000005</td><td>1</td><td>&quot;{&quot;p&quot;:&quot;era-20&quot;,…</td><td>&quot;era-20&quot;</td><td>&quot;buy&quot;</td><td>null</td><td>null</td><td>&quot;0x4099c9da7304…</td><td>null</td><td>29670056</td><td>&quot;0x646174613a2c…</td><td>&quot;0xe9c298cc5697…</td><td>&quot;0xe9c298cc5697…</td><td>2024-03-23 11:53:05</td><td>113640</td><td>25000000</td><td>0.000003</td><td>1</td><td>&quot;{&quot;p&quot;:&quot;era-20&quot;,…</td><td>&quot;era-20&quot;</td><td>&quot;list&quot;</td><td>&quot;bgnt&quot;</td><td>10</td><td>null</td><td>1.4000e14</td><td>1.4000e13</td></tr><tr><td>29753896</td><td>&quot;0x1f3612377013…</td><td>&quot;0x646174613a2c…</td><td>&quot;0xb92ec3280324…</td><td>&quot;0x3894af06d4f9…</td><td>2024-03-24 12:44:48</td><td>126878</td><td>25000000</td><td>0.000003</td><td>1</td><td>&quot;{&quot;p&quot;:&quot;era-20&quot;,…</td><td>&quot;era-20&quot;</td><td>&quot;buy&quot;</td><td>null</td><td>null</td><td>&quot;0xf7324c791e29…</td><td>null</td><td>29753808</td><td>&quot;0x646174613a2c…</td><td>&quot;0x3894af06d4f9…</td><td>&quot;0x3894af06d4f9…</td><td>2024-03-24 12:43:20</td><td>162869</td><td>25000000</td><td>0.000004</td><td>1</td><td>&quot;{&quot;p&quot;:&quot;era-20&quot;,…</td><td>&quot;era-20&quot;</td><td>&quot;list&quot;</td><td>&quot;bgnt&quot;</td><td>15</td><td>null</td><td>6.0000e12</td><td>4.0000e11</td></tr><tr><td>29791150</td><td>&quot;0x8412b0c2ca4a…</td><td>&quot;0x646174613a2c…</td><td>&quot;0x110b8b6717c4…</td><td>&quot;0x3894af06d4f9…</td><td>2024-03-24 23:45:53</td><td>211617</td><td>25000000</td><td>0.000005</td><td>1</td><td>&quot;{&quot;p&quot;:&quot;era-20&quot;,…</td><td>&quot;era-20&quot;</td><td>&quot;buy&quot;</td><td>null</td><td>null</td><td>&quot;0x0002db9aad16…</td><td>null</td><td>29753931</td><td>&quot;0x646174613a2c…</td><td>&quot;0x3894af06d4f9…</td><td>&quot;0x3894af06d4f9…</td><td>2024-03-24 12:45:39</td><td>162737</td><td>25000000</td><td>0.000004</td><td>1</td><td>&quot;{&quot;p&quot;:&quot;era-20&quot;,…</td><td>&quot;era-20&quot;</td><td>&quot;list&quot;</td><td>&quot;bgnt&quot;</td><td>14</td><td>null</td><td>2.0000e14</td><td>1.4286e13</td></tr><tr><td>29754661</td><td>&quot;0x4c72611e5353…</td><td>&quot;0x646174613a2c…</td><td>&quot;0xc0d861751bc0…</td><td>&quot;0xb92ec3280324…</td><td>2024-03-24 12:58:51</td><td>205424</td><td>25000000</td><td>0.000005</td><td>1</td><td>&quot;{&quot;p&quot;:&quot;era-20&quot;,…</td><td>&quot;era-20&quot;</td><td>&quot;buy&quot;</td><td>null</td><td>null</td><td>&quot;0x4fb85de02857…</td><td>null</td><td>29754632</td><td>&quot;0x646174613a2c…</td><td>&quot;0xb92ec3280324…</td><td>&quot;0xb92ec3280324…</td><td>2024-03-24 12:58:07</td><td>105011</td><td>25000000</td><td>0.000003</td><td>1</td><td>&quot;{&quot;p&quot;:&quot;era-20&quot;,…</td><td>&quot;era-20&quot;</td><td>&quot;list&quot;</td><td>&quot;bgnt&quot;</td><td>5</td><td>null</td><td>1.0000e12</td><td>2.0000e11</td></tr></tbody></table></div>"
      ],
      "text/plain": [
       "shape: (1_204, 34)\n",
       "┌───────────┬───────────┬───────────┬───────────┬───┬───────────┬──────────┬───────────┬───────────┐\n",
       "│ block_num ┆ tx_hash   ┆ tx_input_ ┆ issuer    ┆ … ┆ amt_right ┆ tx_right ┆ price_rig ┆ price_1to │\n",
       "│ ber       ┆ ---       ┆ data      ┆ ---       ┆   ┆ ---       ┆ ---      ┆ ht        ┆ ken       │\n",
       "│ ---       ┆ str       ┆ ---       ┆ str       ┆   ┆ i32       ┆ str      ┆ ---       ┆ ---       │\n",
       "│ i64       ┆           ┆ str       ┆           ┆   ┆           ┆          ┆ f32       ┆ f64       │\n",
       "╞═══════════╪═══════════╪═══════════╪═══════════╪═══╪═══════════╪══════════╪═══════════╪═══════════╡\n",
       "│ 24378005  ┆ 0x1babe31 ┆ 0x6461746 ┆ 0x0f63ae8 ┆ … ┆ 5         ┆ null     ┆ 1.0000e13 ┆ 2.0000e12 │\n",
       "│           ┆ 683efd9bd ┆ 13a2c7b22 ┆ 3d78594a3 ┆   ┆           ┆          ┆           ┆           │\n",
       "│           ┆ 05990ebfa ┆ 70223a226 ┆ e6774d598 ┆   ┆           ┆          ┆           ┆           │\n",
       "│           ┆ 19c76…    ┆ 57261…    ┆ f0c62…    ┆   ┆           ┆          ┆           ┆           │\n",
       "│ 22892003  ┆ 0x70a3781 ┆ 0x6461746 ┆ 0x055c851 ┆ … ┆ 5         ┆ null     ┆ 1.0000e13 ┆ 2.0000e12 │\n",
       "│           ┆ ced6c77f9 ┆ 13a2c7b22 ┆ d9d3aab85 ┆   ┆           ┆          ┆           ┆           │\n",
       "│           ┆ 898278655 ┆ 70223a226 ┆ bd682bedb ┆   ┆           ┆          ┆           ┆           │\n",
       "│           ┆ 76ee2…    ┆ 57261…    ┆ b8261…    ┆   ┆           ┆          ┆           ┆           │\n",
       "│ 22901583  ┆ 0x20db3f7 ┆ 0x6461746 ┆ 0x055c851 ┆ … ┆ 5         ┆ null     ┆ 1.0000e13 ┆ 2.0000e12 │\n",
       "│           ┆ 36cb4094d ┆ 13a2c7b22 ┆ d9d3aab85 ┆   ┆           ┆          ┆           ┆           │\n",
       "│           ┆ a2dd084b1 ┆ 70223a226 ┆ bd682bedb ┆   ┆           ┆          ┆           ┆           │\n",
       "│           ┆ 67e5c…    ┆ 57261…    ┆ b8261…    ┆   ┆           ┆          ┆           ┆           │\n",
       "│ 22895362  ┆ 0xf5919bb ┆ 0x6461746 ┆ 0x055c851 ┆ … ┆ 5         ┆ null     ┆ 1.0000e-1 ┆ 2.0000e-1 │\n",
       "│           ┆ fcbc00918 ┆ 13a2c7b22 ┆ d9d3aab85 ┆   ┆           ┆          ┆ 8         ┆ 9         │\n",
       "│           ┆ 9fda33c23 ┆ 70223a226 ┆ bd682bedb ┆   ┆           ┆          ┆           ┆           │\n",
       "│           ┆ f1adf…    ┆ 57261…    ┆ b8261…    ┆   ┆           ┆          ┆           ┆           │\n",
       "│ 22895909  ┆ 0x5a0412b ┆ 0x6461746 ┆ 0x055c851 ┆ … ┆ 5         ┆ null     ┆ 1.0000e-1 ┆ 2.0000e-1 │\n",
       "│           ┆ 4eaa1375e ┆ 13a2c7b22 ┆ d9d3aab85 ┆   ┆           ┆          ┆ 8         ┆ 9         │\n",
       "│           ┆ 90e84c7d5 ┆ 70223a226 ┆ bd682bedb ┆   ┆           ┆          ┆           ┆           │\n",
       "│           ┆ 8a7e8…    ┆ 57261…    ┆ b8261…    ┆   ┆           ┆          ┆           ┆           │\n",
       "│ …         ┆ …         ┆ …         ┆ …         ┆ … ┆ …         ┆ …        ┆ …         ┆ …         │\n",
       "│ 29693762  ┆ 0x33d9a68 ┆ 0x6461746 ┆ 0xc0d8617 ┆ … ┆ 500       ┆ null     ┆ 5.0000e14 ┆ 1.0000e12 │\n",
       "│           ┆ d892084c7 ┆ 13a2c7b22 ┆ 51bc0de2c ┆   ┆           ┆          ┆           ┆           │\n",
       "│           ┆ 89d72afd9 ┆ 70223a226 ┆ d0197ac22 ┆   ┆           ┆          ┆           ┆           │\n",
       "│           ┆ feb50…    ┆ 57261…    ┆ d1081…    ┆   ┆           ┆          ┆           ┆           │\n",
       "│ 29788740  ┆ 0xa4d7eca ┆ 0x6461746 ┆ 0x556940a ┆ … ┆ 10        ┆ null     ┆ 1.4000e14 ┆ 1.4000e13 │\n",
       "│           ┆ d26496e78 ┆ 13a2c7b22 ┆ a64a03686 ┆   ┆           ┆          ┆           ┆           │\n",
       "│           ┆ 192ca5846 ┆ 70223a226 ┆ ef9e1c71f ┆   ┆           ┆          ┆           ┆           │\n",
       "│           ┆ a3db1…    ┆ 57261…    ┆ 50f40…    ┆   ┆           ┆          ┆           ┆           │\n",
       "│ 29753896  ┆ 0x1f36123 ┆ 0x6461746 ┆ 0xb92ec32 ┆ … ┆ 15        ┆ null     ┆ 6.0000e12 ┆ 4.0000e11 │\n",
       "│           ┆ 770134251 ┆ 13a2c7b22 ┆ 80324526d ┆   ┆           ┆          ┆           ┆           │\n",
       "│           ┆ 3804baa98 ┆ 70223a226 ┆ cc2366e32 ┆   ┆           ┆          ┆           ┆           │\n",
       "│           ┆ 5f15c…    ┆ 57261…    ┆ 73fad…    ┆   ┆           ┆          ┆           ┆           │\n",
       "│ 29791150  ┆ 0x8412b0c ┆ 0x6461746 ┆ 0x110b8b6 ┆ … ┆ 14        ┆ null     ┆ 2.0000e14 ┆ 1.4286e13 │\n",
       "│           ┆ 2ca4afb1e ┆ 13a2c7b22 ┆ 717c4da32 ┆   ┆           ┆          ┆           ┆           │\n",
       "│           ┆ 39b76f8e7 ┆ 70223a226 ┆ d86a8d3ef ┆   ┆           ┆          ┆           ┆           │\n",
       "│           ┆ 249c0…    ┆ 57261…    ┆ 78964…    ┆   ┆           ┆          ┆           ┆           │\n",
       "│ 29754661  ┆ 0x4c72611 ┆ 0x6461746 ┆ 0xc0d8617 ┆ … ┆ 5         ┆ null     ┆ 1.0000e12 ┆ 2.0000e11 │\n",
       "│           ┆ e53537fc2 ┆ 13a2c7b22 ┆ 51bc0de2c ┆   ┆           ┆          ┆           ┆           │\n",
       "│           ┆ 2dc7ee1ca ┆ 70223a226 ┆ d0197ac22 ┆   ┆           ┆          ┆           ┆           │\n",
       "│           ┆ 6e2ec…    ┆ 57261…    ┆ d1081…    ┆   ┆           ┆          ┆           ┆           │\n",
       "└───────────┴───────────┴───────────┴───────────┴───┴───────────┴──────────┴───────────┴───────────┘"
      ]
     },
     "execution_count": 39,
     "metadata": {},
     "output_type": "execute_result"
    }
   ],
   "source": [
    "merged_df = merged_df.with_columns((pl.col('price_right')/pl.col('amt_right')).alias('price_1token'))\n",
    "merged_df"
   ]
  },
  {
   "cell_type": "code",
   "execution_count": 19,
   "metadata": {},
   "outputs": [
    {
     "data": {
      "text/plain": [
       "'0xf5919bbfcbc009189fda33c23f1adf819498df1c7b065cb7e5b81f4fefd9daaa'"
      ]
     },
     "execution_count": 19,
     "metadata": {},
     "output_type": "execute_result"
    }
   ],
   "source": [
    "merged_df['tx_hash'][3]"
   ]
  },
  {
   "cell_type": "code",
   "execution_count": 40,
   "metadata": {},
   "outputs": [
    {
     "name": "stderr",
     "output_type": "stream",
     "text": [
      "/var/folders/y_/27jchs_x56gfpv07wkchjxj40000gn/T/ipykernel_1638/1756438383.py:1: DeprecationWarning: `count` is deprecated. It has been renamed to `len`.\n",
      "  value_counts = merged_df.group_by('tick', 'tick_right', 'p', 'p_right', 'op', 'op_right').count().sort('tick', 'p', 'op', descending=True)\n"
     ]
    },
    {
     "data": {
      "text/html": [
       "<div><style>\n",
       ".dataframe > thead > tr,\n",
       ".dataframe > tbody > tr {\n",
       "  text-align: right;\n",
       "  white-space: pre-wrap;\n",
       "}\n",
       "</style>\n",
       "<small>shape: (3, 7)</small><table border=\"1\" class=\"dataframe\"><thead><tr><th>tick</th><th>tick_right</th><th>p</th><th>p_right</th><th>op</th><th>op_right</th><th>count</th></tr><tr><td>str</td><td>str</td><td>str</td><td>str</td><td>str</td><td>str</td><td>u32</td></tr></thead><tbody><tr><td>null</td><td>&quot;bgnt&quot;</td><td>&quot;era-20&quot;</td><td>&quot;era-20&quot;</td><td>&quot;buy&quot;</td><td>&quot;list&quot;</td><td>1148</td></tr><tr><td>null</td><td>&quot;meme&quot;</td><td>&quot;era-20&quot;</td><td>&quot;era-20&quot;</td><td>&quot;buy&quot;</td><td>&quot;list&quot;</td><td>18</td></tr><tr><td>null</td><td>&quot;era20&quot;</td><td>&quot;era-20&quot;</td><td>&quot;era-20&quot;</td><td>&quot;buy&quot;</td><td>&quot;list&quot;</td><td>38</td></tr></tbody></table></div>"
      ],
      "text/plain": [
       "shape: (3, 7)\n",
       "┌──────┬────────────┬────────┬─────────┬─────┬──────────┬───────┐\n",
       "│ tick ┆ tick_right ┆ p      ┆ p_right ┆ op  ┆ op_right ┆ count │\n",
       "│ ---  ┆ ---        ┆ ---    ┆ ---     ┆ --- ┆ ---      ┆ ---   │\n",
       "│ str  ┆ str        ┆ str    ┆ str     ┆ str ┆ str      ┆ u32   │\n",
       "╞══════╪════════════╪════════╪═════════╪═════╪══════════╪═══════╡\n",
       "│ null ┆ bgnt       ┆ era-20 ┆ era-20  ┆ buy ┆ list     ┆ 1148  │\n",
       "│ null ┆ meme       ┆ era-20 ┆ era-20  ┆ buy ┆ list     ┆ 18    │\n",
       "│ null ┆ era20      ┆ era-20 ┆ era-20  ┆ buy ┆ list     ┆ 38    │\n",
       "└──────┴────────────┴────────┴─────────┴─────┴──────────┴───────┘"
      ]
     },
     "execution_count": 40,
     "metadata": {},
     "output_type": "execute_result"
    }
   ],
   "source": [
    "value_counts = merged_df.group_by('tick', 'tick_right', 'p', 'p_right', 'op', 'op_right').count().sort('tick', 'p', 'op', descending=True)\n",
    "value_counts"
   ]
  },
  {
   "cell_type": "code",
   "execution_count": 41,
   "metadata": {},
   "outputs": [],
   "source": [
    "data = merged_df.filter((pl.col('tick_right')=='bgnt'))\n"
   ]
  },
  {
   "cell_type": "code",
   "execution_count": 42,
   "metadata": {},
   "outputs": [
    {
     "data": {
      "text/html": [
       "<div><style>\n",
       ".dataframe > thead > tr,\n",
       ".dataframe > tbody > tr {\n",
       "  text-align: right;\n",
       "  white-space: pre-wrap;\n",
       "}\n",
       "</style>\n",
       "<small>shape: (1_148, 34)</small><table border=\"1\" class=\"dataframe\"><thead><tr><th>block_number</th><th>tx_hash</th><th>tx_input_data</th><th>issuer</th><th>receiver</th><th>timestamp</th><th>gas_used</th><th>gas_effective_price</th><th>fees</th><th>tx_status</th><th>decoded_input_data</th><th>p</th><th>op</th><th>tick</th><th>amt</th><th>tx</th><th>price</th><th>block_number_right</th><th>tx_input_data_right</th><th>issuer_right</th><th>receiver_right</th><th>timestamp_right</th><th>gas_used_right</th><th>gas_effective_price_right</th><th>fees_right</th><th>tx_status_right</th><th>decoded_input_data_right</th><th>p_right</th><th>op_right</th><th>tick_right</th><th>amt_right</th><th>tx_right</th><th>price_right</th><th>price_1token</th></tr><tr><td>i64</td><td>str</td><td>str</td><td>str</td><td>str</td><td>datetime[μs]</td><td>i64</td><td>i64</td><td>f64</td><td>i64</td><td>str</td><td>str</td><td>str</td><td>str</td><td>str</td><td>str</td><td>str</td><td>i64</td><td>str</td><td>str</td><td>str</td><td>datetime[μs]</td><td>i64</td><td>i64</td><td>f64</td><td>i64</td><td>str</td><td>str</td><td>str</td><td>str</td><td>i32</td><td>str</td><td>f32</td><td>f64</td></tr></thead><tbody><tr><td>24378005</td><td>&quot;0x1babe31683ef…</td><td>&quot;0x646174613a2c…</td><td>&quot;0x0f63ae83d785…</td><td>&quot;0xcd5446c946f4…</td><td>2024-01-18 18:14:06</td><td>627369</td><td>100000000</td><td>0.000063</td><td>1</td><td>&quot;{&quot;p&quot;:&quot;era-20&quot;,…</td><td>&quot;era-20&quot;</td><td>&quot;buy&quot;</td><td>null</td><td>null</td><td>&quot;0xccca8ddf683d…</td><td>null</td><td>22219206</td><td>&quot;0x646174613a2c…</td><td>&quot;0xcd5446c946f4…</td><td>&quot;0xcd5446c946f4…</td><td>2023-12-23 11:49:37</td><td>204594</td><td>150000000</td><td>0.000031</td><td>1</td><td>&quot;{&quot;p&quot;:&quot;era-20&quot;,…</td><td>&quot;era-20&quot;</td><td>&quot;list&quot;</td><td>&quot;bgnt&quot;</td><td>5</td><td>null</td><td>1.0000e13</td><td>0.000002</td></tr><tr><td>22892003</td><td>&quot;0x70a3781ced6c…</td><td>&quot;0x646174613a2c…</td><td>&quot;0x055c851d9d3a…</td><td>&quot;0xc84567f12d0e…</td><td>2023-12-31 18:57:13</td><td>190918</td><td>150000000</td><td>0.000029</td><td>1</td><td>&quot;{&quot;p&quot;:&quot;era-20&quot;,…</td><td>&quot;era-20&quot;</td><td>&quot;buy&quot;</td><td>null</td><td>null</td><td>&quot;0x57d7eb724a78…</td><td>null</td><td>22233218</td><td>&quot;0x646174613a2c…</td><td>&quot;0xf4f837133a7b…</td><td>&quot;0xf4f837133a7b…</td><td>2023-12-23 15:55:16</td><td>271386</td><td>150000000</td><td>0.000041</td><td>1</td><td>&quot;{&quot;p&quot;:&quot;era-20&quot;,…</td><td>&quot;era-20&quot;</td><td>&quot;list&quot;</td><td>&quot;bgnt&quot;</td><td>5</td><td>null</td><td>1.0000e13</td><td>0.000002</td></tr><tr><td>22901583</td><td>&quot;0x20db3f736cb4…</td><td>&quot;0x646174613a2c…</td><td>&quot;0x055c851d9d3a…</td><td>&quot;0xf4f837133a7b…</td><td>2023-12-31 21:41:35</td><td>211201</td><td>150000000</td><td>0.000032</td><td>1</td><td>&quot;{&quot;p&quot;:&quot;era-20&quot;,…</td><td>&quot;era-20&quot;</td><td>&quot;buy&quot;</td><td>null</td><td>null</td><td>&quot;0x57d7eb724a78…</td><td>null</td><td>22233218</td><td>&quot;0x646174613a2c…</td><td>&quot;0xf4f837133a7b…</td><td>&quot;0xf4f837133a7b…</td><td>2023-12-23 15:55:16</td><td>271386</td><td>150000000</td><td>0.000041</td><td>1</td><td>&quot;{&quot;p&quot;:&quot;era-20&quot;,…</td><td>&quot;era-20&quot;</td><td>&quot;list&quot;</td><td>&quot;bgnt&quot;</td><td>5</td><td>null</td><td>1.0000e13</td><td>0.000002</td></tr><tr><td>22895362</td><td>&quot;0xf5919bbfcbc0…</td><td>&quot;0x646174613a2c…</td><td>&quot;0x055c851d9d3a…</td><td>&quot;0x055c851d9d3a…</td><td>2023-12-31 19:55:03</td><td>200689</td><td>150000000</td><td>0.00003</td><td>1</td><td>&quot;{&quot;p&quot;:&quot;era-20&quot;,…</td><td>&quot;era-20&quot;</td><td>&quot;buy&quot;</td><td>null</td><td>null</td><td>&quot;0x05388d7a8e00…</td><td>null</td><td>22890920</td><td>&quot;0x646174613a2c…</td><td>&quot;0x055c851d9d3a…</td><td>&quot;0x055c851d9d3a…</td><td>2023-12-31 18:38:32</td><td>196051</td><td>150000000</td><td>0.000029</td><td>1</td><td>&quot;{&quot;p&quot;:&quot;era-20&quot;,…</td><td>&quot;era-20&quot;</td><td>&quot;list&quot;</td><td>&quot;bgnt&quot;</td><td>5</td><td>null</td><td>1.0000e-18</td><td>2.0000e-37</td></tr><tr><td>22895909</td><td>&quot;0x5a0412b4eaa1…</td><td>&quot;0x646174613a2c…</td><td>&quot;0x055c851d9d3a…</td><td>&quot;0x055c851d9d3a…</td><td>2023-12-31 20:04:28</td><td>198759</td><td>150000000</td><td>0.00003</td><td>1</td><td>&quot;{&quot;p&quot;:&quot;era-20&quot;,…</td><td>&quot;era-20&quot;</td><td>&quot;buy&quot;</td><td>null</td><td>null</td><td>&quot;0x05388d7a8e00…</td><td>null</td><td>22890920</td><td>&quot;0x646174613a2c…</td><td>&quot;0x055c851d9d3a…</td><td>&quot;0x055c851d9d3a…</td><td>2023-12-31 18:38:32</td><td>196051</td><td>150000000</td><td>0.000029</td><td>1</td><td>&quot;{&quot;p&quot;:&quot;era-20&quot;,…</td><td>&quot;era-20&quot;</td><td>&quot;list&quot;</td><td>&quot;bgnt&quot;</td><td>5</td><td>null</td><td>1.0000e-18</td><td>2.0000e-37</td></tr><tr><td>&hellip;</td><td>&hellip;</td><td>&hellip;</td><td>&hellip;</td><td>&hellip;</td><td>&hellip;</td><td>&hellip;</td><td>&hellip;</td><td>&hellip;</td><td>&hellip;</td><td>&hellip;</td><td>&hellip;</td><td>&hellip;</td><td>&hellip;</td><td>&hellip;</td><td>&hellip;</td><td>&hellip;</td><td>&hellip;</td><td>&hellip;</td><td>&hellip;</td><td>&hellip;</td><td>&hellip;</td><td>&hellip;</td><td>&hellip;</td><td>&hellip;</td><td>&hellip;</td><td>&hellip;</td><td>&hellip;</td><td>&hellip;</td><td>&hellip;</td><td>&hellip;</td><td>&hellip;</td><td>&hellip;</td><td>&hellip;</td></tr><tr><td>29693762</td><td>&quot;0x33d9a68d8920…</td><td>&quot;0x646174613a2c…</td><td>&quot;0xc0d861751bc0…</td><td>&quot;0x22bfcf932947…</td><td>2024-03-23 18:58:21</td><td>222952</td><td>25000000</td><td>0.000006</td><td>1</td><td>&quot;{&quot;p&quot;:&quot;era-20&quot;,…</td><td>&quot;era-20&quot;</td><td>&quot;buy&quot;</td><td>null</td><td>null</td><td>&quot;0xe1c47f3c80b2…</td><td>null</td><td>29644847</td><td>&quot;0x646174613a2c…</td><td>&quot;0x22bfcf932947…</td><td>&quot;0x22bfcf932947…</td><td>2024-03-23 04:20:09</td><td>162187</td><td>25000000</td><td>0.000004</td><td>1</td><td>&quot;{&quot;p&quot;:&quot;era-20&quot;,…</td><td>&quot;era-20&quot;</td><td>&quot;list&quot;</td><td>&quot;bgnt&quot;</td><td>500</td><td>null</td><td>5.0000e14</td><td>1.0000e-6</td></tr><tr><td>29788740</td><td>&quot;0xa4d7ecad2649…</td><td>&quot;0x646174613a2c…</td><td>&quot;0x556940aa64a0…</td><td>&quot;0xe9c298cc5697…</td><td>2024-03-24 23:04:18</td><td>211897</td><td>25000000</td><td>0.000005</td><td>1</td><td>&quot;{&quot;p&quot;:&quot;era-20&quot;,…</td><td>&quot;era-20&quot;</td><td>&quot;buy&quot;</td><td>null</td><td>null</td><td>&quot;0x4099c9da7304…</td><td>null</td><td>29670056</td><td>&quot;0x646174613a2c…</td><td>&quot;0xe9c298cc5697…</td><td>&quot;0xe9c298cc5697…</td><td>2024-03-23 11:53:05</td><td>113640</td><td>25000000</td><td>0.000003</td><td>1</td><td>&quot;{&quot;p&quot;:&quot;era-20&quot;,…</td><td>&quot;era-20&quot;</td><td>&quot;list&quot;</td><td>&quot;bgnt&quot;</td><td>10</td><td>null</td><td>1.4000e14</td><td>0.000014</td></tr><tr><td>29753896</td><td>&quot;0x1f3612377013…</td><td>&quot;0x646174613a2c…</td><td>&quot;0xb92ec3280324…</td><td>&quot;0x3894af06d4f9…</td><td>2024-03-24 12:44:48</td><td>126878</td><td>25000000</td><td>0.000003</td><td>1</td><td>&quot;{&quot;p&quot;:&quot;era-20&quot;,…</td><td>&quot;era-20&quot;</td><td>&quot;buy&quot;</td><td>null</td><td>null</td><td>&quot;0xf7324c791e29…</td><td>null</td><td>29753808</td><td>&quot;0x646174613a2c…</td><td>&quot;0x3894af06d4f9…</td><td>&quot;0x3894af06d4f9…</td><td>2024-03-24 12:43:20</td><td>162869</td><td>25000000</td><td>0.000004</td><td>1</td><td>&quot;{&quot;p&quot;:&quot;era-20&quot;,…</td><td>&quot;era-20&quot;</td><td>&quot;list&quot;</td><td>&quot;bgnt&quot;</td><td>15</td><td>null</td><td>6.0000e12</td><td>4.0000e-7</td></tr><tr><td>29791150</td><td>&quot;0x8412b0c2ca4a…</td><td>&quot;0x646174613a2c…</td><td>&quot;0x110b8b6717c4…</td><td>&quot;0x3894af06d4f9…</td><td>2024-03-24 23:45:53</td><td>211617</td><td>25000000</td><td>0.000005</td><td>1</td><td>&quot;{&quot;p&quot;:&quot;era-20&quot;,…</td><td>&quot;era-20&quot;</td><td>&quot;buy&quot;</td><td>null</td><td>null</td><td>&quot;0x0002db9aad16…</td><td>null</td><td>29753931</td><td>&quot;0x646174613a2c…</td><td>&quot;0x3894af06d4f9…</td><td>&quot;0x3894af06d4f9…</td><td>2024-03-24 12:45:39</td><td>162737</td><td>25000000</td><td>0.000004</td><td>1</td><td>&quot;{&quot;p&quot;:&quot;era-20&quot;,…</td><td>&quot;era-20&quot;</td><td>&quot;list&quot;</td><td>&quot;bgnt&quot;</td><td>14</td><td>null</td><td>2.0000e14</td><td>0.000014</td></tr><tr><td>29754661</td><td>&quot;0x4c72611e5353…</td><td>&quot;0x646174613a2c…</td><td>&quot;0xc0d861751bc0…</td><td>&quot;0xb92ec3280324…</td><td>2024-03-24 12:58:51</td><td>205424</td><td>25000000</td><td>0.000005</td><td>1</td><td>&quot;{&quot;p&quot;:&quot;era-20&quot;,…</td><td>&quot;era-20&quot;</td><td>&quot;buy&quot;</td><td>null</td><td>null</td><td>&quot;0x4fb85de02857…</td><td>null</td><td>29754632</td><td>&quot;0x646174613a2c…</td><td>&quot;0xb92ec3280324…</td><td>&quot;0xb92ec3280324…</td><td>2024-03-24 12:58:07</td><td>105011</td><td>25000000</td><td>0.000003</td><td>1</td><td>&quot;{&quot;p&quot;:&quot;era-20&quot;,…</td><td>&quot;era-20&quot;</td><td>&quot;list&quot;</td><td>&quot;bgnt&quot;</td><td>5</td><td>null</td><td>1.0000e12</td><td>2.0000e-7</td></tr></tbody></table></div>"
      ],
      "text/plain": [
       "shape: (1_148, 34)\n",
       "┌───────────┬───────────┬───────────┬───────────┬───┬───────────┬──────────┬───────────┬───────────┐\n",
       "│ block_num ┆ tx_hash   ┆ tx_input_ ┆ issuer    ┆ … ┆ amt_right ┆ tx_right ┆ price_rig ┆ price_1to │\n",
       "│ ber       ┆ ---       ┆ data      ┆ ---       ┆   ┆ ---       ┆ ---      ┆ ht        ┆ ken       │\n",
       "│ ---       ┆ str       ┆ ---       ┆ str       ┆   ┆ i32       ┆ str      ┆ ---       ┆ ---       │\n",
       "│ i64       ┆           ┆ str       ┆           ┆   ┆           ┆          ┆ f32       ┆ f64       │\n",
       "╞═══════════╪═══════════╪═══════════╪═══════════╪═══╪═══════════╪══════════╪═══════════╪═══════════╡\n",
       "│ 24378005  ┆ 0x1babe31 ┆ 0x6461746 ┆ 0x0f63ae8 ┆ … ┆ 5         ┆ null     ┆ 1.0000e13 ┆ 0.000002  │\n",
       "│           ┆ 683efd9bd ┆ 13a2c7b22 ┆ 3d78594a3 ┆   ┆           ┆          ┆           ┆           │\n",
       "│           ┆ 05990ebfa ┆ 70223a226 ┆ e6774d598 ┆   ┆           ┆          ┆           ┆           │\n",
       "│           ┆ 19c76…    ┆ 57261…    ┆ f0c62…    ┆   ┆           ┆          ┆           ┆           │\n",
       "│ 22892003  ┆ 0x70a3781 ┆ 0x6461746 ┆ 0x055c851 ┆ … ┆ 5         ┆ null     ┆ 1.0000e13 ┆ 0.000002  │\n",
       "│           ┆ ced6c77f9 ┆ 13a2c7b22 ┆ d9d3aab85 ┆   ┆           ┆          ┆           ┆           │\n",
       "│           ┆ 898278655 ┆ 70223a226 ┆ bd682bedb ┆   ┆           ┆          ┆           ┆           │\n",
       "│           ┆ 76ee2…    ┆ 57261…    ┆ b8261…    ┆   ┆           ┆          ┆           ┆           │\n",
       "│ 22901583  ┆ 0x20db3f7 ┆ 0x6461746 ┆ 0x055c851 ┆ … ┆ 5         ┆ null     ┆ 1.0000e13 ┆ 0.000002  │\n",
       "│           ┆ 36cb4094d ┆ 13a2c7b22 ┆ d9d3aab85 ┆   ┆           ┆          ┆           ┆           │\n",
       "│           ┆ a2dd084b1 ┆ 70223a226 ┆ bd682bedb ┆   ┆           ┆          ┆           ┆           │\n",
       "│           ┆ 67e5c…    ┆ 57261…    ┆ b8261…    ┆   ┆           ┆          ┆           ┆           │\n",
       "│ 22895362  ┆ 0xf5919bb ┆ 0x6461746 ┆ 0x055c851 ┆ … ┆ 5         ┆ null     ┆ 1.0000e-1 ┆ 2.0000e-3 │\n",
       "│           ┆ fcbc00918 ┆ 13a2c7b22 ┆ d9d3aab85 ┆   ┆           ┆          ┆ 8         ┆ 7         │\n",
       "│           ┆ 9fda33c23 ┆ 70223a226 ┆ bd682bedb ┆   ┆           ┆          ┆           ┆           │\n",
       "│           ┆ f1adf…    ┆ 57261…    ┆ b8261…    ┆   ┆           ┆          ┆           ┆           │\n",
       "│ 22895909  ┆ 0x5a0412b ┆ 0x6461746 ┆ 0x055c851 ┆ … ┆ 5         ┆ null     ┆ 1.0000e-1 ┆ 2.0000e-3 │\n",
       "│           ┆ 4eaa1375e ┆ 13a2c7b22 ┆ d9d3aab85 ┆   ┆           ┆          ┆ 8         ┆ 7         │\n",
       "│           ┆ 90e84c7d5 ┆ 70223a226 ┆ bd682bedb ┆   ┆           ┆          ┆           ┆           │\n",
       "│           ┆ 8a7e8…    ┆ 57261…    ┆ b8261…    ┆   ┆           ┆          ┆           ┆           │\n",
       "│ …         ┆ …         ┆ …         ┆ …         ┆ … ┆ …         ┆ …        ┆ …         ┆ …         │\n",
       "│ 29693762  ┆ 0x33d9a68 ┆ 0x6461746 ┆ 0xc0d8617 ┆ … ┆ 500       ┆ null     ┆ 5.0000e14 ┆ 1.0000e-6 │\n",
       "│           ┆ d892084c7 ┆ 13a2c7b22 ┆ 51bc0de2c ┆   ┆           ┆          ┆           ┆           │\n",
       "│           ┆ 89d72afd9 ┆ 70223a226 ┆ d0197ac22 ┆   ┆           ┆          ┆           ┆           │\n",
       "│           ┆ feb50…    ┆ 57261…    ┆ d1081…    ┆   ┆           ┆          ┆           ┆           │\n",
       "│ 29788740  ┆ 0xa4d7eca ┆ 0x6461746 ┆ 0x556940a ┆ … ┆ 10        ┆ null     ┆ 1.4000e14 ┆ 0.000014  │\n",
       "│           ┆ d26496e78 ┆ 13a2c7b22 ┆ a64a03686 ┆   ┆           ┆          ┆           ┆           │\n",
       "│           ┆ 192ca5846 ┆ 70223a226 ┆ ef9e1c71f ┆   ┆           ┆          ┆           ┆           │\n",
       "│           ┆ a3db1…    ┆ 57261…    ┆ 50f40…    ┆   ┆           ┆          ┆           ┆           │\n",
       "│ 29753896  ┆ 0x1f36123 ┆ 0x6461746 ┆ 0xb92ec32 ┆ … ┆ 15        ┆ null     ┆ 6.0000e12 ┆ 4.0000e-7 │\n",
       "│           ┆ 770134251 ┆ 13a2c7b22 ┆ 80324526d ┆   ┆           ┆          ┆           ┆           │\n",
       "│           ┆ 3804baa98 ┆ 70223a226 ┆ cc2366e32 ┆   ┆           ┆          ┆           ┆           │\n",
       "│           ┆ 5f15c…    ┆ 57261…    ┆ 73fad…    ┆   ┆           ┆          ┆           ┆           │\n",
       "│ 29791150  ┆ 0x8412b0c ┆ 0x6461746 ┆ 0x110b8b6 ┆ … ┆ 14        ┆ null     ┆ 2.0000e14 ┆ 0.000014  │\n",
       "│           ┆ 2ca4afb1e ┆ 13a2c7b22 ┆ 717c4da32 ┆   ┆           ┆          ┆           ┆           │\n",
       "│           ┆ 39b76f8e7 ┆ 70223a226 ┆ d86a8d3ef ┆   ┆           ┆          ┆           ┆           │\n",
       "│           ┆ 249c0…    ┆ 57261…    ┆ 78964…    ┆   ┆           ┆          ┆           ┆           │\n",
       "│ 29754661  ┆ 0x4c72611 ┆ 0x6461746 ┆ 0xc0d8617 ┆ … ┆ 5         ┆ null     ┆ 1.0000e12 ┆ 2.0000e-7 │\n",
       "│           ┆ e53537fc2 ┆ 13a2c7b22 ┆ 51bc0de2c ┆   ┆           ┆          ┆           ┆           │\n",
       "│           ┆ 2dc7ee1ca ┆ 70223a226 ┆ d0197ac22 ┆   ┆           ┆          ┆           ┆           │\n",
       "│           ┆ 6e2ec…    ┆ 57261…    ┆ d1081…    ┆   ┆           ┆          ┆           ┆           │\n",
       "└───────────┴───────────┴───────────┴───────────┴───┴───────────┴──────────┴───────────┴───────────┘"
      ]
     },
     "execution_count": 42,
     "metadata": {},
     "output_type": "execute_result"
    }
   ],
   "source": [
    "data = data.with_columns((pl.col('price_1token')/1e18).alias('price_1token'))\n",
    "data"
   ]
  },
  {
   "cell_type": "code",
   "execution_count": 43,
   "metadata": {},
   "outputs": [],
   "source": [
    "#data_f = data.filter((pl.col('price_1token')>0.000001) & (pl.col('price_1token').is_not_nan()))\n",
    "#data_f\n",
    "\n",
    "data_f = data"
   ]
  },
  {
   "cell_type": "code",
   "execution_count": 57,
   "metadata": {},
   "outputs": [
    {
     "data": {
      "text/plain": [
       "'0xd1e41a2cf98587102209d8a92988e5275810e8641693d113b9621f69cdfc32ef'"
      ]
     },
     "execution_count": 57,
     "metadata": {},
     "output_type": "execute_result"
    }
   ],
   "source": [
    "data_f['tx_hash'][5]"
   ]
  },
  {
   "cell_type": "code",
   "execution_count": 45,
   "metadata": {},
   "outputs": [],
   "source": [
    "data_f = data_f.with_columns((pl.col('price_1token')*4000).alias('price_1token_USD'))\n"
   ]
  },
  {
   "cell_type": "markdown",
   "metadata": {},
   "source": [
    "data_f = data.filter((pl.col('price_1token')>0.000001) & (pl.col('price_1token').is_not_nan()))\n"
   ]
  },
  {
   "cell_type": "code",
   "execution_count": 184,
   "metadata": {},
   "outputs": [
    {
     "data": {
      "text/html": [
       "<div><style>\n",
       ".dataframe > thead > tr,\n",
       ".dataframe > tbody > tr {\n",
       "  text-align: right;\n",
       "  white-space: pre-wrap;\n",
       "}\n",
       "</style>\n",
       "<small>shape: (9, 2)</small><table border=\"1\" class=\"dataframe\"><thead><tr><th>statistic</th><th>value</th></tr><tr><td>str</td><td>f64</td></tr></thead><tbody><tr><td>&quot;count&quot;</td><td>1148.0</td></tr><tr><td>&quot;null_count&quot;</td><td>0.0</td></tr><tr><td>&quot;mean&quot;</td><td>NaN</td></tr><tr><td>&quot;std&quot;</td><td>NaN</td></tr><tr><td>&quot;min&quot;</td><td>0.0</td></tr><tr><td>&quot;25%&quot;</td><td>0.002</td></tr><tr><td>&quot;50%&quot;</td><td>0.0324</td></tr><tr><td>&quot;75%&quot;</td><td>0.054936</td></tr><tr><td>&quot;max&quot;</td><td>NaN</td></tr></tbody></table></div>"
      ],
      "text/plain": [
       "shape: (9, 2)\n",
       "┌────────────┬──────────┐\n",
       "│ statistic  ┆ value    │\n",
       "│ ---        ┆ ---      │\n",
       "│ str        ┆ f64      │\n",
       "╞════════════╪══════════╡\n",
       "│ count      ┆ 1148.0   │\n",
       "│ null_count ┆ 0.0      │\n",
       "│ mean       ┆ NaN      │\n",
       "│ std        ┆ NaN      │\n",
       "│ min        ┆ 0.0      │\n",
       "│ 25%        ┆ 0.002    │\n",
       "│ 50%        ┆ 0.0324   │\n",
       "│ 75%        ┆ 0.054936 │\n",
       "│ max        ┆ NaN      │\n",
       "└────────────┴──────────┘"
      ]
     },
     "execution_count": 184,
     "metadata": {},
     "output_type": "execute_result"
    }
   ],
   "source": [
    "data_f['price_1token_USD'].describe()"
   ]
  },
  {
   "cell_type": "code",
   "execution_count": 118,
   "metadata": {},
   "outputs": [
    {
     "data": {
      "application/vnd.plotly.v1+json": {
       "config": {
        "plotlyServerURL": "https://plot.ly"
       },
       "data": [
        {
         "mode": "markers",
         "name": "Price",
         "type": "scatter",
         "x": [
          "2024-01-18T18:14:06.000000",
          "2023-12-31T18:57:13.000000",
          "2023-12-31T21:41:35.000000",
          "2023-12-31T19:55:03.000000",
          "2023-12-31T20:04:28.000000",
          "2023-12-31T20:21:56.000000",
          "2023-12-31T21:44:33.000000",
          "2023-12-31T21:45:58.000000",
          "2024-01-01T19:55:45.000000",
          "2023-12-31T21:46:25.000000",
          "2024-01-01T19:55:11.000000",
          "2023-12-31T19:38:43.000000",
          "2024-01-01T15:27:22.000000",
          "2024-01-01T19:55:23.000000",
          "2023-12-31T20:45:43.000000",
          "2023-12-31T21:33:05.000000",
          "2023-12-31T21:39:18.000000",
          "2023-12-31T21:46:01.000000",
          "2023-12-31T21:46:06.000000",
          "2024-01-01T15:27:09.000000",
          "2024-01-01T14:02:32.000000",
          "2024-01-01T15:31:51.000000",
          "2024-01-01T15:30:55.000000",
          "2024-01-01T18:39:16.000000",
          "2024-01-01T18:35:31.000000",
          "2024-01-01T18:20:42.000000",
          "2024-01-01T18:18:19.000000",
          "2024-01-01T18:33:50.000000",
          "2024-01-01T18:33:52.000000",
          "2024-01-05T09:51:57.000000",
          "2024-01-02T20:24:27.000000",
          "2024-01-02T23:16:37.000000",
          "2024-01-02T16:56:11.000000",
          "2024-01-03T00:36:22.000000",
          "2024-01-19T18:16:08.000000",
          "2024-01-02T20:35:45.000000",
          "2024-01-02T20:29:13.000000",
          "2024-01-02T23:03:47.000000",
          "2024-01-02T23:31:42.000000",
          "2024-01-03T00:36:01.000000",
          "2024-01-05T09:47:04.000000",
          "2024-01-03T10:45:59.000000",
          "2024-01-05T09:47:21.000000",
          "2024-01-05T09:51:42.000000",
          "2024-01-03T12:19:00.000000",
          "2024-01-03T12:18:09.000000",
          "2024-01-03T12:16:09.000000",
          "2024-01-03T12:56:57.000000",
          "2024-01-05T09:46:49.000000",
          "2024-01-05T09:46:39.000000",
          "2024-01-05T09:46:18.000000",
          "2024-01-15T15:08:55.000000",
          "2024-01-18T17:54:52.000000",
          "2024-01-18T17:32:17.000000",
          "2024-01-19T18:12:59.000000",
          "2024-01-18T18:05:01.000000",
          "2024-01-19T18:04:19.000000",
          "2024-01-19T08:24:39.000000",
          "2024-01-19T18:01:33.000000",
          "2024-01-19T17:01:26.000000",
          "2024-01-19T18:04:16.000000",
          "2024-01-19T18:14:05.000000",
          "2024-01-19T18:16:50.000000",
          "2024-01-19T18:07:59.000000",
          "2024-01-19T18:09:35.000000",
          "2024-01-19T18:14:32.000000",
          "2024-01-19T18:12:37.000000",
          "2024-01-19T18:15:17.000000",
          "2024-01-19T18:15:17.000000",
          "2024-01-19T18:18:22.000000",
          "2024-01-19T18:20:07.000000",
          "2024-01-19T18:22:22.000000",
          "2024-01-24T15:10:42.000000",
          "2024-01-19T19:02:45.000000",
          "2024-01-19T18:22:54.000000",
          "2024-01-28T09:33:54.000000",
          "2024-01-19T18:26:57.000000",
          "2024-01-19T18:26:54.000000",
          "2024-01-19T18:27:01.000000",
          "2024-01-19T18:28:49.000000",
          "2024-01-19T18:28:51.000000",
          "2024-01-19T18:30:47.000000",
          "2024-01-19T18:30:22.000000",
          "2024-01-19T18:30:30.000000",
          "2024-01-19T18:31:01.000000",
          "2024-01-19T18:31:04.000000",
          "2024-01-19T18:31:08.000000",
          "2024-01-19T18:32:10.000000",
          "2024-01-19T18:32:18.000000",
          "2024-01-19T18:32:19.000000",
          "2024-01-19T19:02:55.000000",
          "2024-03-12T02:03:19.000000",
          "2024-01-19T18:37:58.000000",
          "2024-01-19T18:38:02.000000",
          "2024-01-19T19:00:50.000000",
          "2024-02-18T06:55:18.000000",
          "2024-01-19T18:49:36.000000",
          "2024-01-19T19:06:38.000000",
          "2024-01-19T19:02:44.000000",
          "2024-01-19T18:59:34.000000",
          "2024-01-19T19:15:36.000000",
          "2024-01-19T19:04:04.000000",
          "2024-01-19T19:06:45.000000",
          "2024-01-19T19:06:49.000000",
          "2024-01-19T19:08:52.000000",
          "2024-01-19T19:14:39.000000",
          "2024-01-19T19:14:45.000000",
          "2024-01-19T19:17:11.000000",
          "2024-01-19T19:17:13.000000",
          "2024-01-19T19:58:55.000000",
          "2024-01-19T19:19:36.000000",
          "2024-01-19T19:19:37.000000",
          "2024-01-19T19:19:42.000000",
          "2024-01-19T19:23:30.000000",
          "2024-01-19T19:23:59.000000",
          "2024-01-19T19:33:28.000000",
          "2024-01-19T19:59:49.000000",
          "2024-01-19T19:30:30.000000",
          "2024-01-19T19:30:32.000000",
          "2024-01-24T13:43:19.000000",
          "2024-01-19T19:36:10.000000",
          "2024-01-19T19:36:12.000000",
          "2024-01-19T19:36:14.000000",
          "2024-01-19T19:36:22.000000",
          "2024-01-19T19:36:59.000000",
          "2024-01-19T19:43:20.000000",
          "2024-01-19T19:45:32.000000",
          "2024-01-19T20:06:05.000000",
          "2024-01-19T19:48:35.000000",
          "2024-01-19T20:08:19.000000",
          "2024-01-19T19:53:15.000000",
          "2024-01-19T20:17:48.000000",
          "2024-01-19T19:57:09.000000",
          "2024-01-19T19:59:09.000000",
          "2024-01-19T19:59:14.000000",
          "2024-01-19T20:32:15.000000",
          "2024-01-19T20:31:52.000000",
          "2024-01-19T20:36:37.000000",
          "2024-01-19T20:36:43.000000",
          "2024-01-19T21:18:49.000000",
          "2024-01-19T21:25:21.000000",
          "2024-01-19T22:12:43.000000",
          "2024-01-19T22:12:43.000000",
          "2024-01-19T22:30:24.000000",
          "2024-01-19T23:05:19.000000",
          "2024-01-19T23:26:16.000000",
          "2024-01-20T00:09:00.000000",
          "2024-01-19T23:44:56.000000",
          "2024-01-20T00:01:35.000000",
          "2024-01-22T07:52:15.000000",
          "2024-01-20T00:12:53.000000",
          "2024-01-20T00:16:30.000000",
          "2024-01-20T00:16:36.000000",
          "2024-01-20T00:17:15.000000",
          "2024-01-20T00:24:46.000000",
          "2024-01-20T00:24:57.000000",
          "2024-01-20T00:26:20.000000",
          "2024-01-20T00:35:47.000000",
          "2024-01-20T00:35:48.000000",
          "2024-01-20T00:40:46.000000",
          "2024-01-20T00:48:34.000000",
          "2024-01-20T01:06:22.000000",
          "2024-01-20T01:09:53.000000",
          "2024-01-20T01:10:07.000000",
          "2024-01-20T01:14:34.000000",
          "2024-01-20T01:11:38.000000",
          "2024-01-20T01:13:40.000000",
          "2024-01-20T01:16:30.000000",
          "2024-01-28T15:17:51.000000",
          "2024-01-20T01:38:25.000000",
          "2024-01-20T01:53:12.000000",
          "2024-01-20T02:20:25.000000",
          "2024-01-20T02:25:34.000000",
          "2024-01-20T02:25:38.000000",
          "2024-01-20T02:25:39.000000",
          "2024-01-20T02:33:29.000000",
          "2024-01-20T02:40:32.000000",
          "2024-01-20T02:40:35.000000",
          "2024-01-20T02:40:35.000000",
          "2024-01-20T02:40:46.000000",
          "2024-01-20T02:43:30.000000",
          "2024-01-20T03:15:23.000000",
          "2024-01-20T03:06:45.000000",
          "2024-01-20T03:06:48.000000",
          "2024-01-20T03:17:02.000000",
          "2024-01-20T03:07:03.000000",
          "2024-01-20T03:07:07.000000",
          "2024-01-20T03:13:25.000000",
          "2024-01-20T03:13:33.000000",
          "2024-01-20T03:55:35.000000",
          "2024-01-20T03:55:44.000000",
          "2024-01-20T04:04:16.000000",
          "2024-01-20T04:08:16.000000",
          "2024-01-20T04:10:37.000000",
          "2024-01-20T04:10:10.000000",
          "2024-01-20T04:11:22.000000",
          "2024-01-20T04:11:07.000000",
          "2024-01-22T09:05:32.000000",
          "2024-01-20T05:25:12.000000",
          "2024-01-20T10:19:54.000000",
          "2024-01-20T05:25:41.000000",
          "2024-01-20T05:15:11.000000",
          "2024-01-20T05:16:55.000000",
          "2024-01-20T05:42:39.000000",
          "2024-01-20T05:42:43.000000",
          "2024-01-20T05:56:27.000000",
          "2024-01-20T05:57:42.000000",
          "2024-01-20T08:55:02.000000",
          "2024-01-21T23:49:35.000000",
          "2024-01-20T07:29:01.000000",
          "2024-01-20T07:29:10.000000",
          "2024-01-20T07:54:06.000000",
          "2024-01-20T08:03:17.000000",
          "2024-01-20T08:28:54.000000",
          "2024-01-20T08:38:04.000000",
          "2024-01-20T08:42:15.000000",
          "2024-01-20T09:59:45.000000",
          "2024-01-20T10:00:09.000000",
          "2024-01-20T09:59:58.000000",
          "2024-01-20T09:57:19.000000",
          "2024-01-20T09:37:16.000000",
          "2024-01-20T09:46:21.000000",
          "2024-01-20T09:46:25.000000",
          "2024-01-20T10:00:59.000000",
          "2024-01-20T10:12:57.000000",
          "2024-01-20T10:12:59.000000",
          "2024-01-20T10:35:15.000000",
          "2024-01-20T11:12:50.000000",
          "2024-01-20T11:06:08.000000",
          "2024-01-20T11:21:37.000000",
          "2024-01-20T11:21:47.000000",
          "2024-01-20T11:21:49.000000",
          "2024-01-20T21:28:35.000000",
          "2024-01-20T12:49:05.000000",
          "2024-01-20T12:56:30.000000",
          "2024-01-20T13:50:19.000000",
          "2024-01-20T13:48:34.000000",
          "2024-01-20T14:33:14.000000",
          "2024-01-20T15:04:43.000000",
          "2024-01-20T16:02:11.000000",
          "2024-01-20T15:47:10.000000",
          "2024-01-20T19:39:03.000000",
          "2024-01-20T19:14:30.000000",
          "2024-01-20T18:48:00.000000",
          "2024-01-20T18:47:48.000000",
          "2024-01-20T18:48:12.000000",
          "2024-01-20T18:48:23.000000",
          "2024-01-20T18:49:24.000000",
          "2024-01-20T18:46:29.000000",
          "2024-01-20T18:46:18.000000",
          "2024-01-20T18:47:13.000000",
          "2024-01-20T18:55:41.000000",
          "2024-01-20T22:06:38.000000",
          "2024-01-20T22:15:41.000000",
          "2024-01-20T19:26:28.000000",
          "2024-01-20T19:26:05.000000",
          "2024-01-20T19:50:13.000000",
          "2024-01-20T21:08:56.000000",
          "2024-01-20T20:08:58.000000",
          "2024-01-20T20:11:52.000000",
          "2024-01-20T20:15:38.000000",
          "2024-01-20T20:20:12.000000",
          "2024-01-20T20:22:06.000000",
          "2024-01-20T20:26:41.000000",
          "2024-01-20T20:28:54.000000",
          "2024-01-20T20:31:54.000000",
          "2024-01-20T20:43:12.000000",
          "2024-01-20T20:45:16.000000",
          "2024-01-20T21:10:00.000000",
          "2024-01-20T21:15:28.000000",
          "2024-01-20T21:15:45.000000",
          "2024-01-20T21:47:40.000000",
          "2024-01-20T21:17:45.000000",
          "2024-01-20T21:20:36.000000",
          "2024-01-20T21:22:26.000000",
          "2024-01-20T21:24:08.000000",
          "2024-01-20T21:28:20.000000",
          "2024-01-20T21:32:03.000000",
          "2024-01-20T21:39:04.000000",
          "2024-01-20T21:42:46.000000",
          "2024-01-20T21:43:59.000000",
          "2024-01-20T21:46:49.000000",
          "2024-01-20T21:49:04.000000",
          "2024-01-20T21:51:37.000000",
          "2024-01-20T22:01:12.000000",
          "2024-01-20T22:03:47.000000",
          "2024-01-20T22:28:08.000000",
          "2024-01-20T22:36:28.000000",
          "2024-01-20T22:34:16.000000",
          "2024-01-20T22:34:22.000000",
          "2024-01-20T22:42:16.000000",
          "2024-01-20T22:45:40.000000",
          "2024-01-20T23:26:12.000000",
          "2024-01-20T22:51:27.000000",
          "2024-01-20T22:54:22.000000",
          "2024-01-20T22:58:37.000000",
          "2024-01-20T23:01:07.000000",
          "2024-01-20T23:02:37.000000",
          "2024-01-20T23:04:17.000000",
          "2024-01-20T23:18:04.000000",
          "2024-01-20T23:19:43.000000",
          "2024-01-20T23:25:51.000000",
          "2024-01-20T23:21:25.000000",
          "2024-01-20T23:23:20.000000",
          "2024-01-20T23:24:43.000000",
          "2024-01-20T23:33:22.000000",
          "2024-01-20T23:33:30.000000",
          "2024-01-21T02:24:11.000000",
          "2024-01-22T07:47:59.000000",
          "2024-01-20T23:42:23.000000",
          "2024-01-20T23:44:16.000000",
          "2024-01-20T23:46:09.000000",
          "2024-01-20T23:54:18.000000",
          "2024-01-20T23:49:44.000000",
          "2024-01-20T23:58:43.000000",
          "2024-01-20T23:58:18.000000",
          "2024-01-21T00:00:33.000000",
          "2024-01-21T00:03:05.000000",
          "2024-01-21T00:04:53.000000",
          "2024-01-21T00:06:24.000000",
          "2024-01-21T00:09:14.000000",
          "2024-01-21T02:48:36.000000",
          "2024-01-21T00:10:26.000000",
          "2024-01-21T00:14:04.000000",
          "2024-01-21T00:15:14.000000",
          "2024-01-21T00:17:46.000000",
          "2024-01-21T00:19:03.000000",
          "2024-01-21T00:21:29.000000",
          "2024-01-21T00:24:04.000000",
          "2024-01-21T00:25:35.000000",
          "2024-01-21T00:27:32.000000",
          "2024-01-21T00:29:43.000000",
          "2024-01-21T00:43:59.000000",
          "2024-01-21T00:45:32.000000",
          "2024-01-21T00:46:46.000000",
          "2024-01-21T00:48:02.000000",
          "2024-01-21T00:49:29.000000",
          "2024-02-03T13:11:19.000000",
          "2024-01-25T17:35:56.000000",
          "2024-01-21T04:56:36.000000",
          "2024-01-21T04:43:20.000000",
          "2024-01-21T09:04:41.000000",
          "2024-01-21T05:43:06.000000",
          "2024-01-21T05:44:18.000000",
          "2024-01-21T06:10:14.000000",
          "2024-01-22T07:51:00.000000",
          "2024-01-22T07:50:50.000000",
          "2024-01-22T07:50:36.000000",
          "2024-01-22T07:49:26.000000",
          "2024-01-22T07:48:33.000000",
          "2024-01-22T07:48:09.000000",
          "2024-01-22T07:47:08.000000",
          "2024-01-21T09:32:43.000000",
          "2024-01-21T12:36:36.000000",
          "2024-01-21T10:26:46.000000",
          "2024-01-22T07:45:11.000000",
          "2024-01-21T12:09:53.000000",
          "2024-01-21T12:16:51.000000",
          "2024-01-21T12:19:12.000000",
          "2024-01-21T12:23:01.000000",
          "2024-01-21T12:21:46.000000",
          "2024-01-21T12:24:58.000000",
          "2024-01-22T07:47:37.000000",
          "2024-01-21T20:54:10.000000",
          "2024-01-21T16:37:46.000000",
          "2024-01-22T04:29:59.000000",
          "2024-01-21T17:15:59.000000",
          "2024-01-21T20:52:58.000000",
          "2024-01-21T17:40:43.000000",
          "2024-01-21T17:42:43.000000",
          "2024-01-21T17:43:48.000000",
          "2024-01-21T19:27:52.000000",
          "2024-01-21T19:27:27.000000",
          "2024-01-21T18:35:06.000000",
          "2024-01-21T18:38:19.000000",
          "2024-01-21T18:56:13.000000",
          "2024-01-21T20:53:28.000000",
          "2024-01-22T07:46:50.000000",
          "2024-01-21T23:32:49.000000",
          "2024-01-21T22:00:32.000000",
          "2024-01-21T21:47:14.000000",
          "2024-01-21T22:21:11.000000",
          "2024-01-21T22:23:32.000000",
          "2024-01-21T23:22:16.000000",
          "2024-01-22T07:45:39.000000",
          "2024-01-22T00:57:03.000000",
          "2024-01-30T20:40:18.000000",
          "2024-01-28T15:03:20.000000",
          "2024-01-22T00:53:20.000000",
          "2024-01-22T07:44:48.000000",
          "2024-01-22T02:18:34.000000",
          "2024-01-22T07:45:00.000000",
          "2024-01-22T03:17:42.000000",
          "2024-01-22T03:17:51.000000",
          "2024-01-22T07:44:37.000000",
          "2024-01-22T07:44:24.000000",
          "2024-01-22T07:44:12.000000",
          "2024-01-22T07:42:56.000000",
          "2024-01-22T07:43:43.000000",
          "2024-01-22T07:41:44.000000",
          "2024-01-22T07:42:41.000000",
          "2024-01-22T07:42:15.000000",
          "2024-01-22T06:22:35.000000",
          "2024-01-22T06:30:30.000000",
          "2024-01-22T07:41:07.000000",
          "2024-01-22T07:43:06.000000",
          "2024-01-22T07:52:58.000000",
          "2024-01-22T08:05:01.000000",
          "2024-01-22T08:05:40.000000",
          "2024-01-22T08:05:53.000000",
          "2024-01-22T09:03:34.000000",
          "2024-01-22T13:59:38.000000",
          "2024-01-22T10:35:09.000000",
          "2024-01-22T11:22:29.000000",
          "2024-01-22T14:01:26.000000",
          "2024-01-22T13:29:28.000000",
          "2024-01-22T16:08:29.000000",
          "2024-01-22T13:59:21.000000",
          "2024-01-22T12:43:06.000000",
          "2024-01-22T12:53:48.000000",
          "2024-01-22T12:56:24.000000",
          "2024-01-22T12:56:27.000000",
          "2024-01-22T12:56:31.000000",
          "2024-01-22T13:00:57.000000",
          "2024-01-22T16:37:21.000000",
          "2024-01-22T14:00:20.000000",
          "2024-01-22T14:00:05.000000",
          "2024-01-22T13:39:13.000000",
          "2024-01-22T14:21:42.000000",
          "2024-01-22T15:12:42.000000",
          "2024-01-22T13:47:55.000000",
          "2024-01-22T13:54:28.000000",
          "2024-01-22T14:22:03.000000",
          "2024-01-22T20:58:30.000000",
          "2024-01-22T21:00:26.000000",
          "2024-01-22T20:56:53.000000",
          "2024-01-22T19:16:13.000000",
          "2024-01-23T01:52:13.000000",
          "2024-01-23T01:54:35.000000",
          "2024-01-23T01:54:47.000000",
          "2024-01-22T20:57:41.000000",
          "2024-01-23T01:54:03.000000",
          "2024-01-23T01:55:01.000000",
          "2024-01-29T10:10:26.000000",
          "2024-01-23T01:54:13.000000",
          "2024-01-24T13:09:19.000000",
          "2024-01-23T01:44:02.000000",
          "2024-01-23T00:29:01.000000",
          "2024-01-23T01:31:20.000000",
          "2024-01-23T09:50:13.000000",
          "2024-01-23T03:07:27.000000",
          "2024-01-23T03:08:08.000000",
          "2024-01-23T03:08:48.000000",
          "2024-01-23T03:08:52.000000",
          "2024-01-23T03:09:10.000000",
          "2024-01-23T03:09:42.000000",
          "2024-01-23T03:09:25.000000",
          "2024-01-23T03:09:31.000000",
          "2024-01-23T03:09:11.000000",
          "2024-01-23T03:09:11.000000",
          "2024-01-24T13:03:36.000000",
          "2024-01-23T22:15:50.000000",
          "2024-01-23T22:15:53.000000",
          "2024-01-24T06:09:18.000000",
          "2024-01-24T10:04:56.000000",
          "2024-01-24T00:16:46.000000",
          "2024-01-24T00:06:35.000000",
          "2024-01-24T01:04:41.000000",
          "2024-01-24T10:36:41.000000",
          "2024-01-24T11:49:08.000000",
          "2024-01-24T14:30:45.000000",
          "2024-01-24T14:33:23.000000",
          "2024-02-05T19:36:27.000000",
          "2024-01-24T18:52:28.000000",
          "2024-01-25T08:15:28.000000",
          "2024-01-25T08:56:47.000000",
          "2024-01-25T00:33:53.000000",
          "2024-01-25T06:35:05.000000",
          "2024-01-28T06:45:47.000000",
          "2024-01-25T08:14:07.000000",
          "2024-01-25T15:11:49.000000",
          "2024-01-26T07:18:26.000000",
          "2024-01-25T15:27:47.000000",
          "2024-01-26T01:14:48.000000",
          "2024-01-28T01:24:40.000000",
          "2024-01-26T02:27:38.000000",
          "2024-01-26T07:20:08.000000",
          "2024-01-26T07:19:17.000000",
          "2024-01-26T05:08:47.000000",
          "2024-01-26T17:32:21.000000",
          "2024-01-26T13:32:45.000000",
          "2024-01-26T16:04:26.000000",
          "2024-01-26T13:34:03.000000",
          "2024-01-26T08:34:05.000000",
          "2024-01-26T13:42:48.000000",
          "2024-01-26T16:03:09.000000",
          "2024-01-27T01:19:23.000000",
          "2024-01-27T02:45:36.000000",
          "2024-01-27T02:52:46.000000",
          "2024-01-27T04:10:56.000000",
          "2024-01-27T04:13:28.000000",
          "2024-01-27T04:13:35.000000",
          "2024-01-27T11:06:15.000000",
          "2024-01-27T07:12:31.000000",
          "2024-01-27T07:15:36.000000",
          "2024-01-27T10:02:34.000000",
          "2024-01-27T10:30:05.000000",
          "2024-01-28T06:45:35.000000",
          "2024-01-27T10:58:39.000000",
          "2024-01-27T10:58:46.000000",
          "2024-01-27T13:58:20.000000",
          "2024-01-27T21:08:32.000000",
          "2024-01-27T21:01:18.000000",
          "2024-01-27T23:24:32.000000",
          "2024-01-28T06:46:03.000000",
          "2024-01-28T06:45:03.000000",
          "2024-01-28T06:44:53.000000",
          "2024-01-28T06:44:43.000000",
          "2024-01-28T06:42:40.000000",
          "2024-01-28T06:51:43.000000",
          "2024-01-28T07:07:18.000000",
          "2024-01-28T12:07:11.000000",
          "2024-01-28T09:40:26.000000",
          "2024-01-28T11:16:10.000000",
          "2024-01-28T12:37:56.000000",
          "2024-01-29T01:12:36.000000",
          "2024-01-28T21:47:38.000000",
          "2024-02-03T11:27:21.000000",
          "2024-01-29T00:44:39.000000",
          "2024-01-29T01:43:56.000000",
          "2024-01-29T01:15:17.000000",
          "2024-01-29T05:52:11.000000",
          "2024-02-20T17:48:59.000000",
          "2024-01-29T21:46:20.000000",
          "2024-01-29T11:11:25.000000",
          "2024-01-29T21:45:21.000000",
          "2024-01-30T00:05:29.000000",
          "2024-01-30T13:14:34.000000",
          "2024-01-30T03:45:20.000000",
          "2024-01-30T03:30:53.000000",
          "2024-01-30T20:41:32.000000",
          "2024-01-30T10:04:01.000000",
          "2024-01-30T20:45:37.000000",
          "2024-01-30T23:54:34.000000",
          "2024-01-30T13:13:42.000000",
          "2024-01-30T13:12:23.000000",
          "2024-01-30T13:10:44.000000",
          "2024-01-31T00:15:55.000000",
          "2024-01-30T13:11:25.000000",
          "2024-01-30T13:09:59.000000",
          "2024-01-30T23:56:52.000000",
          "2024-02-01T13:31:07.000000",
          "2024-01-30T14:18:40.000000",
          "2024-01-30T23:56:20.000000",
          "2024-01-30T23:55:39.000000",
          "2024-01-30T15:19:06.000000",
          "2024-01-30T23:55:14.000000",
          "2024-01-30T20:45:54.000000",
          "2024-02-15T22:22:31.000000",
          "2024-01-30T21:08:35.000000",
          "2024-01-30T23:54:13.000000",
          "2024-02-01T23:21:47.000000",
          "2024-02-01T13:32:02.000000",
          "2024-01-31T06:58:05.000000",
          "2024-01-31T05:34:58.000000",
          "2024-01-31T08:24:57.000000",
          "2024-01-31T08:24:18.000000",
          "2024-02-01T08:44:43.000000",
          "2024-02-01T08:44:15.000000",
          "2024-01-31T13:28:58.000000",
          "2024-01-31T09:24:40.000000",
          "2024-01-31T09:24:21.000000",
          "2024-01-31T09:26:21.000000",
          "2024-01-31T09:26:22.000000",
          "2024-02-01T19:22:10.000000",
          "2024-02-02T21:54:20.000000",
          "2024-02-03T03:04:07.000000",
          "2024-02-01T01:50:43.000000",
          "2024-02-03T03:03:16.000000",
          "2024-02-01T19:21:55.000000",
          "2024-02-03T02:52:21.000000",
          "2024-02-03T09:35:42.000000",
          "2024-02-03T02:51:56.000000",
          "2024-02-01T19:20:57.000000",
          "2024-02-03T02:52:45.000000",
          "2024-01-31T15:16:41.000000",
          "2024-02-02T21:54:09.000000",
          "2024-02-03T00:20:05.000000",
          "2024-02-01T19:20:16.000000",
          "2024-02-02T23:38:39.000000",
          "2024-02-01T08:50:03.000000",
          "2024-02-02T21:53:58.000000",
          "2024-02-02T21:55:07.000000",
          "2024-02-02T21:53:46.000000",
          "2024-02-02T10:21:23.000000",
          "2024-02-02T21:01:44.000000",
          "2024-02-02T02:13:16.000000",
          "2024-02-02T01:53:47.000000",
          "2024-01-31T20:09:30.000000",
          "2024-02-02T02:03:09.000000",
          "2024-02-02T01:41:40.000000",
          "2024-02-02T01:12:59.000000",
          "2024-02-02T00:58:43.000000",
          "2024-02-01T18:01:21.000000",
          "2024-02-01T19:19:56.000000",
          "2024-02-01T02:22:20.000000",
          "2024-02-01T01:49:09.000000",
          "2024-02-01T01:40:20.000000",
          "2024-01-31T15:15:17.000000",
          "2024-01-31T15:47:08.000000",
          "2024-01-31T15:54:29.000000",
          "2024-01-31T21:42:15.000000",
          "2024-02-05T23:57:37.000000",
          "2024-01-31T21:44:55.000000",
          "2024-02-01T00:56:19.000000",
          "2024-02-01T23:20:53.000000",
          "2024-02-01T13:40:19.000000",
          "2024-02-01T14:15:07.000000",
          "2024-02-01T14:51:09.000000",
          "2024-02-01T15:25:31.000000",
          "2024-02-05T15:20:31.000000",
          "2024-02-01T23:19:57.000000",
          "2024-02-05T02:00:33.000000",
          "2024-02-01T22:05:58.000000",
          "2024-02-02T08:55:52.000000",
          "2024-02-02T06:26:08.000000",
          "2024-02-02T14:25:15.000000",
          "2024-02-04T14:05:31.000000",
          "2024-02-03T09:35:16.000000",
          "2024-02-03T09:25:52.000000",
          "2024-02-03T09:28:33.000000",
          "2024-02-03T09:31:47.000000",
          "2024-02-03T11:41:05.000000",
          "2024-02-03T11:45:46.000000",
          "2024-02-03T11:51:07.000000",
          "2024-02-03T11:55:38.000000",
          "2024-02-03T11:59:43.000000",
          "2024-02-03T12:10:04.000000",
          "2024-02-03T12:19:29.000000",
          "2024-02-03T12:23:50.000000",
          "2024-02-03T12:39:43.000000",
          "2024-02-03T12:48:06.000000",
          "2024-02-03T12:52:15.000000",
          "2024-02-03T12:56:43.000000",
          "2024-02-03T12:58:50.000000",
          "2024-02-03T13:02:52.000000",
          "2024-02-03T13:06:37.000000",
          "2024-02-03T13:08:02.000000",
          "2024-02-03T13:08:03.000000",
          "2024-02-03T13:14:10.000000",
          "2024-02-03T13:15:55.000000",
          "2024-02-03T13:18:38.000000",
          "2024-02-03T13:20:31.000000",
          "2024-02-03T13:41:22.000000",
          "2024-02-03T13:43:56.000000",
          "2024-02-03T13:48:39.000000",
          "2024-02-03T14:10:45.000000",
          "2024-02-03T14:12:26.000000",
          "2024-02-03T14:18:46.000000",
          "2024-02-03T14:20:04.000000",
          "2024-02-03T14:21:25.000000",
          "2024-02-03T14:23:07.000000",
          "2024-02-03T14:23:19.000000",
          "2024-02-03T14:25:31.000000",
          "2024-02-03T14:29:43.000000",
          "2024-02-03T14:31:30.000000",
          "2024-02-03T14:34:09.000000",
          "2024-02-03T14:36:08.000000",
          "2024-02-03T14:36:13.000000",
          "2024-02-03T16:51:30.000000",
          "2024-02-04T18:45:03.000000",
          "2024-02-03T22:03:51.000000",
          "2024-02-03T22:08:58.000000",
          "2024-02-03T22:11:14.000000",
          "2024-02-03T23:31:29.000000",
          "2024-02-03T23:35:17.000000",
          "2024-02-03T23:45:04.000000",
          "2024-02-03T23:49:11.000000",
          "2024-02-03T23:52:11.000000",
          "2024-02-03T23:56:01.000000",
          "2024-02-03T23:58:53.000000",
          "2024-02-04T00:02:24.000000",
          "2024-02-04T00:04:41.000000",
          "2024-02-04T00:06:38.000000",
          "2024-02-04T00:12:16.000000",
          "2024-02-04T00:13:42.000000",
          "2024-02-04T00:18:12.000000",
          "2024-02-04T01:05:28.000000",
          "2024-02-04T01:07:33.000000",
          "2024-02-04T01:11:56.000000",
          "2024-02-04T01:14:09.000000",
          "2024-02-04T01:15:40.000000",
          "2024-02-04T01:43:59.000000",
          "2024-02-04T06:22:34.000000",
          "2024-02-05T00:18:43.000000",
          "2024-02-04T18:18:40.000000",
          "2024-02-04T14:31:09.000000",
          "2024-02-04T18:17:10.000000",
          "2024-02-04T18:18:53.000000",
          "2024-02-04T16:23:16.000000",
          "2024-02-04T18:47:31.000000",
          "2024-02-05T00:21:26.000000",
          "2024-02-05T00:23:33.000000",
          "2024-02-05T00:25:53.000000",
          "2024-02-05T00:33:22.000000",
          "2024-02-05T00:35:12.000000",
          "2024-02-05T00:36:56.000000",
          "2024-02-05T00:40:36.000000",
          "2024-02-05T00:42:40.000000",
          "2024-02-05T00:45:29.000000",
          "2024-02-05T00:48:07.000000",
          "2024-02-05T01:17:15.000000",
          "2024-02-05T09:02:31.000000",
          "2024-02-05T06:28:34.000000",
          "2024-02-05T06:28:46.000000",
          "2024-02-05T09:37:49.000000",
          "2024-02-20T17:48:42.000000",
          "2024-02-20T17:48:34.000000",
          "2024-02-06T02:44:53.000000",
          "2024-02-06T04:29:48.000000",
          "2024-02-06T23:32:52.000000",
          "2024-02-20T17:48:26.000000",
          "2024-02-18T19:15:37.000000",
          "2024-02-20T17:48:20.000000",
          "2024-02-18T19:15:31.000000",
          "2024-02-20T17:48:12.000000",
          "2024-02-06T23:35:30.000000",
          "2024-02-06T23:39:25.000000",
          "2024-02-07T00:43:17.000000",
          "2024-02-08T00:04:53.000000",
          "2024-02-08T00:07:06.000000",
          "2024-02-08T00:12:13.000000",
          "2024-02-08T00:18:04.000000",
          "2024-02-08T00:26:51.000000",
          "2024-02-08T00:36:47.000000",
          "2024-02-10T20:45:19.000000",
          "2024-02-10T20:42:44.000000",
          "2024-02-09T11:39:57.000000",
          "2024-03-01T19:42:31.000000",
          "2024-03-08T12:21:08.000000",
          "2024-02-24T23:19:42.000000",
          "2024-02-20T02:06:24.000000",
          "2024-02-17T03:18:12.000000",
          "2024-02-20T02:23:23.000000",
          "2024-02-20T02:23:05.000000",
          "2024-03-12T14:08:26.000000",
          "2024-02-18T21:19:58.000000",
          "2024-02-20T07:14:50.000000",
          "2024-02-09T18:48:27.000000",
          "2024-02-20T01:22:13.000000",
          "2024-02-17T09:51:39.000000",
          "2024-02-19T14:35:10.000000",
          "2024-02-17T03:04:42.000000",
          "2024-02-16T10:04:44.000000",
          "2024-02-15T21:08:31.000000",
          "2024-02-09T18:53:15.000000",
          "2024-02-16T03:43:56.000000",
          "2024-02-09T18:46:08.000000",
          "2024-02-13T20:22:20.000000",
          "2024-02-10T16:44:56.000000",
          "2024-02-13T17:35:10.000000",
          "2024-02-10T16:44:29.000000",
          "2024-02-10T17:55:21.000000",
          "2024-02-11T00:20:56.000000",
          "2024-02-11T19:57:30.000000",
          "2024-03-04T17:45:37.000000",
          "2024-02-11T20:00:52.000000",
          "2024-02-11T01:58:45.000000",
          "2024-02-12T10:13:58.000000",
          "2024-02-25T21:52:56.000000",
          "2024-03-01T19:51:18.000000",
          "2024-02-11T19:57:57.000000",
          "2024-02-11T19:58:54.000000",
          "2024-02-11T19:56:12.000000",
          "2024-02-11T19:59:21.000000",
          "2024-02-11T19:55:28.000000",
          "2024-02-11T19:55:07.000000",
          "2024-02-11T19:54:37.000000",
          "2024-02-11T19:53:51.000000",
          "2024-02-11T19:53:17.000000",
          "2024-02-11T13:37:23.000000",
          "2024-02-11T19:52:18.000000",
          "2024-02-11T19:51:23.000000",
          "2024-02-12T23:08:55.000000",
          "2024-02-13T19:42:39.000000",
          "2024-02-12T23:11:11.000000",
          "2024-02-17T13:23:42.000000",
          "2024-02-12T23:07:46.000000",
          "2024-02-12T23:08:12.000000",
          "2024-02-12T23:08:33.000000",
          "2024-02-12T23:10:33.000000",
          "2024-02-12T23:07:03.000000",
          "2024-02-12T23:06:02.000000",
          "2024-02-12T23:10:02.000000",
          "2024-02-12T23:09:29.000000",
          "2024-02-12T19:18:33.000000",
          "2024-02-12T23:06:40.000000",
          "2024-02-13T17:15:45.000000",
          "2024-02-13T17:04:23.000000",
          "2024-02-18T19:15:20.000000",
          "2024-02-15T07:02:08.000000",
          "2024-02-14T03:24:05.000000",
          "2024-02-14T04:53:21.000000",
          "2024-02-14T14:12:26.000000",
          "2024-02-15T09:43:11.000000",
          "2024-02-15T00:35:50.000000",
          "2024-02-18T19:14:58.000000",
          "2024-02-15T21:34:11.000000",
          "2024-02-16T07:30:56.000000",
          "2024-02-18T19:15:10.000000",
          "2024-02-16T23:46:35.000000",
          "2024-02-16T23:55:41.000000",
          "2024-02-16T23:54:25.000000",
          "2024-02-16T23:56:39.000000",
          "2024-02-16T23:56:15.000000",
          "2024-02-16T23:54:57.000000",
          "2024-02-17T00:01:20.000000",
          "2024-02-17T00:00:59.000000",
          "2024-02-17T00:00:39.000000",
          "2024-02-18T06:56:17.000000",
          "2024-02-18T06:56:32.000000",
          "2024-02-18T06:56:46.000000",
          "2024-02-18T06:57:02.000000",
          "2024-02-18T06:57:17.000000",
          "2024-02-18T06:57:34.000000",
          "2024-02-18T06:57:48.000000",
          "2024-02-17T23:19:32.000000",
          "2024-02-17T23:15:11.000000",
          "2024-02-18T16:19:53.000000",
          "2024-02-18T19:20:22.000000",
          "2024-02-18T19:20:09.000000",
          "2024-02-18T06:58:06.000000",
          "2024-02-18T06:58:21.000000",
          "2024-02-18T04:07:26.000000",
          "2024-02-17T23:09:27.000000",
          "2024-02-17T23:09:13.000000",
          "2024-02-17T23:08:54.000000",
          "2024-02-17T23:08:38.000000",
          "2024-02-18T03:26:03.000000",
          "2024-02-17T22:54:59.000000",
          "2024-02-17T23:07:21.000000",
          "2024-02-21T03:32:22.000000",
          "2024-02-20T06:14:23.000000",
          "2024-02-20T07:19:47.000000",
          "2024-02-20T07:20:05.000000",
          "2024-02-19T01:33:29.000000",
          "2024-02-17T23:14:56.000000",
          "2024-02-17T23:15:24.000000",
          "2024-02-18T07:01:50.000000",
          "2024-02-18T19:14:51.000000",
          "2024-02-18T19:20:03.000000",
          "2024-02-19T14:08:31.000000",
          "2024-03-01T20:25:34.000000",
          "2024-02-29T23:24:45.000000",
          "2024-02-21T04:03:53.000000",
          "2024-02-20T17:48:50.000000",
          "2024-02-20T18:48:13.000000",
          "2024-02-20T18:48:33.000000",
          "2024-02-27T20:16:11.000000",
          "2024-02-21T09:06:59.000000",
          "2024-02-27T20:15:12.000000",
          "2024-02-26T06:55:25.000000",
          "2024-02-23T08:27:57.000000",
          "2024-02-24T16:05:13.000000",
          "2024-02-24T16:05:02.000000",
          "2024-02-25T15:30:25.000000",
          "2024-02-25T13:13:56.000000",
          "2024-02-29T22:53:35.000000",
          "2024-02-27T11:24:18.000000",
          "2024-03-23T11:51:40.000000",
          "2024-03-13T16:29:47.000000",
          "2024-03-21T22:27:56.000000",
          "2024-03-22T18:36:50.000000",
          "2024-03-12T16:25:45.000000",
          "2024-02-27T09:55:48.000000",
          "2024-02-27T09:55:31.000000",
          "2024-02-27T09:51:19.000000",
          "2024-02-27T09:57:14.000000",
          "2024-02-27T14:31:47.000000",
          "2024-02-27T15:09:32.000000",
          "2024-02-27T15:03:33.000000",
          "2024-02-27T15:03:15.000000",
          "2024-02-27T15:08:57.000000",
          "2024-02-27T15:02:56.000000",
          "2024-02-27T15:02:38.000000",
          "2024-02-27T15:02:21.000000",
          "2024-02-27T21:14:54.000000",
          "2024-02-27T21:57:09.000000",
          "2024-02-27T22:20:41.000000",
          "2024-02-28T11:46:05.000000",
          "2024-02-28T13:06:47.000000",
          "2024-02-28T13:07:05.000000",
          "2024-02-28T13:07:18.000000",
          "2024-02-28T13:07:35.000000",
          "2024-02-28T13:07:51.000000",
          "2024-02-28T13:05:09.000000",
          "2024-02-29T02:46:48.000000",
          "2024-03-03T23:08:07.000000",
          "2024-02-29T19:58:43.000000",
          "2024-02-29T22:07:56.000000",
          "2024-02-29T22:08:09.000000",
          "2024-02-29T22:42:04.000000",
          "2024-02-29T22:19:06.000000",
          "2024-03-09T05:18:25.000000",
          "2024-03-01T06:27:15.000000",
          "2024-03-01T06:27:30.000000",
          "2024-03-01T19:16:05.000000",
          "2024-03-01T14:16:12.000000",
          "2024-03-01T22:23:38.000000",
          "2024-03-12T05:27:31.000000",
          "2024-03-15T23:52:12.000000",
          "2024-03-09T00:06:25.000000",
          "2024-03-02T14:07:21.000000",
          "2024-03-02T14:09:02.000000",
          "2024-03-02T14:14:00.000000",
          "2024-03-02T17:01:52.000000",
          "2024-03-03T09:38:54.000000",
          "2024-03-02T20:25:25.000000",
          "2024-03-03T09:37:49.000000",
          "2024-03-04T09:32:33.000000",
          "2024-03-06T12:50:22.000000",
          "2024-03-04T09:40:23.000000",
          "2024-03-04T09:39:40.000000",
          "2024-03-04T09:39:09.000000",
          "2024-03-04T09:38:43.000000",
          "2024-03-14T22:00:49.000000",
          "2024-03-06T06:41:41.000000",
          "2024-03-06T06:41:17.000000",
          "2024-03-06T00:23:07.000000",
          "2024-03-06T00:29:36.000000",
          "2024-03-06T00:29:58.000000",
          "2024-03-06T00:29:11.000000",
          "2024-03-06T00:28:37.000000",
          "2024-03-06T00:28:14.000000",
          "2024-03-06T00:27:33.000000",
          "2024-03-12T05:31:43.000000",
          "2024-03-06T00:37:19.000000",
          "2024-03-06T00:35:26.000000",
          "2024-03-06T00:33:55.000000",
          "2024-03-06T00:33:31.000000",
          "2024-03-08T11:31:32.000000",
          "2024-03-08T21:44:44.000000",
          "2024-03-08T11:21:53.000000",
          "2024-03-07T13:25:40.000000",
          "2024-03-07T09:42:57.000000",
          "2024-03-08T06:31:16.000000",
          "2024-03-18T11:58:18.000000",
          "2024-03-09T03:00:19.000000",
          "2024-03-09T05:12:38.000000",
          "2024-03-10T12:31:50.000000",
          "2024-03-10T07:24:31.000000",
          "2024-03-21T23:55:15.000000",
          "2024-03-10T11:08:40.000000",
          "2024-03-10T11:08:29.000000",
          "2024-03-10T11:08:17.000000",
          "2024-03-10T11:07:53.000000",
          "2024-03-10T11:08:05.000000",
          "2024-03-10T12:30:26.000000",
          "2024-03-11T13:51:22.000000",
          "2024-03-11T15:50:40.000000",
          "2024-03-11T15:51:14.000000",
          "2024-03-11T15:14:43.000000",
          "2024-03-11T15:14:27.000000",
          "2024-03-11T15:13:28.000000",
          "2024-03-11T15:13:53.000000",
          "2024-03-11T18:37:58.000000",
          "2024-03-20T21:46:11.000000",
          "2024-03-12T04:09:31.000000",
          "2024-03-12T05:40:34.000000",
          "2024-03-21T22:38:32.000000",
          "2024-03-12T14:09:28.000000",
          "2024-03-12T06:42:58.000000",
          "2024-03-12T13:48:03.000000",
          "2024-03-12T11:57:40.000000",
          "2024-03-12T13:53:10.000000",
          "2024-03-12T13:53:33.000000",
          "2024-03-12T13:53:53.000000",
          "2024-03-12T13:55:02.000000",
          "2024-03-12T22:25:09.000000",
          "2024-03-15T04:42:45.000000",
          "2024-03-13T14:08:20.000000",
          "2024-03-14T15:47:27.000000",
          "2024-03-15T08:08:37.000000",
          "2024-03-15T13:24:09.000000",
          "2024-03-23T13:07:22.000000",
          "2024-03-22T09:23:49.000000",
          "2024-03-15T17:32:47.000000",
          "2024-03-16T02:52:21.000000",
          "2024-03-16T02:54:15.000000",
          "2024-03-16T06:31:15.000000",
          "2024-03-16T09:29:06.000000",
          "2024-03-16T10:13:04.000000",
          "2024-03-16T14:17:35.000000",
          "2024-03-16T14:17:52.000000",
          "2024-03-16T18:46:23.000000",
          "2024-03-18T05:05:33.000000",
          "2024-03-18T05:05:50.000000",
          "2024-03-16T23:59:27.000000",
          "2024-03-17T10:32:10.000000",
          "2024-03-19T02:45:59.000000",
          "2024-03-19T02:51:48.000000",
          "2024-03-19T08:20:08.000000",
          "2024-03-19T08:20:30.000000",
          "2024-03-19T08:20:46.000000",
          "2024-03-20T21:46:36.000000",
          "2024-03-20T21:46:46.000000",
          "2024-03-20T21:46:55.000000",
          "2024-03-20T21:47:04.000000",
          "2024-03-20T02:56:19.000000",
          "2024-03-22T19:04:59.000000",
          "2024-03-22T19:04:42.000000",
          "2024-03-22T19:04:26.000000",
          "2024-03-22T19:05:09.000000",
          "2024-03-22T19:04:43.000000",
          "2024-03-22T19:04:51.000000",
          "2024-03-22T19:04:15.000000",
          "2024-03-24T14:40:01.000000",
          "2024-03-24T02:16:02.000000",
          "2024-03-23T18:58:21.000000",
          "2024-03-24T23:04:18.000000",
          "2024-03-24T12:44:48.000000",
          "2024-03-24T23:45:53.000000",
          "2024-03-24T12:58:51.000000"
         ],
         "y": [
          0.007999999862374402,
          0.007999999862374402,
          0.007999999862374402,
          8.00000036650964e-34,
          8.00000036650964e-34,
          8.00000036650964e-34,
          8.00000036650964e-34,
          8.00000036650964e-34,
          8.00000036650964e-34,
          8.00000036650964e-34,
          8.00000036650964e-34,
          8.00000036650964e-34,
          8.00000036650964e-34,
          8.00000036650964e-34,
          0.03599999980011521,
          0.03599999980011521,
          8e-14,
          8e-14,
          8e-14,
          0.0007999999967232,
          0,
          8.000000000000001e-16,
          0,
          0,
          0,
          0,
          0,
          0.0007999999967232,
          0.0007999999967232,
          0.03599999980011521,
          0.05360000067174401,
          0,
          0,
          0.33599998918656004,
          0.33599998918656004,
          0.33599998918656004,
          0.33599998918656004,
          0.039999999311872,
          0.0016800000245760002,
          4e-9,
          4e-8,
          0.00004,
          0.0000271999991808,
          0.0000280000004096,
          0.0000287999983616,
          0.0000028800000000000004,
          0.00000296,
          9.840000000000001e-8,
          9.872000000000001e-8,
          0.0000098759999488,
          8e-11,
          0.0440000005013504,
          0.000008000000000000001,
          0.000008000000000000001,
          0.0800000003014656,
          0.04600000151552,
          0.0400000001507328,
          0,
          0.00359999995904,
          0,
          0.0058571427713609145,
          0.1200000038076416,
          0.2000000054512845,
          0.002400000076152832,
          0.0400000001507328,
          0.800000003014656,
          0.0017391304413362087,
          0.004800000085196801,
          0.004800000085196801,
          0.1600000006029312,
          0.008000000030146559,
          0.03999999947964416,
          0.19800000561152004,
          0.19800000561152004,
          0.01999999973982208,
          0.2640000074820267,
          0.06400000024117247,
          0.0035999999800115203,
          0.0035999999800115203,
          0.030000000280821764,
          0.03529411797743737,
          0.19800000561152004,
          0,
          0,
          0.00019999999655935998,
          0.00019999999655935998,
          0.00019999999655935998,
          0.02782608706137934,
          0.02782608706137934,
          0.02782608706137934,
          0.17999999900057603,
          0.6400000024117248,
          0.0004000000126921387,
          0.0004000000126921387,
          0.39999999479644166,
          0.12000000112328706,
          0.03199999944949761,
          0.4800000152305664,
          0.2133333341372416,
          0.05600000155320321,
          0.0800000021805138,
          0.13333333159881386,
          0.01947826140980981,
          0.01947826140980981,
          0.2181818251048029,
          0.0600000019038208,
          0.0600000019038208,
          0.004800000152305664,
          0.004800000152305664,
          0.6000000056164353,
          0.04199999931940865,
          0.04199999931940865,
          0.04199999931940865,
          0.39999999479644166,
          0.00039999999180800004,
          0.39999999479644166,
          0.39999999479644166,
          4.0000000000000003e-7,
          4.0000000000000003e-7,
          0.7840000016121857,
          0.008000000253842773,
          0.008000000253842773,
          0.008000000253842773,
          0.008000000253842773,
          0.079200002244608,
          0.35999999800115207,
          0.03199999944949761,
          0.35999999800115207,
          0.0400000001507328,
          0.3200000012058624,
          0.010666666706862081,
          0.06843657648896212,
          0.015999999791857664,
          0.001057627143103436,
          0.001057627143103436,
          0.3200000012058624,
          0.05714285639949166,
          0.00002482544565515718,
          0.00002482544565515718,
          0.015999999791857664,
          0.00021057569589645375,
          0.00014953271084386095,
          0.00014953271084386095,
          0,
          0.00009132420125738085,
          0.03279999951962113,
          0.200000000753664,
          0.0400000001507328,
          0.0020000000075366398,
          0.06000000056164353,
          0.0017777777471943111,
          0,
          0,
          0.016799999459328002,
          0.015600000360775683,
          0.015600000360775683,
          0.0051612903420300395,
          0.009142857177310355,
          0.009142857177310355,
          0.3199999958371533,
          0.00012767999589089282,
          0.1200000032707707,
          0.12000000112328706,
          0.12000000112328706,
          0.12000000112328706,
          0.001999999973982208,
          0.0003065134111167265,
          0.0004383561568424329,
          0.12800000048234494,
          0.032000000120586236,
          0.01400000022052864,
          0.0019512195195479417,
          0.0016000000060293121,
          0.0016000000060293121,
          0.0016000000060293121,
          0.1600000006029312,
          0.0001641025612794749,
          0.0001641025612794749,
          0.0001641025612794749,
          0.0001641025612794749,
          0.02000000054512845,
          0.03999999937226998,
          0.0020000000075366398,
          0.0020000000075366398,
          0.04407713618761091,
          0.0016000000060293121,
          0.0016000000060293121,
          0.0006153846047980308,
          0.0006153846047980308,
          0.0001739130404864,
          0.0001739130404864,
          0.00039999999311871997,
          0.003999999931187201,
          0.0040000000150732795,
          0.0040000000150732795,
          0.0040000000150732795,
          0.0040000000150732795,
          0.07999999895928832,
          0.05000000136282112,
          0.2800000044105728,
          0.039999999414172094,
          0.00040000000150732803,
          0.0004533333507003734,
          0.0008163265565145688,
          0.0008163265565145688,
          0.000043999997984768,
          0.00002573099297354854,
          0.04678362700614842,
          0.19999999739822083,
          0.0023859650036861754,
          0.0023859650036861754,
          0.03720930184152946,
          0.0070697677494224375,
          0.006000000190382081,
          0.19999999739822083,
          0.0400000001507328,
          0.0400000010902569,
          0.05405405552737419,
          0.04848484785411414,
          0.09333333480352426,
          0.00039999999311871997,
          0.012000000380764162,
          0.012000000380764162,
          0.0300000009519104,
          0.0026666666767155203,
          0.0026666666767155203,
          0.07999999847122387,
          0.06000000163538535,
          0.00004289544162131046,
          0,
          0,
          0,
          0.039999999906485,
          0.0006000000106496001,
          0.0007999999862374399,
          0.08000000009810541,
          0.01272727292775331,
          0.0400000001507328,
          0.06000000163538535,
          0.0800000003014656,
          0.05733333231905451,
          0.0400000001507328,
          0.024000000425984002,
          0.00007524752470380991,
          0.00007524752470380991,
          0.00007920791942944952,
          0.000079999998623744,
          0.0007999999862374399,
          0.000057553955844420144,
          0.000057553955844420144,
          0.0007482014561523108,
          0.0400000001507328,
          0.048000000449314816,
          0.05194285589575388,
          0.050742857372420395,
          0.000079999998623744,
          0.04004004521545241,
          0.031460674049647606,
          0.042185273349993196,
          0.0047819971814839265,
          0.03804994005198018,
          0.04809052404133187,
          0.04572246144962472,
          0.04678609253053802,
          0.051080461560616214,
          0.03927332154275153,
          0.03622881350034658,
          0.04477611848662225,
          0.040920597458138,
          0.0460299207022519,
          0.03278688481938046,
          0.04352557059006527,
          0.0383141772895181,
          0.039603961475501874,
          0.03869281063256458,
          0.039999999848583885,
          0.016888888728835417,
          0.03422222305955385,
          0.040363638010436895,
          0.07132916936228265,
          0.03240323966088595,
          0.04787540285431911,
          0.03777632445837947,
          0.05802835294731581,
          0.00562370975239195,
          0.05827814387059896,
          0.12524720324733282,
          0.12442091044029079,
          0.00020000000075366401,
          0.00020000000075366401,
          0.09405940956742767,
          0.09396637355400786,
          0.05199999798136013,
          0.0947394701202712,
          0.05855855628531546,
          0.05493562252461157,
          0.07927927776427589,
          0.055084743624322176,
          0.04180064146411586,
          0.059555553170190796,
          0.059160491473447194,
          0.048000000449314816,
          0.05677724892593866,
          0.06117646821336486,
          0.05894736585118733,
          0.04719999836592538,
          0.05263157690421066,
          0.04960000032112641,
          0.0479520484009139,
          0.0040000000150732795,
          0.05295315476716917,
          0.0673267325947539,
          0.03555555509301703,
          0.04274809145677308,
          0.09097725322781511,
          0.0133333333835776,
          0.03636000301313438,
          0.04390341111784296,
          0.043850905543454465,
          0.043815971541826544,
          0.04221838286538305,
          0.04399999862230221,
          0.042267049589147176,
          0.04230769098298289,
          0.04230362332689377,
          0.042311759421388796,
          0.042267049589147176,
          0.04229142505027125,
          0.043435727795428605,
          0.042968748654592,
          0.04230769098298289,
          0.04227517162019813,
          0.04228736052119386,
          0.042295490360763445,
          0.04230362332689377,
          0.042701862016985837,
          0.042594383951889844,
          0.0960000030461133,
          0.08000799833587714,
          0.03999999947964416,
          0.03999999947964416,
          0.043999999542652345,
          0.04333333433548801,
          0.04400000089610842,
          0.000031434184135066404,
          0.05199999798136013,
          0.05199999798136013,
          0.05199999798136013,
          0.05199999798136013,
          0.0518367360191091,
          0.05028571434738054,
          0.03972167202766327,
          0,
          0.0400000001507328,
          0.03544303785340047,
          0.03725490002869308,
          0.015999999791857664,
          0.03636363634965615,
          0.0558474906555704,
          0.019599999503433725,
          0.03956087367448321,
          0.05732358287346884,
          0.0400000010902569,
          0.03599999926324429,
          0.034698794988062845,
          0.03902438973623821,
          0.00007093596019727133,
          0.03199999958371533,
          0.10089328755893155,
          0.08799266452256088,
          0.00003960395971472476,
          0.032000000120586236,
          0.02799999990418637,
          0.08995167654997423,
          0.08997416634326116,
          0.08968909016629338,
          0.035485975730955396,
          0.037333333205581826,
          0.03599999926324429,
          0.03599999926324429,
          0.0019999999655936004,
          0.03599999926324429,
          0.09618443667224574,
          0.03599999926324429,
          0.03599999926324429,
          0.03149606385059599,
          0.400000001507328,
          0.400000001507328,
          0.00062992125263872,
          0.03599999926324429,
          0.003921568576435702,
          0.03611110970927787,
          0.001439999992004608,
          0.001439999992004608,
          0.027586206331987963,
          0.026000000601292803,
          0.025904761874552932,
          0.024000000792382972,
          0.02472727269843689,
          0.023333332955227024,
          0.024000000463266703,
          0.02400000015538374,
          0.021444445112456537,
          0.022545454691421093,
          0.022222221933135645,
          0.025508196261861144,
          0.06060606225796499,
          0.0015999999724748799,
          0.0017999999900057601,
          0.0016326530673768489,
          0.06000000056164353,
          0.057599998821190865,
          0.000015157895005884635,
          0.040000000772111174,
          0.052244898156059164,
          0.05000000046803627,
          0.05333333263952555,
          0.05106383026522853,
          0.0066666666917888,
          0.000027428571915410286,
          0.0001280107217944576,
          0.0001280107217944576,
          0.0001280107217944576,
          0.0100000000376832,
          0.048000000449314816,
          0.048000000449314816,
          0.048000000449314816,
          0.039263803170202866,
          0.0400000010902569,
          0.04000000037442902,
          0.00011940298302051344,
          0.03999999839788934,
          0.03978141875131734,
          0.04399999915917312,
          0.045283019291806434,
          0.04377358545047475,
          0.0026666666767155203,
          0.04995094086912206,
          0.04705882481206694,
          0.04799999901765905,
          0.04399999862230221,
          0.04000000037442902,
          0.05000000136282112,
          0.05599999980837274,
          0.04571428511959333,
          0.05333333263952555,
          0.03799999802926695,
          0.016842105044060703,
          0.0007999999967232,
          0.052800000064749573,
          0.000159999997247488,
          0.00024000000425984,
          0.0007999999862374399,
          0.0007999999862374399,
          0.0012000000212992001,
          0.00020000000075366401,
          0.00020000000075366401,
          0.00020000000075366401,
          0.00020000000075366401,
          0.00020000000075366401,
          0.04571428511959333,
          0.00010999999496192001,
          0.00010999999496192001,
          0.04000000017814016,
          0.05159999908714906,
          0.0400000010902569,
          0.0506970862994384,
          0.007999999862374402,
          0.00023225806863855488,
          0.03799999802926695,
          0,
          0.032786886139554834,
          0.04923076859033128,
          0.000315151512271903,
          0.0400000010902569,
          0.0800000003014656,
          0.0000057926829230829275,
          0.03539823105332469,
          0.03999999899658264,
          0.03999999890066573,
          0.03799999802926695,
          0.037799998582161404,
          0.00020000000075366401,
          0.03599999926324429,
          0.039999999311872,
          0.03199999958371533,
          0.039599997901078536,
          0.039599997901078536,
          0.007520000357171201,
          0.039599997901078536,
          0.036750481653062814,
          0.03750000102211585,
          0.03706666727610777,
          0.03623529500423348,
          0.03238095234319116,
          0.0358208947892978,
          0.000006806883031568644,
          0.03799999802926695,
          0.03919999900686745,
          0.0002933333416466963,
          0.0002936296148536889,
          0.0002936296148536889,
          0.03919999900686745,
          0.017599999753147737,
          0.0011428571231963428,
          0.039024391307567706,
          0.0032000000120586242,
          0.03909091035161321,
          0.00004736842189338948,
          0.00004736842189338948,
          0.03799999802926695,
          0.03599999926324429,
          0.030645080293376002,
          0.03799999802926695,
          0.03919999900686745,
          0.03799999802926695,
          0.03799999802926695,
          0.03799999802926695,
          0.03582089564401766,
          0.000031545741443795585,
          0.012800000406148438,
          0.03841584169569939,
          0.037743190771066526,
          0.0002749999874048,
          0.00004609585359248336,
          0.03333333424188075,
          0.03316749604582375,
          0.13000000300646403,
          0.0032738479964160004,
          0.039999999311872,
          0.032000000120586236,
          0.003452970467328,
          0.03799999802926695,
          0.03560000036903322,
          0.0007999999862374399,
          0.034970857498983814,
          0.00003473170561473562,
          0.034000000497221634,
          0.03599999926324429,
          0.0036756756713892673,
          0.03428571537361189,
          0.028135593696030373,
          0.400000001507328,
          0.03359999945552691,
          0.03359999945552691,
          0.03194666539566148,
          0.03164356490424523,
          0.03599999980011521,
          0.03165467526784332,
          0.031135134962261796,
          0.0351999993273385,
          0.03549090780926324,
          0.00016600000364544,
          0.03320000056131584,
          0.03320000056131584,
          0.032000000120586236,
          0.032000000120586236,
          0.400000001507328,
          0.08888888773254258,
          0.0029090908590452364,
          0.03199999958371533,
          0.03276595824850901,
          0.03999999947964416,
          0.026666667512809248,
          0.003999999931187201,
          0.003999999931187201,
          0.003999999931187201,
          0.032000000120586236,
          0.032000000120586236,
          0.032000000120586236,
          0,
          0,
          0.0015999999724748799,
          0.0015999999724748799,
          0.039999999311872,
          0.039999999311872,
          0.039999999311872,
          0.039999999311872,
          0.039999999311872,
          0.039999999311872,
          0.039999999311872,
          0.039999999311872,
          0.039999999311872,
          0.039999999311872,
          0.039999999311872,
          0.039999999311872,
          0.039999999311872,
          0.039999999311872,
          0.039999999311872,
          0.039999999311872,
          0.039999999311872,
          0.039999999311872,
          0.039999999311872,
          0.039999999311872,
          0.039999999311872,
          0.039999999311872,
          0.039999999311872,
          0.039999999311872,
          0.039999999311872,
          0.039999999311872,
          0.039999999311872,
          0.039999999311872,
          0.039999999311872,
          0.039999999311872,
          0.039999999311872,
          0.039999999311872,
          0.039999999311872,
          0.039999999311872,
          0.039999999311872,
          0.03199999958371533,
          0.00003152709346692414,
          0.03199999958371533,
          0.400000001507328,
          0.014035087536717252,
          0.000286360010752,
          0.03200000029954321,
          0.02758620680215406,
          0.00031999999868928005,
          0.032000000120586236,
          0.0031080000258048002,
          0.07999999895928832,
          0.03199999958371533,
          0.400000001507328,
          0.007999999862374402,
          0.039999999311872,
          0.025454545367442155,
          0.00023879999710822402,
          0.037999999639879684,
          0.00039999999180800004,
          0.022702702403910837,
          0.028729792573790006,
          0.01759999966366925,
          0.00067999998410752,
          0.013557251969730639,
          0.015971223093837354,
          0.022227784831473266,
          0.027373613940493577,
          0.018127544685027516,
          0.01830417225321708,
          0.017471839609416413,
          0.021276595078482695,
          0.019801979577993796,
          0.014814814953492229,
          0.020084866298360034,
          0.019819819844125217,
          0.014928649817936651,
          0.01248226926501365,
          0.011592689347485077,
          0.011592689347485077,
          0.010068027256432618,
          0,
          0.01946471994143268,
          0.02042042039660704,
          0.0140284360824227,
          0.019801979577993796,
          0.00987654308139362,
          0.012861736167088154,
          0.012021857693763148,
          0.010928961606460154,
          0.011267605487223708,
          0.016474953692344283,
          0.00006178861784621788,
          0.010554089572465479,
          0.025751072434366445,
          0.008510638187158333,
          0.008528784537237563,
          0.00879120867684487,
          0.00879120867684487,
          0.00879120867684487,
          0.03199999958371533,
          0.03448275807954309,
          0.0006399999973785601,
          0.01131541710881023,
          0.014915254255578976,
          0.0035377078053846923,
          0.03346613534364905,
          0.6653527543459461,
          0.06743098860606661,
          0.06879724758015697,
          0.06819443290585617,
          0.06811611368862637,
          0.06798418919966422,
          0.06797612878913585,
          0.06795464370240228,
          0.06795464370240228,
          0.06793585538950567,
          0.06796807028971408,
          0.0679707562438848,
          0.06793853879810026,
          0.06798150218376761,
          0.06798418919966422,
          0.06795732859547628,
          0.06795464370240228,
          0.003999999983616,
          0.400000001507328,
          0.03245436063257133,
          0.032400000684245214,
          0.00004,
          0.033000000040468484,
          0.06639529022688695,
          0.000038222221657884445,
          0.06640053865898267,
          0.06795732859547628,
          0.06812613649147846,
          0.06849587777274918,
          0.06851224802834115,
          0.06797612878913585,
          0.06873126820185832,
          0.06878624222161585,
          0.06799762746596183,
          0.06797612878913585,
          0.039999999311872,
          0.03272727254555927,
          0.039999999311872,
          0.039999999311872,
          0.030188680068118413,
          0.034588563682793866,
          0.03259604179765584,
          0.00023529411853372238,
          0.008380952476447696,
          0.07333333416891734,
          0.03199999958371533,
          0.03199999958371533,
          0.03199999958371533,
          0.03199999958371533,
          0.03199999958371533,
          0.004666666516480001,
          0.013333333103957335,
          0.02799999909888,
          0.06660851750895727,
          4e-10,
          4e-15,
          0.06630893851660814,
          0,
          0,
          0.030769231057253085,
          0.03074550020221723,
          0.013333333103957335,
          0.13333333383577603,
          0.13333333383577603,
          0.13333333383577603,
          0.039999999311872,
          0.039999999311872,
          0.039999999311872,
          0.039999999311872,
          0.039999999311872,
          0.039999999311872,
          0.039999999311872,
          0.039999999311872,
          0.039999999311872,
          0.039999999311872,
          0.039999999311872,
          0.039999999311872,
          0.039999999311872,
          0.039999999311872,
          0.039999999311872,
          0.039999999311872,
          4e-11,
          0.03999999947964416,
          0.039999999311872,
          0.039999999311872,
          0.039999999311872,
          0.028888887767422294,
          0.0031999999868928,
          0.013333333103957335,
          0.13333333383577603,
          0.021999998992384,
          0.000013333333103957335,
          0.02000000054512845,
          0.200000000753664,
          0.13333333383577603,
          0.019999999655936,
          0.021999998992384,
          0.013333333103957335,
          0.013333333103957335,
          0.013333333103957335,
          0.013333333103957335,
          0.013333333103957335,
          0.013333333103957335,
          0.003999999931187201,
          0.0019999999655936004,
          0.00039999999180800004,
          0.00039999999180800004,
          0.019999999655936,
          0.039999999311872,
          0.019999999655936,
          0.13333333383577603,
          0.019999999655936,
          0.024000000425984002,
          0.021999998992384,
          0.019999999655936,
          0.019999999655936,
          0.013333333103957335,
          0.021999998992384,
          0.019999999655936,
          0.01960000019224924,
          0.019999999655936,
          0.019999999655936,
          0.019999999655936,
          0.03163097228949906,
          0.030000000817692676,
          0.022598870672461528,
          0.003999999983616,
          0.003076923036895705,
          0.029999999386036907,
          4e-10,
          0.030428570141140115,
          0.030439999626589363,
          0.03043999910024533,
          0.030439999458159273,
          0.000004000000000000001,
          4e-8,
          4e-8,
          4e-8,
          4e-8,
          4e-8,
          4e-8,
          4e-8,
          4e-8,
          4e-8,
          4e-8,
          4e-8,
          4e-8,
          4e-8,
          4e-8,
          4e-8,
          0.00039603960545280003,
          0.000024950819507619673,
          0.00004,
          0.00004,
          0.00004,
          4e-11,
          4e-11,
          4e-11,
          4e-11,
          4e-11,
          4e-11,
          4e-11,
          4e-11,
          4e-11,
          4e-11,
          0.04000000070997334,
          0.04000000070997334,
          0.04000000070997334,
          0.04000000070997334,
          0.04000000070997334,
          0.00000878477321595315,
          0.00005354752362882571,
          0.03999999947964416,
          0.030000000817692676,
          4e-9,
          0.02666666620791467,
          0.13333333383577603,
          0.13333333383577603,
          0.079999998623744,
          0.03647803655785336,
          0.00009491525118264408,
          0.011428571471637944,
          0.033000000040468484,
          0.00014222222163967998,
          0.0328571440594944,
          0.03200000152667672,
          0.039999999311872,
          0.000013333333333333335,
          0.000014813332821333336,
          0.007999999862374402,
          0.00004961240289756279,
          0.0800000003014656,
          0.015999999724748803,
          0.11199999639552,
          0.11199999639552,
          0.11199999639552,
          0.11199999639552,
          0.11199999639552,
          0.000015999999934464003,
          0.000015999999934464003,
          0.000015999999934464003,
          0.00499999993495552,
          0.0000026896269325435016,
          8.888800256000001e-7,
          8.888800256000001e-7,
          8.888800256000001e-7,
          8.888800256000001e-7,
          8.888800256000001e-7,
          8.888800256000001e-7,
          8.888800256000001e-7,
          0,
          0.000008000000000000001,
          0.008880000073728,
          7.406666666666667e-9,
          8.888e-9,
          8.888e-9,
          8.888e-9,
          8.888e-9,
          8.888e-9,
          8.888e-9,
          0.000037199999401984,
          0.033333332899703465,
          0.000005256410327302564,
          0.0000051282051072,
          0.000031999999868928006,
          0.007999999862374402,
          0.0007999999967232,
          0.03212851493193325,
          0.012499999837388802,
          0.00015999999672320004,
          0.03199999958371533,
          0.00005599999819776001,
          0.022222221933135645,
          0.1600000006029312,
          0.1600000006029312,
          0.028518519216294877,
          0.000024520124533934365,
          0.00006249999892480001,
          0.000027999999098880004,
          0.000007221438498085192,
          0.024000000224657408,
          8e-10,
          0.02000000054512845,
          0.024000000224657408,
          0.0400000001507328,
          0.00007999999836160002,
          0.00007999999836160002,
          0.00007999999836160002,
          0.00007999999836160002,
          0.04745762786619879,
          0.024000000224657408,
          0.024000000224657408,
          0.00007866666713088001,
          0.0800000003014656,
          0.0800000003014656,
          0.0800000003014656,
          0.0800000003014656,
          0.0800000003014656,
          0.0800000003014656,
          0.07272727300133236,
          0.01818181825033309,
          0.01818181825033309,
          0.01818181825033309,
          0.01818181825033309,
          0.024000000057123223,
          0.023999999078591006,
          0.023999999595596545,
          0.023999999619565334,
          0.0001846153878921846,
          0.0005673758886628766,
          0.03999999947964416,
          0.00010173333285546667,
          0.02920000088178688,
          0.02920000088178688,
          0.028999999287197698,
          0.03999999947964416,
          0.0003294117541044706,
          0.000058399999918080005,
          0.00005759999934464,
          0.00001426356636140155,
          0.00005759999934464,
          0.028999999287197698,
          0.0016000000060293121,
          0.005599999819776001,
          0.005599999819776001,
          0.014399999920046081,
          0.01520000066125824,
          0.00560000015532032,
          0.00760000033062912,
          0.010285714228604345,
          0.031240000825720832,
          0.00605599985303552,
          0.024000000761528324,
          0.03999999947964416,
          0.15200000661258242,
          0.002768166053954613,
          0.024999999674777604,
          0.013714285957705142,
          0.024000000224657408,
          0.024000000224657408,
          0.024000000224657408,
          0.02799999990418637,
          0.00019999999655935998,
          0.1600000006029312,
          0.00010816666992639999,
          0.00022080000727449603,
          8e-11,
          0.002666666620791467,
          0.026000000601292803,
          0.025925925837209606,
          0.000015705521150743558,
          0.024000000224657408,
          0.025600000096468994,
          0.0001081081062483027,
          0.024000000224657408,
          0.024000000224657408,
          0.000039999999311872,
          0.00002994652310040642,
          0.024000000224657408,
          0.024000000224657408,
          0.024000000224657408,
          0.004800000085196801,
          0.00007407407279976297,
          0.00005025242859221748,
          0.00012940000362496,
          0.024000000224657408,
          0.024000000224657408,
          0.024000000224657408,
          0.024000000224657408,
          0.024000000224657408,
          0.024000000224657408,
          0.024000000224657408,
          0.003076923036895705,
          0.000028043478986573914,
          0.000004999999913984,
          0.000004842614928798063,
          0.00007382857042212572,
          0.0000068125493402963356,
          0.0000068125493402963356,
          3.1567524779449546e-7,
          0.0800000003014656,
          0.024000000224657408,
          0.003999999947964416,
          0.05600000155320321,
          0.0016000000283989335,
          0.05714285735818971,
          0.0007999999967232
         ]
        }
       ],
       "layout": {
        "font": {
         "family": "Clear Sans",
         "size": 18
        },
        "height": 450,
        "margin": {
         "b": 10,
         "l": 10,
         "r": 10,
         "t": 10
        },
        "template": {
         "data": {
          "bar": [
           {
            "error_x": {
             "color": "rgb(36,36,36)"
            },
            "error_y": {
             "color": "rgb(36,36,36)"
            },
            "marker": {
             "line": {
              "color": "white",
              "width": 0.5
             },
             "pattern": {
              "fillmode": "overlay",
              "size": 10,
              "solidity": 0.2
             }
            },
            "type": "bar"
           }
          ],
          "barpolar": [
           {
            "marker": {
             "line": {
              "color": "white",
              "width": 0.5
             },
             "pattern": {
              "fillmode": "overlay",
              "size": 10,
              "solidity": 0.2
             }
            },
            "type": "barpolar"
           }
          ],
          "carpet": [
           {
            "aaxis": {
             "endlinecolor": "rgb(36,36,36)",
             "gridcolor": "white",
             "linecolor": "white",
             "minorgridcolor": "white",
             "startlinecolor": "rgb(36,36,36)"
            },
            "baxis": {
             "endlinecolor": "rgb(36,36,36)",
             "gridcolor": "white",
             "linecolor": "white",
             "minorgridcolor": "white",
             "startlinecolor": "rgb(36,36,36)"
            },
            "type": "carpet"
           }
          ],
          "choropleth": [
           {
            "colorbar": {
             "outlinewidth": 1,
             "tickcolor": "rgb(36,36,36)",
             "ticks": "outside"
            },
            "type": "choropleth"
           }
          ],
          "contour": [
           {
            "colorbar": {
             "outlinewidth": 1,
             "tickcolor": "rgb(36,36,36)",
             "ticks": "outside"
            },
            "colorscale": [
             [
              0,
              "#440154"
             ],
             [
              0.1111111111111111,
              "#482878"
             ],
             [
              0.2222222222222222,
              "#3e4989"
             ],
             [
              0.3333333333333333,
              "#31688e"
             ],
             [
              0.4444444444444444,
              "#26828e"
             ],
             [
              0.5555555555555556,
              "#1f9e89"
             ],
             [
              0.6666666666666666,
              "#35b779"
             ],
             [
              0.7777777777777778,
              "#6ece58"
             ],
             [
              0.8888888888888888,
              "#b5de2b"
             ],
             [
              1,
              "#fde725"
             ]
            ],
            "type": "contour"
           }
          ],
          "contourcarpet": [
           {
            "colorbar": {
             "outlinewidth": 1,
             "tickcolor": "rgb(36,36,36)",
             "ticks": "outside"
            },
            "type": "contourcarpet"
           }
          ],
          "heatmap": [
           {
            "colorbar": {
             "outlinewidth": 1,
             "tickcolor": "rgb(36,36,36)",
             "ticks": "outside"
            },
            "colorscale": [
             [
              0,
              "#440154"
             ],
             [
              0.1111111111111111,
              "#482878"
             ],
             [
              0.2222222222222222,
              "#3e4989"
             ],
             [
              0.3333333333333333,
              "#31688e"
             ],
             [
              0.4444444444444444,
              "#26828e"
             ],
             [
              0.5555555555555556,
              "#1f9e89"
             ],
             [
              0.6666666666666666,
              "#35b779"
             ],
             [
              0.7777777777777778,
              "#6ece58"
             ],
             [
              0.8888888888888888,
              "#b5de2b"
             ],
             [
              1,
              "#fde725"
             ]
            ],
            "type": "heatmap"
           }
          ],
          "heatmapgl": [
           {
            "colorbar": {
             "outlinewidth": 1,
             "tickcolor": "rgb(36,36,36)",
             "ticks": "outside"
            },
            "colorscale": [
             [
              0,
              "#440154"
             ],
             [
              0.1111111111111111,
              "#482878"
             ],
             [
              0.2222222222222222,
              "#3e4989"
             ],
             [
              0.3333333333333333,
              "#31688e"
             ],
             [
              0.4444444444444444,
              "#26828e"
             ],
             [
              0.5555555555555556,
              "#1f9e89"
             ],
             [
              0.6666666666666666,
              "#35b779"
             ],
             [
              0.7777777777777778,
              "#6ece58"
             ],
             [
              0.8888888888888888,
              "#b5de2b"
             ],
             [
              1,
              "#fde725"
             ]
            ],
            "type": "heatmapgl"
           }
          ],
          "histogram": [
           {
            "marker": {
             "line": {
              "color": "white",
              "width": 0.6
             }
            },
            "type": "histogram"
           }
          ],
          "histogram2d": [
           {
            "colorbar": {
             "outlinewidth": 1,
             "tickcolor": "rgb(36,36,36)",
             "ticks": "outside"
            },
            "colorscale": [
             [
              0,
              "#440154"
             ],
             [
              0.1111111111111111,
              "#482878"
             ],
             [
              0.2222222222222222,
              "#3e4989"
             ],
             [
              0.3333333333333333,
              "#31688e"
             ],
             [
              0.4444444444444444,
              "#26828e"
             ],
             [
              0.5555555555555556,
              "#1f9e89"
             ],
             [
              0.6666666666666666,
              "#35b779"
             ],
             [
              0.7777777777777778,
              "#6ece58"
             ],
             [
              0.8888888888888888,
              "#b5de2b"
             ],
             [
              1,
              "#fde725"
             ]
            ],
            "type": "histogram2d"
           }
          ],
          "histogram2dcontour": [
           {
            "colorbar": {
             "outlinewidth": 1,
             "tickcolor": "rgb(36,36,36)",
             "ticks": "outside"
            },
            "colorscale": [
             [
              0,
              "#440154"
             ],
             [
              0.1111111111111111,
              "#482878"
             ],
             [
              0.2222222222222222,
              "#3e4989"
             ],
             [
              0.3333333333333333,
              "#31688e"
             ],
             [
              0.4444444444444444,
              "#26828e"
             ],
             [
              0.5555555555555556,
              "#1f9e89"
             ],
             [
              0.6666666666666666,
              "#35b779"
             ],
             [
              0.7777777777777778,
              "#6ece58"
             ],
             [
              0.8888888888888888,
              "#b5de2b"
             ],
             [
              1,
              "#fde725"
             ]
            ],
            "type": "histogram2dcontour"
           }
          ],
          "mesh3d": [
           {
            "colorbar": {
             "outlinewidth": 1,
             "tickcolor": "rgb(36,36,36)",
             "ticks": "outside"
            },
            "type": "mesh3d"
           }
          ],
          "parcoords": [
           {
            "line": {
             "colorbar": {
              "outlinewidth": 1,
              "tickcolor": "rgb(36,36,36)",
              "ticks": "outside"
             }
            },
            "type": "parcoords"
           }
          ],
          "pie": [
           {
            "automargin": true,
            "type": "pie"
           }
          ],
          "scatter": [
           {
            "fillpattern": {
             "fillmode": "overlay",
             "size": 10,
             "solidity": 0.2
            },
            "type": "scatter"
           }
          ],
          "scatter3d": [
           {
            "line": {
             "colorbar": {
              "outlinewidth": 1,
              "tickcolor": "rgb(36,36,36)",
              "ticks": "outside"
             }
            },
            "marker": {
             "colorbar": {
              "outlinewidth": 1,
              "tickcolor": "rgb(36,36,36)",
              "ticks": "outside"
             }
            },
            "type": "scatter3d"
           }
          ],
          "scattercarpet": [
           {
            "marker": {
             "colorbar": {
              "outlinewidth": 1,
              "tickcolor": "rgb(36,36,36)",
              "ticks": "outside"
             }
            },
            "type": "scattercarpet"
           }
          ],
          "scattergeo": [
           {
            "marker": {
             "colorbar": {
              "outlinewidth": 1,
              "tickcolor": "rgb(36,36,36)",
              "ticks": "outside"
             }
            },
            "type": "scattergeo"
           }
          ],
          "scattergl": [
           {
            "marker": {
             "colorbar": {
              "outlinewidth": 1,
              "tickcolor": "rgb(36,36,36)",
              "ticks": "outside"
             }
            },
            "type": "scattergl"
           }
          ],
          "scattermapbox": [
           {
            "marker": {
             "colorbar": {
              "outlinewidth": 1,
              "tickcolor": "rgb(36,36,36)",
              "ticks": "outside"
             }
            },
            "type": "scattermapbox"
           }
          ],
          "scatterpolar": [
           {
            "marker": {
             "colorbar": {
              "outlinewidth": 1,
              "tickcolor": "rgb(36,36,36)",
              "ticks": "outside"
             }
            },
            "type": "scatterpolar"
           }
          ],
          "scatterpolargl": [
           {
            "marker": {
             "colorbar": {
              "outlinewidth": 1,
              "tickcolor": "rgb(36,36,36)",
              "ticks": "outside"
             }
            },
            "type": "scatterpolargl"
           }
          ],
          "scatterternary": [
           {
            "marker": {
             "colorbar": {
              "outlinewidth": 1,
              "tickcolor": "rgb(36,36,36)",
              "ticks": "outside"
             }
            },
            "type": "scatterternary"
           }
          ],
          "surface": [
           {
            "colorbar": {
             "outlinewidth": 1,
             "tickcolor": "rgb(36,36,36)",
             "ticks": "outside"
            },
            "colorscale": [
             [
              0,
              "#440154"
             ],
             [
              0.1111111111111111,
              "#482878"
             ],
             [
              0.2222222222222222,
              "#3e4989"
             ],
             [
              0.3333333333333333,
              "#31688e"
             ],
             [
              0.4444444444444444,
              "#26828e"
             ],
             [
              0.5555555555555556,
              "#1f9e89"
             ],
             [
              0.6666666666666666,
              "#35b779"
             ],
             [
              0.7777777777777778,
              "#6ece58"
             ],
             [
              0.8888888888888888,
              "#b5de2b"
             ],
             [
              1,
              "#fde725"
             ]
            ],
            "type": "surface"
           }
          ],
          "table": [
           {
            "cells": {
             "fill": {
              "color": "rgb(237,237,237)"
             },
             "line": {
              "color": "white"
             }
            },
            "header": {
             "fill": {
              "color": "rgb(217,217,217)"
             },
             "line": {
              "color": "white"
             }
            },
            "type": "table"
           }
          ]
         },
         "layout": {
          "annotationdefaults": {
           "arrowhead": 0,
           "arrowwidth": 1
          },
          "autotypenumbers": "strict",
          "coloraxis": {
           "colorbar": {
            "outlinewidth": 1,
            "tickcolor": "rgb(36,36,36)",
            "ticks": "outside"
           }
          },
          "colorscale": {
           "diverging": [
            [
             0,
             "rgb(103,0,31)"
            ],
            [
             0.1,
             "rgb(178,24,43)"
            ],
            [
             0.2,
             "rgb(214,96,77)"
            ],
            [
             0.3,
             "rgb(244,165,130)"
            ],
            [
             0.4,
             "rgb(253,219,199)"
            ],
            [
             0.5,
             "rgb(247,247,247)"
            ],
            [
             0.6,
             "rgb(209,229,240)"
            ],
            [
             0.7,
             "rgb(146,197,222)"
            ],
            [
             0.8,
             "rgb(67,147,195)"
            ],
            [
             0.9,
             "rgb(33,102,172)"
            ],
            [
             1,
             "rgb(5,48,97)"
            ]
           ],
           "sequential": [
            [
             0,
             "#440154"
            ],
            [
             0.1111111111111111,
             "#482878"
            ],
            [
             0.2222222222222222,
             "#3e4989"
            ],
            [
             0.3333333333333333,
             "#31688e"
            ],
            [
             0.4444444444444444,
             "#26828e"
            ],
            [
             0.5555555555555556,
             "#1f9e89"
            ],
            [
             0.6666666666666666,
             "#35b779"
            ],
            [
             0.7777777777777778,
             "#6ece58"
            ],
            [
             0.8888888888888888,
             "#b5de2b"
            ],
            [
             1,
             "#fde725"
            ]
           ],
           "sequentialminus": [
            [
             0,
             "#440154"
            ],
            [
             0.1111111111111111,
             "#482878"
            ],
            [
             0.2222222222222222,
             "#3e4989"
            ],
            [
             0.3333333333333333,
             "#31688e"
            ],
            [
             0.4444444444444444,
             "#26828e"
            ],
            [
             0.5555555555555556,
             "#1f9e89"
            ],
            [
             0.6666666666666666,
             "#35b779"
            ],
            [
             0.7777777777777778,
             "#6ece58"
            ],
            [
             0.8888888888888888,
             "#b5de2b"
            ],
            [
             1,
             "#fde725"
            ]
           ]
          },
          "colorway": [
           "#1F77B4",
           "#FF7F0E",
           "#2CA02C",
           "#D62728",
           "#9467BD",
           "#8C564B",
           "#E377C2",
           "#7F7F7F",
           "#BCBD22",
           "#17BECF"
          ],
          "font": {
           "color": "rgb(36,36,36)"
          },
          "geo": {
           "bgcolor": "white",
           "lakecolor": "white",
           "landcolor": "white",
           "showlakes": true,
           "showland": true,
           "subunitcolor": "white"
          },
          "hoverlabel": {
           "align": "left"
          },
          "hovermode": "closest",
          "mapbox": {
           "style": "light"
          },
          "paper_bgcolor": "white",
          "plot_bgcolor": "white",
          "polar": {
           "angularaxis": {
            "gridcolor": "rgb(232,232,232)",
            "linecolor": "rgb(36,36,36)",
            "showgrid": false,
            "showline": true,
            "ticks": "outside"
           },
           "bgcolor": "white",
           "radialaxis": {
            "gridcolor": "rgb(232,232,232)",
            "linecolor": "rgb(36,36,36)",
            "showgrid": false,
            "showline": true,
            "ticks": "outside"
           }
          },
          "scene": {
           "xaxis": {
            "backgroundcolor": "white",
            "gridcolor": "rgb(232,232,232)",
            "gridwidth": 2,
            "linecolor": "rgb(36,36,36)",
            "showbackground": true,
            "showgrid": false,
            "showline": true,
            "ticks": "outside",
            "zeroline": false,
            "zerolinecolor": "rgb(36,36,36)"
           },
           "yaxis": {
            "backgroundcolor": "white",
            "gridcolor": "rgb(232,232,232)",
            "gridwidth": 2,
            "linecolor": "rgb(36,36,36)",
            "showbackground": true,
            "showgrid": false,
            "showline": true,
            "ticks": "outside",
            "zeroline": false,
            "zerolinecolor": "rgb(36,36,36)"
           },
           "zaxis": {
            "backgroundcolor": "white",
            "gridcolor": "rgb(232,232,232)",
            "gridwidth": 2,
            "linecolor": "rgb(36,36,36)",
            "showbackground": true,
            "showgrid": false,
            "showline": true,
            "ticks": "outside",
            "zeroline": false,
            "zerolinecolor": "rgb(36,36,36)"
           }
          },
          "shapedefaults": {
           "fillcolor": "black",
           "line": {
            "width": 0
           },
           "opacity": 0.3
          },
          "ternary": {
           "aaxis": {
            "gridcolor": "rgb(232,232,232)",
            "linecolor": "rgb(36,36,36)",
            "showgrid": false,
            "showline": true,
            "ticks": "outside"
           },
           "baxis": {
            "gridcolor": "rgb(232,232,232)",
            "linecolor": "rgb(36,36,36)",
            "showgrid": false,
            "showline": true,
            "ticks": "outside"
           },
           "bgcolor": "white",
           "caxis": {
            "gridcolor": "rgb(232,232,232)",
            "linecolor": "rgb(36,36,36)",
            "showgrid": false,
            "showline": true,
            "ticks": "outside"
           }
          },
          "title": {
           "x": 0.05
          },
          "xaxis": {
           "automargin": true,
           "gridcolor": "rgb(232,232,232)",
           "linecolor": "rgb(36,36,36)",
           "showgrid": false,
           "showline": true,
           "ticks": "outside",
           "title": {
            "standoff": 15
           },
           "zeroline": false,
           "zerolinecolor": "rgb(36,36,36)"
          },
          "yaxis": {
           "automargin": true,
           "gridcolor": "rgb(232,232,232)",
           "linecolor": "rgb(36,36,36)",
           "showgrid": false,
           "showline": true,
           "ticks": "outside",
           "title": {
            "standoff": 15
           },
           "zeroline": false,
           "zerolinecolor": "rgb(36,36,36)"
          }
         }
        },
        "width": 800,
        "xaxis": {
         "griddash": "dash",
         "minor": {
          "griddash": "dot",
          "ticks": "inside"
         },
         "showgrid": true,
         "title": {
          "text": "Transaction Timestamp "
         }
        },
        "yaxis": {
         "griddash": "dash",
         "minor": {
          "griddash": "dot",
          "ticks": "inside"
         },
         "showgrid": true,
         "title": {
          "text": "Price (USD)"
         }
        }
       }
      }
     },
     "metadata": {},
     "output_type": "display_data"
    }
   ],
   "source": [
    "#fig = go.Figure()\n",
    "fig = go.Figure(layout=layout)\n",
    "\n",
    "\n",
    "temp_df = data_f.filter((pl.col('price_1token_USD')<1))\n",
    "\n",
    "fig.add_trace(go.Scatter(x=temp_df['timestamp'], y=temp_df['price_1token_USD'], mode='markers', name='Price'))\n",
    "\n",
    "# Update layout\n",
    "fig.update_layout(xaxis_title='Transaction Timestamp ',\n",
    "                  yaxis_title='Price (USD)')\n",
    "\n",
    "fig.write_image(plots_dir+\"buybgnt_blue.pdf\",\n",
    "                width=1540, height=380, scale=1)\n",
    "\n",
    "fig.show()\n",
    "\n",
    "#1) number of sales thorouhg time\n",
    "#2 )box plot through time -> seaborn\n",
    "#3) top receiveers, top issuers - 800\n",
    "#4) check how did mint vs you did list\n",
    "#5) gas fee ->\n",
    "\n",
    "#add to conculasions - gas comparison with BTC and ETH -> that memecoins at this price are only feasible at L2s\n",
    "#profibaikliy of insction on btc and eth vs l2\n",
    "#yahooo fiuannce pytthon api"
   ]
  },
  {
   "cell_type": "code",
   "execution_count": null,
   "metadata": {},
   "outputs": [],
   "source": []
  },
  {
   "cell_type": "code",
   "execution_count": null,
   "metadata": {},
   "outputs": [],
   "source": [
    "\n",
    "buy_bgnt = data_f.with_columns((pl.col('timestamp').cast(pl.Date)).alias('date'))\n",
    "buy_bgnt = buy_bgnt.with_columns((pl.col('price_1token_USD')).alias('value_USD'))\n",
    "buy_bgnt = buy_bgnt.filter((pl.col('value_USD')<1))\n",
    "data = buy_bgnt.group_by('date').agg(pl.col(\"value_USD\").sum())\n",
    "data = data.sort(pl.col(\"date\"))\n",
    "data\n",
    "\n"
   ]
  },
  {
   "cell_type": "code",
   "execution_count": 153,
   "metadata": {},
   "outputs": [
    {
     "data": {
      "application/vnd.plotly.v1+json": {
       "config": {
        "plotlyServerURL": "https://plot.ly"
       },
       "data": [
        {
         "line": {
          "color": "#a65628",
          "width": 2
         },
         "mode": "lines",
         "name": "Median Price",
         "type": "scatter",
         "x": [
          "2023-12-31",
          "2024-01-01",
          "2024-01-02",
          "2024-01-03",
          "2024-01-05",
          "2024-01-15",
          "2024-01-18",
          "2024-01-19",
          "2024-01-20",
          "2024-01-21",
          "2024-01-22",
          "2024-01-23",
          "2024-01-24",
          "2024-01-25",
          "2024-01-26",
          "2024-01-27",
          "2024-01-28",
          "2024-01-29",
          "2024-01-30",
          "2024-01-31",
          "2024-02-01",
          "2024-02-02",
          "2024-02-03",
          "2024-02-04",
          "2024-02-05",
          "2024-02-06",
          "2024-02-07",
          "2024-02-08",
          "2024-02-09",
          "2024-02-10",
          "2024-02-11",
          "2024-02-12",
          "2024-02-13",
          "2024-02-14",
          "2024-02-15",
          "2024-02-16",
          "2024-02-17",
          "2024-02-18",
          "2024-02-19",
          "2024-02-20",
          "2024-02-21",
          "2024-02-23",
          "2024-02-24",
          "2024-02-25",
          "2024-02-26",
          "2024-02-27",
          "2024-02-28",
          "2024-02-29",
          "2024-03-01",
          "2024-03-02",
          "2024-03-03",
          "2024-03-04",
          "2024-03-06",
          "2024-03-07",
          "2024-03-08",
          "2024-03-09",
          "2024-03-10",
          "2024-03-11",
          "2024-03-12",
          "2024-03-13",
          "2024-03-14",
          "2024-03-15",
          "2024-03-16",
          "2024-03-17",
          "2024-03-18",
          "2024-03-19",
          "2024-03-20",
          "2024-03-21",
          "2024-03-22",
          "2024-03-23",
          "2024-03-24"
         ],
         "y": [
          0.021999999831244805,
          0.0007999999967232,
          0.05360000067174401,
          0.00000296,
          0.0000185379995648,
          0.0440000005013504,
          0.004003999931187201,
          0.03199999944949761,
          0.035892184296681805,
          0.04228939278573256,
          0.037294116617137454,
          0.00079999999148032,
          0.0400000010902569,
          0.03899999846496634,
          0.036750481653062814,
          0.017599999753147737,
          0.03799999802926695,
          0.03333333424188075,
          0.032000000120586236,
          0.026666667512809248,
          0.03774545356056762,
          0.039999999311872,
          0.017863772174348383,
          0.06793853879810026,
          0.06798687812754883,
          0.008380952476447696,
          0.02799999909888,
          0.06630893851660814,
          0.039999999311872,
          0.030769231057253085,
          0.013333333103957335,
          0.019999999655936,
          0.039999999311872,
          0.003999999983616,
          0.030220000222141018,
          4e-8,
          0.00005354752362882571,
          0.00004,
          0.039999999311872,
          0.03799999802926695,
          0.04000000070997334,
          0.039999999311872,
          0.000014813332821333336,
          0.007999999862374402,
          0.03200000152667672,
          0.000008000000000000001,
          8.888e-9,
          0.00041859999806259196,
          0.027111110758425486,
          0.000024520124533934365,
          0.024000000224657408,
          0.00007999999836160002,
          0.0320000001876951,
          0.012092307503728758,
          0.023999999595596545,
          0.02885926004904088,
          0.00019390587701127528,
          0.00660000024297472,
          0.024500000218152962,
          0.0560540815327232,
          0.023839213936736645,
          0.08133333361186135,
          0.024000000224657408,
          0.00007407407279976297,
          0.024000000224657408,
          0.024000000224657408,
          0.024000000224657408,
          0.03999999947964416,
          0.0000068125493402963356,
          0.026000000601292803,
          0.04000000088893031
         ]
        },
        {
         "fillcolor": "#ffffff",
         "line": {
          "width": 1.5
         },
         "marker": {
          "color": "#50be61"
         },
         "name": "Transaction Price",
         "type": "box",
         "whiskerwidth": 0.5,
         "x": [
          "2023-12-31",
          "2023-12-31",
          "2023-12-31",
          "2023-12-31",
          "2024-01-01",
          "2024-01-01",
          "2024-01-01",
          "2024-01-02",
          "2024-01-02",
          "2024-01-02",
          "2024-01-02",
          "2024-01-02",
          "2024-01-03",
          "2024-01-03",
          "2024-01-03",
          "2024-01-03",
          "2024-01-03",
          "2024-01-03",
          "2024-01-03",
          "2024-01-05",
          "2024-01-05",
          "2024-01-05",
          "2024-01-05",
          "2024-01-05",
          "2024-01-05",
          "2024-01-15",
          "2024-01-18",
          "2024-01-18",
          "2024-01-18",
          "2024-01-18",
          "2024-01-19",
          "2024-01-19",
          "2024-01-19",
          "2024-01-19",
          "2024-01-19",
          "2024-01-19",
          "2024-01-19",
          "2024-01-19",
          "2024-01-19",
          "2024-01-19",
          "2024-01-19",
          "2024-01-19",
          "2024-01-19",
          "2024-01-19",
          "2024-01-19",
          "2024-01-19",
          "2024-01-19",
          "2024-01-19",
          "2024-01-19",
          "2024-01-19",
          "2024-01-19",
          "2024-01-19",
          "2024-01-19",
          "2024-01-19",
          "2024-01-19",
          "2024-01-19",
          "2024-01-19",
          "2024-01-19",
          "2024-01-19",
          "2024-01-19",
          "2024-01-19",
          "2024-01-19",
          "2024-01-19",
          "2024-01-19",
          "2024-01-19",
          "2024-01-19",
          "2024-01-19",
          "2024-01-19",
          "2024-01-19",
          "2024-01-19",
          "2024-01-19",
          "2024-01-19",
          "2024-01-19",
          "2024-01-19",
          "2024-01-19",
          "2024-01-19",
          "2024-01-19",
          "2024-01-19",
          "2024-01-19",
          "2024-01-19",
          "2024-01-19",
          "2024-01-19",
          "2024-01-19",
          "2024-01-19",
          "2024-01-19",
          "2024-01-19",
          "2024-01-19",
          "2024-01-19",
          "2024-01-19",
          "2024-01-19",
          "2024-01-19",
          "2024-01-19",
          "2024-01-19",
          "2024-01-19",
          "2024-01-19",
          "2024-01-19",
          "2024-01-19",
          "2024-01-19",
          "2024-01-19",
          "2024-01-19",
          "2024-01-19",
          "2024-01-19",
          "2024-01-19",
          "2024-01-19",
          "2024-01-19",
          "2024-01-19",
          "2024-01-19",
          "2024-01-19",
          "2024-01-19",
          "2024-01-19",
          "2024-01-19",
          "2024-01-19",
          "2024-01-19",
          "2024-01-20",
          "2024-01-20",
          "2024-01-20",
          "2024-01-20",
          "2024-01-20",
          "2024-01-20",
          "2024-01-20",
          "2024-01-20",
          "2024-01-20",
          "2024-01-20",
          "2024-01-20",
          "2024-01-20",
          "2024-01-20",
          "2024-01-20",
          "2024-01-20",
          "2024-01-20",
          "2024-01-20",
          "2024-01-20",
          "2024-01-20",
          "2024-01-20",
          "2024-01-20",
          "2024-01-20",
          "2024-01-20",
          "2024-01-20",
          "2024-01-20",
          "2024-01-20",
          "2024-01-20",
          "2024-01-20",
          "2024-01-20",
          "2024-01-20",
          "2024-01-20",
          "2024-01-20",
          "2024-01-20",
          "2024-01-20",
          "2024-01-20",
          "2024-01-20",
          "2024-01-20",
          "2024-01-20",
          "2024-01-20",
          "2024-01-20",
          "2024-01-20",
          "2024-01-20",
          "2024-01-20",
          "2024-01-20",
          "2024-01-20",
          "2024-01-20",
          "2024-01-20",
          "2024-01-20",
          "2024-01-20",
          "2024-01-20",
          "2024-01-20",
          "2024-01-20",
          "2024-01-20",
          "2024-01-20",
          "2024-01-20",
          "2024-01-20",
          "2024-01-20",
          "2024-01-20",
          "2024-01-20",
          "2024-01-20",
          "2024-01-20",
          "2024-01-20",
          "2024-01-20",
          "2024-01-20",
          "2024-01-20",
          "2024-01-20",
          "2024-01-20",
          "2024-01-20",
          "2024-01-20",
          "2024-01-20",
          "2024-01-20",
          "2024-01-20",
          "2024-01-20",
          "2024-01-20",
          "2024-01-20",
          "2024-01-20",
          "2024-01-20",
          "2024-01-20",
          "2024-01-20",
          "2024-01-20",
          "2024-01-20",
          "2024-01-20",
          "2024-01-20",
          "2024-01-20",
          "2024-01-20",
          "2024-01-20",
          "2024-01-20",
          "2024-01-20",
          "2024-01-20",
          "2024-01-20",
          "2024-01-20",
          "2024-01-20",
          "2024-01-20",
          "2024-01-20",
          "2024-01-20",
          "2024-01-20",
          "2024-01-20",
          "2024-01-20",
          "2024-01-20",
          "2024-01-20",
          "2024-01-20",
          "2024-01-20",
          "2024-01-20",
          "2024-01-20",
          "2024-01-20",
          "2024-01-20",
          "2024-01-20",
          "2024-01-20",
          "2024-01-20",
          "2024-01-20",
          "2024-01-20",
          "2024-01-20",
          "2024-01-20",
          "2024-01-20",
          "2024-01-20",
          "2024-01-20",
          "2024-01-20",
          "2024-01-20",
          "2024-01-20",
          "2024-01-20",
          "2024-01-20",
          "2024-01-20",
          "2024-01-20",
          "2024-01-20",
          "2024-01-20",
          "2024-01-20",
          "2024-01-20",
          "2024-01-20",
          "2024-01-20",
          "2024-01-20",
          "2024-01-20",
          "2024-01-20",
          "2024-01-20",
          "2024-01-20",
          "2024-01-20",
          "2024-01-20",
          "2024-01-20",
          "2024-01-20",
          "2024-01-20",
          "2024-01-20",
          "2024-01-20",
          "2024-01-20",
          "2024-01-20",
          "2024-01-20",
          "2024-01-20",
          "2024-01-20",
          "2024-01-20",
          "2024-01-20",
          "2024-01-20",
          "2024-01-20",
          "2024-01-20",
          "2024-01-20",
          "2024-01-20",
          "2024-01-20",
          "2024-01-20",
          "2024-01-20",
          "2024-01-20",
          "2024-01-20",
          "2024-01-21",
          "2024-01-21",
          "2024-01-21",
          "2024-01-21",
          "2024-01-21",
          "2024-01-21",
          "2024-01-21",
          "2024-01-21",
          "2024-01-21",
          "2024-01-21",
          "2024-01-21",
          "2024-01-21",
          "2024-01-21",
          "2024-01-21",
          "2024-01-21",
          "2024-01-21",
          "2024-01-21",
          "2024-01-21",
          "2024-01-21",
          "2024-01-21",
          "2024-01-21",
          "2024-01-21",
          "2024-01-21",
          "2024-01-21",
          "2024-01-21",
          "2024-01-21",
          "2024-01-21",
          "2024-01-21",
          "2024-01-21",
          "2024-01-21",
          "2024-01-21",
          "2024-01-21",
          "2024-01-21",
          "2024-01-21",
          "2024-01-21",
          "2024-01-21",
          "2024-01-21",
          "2024-01-21",
          "2024-01-21",
          "2024-01-21",
          "2024-01-21",
          "2024-01-21",
          "2024-01-21",
          "2024-01-21",
          "2024-01-21",
          "2024-01-21",
          "2024-01-21",
          "2024-01-21",
          "2024-01-21",
          "2024-01-21",
          "2024-01-21",
          "2024-01-21",
          "2024-01-21",
          "2024-01-21",
          "2024-01-21",
          "2024-01-21",
          "2024-01-22",
          "2024-01-22",
          "2024-01-22",
          "2024-01-22",
          "2024-01-22",
          "2024-01-22",
          "2024-01-22",
          "2024-01-22",
          "2024-01-22",
          "2024-01-22",
          "2024-01-22",
          "2024-01-22",
          "2024-01-22",
          "2024-01-22",
          "2024-01-22",
          "2024-01-22",
          "2024-01-22",
          "2024-01-22",
          "2024-01-22",
          "2024-01-22",
          "2024-01-22",
          "2024-01-22",
          "2024-01-22",
          "2024-01-22",
          "2024-01-22",
          "2024-01-22",
          "2024-01-22",
          "2024-01-22",
          "2024-01-22",
          "2024-01-22",
          "2024-01-22",
          "2024-01-22",
          "2024-01-22",
          "2024-01-22",
          "2024-01-22",
          "2024-01-22",
          "2024-01-22",
          "2024-01-22",
          "2024-01-22",
          "2024-01-22",
          "2024-01-22",
          "2024-01-22",
          "2024-01-22",
          "2024-01-22",
          "2024-01-22",
          "2024-01-22",
          "2024-01-22",
          "2024-01-22",
          "2024-01-22",
          "2024-01-22",
          "2024-01-22",
          "2024-01-22",
          "2024-01-22",
          "2024-01-22",
          "2024-01-22",
          "2024-01-22",
          "2024-01-22",
          "2024-01-22",
          "2024-01-22",
          "2024-01-22",
          "2024-01-22",
          "2024-01-22",
          "2024-01-22",
          "2024-01-22",
          "2024-01-22",
          "2024-01-22",
          "2024-01-23",
          "2024-01-23",
          "2024-01-23",
          "2024-01-23",
          "2024-01-23",
          "2024-01-23",
          "2024-01-23",
          "2024-01-23",
          "2024-01-23",
          "2024-01-23",
          "2024-01-23",
          "2024-01-23",
          "2024-01-23",
          "2024-01-23",
          "2024-01-23",
          "2024-01-23",
          "2024-01-23",
          "2024-01-23",
          "2024-01-23",
          "2024-01-23",
          "2024-01-23",
          "2024-01-23",
          "2024-01-24",
          "2024-01-24",
          "2024-01-24",
          "2024-01-24",
          "2024-01-24",
          "2024-01-24",
          "2024-01-24",
          "2024-01-24",
          "2024-01-24",
          "2024-01-24",
          "2024-01-24",
          "2024-01-24",
          "2024-01-24",
          "2024-01-25",
          "2024-01-25",
          "2024-01-25",
          "2024-01-25",
          "2024-01-25",
          "2024-01-25",
          "2024-01-25",
          "2024-01-25",
          "2024-01-26",
          "2024-01-26",
          "2024-01-26",
          "2024-01-26",
          "2024-01-26",
          "2024-01-26",
          "2024-01-26",
          "2024-01-26",
          "2024-01-26",
          "2024-01-26",
          "2024-01-26",
          "2024-01-26",
          "2024-01-26",
          "2024-01-27",
          "2024-01-27",
          "2024-01-27",
          "2024-01-27",
          "2024-01-27",
          "2024-01-27",
          "2024-01-27",
          "2024-01-27",
          "2024-01-27",
          "2024-01-27",
          "2024-01-27",
          "2024-01-27",
          "2024-01-27",
          "2024-01-27",
          "2024-01-27",
          "2024-01-27",
          "2024-01-27",
          "2024-01-28",
          "2024-01-28",
          "2024-01-28",
          "2024-01-28",
          "2024-01-28",
          "2024-01-28",
          "2024-01-28",
          "2024-01-28",
          "2024-01-28",
          "2024-01-28",
          "2024-01-28",
          "2024-01-28",
          "2024-01-28",
          "2024-01-28",
          "2024-01-28",
          "2024-01-28",
          "2024-01-28",
          "2024-01-28",
          "2024-01-29",
          "2024-01-29",
          "2024-01-29",
          "2024-01-29",
          "2024-01-29",
          "2024-01-29",
          "2024-01-29",
          "2024-01-29",
          "2024-01-29",
          "2024-01-30",
          "2024-01-30",
          "2024-01-30",
          "2024-01-30",
          "2024-01-30",
          "2024-01-30",
          "2024-01-30",
          "2024-01-30",
          "2024-01-30",
          "2024-01-30",
          "2024-01-30",
          "2024-01-30",
          "2024-01-30",
          "2024-01-30",
          "2024-01-30",
          "2024-01-30",
          "2024-01-30",
          "2024-01-30",
          "2024-01-30",
          "2024-01-30",
          "2024-01-30",
          "2024-01-30",
          "2024-01-30",
          "2024-01-31",
          "2024-01-31",
          "2024-01-31",
          "2024-01-31",
          "2024-01-31",
          "2024-01-31",
          "2024-01-31",
          "2024-01-31",
          "2024-01-31",
          "2024-01-31",
          "2024-01-31",
          "2024-01-31",
          "2024-01-31",
          "2024-01-31",
          "2024-01-31",
          "2024-02-01",
          "2024-02-01",
          "2024-02-01",
          "2024-02-01",
          "2024-02-01",
          "2024-02-01",
          "2024-02-01",
          "2024-02-01",
          "2024-02-01",
          "2024-02-01",
          "2024-02-01",
          "2024-02-01",
          "2024-02-01",
          "2024-02-01",
          "2024-02-01",
          "2024-02-01",
          "2024-02-01",
          "2024-02-01",
          "2024-02-01",
          "2024-02-01",
          "2024-02-01",
          "2024-02-01",
          "2024-02-01",
          "2024-02-01",
          "2024-02-02",
          "2024-02-02",
          "2024-02-02",
          "2024-02-02",
          "2024-02-02",
          "2024-02-02",
          "2024-02-02",
          "2024-02-02",
          "2024-02-02",
          "2024-02-02",
          "2024-02-02",
          "2024-02-02",
          "2024-02-02",
          "2024-02-02",
          "2024-02-02",
          "2024-02-02",
          "2024-02-02",
          "2024-02-03",
          "2024-02-03",
          "2024-02-03",
          "2024-02-03",
          "2024-02-03",
          "2024-02-03",
          "2024-02-03",
          "2024-02-03",
          "2024-02-03",
          "2024-02-03",
          "2024-02-03",
          "2024-02-03",
          "2024-02-03",
          "2024-02-03",
          "2024-02-03",
          "2024-02-03",
          "2024-02-03",
          "2024-02-03",
          "2024-02-03",
          "2024-02-03",
          "2024-02-03",
          "2024-02-03",
          "2024-02-03",
          "2024-02-03",
          "2024-02-03",
          "2024-02-03",
          "2024-02-03",
          "2024-02-03",
          "2024-02-03",
          "2024-02-03",
          "2024-02-03",
          "2024-02-03",
          "2024-02-03",
          "2024-02-03",
          "2024-02-03",
          "2024-02-03",
          "2024-02-03",
          "2024-02-03",
          "2024-02-03",
          "2024-02-03",
          "2024-02-03",
          "2024-02-03",
          "2024-02-03",
          "2024-02-03",
          "2024-02-03",
          "2024-02-03",
          "2024-02-03",
          "2024-02-03",
          "2024-02-03",
          "2024-02-03",
          "2024-02-03",
          "2024-02-03",
          "2024-02-03",
          "2024-02-03",
          "2024-02-03",
          "2024-02-03",
          "2024-02-03",
          "2024-02-03",
          "2024-02-03",
          "2024-02-03",
          "2024-02-04",
          "2024-02-04",
          "2024-02-04",
          "2024-02-04",
          "2024-02-04",
          "2024-02-04",
          "2024-02-04",
          "2024-02-04",
          "2024-02-04",
          "2024-02-04",
          "2024-02-04",
          "2024-02-04",
          "2024-02-04",
          "2024-02-04",
          "2024-02-04",
          "2024-02-04",
          "2024-02-04",
          "2024-02-04",
          "2024-02-04",
          "2024-02-04",
          "2024-02-04",
          "2024-02-05",
          "2024-02-05",
          "2024-02-05",
          "2024-02-05",
          "2024-02-05",
          "2024-02-05",
          "2024-02-05",
          "2024-02-05",
          "2024-02-05",
          "2024-02-05",
          "2024-02-05",
          "2024-02-05",
          "2024-02-05",
          "2024-02-05",
          "2024-02-05",
          "2024-02-05",
          "2024-02-05",
          "2024-02-05",
          "2024-02-05",
          "2024-02-05",
          "2024-02-06",
          "2024-02-06",
          "2024-02-06",
          "2024-02-06",
          "2024-02-06",
          "2024-02-07",
          "2024-02-08",
          "2024-02-08",
          "2024-02-08",
          "2024-02-09",
          "2024-02-09",
          "2024-02-09",
          "2024-02-10",
          "2024-02-10",
          "2024-02-10",
          "2024-02-10",
          "2024-02-10",
          "2024-02-11",
          "2024-02-11",
          "2024-02-11",
          "2024-02-11",
          "2024-02-11",
          "2024-02-11",
          "2024-02-11",
          "2024-02-11",
          "2024-02-11",
          "2024-02-11",
          "2024-02-11",
          "2024-02-11",
          "2024-02-11",
          "2024-02-11",
          "2024-02-11",
          "2024-02-11",
          "2024-02-12",
          "2024-02-12",
          "2024-02-12",
          "2024-02-12",
          "2024-02-12",
          "2024-02-12",
          "2024-02-12",
          "2024-02-12",
          "2024-02-12",
          "2024-02-12",
          "2024-02-12",
          "2024-02-12",
          "2024-02-12",
          "2024-02-13",
          "2024-02-13",
          "2024-02-13",
          "2024-02-13",
          "2024-02-13",
          "2024-02-14",
          "2024-02-14",
          "2024-02-14",
          "2024-02-15",
          "2024-02-15",
          "2024-02-15",
          "2024-02-15",
          "2024-02-15",
          "2024-02-15",
          "2024-02-16",
          "2024-02-16",
          "2024-02-16",
          "2024-02-16",
          "2024-02-16",
          "2024-02-16",
          "2024-02-16",
          "2024-02-16",
          "2024-02-16",
          "2024-02-17",
          "2024-02-17",
          "2024-02-17",
          "2024-02-17",
          "2024-02-17",
          "2024-02-17",
          "2024-02-17",
          "2024-02-17",
          "2024-02-17",
          "2024-02-17",
          "2024-02-17",
          "2024-02-18",
          "2024-02-18",
          "2024-02-18",
          "2024-02-18",
          "2024-02-18",
          "2024-02-18",
          "2024-02-18",
          "2024-02-18",
          "2024-02-18",
          "2024-02-18",
          "2024-02-18",
          "2024-02-18",
          "2024-02-18",
          "2024-02-18",
          "2024-02-18",
          "2024-02-18",
          "2024-02-18",
          "2024-02-18",
          "2024-02-18",
          "2024-02-18",
          "2024-02-19",
          "2024-02-19",
          "2024-02-19",
          "2024-02-20",
          "2024-02-20",
          "2024-02-20",
          "2024-02-20",
          "2024-02-20",
          "2024-02-20",
          "2024-02-20",
          "2024-02-20",
          "2024-02-20",
          "2024-02-20",
          "2024-02-20",
          "2024-02-20",
          "2024-02-20",
          "2024-02-20",
          "2024-02-20",
          "2024-02-20",
          "2024-02-20",
          "2024-02-21",
          "2024-02-21",
          "2024-02-21",
          "2024-02-23",
          "2024-02-24",
          "2024-02-24",
          "2024-02-24",
          "2024-02-25",
          "2024-02-25",
          "2024-02-25",
          "2024-02-26",
          "2024-02-27",
          "2024-02-27",
          "2024-02-27",
          "2024-02-27",
          "2024-02-27",
          "2024-02-27",
          "2024-02-27",
          "2024-02-27",
          "2024-02-27",
          "2024-02-27",
          "2024-02-27",
          "2024-02-27",
          "2024-02-27",
          "2024-02-27",
          "2024-02-27",
          "2024-02-27",
          "2024-02-27",
          "2024-02-28",
          "2024-02-28",
          "2024-02-28",
          "2024-02-28",
          "2024-02-28",
          "2024-02-28",
          "2024-02-28",
          "2024-02-29",
          "2024-02-29",
          "2024-02-29",
          "2024-02-29",
          "2024-02-29",
          "2024-02-29",
          "2024-02-29",
          "2024-02-29",
          "2024-03-01",
          "2024-03-01",
          "2024-03-01",
          "2024-03-01",
          "2024-03-01",
          "2024-03-01",
          "2024-03-01",
          "2024-03-01",
          "2024-03-02",
          "2024-03-02",
          "2024-03-02",
          "2024-03-02",
          "2024-03-02",
          "2024-03-03",
          "2024-03-03",
          "2024-03-03",
          "2024-03-04",
          "2024-03-04",
          "2024-03-04",
          "2024-03-04",
          "2024-03-04",
          "2024-03-04",
          "2024-03-06",
          "2024-03-06",
          "2024-03-06",
          "2024-03-06",
          "2024-03-06",
          "2024-03-06",
          "2024-03-06",
          "2024-03-06",
          "2024-03-06",
          "2024-03-06",
          "2024-03-06",
          "2024-03-06",
          "2024-03-06",
          "2024-03-06",
          "2024-03-07",
          "2024-03-07",
          "2024-03-08",
          "2024-03-08",
          "2024-03-08",
          "2024-03-08",
          "2024-03-08",
          "2024-03-09",
          "2024-03-09",
          "2024-03-09",
          "2024-03-09",
          "2024-03-10",
          "2024-03-10",
          "2024-03-10",
          "2024-03-10",
          "2024-03-10",
          "2024-03-10",
          "2024-03-10",
          "2024-03-10",
          "2024-03-11",
          "2024-03-11",
          "2024-03-11",
          "2024-03-11",
          "2024-03-11",
          "2024-03-11",
          "2024-03-11",
          "2024-03-11",
          "2024-03-12",
          "2024-03-12",
          "2024-03-12",
          "2024-03-12",
          "2024-03-12",
          "2024-03-12",
          "2024-03-12",
          "2024-03-12",
          "2024-03-12",
          "2024-03-12",
          "2024-03-12",
          "2024-03-12",
          "2024-03-12",
          "2024-03-12",
          "2024-03-12",
          "2024-03-12",
          "2024-03-13",
          "2024-03-13",
          "2024-03-14",
          "2024-03-14",
          "2024-03-15",
          "2024-03-15",
          "2024-03-15",
          "2024-03-15",
          "2024-03-16",
          "2024-03-16",
          "2024-03-16",
          "2024-03-16",
          "2024-03-16",
          "2024-03-16",
          "2024-03-16",
          "2024-03-16",
          "2024-03-16",
          "2024-03-17",
          "2024-03-18",
          "2024-03-18",
          "2024-03-18",
          "2024-03-19",
          "2024-03-19",
          "2024-03-19",
          "2024-03-19",
          "2024-03-19",
          "2024-03-20",
          "2024-03-20",
          "2024-03-20",
          "2024-03-20",
          "2024-03-20",
          "2024-03-20",
          "2024-03-21",
          "2024-03-21",
          "2024-03-21",
          "2024-03-22",
          "2024-03-22",
          "2024-03-22",
          "2024-03-22",
          "2024-03-22",
          "2024-03-22",
          "2024-03-22",
          "2024-03-22",
          "2024-03-22",
          "2024-03-23",
          "2024-03-23",
          "2024-03-23",
          "2024-03-24",
          "2024-03-24",
          "2024-03-24",
          "2024-03-24",
          "2024-03-24",
          "2024-03-24"
         ],
         "y": [
          0.007999999862374402,
          0.007999999862374402,
          0.03599999980011521,
          0.03599999980011521,
          0.0007999999967232,
          0.0007999999967232,
          0.0007999999967232,
          0.05360000067174401,
          0.33599998918656004,
          0.33599998918656004,
          0.039999999311872,
          0.0016800000245760002,
          0.33599998918656004,
          4e-9,
          0.00004,
          0.0000287999983616,
          0.0000028800000000000004,
          0.00000296,
          9.840000000000001e-8,
          0.03599999980011521,
          4e-8,
          0.0000271999991808,
          0.0000280000004096,
          9.872000000000001e-8,
          0.0000098759999488,
          0.0440000005013504,
          0.007999999862374402,
          0.000008000000000000001,
          0.000008000000000000001,
          0.04600000151552,
          0.33599998918656004,
          0.0800000003014656,
          0.0400000001507328,
          0.00359999995904,
          0.0058571427713609145,
          0.1200000038076416,
          0.2000000054512845,
          0.002400000076152832,
          0.0400000001507328,
          0.800000003014656,
          0.0017391304413362087,
          0.004800000085196801,
          0.004800000085196801,
          0.1600000006029312,
          0.008000000030146559,
          0.03999999947964416,
          0.19800000561152004,
          0.01999999973982208,
          0.06400000024117247,
          0.0035999999800115203,
          0.0035999999800115203,
          0.030000000280821764,
          0.03529411797743737,
          0.19800000561152004,
          0.00019999999655935998,
          0.00019999999655935998,
          0.00019999999655935998,
          0.02782608706137934,
          0.02782608706137934,
          0.02782608706137934,
          0.17999999900057603,
          0.0004000000126921387,
          0.0004000000126921387,
          0.39999999479644166,
          0.03199999944949761,
          0.4800000152305664,
          0.2133333341372416,
          0.05600000155320321,
          0.0800000021805138,
          0.13333333159881386,
          0.01947826140980981,
          0.01947826140980981,
          0.2181818251048029,
          0.0600000019038208,
          0.0600000019038208,
          0.004800000152305664,
          0.004800000152305664,
          0.6000000056164353,
          0.04199999931940865,
          0.04199999931940865,
          0.04199999931940865,
          0.39999999479644166,
          0.00039999999180800004,
          0.39999999479644166,
          0.39999999479644166,
          4.0000000000000003e-7,
          4.0000000000000003e-7,
          0.008000000253842773,
          0.008000000253842773,
          0.008000000253842773,
          0.008000000253842773,
          0.079200002244608,
          0.35999999800115207,
          0.03199999944949761,
          0.35999999800115207,
          0.0400000001507328,
          0.3200000012058624,
          0.010666666706862081,
          0.06843657648896212,
          0.015999999791857664,
          0.001057627143103436,
          0.001057627143103436,
          0.3200000012058624,
          0.05714285639949166,
          0.00002482544565515718,
          0.00002482544565515718,
          0.015999999791857664,
          0.00021057569589645375,
          0.00014953271084386095,
          0.00014953271084386095,
          0.00009132420125738085,
          0.03279999951962113,
          0.0400000001507328,
          0.200000000753664,
          0.0020000000075366398,
          0.0017777777471943111,
          0.016799999459328002,
          0.015600000360775683,
          0.015600000360775683,
          0.0051612903420300395,
          0.009142857177310355,
          0.009142857177310355,
          0.3199999958371533,
          0.00012767999589089282,
          0.1200000032707707,
          0.12000000112328706,
          0.12000000112328706,
          0.12000000112328706,
          0.001999999973982208,
          0.0003065134111167265,
          0.0004383561568424329,
          0.032000000120586236,
          0.01400000022052864,
          0.0019512195195479417,
          0.0016000000060293121,
          0.0016000000060293121,
          0.0016000000060293121,
          0.1600000006029312,
          0.0001641025612794749,
          0.0001641025612794749,
          0.0001641025612794749,
          0.0001641025612794749,
          0.02000000054512845,
          0.03999999937226998,
          0.0020000000075366398,
          0.0020000000075366398,
          0.04407713618761091,
          0.0016000000060293121,
          0.0016000000060293121,
          0.0006153846047980308,
          0.0006153846047980308,
          0.0001739130404864,
          0.0001739130404864,
          0.00039999999311871997,
          0.003999999931187201,
          0.0040000000150732795,
          0.0040000000150732795,
          0.0040000000150732795,
          0.0040000000150732795,
          0.05000000136282112,
          0.2800000044105728,
          0.039999999414172094,
          0.00040000000150732803,
          0.0004533333507003734,
          0.0008163265565145688,
          0.0008163265565145688,
          0.000043999997984768,
          0.00002573099297354854,
          0.04678362700614842,
          0.0023859650036861754,
          0.0023859650036861754,
          0.03720930184152946,
          0.0070697677494224375,
          0.006000000190382081,
          0.19999999739822083,
          0.0400000001507328,
          0.0400000010902569,
          0.05405405552737419,
          0.04848484785411414,
          0.09333333480352426,
          0.00039999999311871997,
          0.012000000380764162,
          0.012000000380764162,
          0.0300000009519104,
          0.0026666666767155203,
          0.0026666666767155203,
          0.07999999847122387,
          0.06000000163538535,
          0.00004289544162131046,
          0.039999999906485,
          0.0006000000106496001,
          0.0007999999862374399,
          0.08000000009810541,
          0.01272727292775331,
          0.0400000001507328,
          0.06000000163538535,
          0.0800000003014656,
          0.05733333231905451,
          0.0400000001507328,
          0.024000000425984002,
          0.00007524752470380991,
          0.00007524752470380991,
          0.00007920791942944952,
          0.000079999998623744,
          0.0007999999862374399,
          0.000057553955844420144,
          0.000057553955844420144,
          0.0007482014561523108,
          0.0400000001507328,
          0.048000000449314816,
          0.05194285589575388,
          0.050742857372420395,
          0.000079999998623744,
          0.04004004521545241,
          0.031460674049647606,
          0.042185273349993196,
          0.0047819971814839265,
          0.03804994005198018,
          0.04809052404133187,
          0.04572246144962472,
          0.04678609253053802,
          0.051080461560616214,
          0.03927332154275153,
          0.03622881350034658,
          0.04477611848662225,
          0.040920597458138,
          0.0460299207022519,
          0.03278688481938046,
          0.04352557059006527,
          0.0383141772895181,
          0.039603961475501874,
          0.03869281063256458,
          0.039999999848583885,
          0.016888888728835417,
          0.03422222305955385,
          0.040363638010436895,
          0.07132916936228265,
          0.03240323966088595,
          0.04787540285431911,
          0.03777632445837947,
          0.05802835294731581,
          0.00562370975239195,
          0.05827814387059896,
          0.12524720324733282,
          0.12442091044029079,
          0.00020000000075366401,
          0.00020000000075366401,
          0.09405940956742767,
          0.09396637355400786,
          0.05199999798136013,
          0.0947394701202712,
          0.05855855628531546,
          0.05493562252461157,
          0.07927927776427589,
          0.055084743624322176,
          0.04180064146411586,
          0.059555553170190796,
          0.059160491473447194,
          0.048000000449314816,
          0.05677724892593866,
          0.06117646821336486,
          0.05894736585118733,
          0.04719999836592538,
          0.05263157690421066,
          0.0040000000150732795,
          0.05295315476716917,
          0.0673267325947539,
          0.03555555509301703,
          0.04274809145677308,
          0.09097725322781511,
          0.0133333333835776,
          0.19999999739822083,
          0.04960000032112641,
          0.03636000301313438,
          0.04390341111784296,
          0.043850905543454465,
          0.043815971541826544,
          0.04221838286538305,
          0.04399999862230221,
          0.042267049589147176,
          0.04230769098298289,
          0.04230362332689377,
          0.042311759421388796,
          0.042267049589147176,
          0.04229142505027125,
          0.043435727795428605,
          0.042968748654592,
          0.04230769098298289,
          0.04227517162019813,
          0.04228736052119386,
          0.042295490360763445,
          0.04230362332689377,
          0.042701862016985837,
          0.042594383951889844,
          0.03999999947964416,
          0.03999999947964416,
          0.043999999542652345,
          0.04333333433548801,
          0.04400000089610842,
          0.000031434184135066404,
          0.0400000001507328,
          0.03544303785340047,
          0.015999999791857664,
          0.03636363634965615,
          0.0558474906555704,
          0.019599999503433725,
          0.03956087367448321,
          0.05732358287346884,
          0.03599999926324429,
          0.034698794988062845,
          0.00007093596019727133,
          0.03199999958371533,
          0.10089328755893155,
          0.08799266452256088,
          0.00003960395971472476,
          0.032000000120586236,
          0.02799999990418637,
          0.08995167654997423,
          0.08997416634326116,
          0.08968909016629338,
          0.035485975730955396,
          0.03599999926324429,
          0.03599999926324429,
          0.0019999999655936004,
          0.03599999926324429,
          0.09618443667224574,
          0.03599999926324429,
          0.06000000056164353,
          0.07999999895928832,
          0.0479520484009139,
          0.05199999798136013,
          0.05199999798136013,
          0.05199999798136013,
          0.05199999798136013,
          0.0518367360191091,
          0.05028571434738054,
          0.03972167202766327,
          0.03725490002869308,
          0.0400000010902569,
          0.03902438973623821,
          0.037333333205581826,
          0.03599999926324429,
          0.03149606385059599,
          0.00062992125263872,
          0.03599999926324429,
          0.003921568576435702,
          0.03611110970927787,
          0.001439999992004608,
          0.001439999992004608,
          0.027586206331987963,
          0.026000000601292803,
          0.025904761874552932,
          0.024000000792382972,
          0.02472727269843689,
          0.023333332955227024,
          0.024000000463266703,
          0.02400000015538374,
          0.021444445112456537,
          0.022545454691421093,
          0.022222221933135645,
          0.025508196261861144,
          0.06060606225796499,
          0.0015999999724748799,
          0.0017999999900057601,
          0.0016326530673768489,
          0.06000000056164353,
          0.057599998821190865,
          0.000015157895005884635,
          0.040000000772111174,
          0.052244898156059164,
          0.05000000046803627,
          0.05333333263952555,
          0.05106383026522853,
          0.0066666666917888,
          0.000027428571915410286,
          0.0001280107217944576,
          0.0001280107217944576,
          0.0001280107217944576,
          0.0100000000376832,
          0.048000000449314816,
          0.048000000449314816,
          0.048000000449314816,
          0.039263803170202866,
          0.0400000010902569,
          0.04000000037442902,
          0.00011940298302051344,
          0.03999999839788934,
          0.03978141875131734,
          0.04399999915917312,
          0.045283019291806434,
          0.04377358545047475,
          0.0026666666767155203,
          0.04399999862230221,
          0.04995094086912206,
          0.04705882481206694,
          0.04799999901765905,
          0.04000000037442902,
          0.05000000136282112,
          0.04571428511959333,
          0.03799999802926695,
          0.016842105044060703,
          0.0007999999967232,
          0.052800000064749573,
          0.000159999997247488,
          0.00024000000425984,
          0.0007999999862374399,
          0.0007999999862374399,
          0.0012000000212992001,
          0.00020000000075366401,
          0.00020000000075366401,
          0.00020000000075366401,
          0.00020000000075366401,
          0.00020000000075366401,
          0.00010999999496192001,
          0.00010999999496192001,
          0.19800000561152004,
          0.7840000016121857,
          0.05333333263952555,
          0.04571428511959333,
          0.04000000017814016,
          0.05159999908714906,
          0.0400000010902569,
          0.0506970862994384,
          0.007999999862374402,
          0.00023225806863855488,
          0.03799999802926695,
          0.032786886139554834,
          0.000315151512271903,
          0.08000799833587714,
          0.0400000010902569,
          0.0800000003014656,
          0.0000057926829230829275,
          0.03539823105332469,
          0.03999999890066573,
          0.03799999802926695,
          0.00020000000075366401,
          0.037799998582161404,
          0.03599999926324429,
          0.03199999958371533,
          0.039599997901078536,
          0.039599997901078536,
          0.007520000357171201,
          0.039599997901078536,
          0.036750481653062814,
          0.03750000102211585,
          0.03706666727610777,
          0.03623529500423348,
          0.03238095234319116,
          0.0358208947892978,
          0.000006806883031568644,
          0.03799999802926695,
          0.03919999900686745,
          0.0002933333416466963,
          0.0002936296148536889,
          0.0002936296148536889,
          0.03919999900686745,
          0.017599999753147737,
          0.0011428571231963428,
          0.039024391307567706,
          0.0032000000120586242,
          0.00004736842189338948,
          0.00004736842189338948,
          0.03799999802926695,
          0.03599999926324429,
          0.030645080293376002,
          0.03799999802926695,
          0.2640000074820267,
          0.12800000048234494,
          0.400000001507328,
          0.03999999899658264,
          0.039999999311872,
          0.03909091035161321,
          0.03919999900686745,
          0.03799999802926695,
          0.03799999802926695,
          0.03799999802926695,
          0.03582089564401766,
          0.000031545741443795585,
          0.012800000406148438,
          0.03841584169569939,
          0.037743190771066526,
          0.0002749999874048,
          0.00004609585359248336,
          0.03316749604582375,
          0.05599999980837274,
          0.03333333424188075,
          0.0032738479964160004,
          0.039999999311872,
          0.032000000120586236,
          0.003452970467328,
          0.03560000036903322,
          0.0007999999862374399,
          0.034970857498983814,
          0.400000001507328,
          0.00003473170561473562,
          0.034000000497221634,
          0.03599999926324429,
          0.0036756756713892673,
          0.03428571537361189,
          0.028135593696030373,
          0.400000001507328,
          0.03359999945552691,
          0.03359999945552691,
          0.03194666539566148,
          0.03164356490424523,
          0.03165467526784332,
          0.031135134962261796,
          0.0351999993273385,
          0.00016600000364544,
          0.03320000056131584,
          0.03320000056131584,
          0.032000000120586236,
          0.032000000120586236,
          0.400000001507328,
          0.0029090908590452364,
          0.03199999958371533,
          0.03599999980011521,
          0.026666667512809248,
          0.003999999931187201,
          0.003999999931187201,
          0.003999999931187201,
          0.032000000120586236,
          0.0015999999724748799,
          0.0015999999724748799,
          0.039999999311872,
          0.039999999311872,
          0.039999999311872,
          0.03199999958371533,
          0.00003152709346692414,
          0.03199999958371533,
          0.014035087536717252,
          0.03549090780926324,
          0.03276595824850901,
          0.03999999947964416,
          0.032000000120586236,
          0.032000000120586236,
          0.039999999311872,
          0.039999999311872,
          0.039999999311872,
          0.039999999311872,
          0.039999999311872,
          0.039999999311872,
          0.039999999311872,
          0.039999999311872,
          0.039999999311872,
          0.039999999311872,
          0.039999999311872,
          0.000286360010752,
          0.03200000029954321,
          0.02758620680215406,
          0.00031999999868928005,
          0.032000000120586236,
          0.0031080000258048002,
          0.03199999958371533,
          0.007999999862374402,
          0.039999999311872,
          0.039999999311872,
          0.039999999311872,
          0.039999999311872,
          0.039999999311872,
          0.039999999311872,
          0.039999999311872,
          0.039999999311872,
          0.039999999311872,
          0.039999999311872,
          0.039999999311872,
          0.039999999311872,
          0.039999999311872,
          0.039999999311872,
          0.039999999311872,
          0.025454545367442155,
          0.00023879999710822402,
          0.0960000030461133,
          0.13000000300646403,
          0.039999999311872,
          0.039999999311872,
          0.039999999311872,
          0.039999999311872,
          0.039999999311872,
          0.039999999311872,
          0.039999999311872,
          0.00039999999180800004,
          0.022702702403910837,
          0.028729792573790006,
          0.01759999966366925,
          0.00067999998410752,
          0.013557251969730639,
          0.015971223093837354,
          0.022227784831473266,
          0.027373613940493577,
          0.018127544685027516,
          0.01830417225321708,
          0.017471839609416413,
          0.021276595078482695,
          0.019801979577993796,
          0.014814814953492229,
          0.020084866298360034,
          0.019819819844125217,
          0.014928649817936651,
          0.01248226926501365,
          0.011592689347485077,
          0.011592689347485077,
          0.010068027256432618,
          0.01946471994143268,
          0.02042042039660704,
          0.0140284360824227,
          0.019801979577993796,
          0.00987654308139362,
          0.012861736167088154,
          0.012021857693763148,
          0.010928961606460154,
          0.011267605487223708,
          0.016474953692344283,
          0.00006178861784621788,
          0.010554089572465479,
          0.025751072434366445,
          0.008510638187158333,
          0.008528784537237563,
          0.00879120867684487,
          0.00879120867684487,
          0.00879120867684487,
          0.03199999958371533,
          0.0006399999973785601,
          0.01131541710881023,
          0.014915254255578976,
          0.0035377078053846923,
          0.03346613534364905,
          0.6653527543459461,
          0.06743098860606661,
          0.06879724758015697,
          0.06819443290585617,
          0.06811611368862637,
          0.037999999639879684,
          0.03448275807954309,
          0.06798418919966422,
          0.06797612878913585,
          0.06795464370240228,
          0.06795464370240228,
          0.06793585538950567,
          0.06796807028971408,
          0.0679707562438848,
          0.06793853879810026,
          0.06798150218376761,
          0.06798418919966422,
          0.06795732859547628,
          0.06795464370240228,
          0.003999999983616,
          0.03245436063257133,
          0.032400000684245214,
          0.00004,
          0.033000000040468484,
          0.06639529022688695,
          0.000038222221657884445,
          0.04923076859033128,
          0.400000001507328,
          0.07999999895928832,
          0.400000001507328,
          0.400000001507328,
          0.06640053865898267,
          0.06795732859547628,
          0.06812613649147846,
          0.06849587777274918,
          0.06851224802834115,
          0.06797612878913585,
          0.06873126820185832,
          0.06878624222161585,
          0.06799762746596183,
          0.06797612878913585,
          0.039999999311872,
          0.03272727254555927,
          0.039999999311872,
          0.039999999311872,
          0.030188680068118413,
          0.00023529411853372238,
          0.008380952476447696,
          0.07333333416891734,
          0.004666666516480001,
          0.013333333103957335,
          0.02799999909888,
          0.06660851750895727,
          4e-10,
          0.06630893851660814,
          0.013333333103957335,
          0.039999999311872,
          0.039999999311872,
          0.030769231057253085,
          0.03074550020221723,
          0.039999999311872,
          0.039999999311872,
          0.028888887767422294,
          0.0031999999868928,
          0.013333333103957335,
          0.021999998992384,
          0.000013333333103957335,
          0.019999999655936,
          0.021999998992384,
          0.013333333103957335,
          0.013333333103957335,
          0.013333333103957335,
          0.013333333103957335,
          0.013333333103957335,
          0.013333333103957335,
          0.003999999931187201,
          0.0019999999655936004,
          0.00039999999180800004,
          0.00039999999180800004,
          0.02000000054512845,
          0.019999999655936,
          0.019999999655936,
          0.019999999655936,
          0.024000000425984002,
          0.021999998992384,
          0.019999999655936,
          0.019999999655936,
          0.013333333103957335,
          0.021999998992384,
          0.019999999655936,
          0.01960000019224924,
          0.019999999655936,
          0.03999999947964416,
          0.039999999311872,
          0.039999999311872,
          0.019999999655936,
          0.019999999655936,
          0.022598870672461528,
          0.003999999983616,
          0.003076923036895705,
          0.08888888773254258,
          0.039999999311872,
          0.030000000817692676,
          0.029999999386036907,
          4e-10,
          0.030439999626589363,
          0.039999999311872,
          0.039999999311872,
          0.03043999910024533,
          0.000004000000000000001,
          4e-8,
          4e-8,
          4e-8,
          4e-8,
          4e-8,
          0.039999999311872,
          0.039999999311872,
          0.039999999311872,
          0.13333333383577603,
          4e-8,
          4e-8,
          4e-8,
          0.00039603960545280003,
          0.000024950819507619673,
          0.00000878477321595315,
          0.00005354752362882571,
          0.12000000112328706,
          0.03199999958371533,
          0.03199999958371533,
          0.039999999311872,
          0.03163097228949906,
          0.030428570141140115,
          0.030439999458159273,
          4e-8,
          4e-8,
          4e-8,
          4e-8,
          4e-8,
          4e-8,
          4e-8,
          0.00004,
          0.00004,
          0.00004,
          0.03999999947964416,
          0.030000000817692676,
          4e-9,
          0.039999999311872,
          0.04000000070997334,
          0.02666666620791467,
          0.03799999802926695,
          0.034588563682793866,
          0.03259604179765584,
          0.03199999958371533,
          0.03199999958371533,
          0.03199999958371533,
          0.039999999311872,
          0.039999999311872,
          0.039999999311872,
          0.039999999311872,
          0.039999999311872,
          0.04000000070997334,
          0.04000000070997334,
          0.04000000070997334,
          0.03647803655785336,
          0.00009491525118264408,
          0.011428571471637944,
          0.04000000070997334,
          0.079999998623744,
          0.00014222222163967998,
          0.039999999311872,
          0.13333333383577603,
          0.000013333333333333335,
          0.000014813332821333336,
          0.200000000753664,
          0.007999999862374402,
          0.00004961240289756279,
          0.03200000152667672,
          0.033000000040468484,
          0.0328571440594944,
          0.015999999724748803,
          0.000015999999934464003,
          0.000015999999934464003,
          0.000015999999934464003,
          0.00499999993495552,
          0.0000026896269325435016,
          8.888800256000001e-7,
          8.888800256000001e-7,
          8.888800256000001e-7,
          8.888800256000001e-7,
          8.888800256000001e-7,
          8.888800256000001e-7,
          8.888800256000001e-7,
          0.000008000000000000001,
          0.008880000073728,
          7.406666666666667e-9,
          8.888e-9,
          8.888e-9,
          8.888e-9,
          8.888e-9,
          8.888e-9,
          8.888e-9,
          0.13333333383577603,
          0.0800000003014656,
          0.000037199999401984,
          0.000005256410327302564,
          0.0000051282051072,
          0.000031999999868928006,
          0.007999999862374402,
          0.0007999999967232,
          0.13333333383577603,
          0.13333333383577603,
          0.13333333383577603,
          0.012499999837388802,
          0.00015999999672320004,
          0.03199999958371533,
          0.00005599999819776001,
          0.022222221933135645,
          0.000024520124533934365,
          0.00006249999892480001,
          0.000027999999098880004,
          0.000007221438498085192,
          8e-10,
          0.033333332899703465,
          0.024000000224657408,
          0.02000000054512845,
          0.13333333383577603,
          0.024000000224657408,
          0.00007999999836160002,
          0.00007999999836160002,
          0.00007999999836160002,
          0.00007999999836160002,
          0.0400000001507328,
          0.024000000224657408,
          0.024000000224657408,
          0.00007866666713088001,
          0.0800000003014656,
          0.0800000003014656,
          0.0800000003014656,
          0.0800000003014656,
          0.0800000003014656,
          0.0800000003014656,
          0.01818181825033309,
          0.01818181825033309,
          0.01818181825033309,
          0.01818181825033309,
          0.023999999619565334,
          0.0001846153878921846,
          0.13333333383577603,
          0.024000000057123223,
          0.023999999078591006,
          0.023999999595596545,
          0.0005673758886628766,
          0.03212851493193325,
          0.028518519216294877,
          0.00010173333285546667,
          0.02920000088178688,
          0.02920000088178688,
          0.028999999287197698,
          0.0003294117541044706,
          0.000058399999918080005,
          0.00005759999934464,
          0.00001426356636140155,
          0.00005759999934464,
          0.028999999287197698,
          0.0016000000060293121,
          0.005599999819776001,
          0.005599999819776001,
          0.014399999920046081,
          0.01520000066125824,
          0.00560000015532032,
          0.00760000033062912,
          0.010285714228604345,
          0.6400000024117248,
          0.039999999311872,
          0.11199999639552,
          0.1600000006029312,
          0.07272727300133236,
          0.00605599985303552,
          0.024000000761528324,
          0.15200000661258242,
          0.002768166053954613,
          0.024999999674777604,
          0.013714285957705142,
          0.024000000224657408,
          0.024000000224657408,
          0.024000000224657408,
          0.02799999990418637,
          0.00019999999655935998,
          0.11199999639552,
          0.00010816666992639999,
          0.04745762786619879,
          0.00022080000727449603,
          0.1600000006029312,
          0.1600000006029312,
          0.002666666620791467,
          0.000015705521150743558,
          0.024000000224657408,
          0.025600000096468994,
          0.0001081081062483027,
          0.024000000224657408,
          0.024000000224657408,
          0.000039999999311872,
          0.00002994652310040642,
          0.024000000224657408,
          0.004800000085196801,
          0.00007407407279976297,
          0.03999999947964416,
          0.024000000224657408,
          0.024000000224657408,
          0.00005025242859221748,
          0.00012940000362496,
          0.024000000224657408,
          0.024000000224657408,
          0.024000000224657408,
          0.031240000825720832,
          0.024000000224657408,
          0.024000000224657408,
          0.024000000224657408,
          0.024000000224657408,
          0.003076923036895705,
          0.11199999639552,
          0.03999999947964416,
          0.03999999947964416,
          0.11199999639552,
          0.025925925837209606,
          0.000028043478986573914,
          0.000004999999913984,
          0.000004842614928798063,
          0.00007382857042212572,
          0.0000068125493402963356,
          0.0000068125493402963356,
          3.1567524779449546e-7,
          0.11199999639552,
          0.026000000601292803,
          0.003999999947964416,
          0.0800000003014656,
          0.024000000224657408,
          0.05600000155320321,
          0.0016000000283989335,
          0.05714285735818971,
          0.0007999999967232
         ]
        }
       ],
       "layout": {
        "font": {
         "family": "Clear Sans",
         "size": 18
        },
        "height": 450,
        "legend": {
         "orientation": "h",
         "x": 0.5,
         "xanchor": "center",
         "y": 1.02
        },
        "margin": {
         "b": 10,
         "l": 10,
         "r": 10,
         "t": 10
        },
        "template": {
         "data": {
          "bar": [
           {
            "error_x": {
             "color": "rgb(36,36,36)"
            },
            "error_y": {
             "color": "rgb(36,36,36)"
            },
            "marker": {
             "line": {
              "color": "white",
              "width": 0.5
             },
             "pattern": {
              "fillmode": "overlay",
              "size": 10,
              "solidity": 0.2
             }
            },
            "type": "bar"
           }
          ],
          "barpolar": [
           {
            "marker": {
             "line": {
              "color": "white",
              "width": 0.5
             },
             "pattern": {
              "fillmode": "overlay",
              "size": 10,
              "solidity": 0.2
             }
            },
            "type": "barpolar"
           }
          ],
          "carpet": [
           {
            "aaxis": {
             "endlinecolor": "rgb(36,36,36)",
             "gridcolor": "white",
             "linecolor": "white",
             "minorgridcolor": "white",
             "startlinecolor": "rgb(36,36,36)"
            },
            "baxis": {
             "endlinecolor": "rgb(36,36,36)",
             "gridcolor": "white",
             "linecolor": "white",
             "minorgridcolor": "white",
             "startlinecolor": "rgb(36,36,36)"
            },
            "type": "carpet"
           }
          ],
          "choropleth": [
           {
            "colorbar": {
             "outlinewidth": 1,
             "tickcolor": "rgb(36,36,36)",
             "ticks": "outside"
            },
            "type": "choropleth"
           }
          ],
          "contour": [
           {
            "colorbar": {
             "outlinewidth": 1,
             "tickcolor": "rgb(36,36,36)",
             "ticks": "outside"
            },
            "colorscale": [
             [
              0,
              "#440154"
             ],
             [
              0.1111111111111111,
              "#482878"
             ],
             [
              0.2222222222222222,
              "#3e4989"
             ],
             [
              0.3333333333333333,
              "#31688e"
             ],
             [
              0.4444444444444444,
              "#26828e"
             ],
             [
              0.5555555555555556,
              "#1f9e89"
             ],
             [
              0.6666666666666666,
              "#35b779"
             ],
             [
              0.7777777777777778,
              "#6ece58"
             ],
             [
              0.8888888888888888,
              "#b5de2b"
             ],
             [
              1,
              "#fde725"
             ]
            ],
            "type": "contour"
           }
          ],
          "contourcarpet": [
           {
            "colorbar": {
             "outlinewidth": 1,
             "tickcolor": "rgb(36,36,36)",
             "ticks": "outside"
            },
            "type": "contourcarpet"
           }
          ],
          "heatmap": [
           {
            "colorbar": {
             "outlinewidth": 1,
             "tickcolor": "rgb(36,36,36)",
             "ticks": "outside"
            },
            "colorscale": [
             [
              0,
              "#440154"
             ],
             [
              0.1111111111111111,
              "#482878"
             ],
             [
              0.2222222222222222,
              "#3e4989"
             ],
             [
              0.3333333333333333,
              "#31688e"
             ],
             [
              0.4444444444444444,
              "#26828e"
             ],
             [
              0.5555555555555556,
              "#1f9e89"
             ],
             [
              0.6666666666666666,
              "#35b779"
             ],
             [
              0.7777777777777778,
              "#6ece58"
             ],
             [
              0.8888888888888888,
              "#b5de2b"
             ],
             [
              1,
              "#fde725"
             ]
            ],
            "type": "heatmap"
           }
          ],
          "heatmapgl": [
           {
            "colorbar": {
             "outlinewidth": 1,
             "tickcolor": "rgb(36,36,36)",
             "ticks": "outside"
            },
            "colorscale": [
             [
              0,
              "#440154"
             ],
             [
              0.1111111111111111,
              "#482878"
             ],
             [
              0.2222222222222222,
              "#3e4989"
             ],
             [
              0.3333333333333333,
              "#31688e"
             ],
             [
              0.4444444444444444,
              "#26828e"
             ],
             [
              0.5555555555555556,
              "#1f9e89"
             ],
             [
              0.6666666666666666,
              "#35b779"
             ],
             [
              0.7777777777777778,
              "#6ece58"
             ],
             [
              0.8888888888888888,
              "#b5de2b"
             ],
             [
              1,
              "#fde725"
             ]
            ],
            "type": "heatmapgl"
           }
          ],
          "histogram": [
           {
            "marker": {
             "line": {
              "color": "white",
              "width": 0.6
             }
            },
            "type": "histogram"
           }
          ],
          "histogram2d": [
           {
            "colorbar": {
             "outlinewidth": 1,
             "tickcolor": "rgb(36,36,36)",
             "ticks": "outside"
            },
            "colorscale": [
             [
              0,
              "#440154"
             ],
             [
              0.1111111111111111,
              "#482878"
             ],
             [
              0.2222222222222222,
              "#3e4989"
             ],
             [
              0.3333333333333333,
              "#31688e"
             ],
             [
              0.4444444444444444,
              "#26828e"
             ],
             [
              0.5555555555555556,
              "#1f9e89"
             ],
             [
              0.6666666666666666,
              "#35b779"
             ],
             [
              0.7777777777777778,
              "#6ece58"
             ],
             [
              0.8888888888888888,
              "#b5de2b"
             ],
             [
              1,
              "#fde725"
             ]
            ],
            "type": "histogram2d"
           }
          ],
          "histogram2dcontour": [
           {
            "colorbar": {
             "outlinewidth": 1,
             "tickcolor": "rgb(36,36,36)",
             "ticks": "outside"
            },
            "colorscale": [
             [
              0,
              "#440154"
             ],
             [
              0.1111111111111111,
              "#482878"
             ],
             [
              0.2222222222222222,
              "#3e4989"
             ],
             [
              0.3333333333333333,
              "#31688e"
             ],
             [
              0.4444444444444444,
              "#26828e"
             ],
             [
              0.5555555555555556,
              "#1f9e89"
             ],
             [
              0.6666666666666666,
              "#35b779"
             ],
             [
              0.7777777777777778,
              "#6ece58"
             ],
             [
              0.8888888888888888,
              "#b5de2b"
             ],
             [
              1,
              "#fde725"
             ]
            ],
            "type": "histogram2dcontour"
           }
          ],
          "mesh3d": [
           {
            "colorbar": {
             "outlinewidth": 1,
             "tickcolor": "rgb(36,36,36)",
             "ticks": "outside"
            },
            "type": "mesh3d"
           }
          ],
          "parcoords": [
           {
            "line": {
             "colorbar": {
              "outlinewidth": 1,
              "tickcolor": "rgb(36,36,36)",
              "ticks": "outside"
             }
            },
            "type": "parcoords"
           }
          ],
          "pie": [
           {
            "automargin": true,
            "type": "pie"
           }
          ],
          "scatter": [
           {
            "fillpattern": {
             "fillmode": "overlay",
             "size": 10,
             "solidity": 0.2
            },
            "type": "scatter"
           }
          ],
          "scatter3d": [
           {
            "line": {
             "colorbar": {
              "outlinewidth": 1,
              "tickcolor": "rgb(36,36,36)",
              "ticks": "outside"
             }
            },
            "marker": {
             "colorbar": {
              "outlinewidth": 1,
              "tickcolor": "rgb(36,36,36)",
              "ticks": "outside"
             }
            },
            "type": "scatter3d"
           }
          ],
          "scattercarpet": [
           {
            "marker": {
             "colorbar": {
              "outlinewidth": 1,
              "tickcolor": "rgb(36,36,36)",
              "ticks": "outside"
             }
            },
            "type": "scattercarpet"
           }
          ],
          "scattergeo": [
           {
            "marker": {
             "colorbar": {
              "outlinewidth": 1,
              "tickcolor": "rgb(36,36,36)",
              "ticks": "outside"
             }
            },
            "type": "scattergeo"
           }
          ],
          "scattergl": [
           {
            "marker": {
             "colorbar": {
              "outlinewidth": 1,
              "tickcolor": "rgb(36,36,36)",
              "ticks": "outside"
             }
            },
            "type": "scattergl"
           }
          ],
          "scattermapbox": [
           {
            "marker": {
             "colorbar": {
              "outlinewidth": 1,
              "tickcolor": "rgb(36,36,36)",
              "ticks": "outside"
             }
            },
            "type": "scattermapbox"
           }
          ],
          "scatterpolar": [
           {
            "marker": {
             "colorbar": {
              "outlinewidth": 1,
              "tickcolor": "rgb(36,36,36)",
              "ticks": "outside"
             }
            },
            "type": "scatterpolar"
           }
          ],
          "scatterpolargl": [
           {
            "marker": {
             "colorbar": {
              "outlinewidth": 1,
              "tickcolor": "rgb(36,36,36)",
              "ticks": "outside"
             }
            },
            "type": "scatterpolargl"
           }
          ],
          "scatterternary": [
           {
            "marker": {
             "colorbar": {
              "outlinewidth": 1,
              "tickcolor": "rgb(36,36,36)",
              "ticks": "outside"
             }
            },
            "type": "scatterternary"
           }
          ],
          "surface": [
           {
            "colorbar": {
             "outlinewidth": 1,
             "tickcolor": "rgb(36,36,36)",
             "ticks": "outside"
            },
            "colorscale": [
             [
              0,
              "#440154"
             ],
             [
              0.1111111111111111,
              "#482878"
             ],
             [
              0.2222222222222222,
              "#3e4989"
             ],
             [
              0.3333333333333333,
              "#31688e"
             ],
             [
              0.4444444444444444,
              "#26828e"
             ],
             [
              0.5555555555555556,
              "#1f9e89"
             ],
             [
              0.6666666666666666,
              "#35b779"
             ],
             [
              0.7777777777777778,
              "#6ece58"
             ],
             [
              0.8888888888888888,
              "#b5de2b"
             ],
             [
              1,
              "#fde725"
             ]
            ],
            "type": "surface"
           }
          ],
          "table": [
           {
            "cells": {
             "fill": {
              "color": "rgb(237,237,237)"
             },
             "line": {
              "color": "white"
             }
            },
            "header": {
             "fill": {
              "color": "rgb(217,217,217)"
             },
             "line": {
              "color": "white"
             }
            },
            "type": "table"
           }
          ]
         },
         "layout": {
          "annotationdefaults": {
           "arrowhead": 0,
           "arrowwidth": 1
          },
          "autotypenumbers": "strict",
          "coloraxis": {
           "colorbar": {
            "outlinewidth": 1,
            "tickcolor": "rgb(36,36,36)",
            "ticks": "outside"
           }
          },
          "colorscale": {
           "diverging": [
            [
             0,
             "rgb(103,0,31)"
            ],
            [
             0.1,
             "rgb(178,24,43)"
            ],
            [
             0.2,
             "rgb(214,96,77)"
            ],
            [
             0.3,
             "rgb(244,165,130)"
            ],
            [
             0.4,
             "rgb(253,219,199)"
            ],
            [
             0.5,
             "rgb(247,247,247)"
            ],
            [
             0.6,
             "rgb(209,229,240)"
            ],
            [
             0.7,
             "rgb(146,197,222)"
            ],
            [
             0.8,
             "rgb(67,147,195)"
            ],
            [
             0.9,
             "rgb(33,102,172)"
            ],
            [
             1,
             "rgb(5,48,97)"
            ]
           ],
           "sequential": [
            [
             0,
             "#440154"
            ],
            [
             0.1111111111111111,
             "#482878"
            ],
            [
             0.2222222222222222,
             "#3e4989"
            ],
            [
             0.3333333333333333,
             "#31688e"
            ],
            [
             0.4444444444444444,
             "#26828e"
            ],
            [
             0.5555555555555556,
             "#1f9e89"
            ],
            [
             0.6666666666666666,
             "#35b779"
            ],
            [
             0.7777777777777778,
             "#6ece58"
            ],
            [
             0.8888888888888888,
             "#b5de2b"
            ],
            [
             1,
             "#fde725"
            ]
           ],
           "sequentialminus": [
            [
             0,
             "#440154"
            ],
            [
             0.1111111111111111,
             "#482878"
            ],
            [
             0.2222222222222222,
             "#3e4989"
            ],
            [
             0.3333333333333333,
             "#31688e"
            ],
            [
             0.4444444444444444,
             "#26828e"
            ],
            [
             0.5555555555555556,
             "#1f9e89"
            ],
            [
             0.6666666666666666,
             "#35b779"
            ],
            [
             0.7777777777777778,
             "#6ece58"
            ],
            [
             0.8888888888888888,
             "#b5de2b"
            ],
            [
             1,
             "#fde725"
            ]
           ]
          },
          "colorway": [
           "#1F77B4",
           "#FF7F0E",
           "#2CA02C",
           "#D62728",
           "#9467BD",
           "#8C564B",
           "#E377C2",
           "#7F7F7F",
           "#BCBD22",
           "#17BECF"
          ],
          "font": {
           "color": "rgb(36,36,36)"
          },
          "geo": {
           "bgcolor": "white",
           "lakecolor": "white",
           "landcolor": "white",
           "showlakes": true,
           "showland": true,
           "subunitcolor": "white"
          },
          "hoverlabel": {
           "align": "left"
          },
          "hovermode": "closest",
          "mapbox": {
           "style": "light"
          },
          "paper_bgcolor": "white",
          "plot_bgcolor": "white",
          "polar": {
           "angularaxis": {
            "gridcolor": "rgb(232,232,232)",
            "linecolor": "rgb(36,36,36)",
            "showgrid": false,
            "showline": true,
            "ticks": "outside"
           },
           "bgcolor": "white",
           "radialaxis": {
            "gridcolor": "rgb(232,232,232)",
            "linecolor": "rgb(36,36,36)",
            "showgrid": false,
            "showline": true,
            "ticks": "outside"
           }
          },
          "scene": {
           "xaxis": {
            "backgroundcolor": "white",
            "gridcolor": "rgb(232,232,232)",
            "gridwidth": 2,
            "linecolor": "rgb(36,36,36)",
            "showbackground": true,
            "showgrid": false,
            "showline": true,
            "ticks": "outside",
            "zeroline": false,
            "zerolinecolor": "rgb(36,36,36)"
           },
           "yaxis": {
            "backgroundcolor": "white",
            "gridcolor": "rgb(232,232,232)",
            "gridwidth": 2,
            "linecolor": "rgb(36,36,36)",
            "showbackground": true,
            "showgrid": false,
            "showline": true,
            "ticks": "outside",
            "zeroline": false,
            "zerolinecolor": "rgb(36,36,36)"
           },
           "zaxis": {
            "backgroundcolor": "white",
            "gridcolor": "rgb(232,232,232)",
            "gridwidth": 2,
            "linecolor": "rgb(36,36,36)",
            "showbackground": true,
            "showgrid": false,
            "showline": true,
            "ticks": "outside",
            "zeroline": false,
            "zerolinecolor": "rgb(36,36,36)"
           }
          },
          "shapedefaults": {
           "fillcolor": "black",
           "line": {
            "width": 0
           },
           "opacity": 0.3
          },
          "ternary": {
           "aaxis": {
            "gridcolor": "rgb(232,232,232)",
            "linecolor": "rgb(36,36,36)",
            "showgrid": false,
            "showline": true,
            "ticks": "outside"
           },
           "baxis": {
            "gridcolor": "rgb(232,232,232)",
            "linecolor": "rgb(36,36,36)",
            "showgrid": false,
            "showline": true,
            "ticks": "outside"
           },
           "bgcolor": "white",
           "caxis": {
            "gridcolor": "rgb(232,232,232)",
            "linecolor": "rgb(36,36,36)",
            "showgrid": false,
            "showline": true,
            "ticks": "outside"
           }
          },
          "title": {
           "x": 0.05
          },
          "xaxis": {
           "automargin": true,
           "gridcolor": "rgb(232,232,232)",
           "linecolor": "rgb(36,36,36)",
           "showgrid": false,
           "showline": true,
           "ticks": "outside",
           "title": {
            "standoff": 15
           },
           "zeroline": false,
           "zerolinecolor": "rgb(36,36,36)"
          },
          "yaxis": {
           "automargin": true,
           "gridcolor": "rgb(232,232,232)",
           "linecolor": "rgb(36,36,36)",
           "showgrid": false,
           "showline": true,
           "ticks": "outside",
           "title": {
            "standoff": 15
           },
           "zeroline": false,
           "zerolinecolor": "rgb(36,36,36)"
          }
         }
        },
        "width": 800,
        "xaxis": {
         "griddash": "dash",
         "minor": {
          "griddash": "dot",
          "ticks": "inside"
         },
         "showgrid": true,
         "title": {
          "text": "Transaction Date"
         }
        },
        "yaxis": {
         "griddash": "dash",
         "minor": {
          "griddash": "dot",
          "ticks": "inside"
         },
         "showgrid": true,
         "title": {
          "text": "Price (USD)"
         }
        }
       }
      }
     },
     "metadata": {},
     "output_type": "display_data"
    }
   ],
   "source": [
    "fig = go.Figure(layout=layout)\n",
    "\n",
    "\n",
    "#data = transfer_sync.group_by('date').agg(pl.col(\"value_USD\").sum())\n",
    "#data = data.sort(pl.col(\"date\"))\n",
    "#fig.add_trace(go.Scatter(x=data['date'], y=data['value_USD'], line=dict(\n",
    "#    color=colors['light_purple'], width=4), mode='lines', name='Total Volume'))\n",
    "\n",
    "buy_bgnt = buy_bgnt.filter((pl.col('value_USD')>1e-10))\n",
    "\n",
    "data = buy_bgnt.group_by('date').agg(pl.col(\"value_USD\").median())\n",
    "data = data.sort(pl.col(\"date\"))\n",
    "fig.add_trace(go.Scatter(x=data['date'], y=data['value_USD'], line=dict(\n",
    "    color=colors['brown'], width=2), mode='lines', name='Median Price'))\n",
    "\n",
    "data = buy_bgnt\n",
    "data = data.sort(pl.col(\"date\"))\n",
    "fig.add_trace(go.Box(x=data['date'], y=data['value_USD'],\n",
    "              name='Transaction Price', marker_color=colors['green'], line=dict(width=1.5), whiskerwidth=0.5, fillcolor=colors['white']))\n",
    "\n",
    "# Update layout\n",
    "fig.update_layout(xaxis_title='Transaction Date',\n",
    "                  yaxis_title='Price (USD)', legend=dict(xanchor='center',\n",
    "                                                  x=0.5, y=1.02, orientation='h'))\n",
    "\n",
    "#fig.update_yaxes(type='log', range=[-10, 1], tickvals=[1, 0.1, 0.01, 0.001, 0.0001])\n",
    "#fig.update_yaxes(type='log', range=[-11, 2])\n",
    "\n",
    "fig.write_image(plots_dir+\"buybgnt.pdf\",\n",
    "                width=1540, height=380, scale=1)\n",
    "fig.show()"
   ]
  },
  {
   "cell_type": "code",
   "execution_count": 204,
   "metadata": {},
   "outputs": [
    {
     "data": {
      "text/html": [
       "<div><style>\n",
       ".dataframe > thead > tr,\n",
       ".dataframe > tbody > tr {\n",
       "  text-align: right;\n",
       "  white-space: pre-wrap;\n",
       "}\n",
       "</style>\n",
       "<small>shape: (1,)</small><table border=\"1\" class=\"dataframe\"><thead><tr><th>value_USD</th></tr><tr><td>f64</td></tr></thead><tbody><tr><td>0.078061</td></tr></tbody></table></div>"
      ],
      "text/plain": [
       "shape: (1,)\n",
       "Series: 'value_USD' [f64]\n",
       "[\n",
       "\t0.078061\n",
       "]"
      ]
     },
     "execution_count": 204,
     "metadata": {},
     "output_type": "execute_result"
    }
   ],
   "source": [
    "\n",
    "df = buy_bgnt.select(pl.std(\"value_USD\"))\n",
    "df[\"value_USD\"]\n",
    "\n",
    "#df = buy_bgnt.select(pl.median(\"value_USD\"))\n",
    "#df[\"value_USD\"]\n",
    "\n",
    "#df = buy_bgnt.select(pl.mean(\"value_USD\"))\n",
    "#df[\"value_USD\"]\n",
    "\n",
    "#df = buy_bgnt.select(pl.min(\"value_USD\"))\n",
    "#df[\"value_USD\"]\n",
    "\n",
    "#df = buy_bgnt.select(pl.max(\"value_USD\"))\n",
    "#df[\"value_USD\"]"
   ]
  },
  {
   "cell_type": "code",
   "execution_count": 58,
   "metadata": {},
   "outputs": [],
   "source": [
    "inscriptions_transfer = inscriptions_parsed.filter((pl.col('op')=='transfer'))\n",
    "inscriptions_transfer"
   ]
  },
  {
   "cell_type": "code",
   "execution_count": 64,
   "metadata": {},
   "outputs": [
    {
     "name": "stderr",
     "output_type": "stream",
     "text": [
      "/var/folders/y_/27jchs_x56gfpv07wkchjxj40000gn/T/ipykernel_2844/4291665390.py:2: DeprecationWarning:\n",
      "\n",
      "`count` is deprecated. It has been renamed to `len`.\n",
      "\n"
     ]
    },
    {
     "data": {
      "text/html": [
       "<div><style>\n",
       ".dataframe > thead > tr,\n",
       ".dataframe > tbody > tr {\n",
       "  text-align: right;\n",
       "  white-space: pre-wrap;\n",
       "}\n",
       "</style>\n",
       "<small>shape: (38, 3)</small><table border=\"1\" class=\"dataframe\"><thead><tr><th>tick</th><th>p</th><th>count</th></tr><tr><td>str</td><td>str</td><td>u32</td></tr></thead><tbody><tr><td>&quot;sync&quot;</td><td>&quot;zrc-20&quot;</td><td>477</td></tr><tr><td>&quot;bgnt&quot;</td><td>&quot;era-20&quot;</td><td>228</td></tr><tr><td>&quot;zkzk&quot;</td><td>&quot;zrc-20&quot;</td><td>171</td></tr><tr><td>&quot;zkss&quot;</td><td>&quot;zrc-20&quot;</td><td>98</td></tr><tr><td>&quot;SHIB&quot;</td><td>&quot;zrc-20&quot;</td><td>77</td></tr><tr><td>&hellip;</td><td>&hellip;</td><td>&hellip;</td></tr><tr><td>&quot;meme&quot;</td><td>&quot;era-20&quot;</td><td>1</td></tr><tr><td>&quot;MNTL&quot;</td><td>&quot;mrc-20&quot;</td><td>1</td></tr><tr><td>&quot;MOMO&quot;</td><td>&quot;orc-20&quot;</td><td>1</td></tr><tr><td>&quot;file&quot;</td><td>&quot;fil-20&quot;</td><td>1</td></tr><tr><td>&quot;depins&quot;</td><td>&quot;irc-20&quot;</td><td>1</td></tr></tbody></table></div>"
      ],
      "text/plain": [
       "shape: (38, 3)\n",
       "┌────────┬────────┬───────┐\n",
       "│ tick   ┆ p      ┆ count │\n",
       "│ ---    ┆ ---    ┆ ---   │\n",
       "│ str    ┆ str    ┆ u32   │\n",
       "╞════════╪════════╪═══════╡\n",
       "│ sync   ┆ zrc-20 ┆ 477   │\n",
       "│ bgnt   ┆ era-20 ┆ 228   │\n",
       "│ zkzk   ┆ zrc-20 ┆ 171   │\n",
       "│ zkss   ┆ zrc-20 ┆ 98    │\n",
       "│ SHIB   ┆ zrc-20 ┆ 77    │\n",
       "│ …      ┆ …      ┆ …     │\n",
       "│ meme   ┆ era-20 ┆ 1     │\n",
       "│ MNTL   ┆ mrc-20 ┆ 1     │\n",
       "│ MOMO   ┆ orc-20 ┆ 1     │\n",
       "│ file   ┆ fil-20 ┆ 1     │\n",
       "│ depins ┆ irc-20 ┆ 1     │\n",
       "└────────┴────────┴───────┘"
      ]
     },
     "execution_count": 64,
     "metadata": {},
     "output_type": "execute_result"
    }
   ],
   "source": [
    "inscriptions_transfer.unique('tick')\n",
    "value_counts = inscriptions_transfer.group_by('tick', 'p').count().sort('count', descending=True)\n",
    "value_counts\n"
   ]
  },
  {
   "cell_type": "code",
   "execution_count": 60,
   "metadata": {},
   "outputs": [
    {
     "data": {
      "text/html": [
       "<div><style>\n",
       ".dataframe > thead > tr,\n",
       ".dataframe > tbody > tr {\n",
       "  text-align: right;\n",
       "  white-space: pre-wrap;\n",
       "}\n",
       "</style>\n",
       "<small>shape: (477, 17)</small><table border=\"1\" class=\"dataframe\"><thead><tr><th>block_number</th><th>tx_hash</th><th>tx_input_data</th><th>issuer</th><th>receiver</th><th>timestamp</th><th>gas_used</th><th>gas_effective_price</th><th>fees</th><th>tx_status</th><th>decoded_input_data</th><th>p</th><th>op</th><th>tick</th><th>amt</th><th>tx</th><th>price</th></tr><tr><td>i64</td><td>str</td><td>str</td><td>str</td><td>str</td><td>datetime[μs]</td><td>i64</td><td>i64</td><td>f64</td><td>i64</td><td>str</td><td>str</td><td>str</td><td>str</td><td>str</td><td>str</td><td>str</td></tr></thead><tbody><tr><td>22048559</td><td>&quot;0xcad1a24e5e97…</td><td>&quot;0x646174613a2c…</td><td>&quot;0x4749ab4b7b47…</td><td>&quot;0xb14f884adb66…</td><td>2023-12-21 10:40:14</td><td>248010</td><td>190000000</td><td>0.000047</td><td>1</td><td>&quot;{&quot;p&quot;:&quot;zrc-20&quot;,…</td><td>&quot;zrc-20&quot;</td><td>&quot;transfer&quot;</td><td>&quot;sync&quot;</td><td>&quot;480&quot;</td><td>null</td><td>null</td></tr><tr><td>22048747</td><td>&quot;0x9ce1f100c72a…</td><td>&quot;0x646174613a2c…</td><td>&quot;0x0a167d46ddf4…</td><td>&quot;0xd7fdc1c61b53…</td><td>2023-12-21 10:43:28</td><td>249245</td><td>190000000</td><td>0.000047</td><td>1</td><td>&quot;{&quot;p&quot;:&quot;zrc-20&quot;,…</td><td>&quot;zrc-20&quot;</td><td>&quot;transfer&quot;</td><td>&quot;sync&quot;</td><td>&quot;4&quot;</td><td>null</td><td>null</td></tr><tr><td>22049338</td><td>&quot;0x5ddac4627c80…</td><td>&quot;0x646174613a2c…</td><td>&quot;0x484da9bda5e0…</td><td>&quot;0x484da9bda5e0…</td><td>2023-12-21 10:53:43</td><td>253708</td><td>190000000</td><td>0.000048</td><td>1</td><td>&quot;{&quot;p&quot;:&quot;zrc-20&quot;,…</td><td>&quot;zrc-20&quot;</td><td>&quot;transfer&quot;</td><td>&quot;sync&quot;</td><td>&quot;1&quot;</td><td>null</td><td>null</td></tr><tr><td>22049457</td><td>&quot;0x103b5dffcc19…</td><td>&quot;0x646174613a2c…</td><td>&quot;0x35839602105d…</td><td>&quot;0x484da9bda5e0…</td><td>2023-12-21 10:55:48</td><td>254897</td><td>190000000</td><td>0.000048</td><td>1</td><td>&quot;{&quot;p&quot;:&quot;zrc-20&quot;,…</td><td>&quot;zrc-20&quot;</td><td>&quot;transfer&quot;</td><td>&quot;sync&quot;</td><td>&quot;1&quot;</td><td>null</td><td>null</td></tr><tr><td>22049549</td><td>&quot;0xd4218e38f169…</td><td>&quot;0x646174613a2c…</td><td>&quot;0x3523f08e37d7…</td><td>&quot;0x0dce56a50b39…</td><td>2023-12-21 10:57:22</td><td>254908</td><td>190000000</td><td>0.000048</td><td>1</td><td>&quot;{&quot;p&quot;:&quot;zrc-20&quot;,…</td><td>&quot;zrc-20&quot;</td><td>&quot;transfer&quot;</td><td>&quot;sync&quot;</td><td>&quot;2952&quot;</td><td>null</td><td>null</td></tr><tr><td>&hellip;</td><td>&hellip;</td><td>&hellip;</td><td>&hellip;</td><td>&hellip;</td><td>&hellip;</td><td>&hellip;</td><td>&hellip;</td><td>&hellip;</td><td>&hellip;</td><td>&hellip;</td><td>&hellip;</td><td>&hellip;</td><td>&hellip;</td><td>&hellip;</td><td>&hellip;</td><td>&hellip;</td></tr><tr><td>24269907</td><td>&quot;0xbe1c2d2a167a…</td><td>&quot;0x646174613a2c…</td><td>&quot;0xde404aaa7437…</td><td>&quot;0x5ba5cf528bae…</td><td>2024-01-17 11:06:12</td><td>417820</td><td>100000000</td><td>0.000042</td><td>1</td><td>&quot;{&quot;p&quot;:&quot;zrc-20&quot;,…</td><td>&quot;zrc-20&quot;</td><td>&quot;transfer&quot;</td><td>&quot;sync&quot;</td><td>&quot;24&quot;</td><td>null</td><td>null</td></tr><tr><td>24269941</td><td>&quot;0xee9659c534e9…</td><td>&quot;0x646174613a2c…</td><td>&quot;0x508703228fed…</td><td>&quot;0x5ba5cf528bae…</td><td>2024-01-17 11:06:48</td><td>417835</td><td>100000000</td><td>0.000042</td><td>1</td><td>&quot;{&quot;p&quot;:&quot;zrc-20&quot;,…</td><td>&quot;zrc-20&quot;</td><td>&quot;transfer&quot;</td><td>&quot;sync&quot;</td><td>&quot;124&quot;</td><td>null</td><td>null</td></tr><tr><td>25022829</td><td>&quot;0x38a333db012c…</td><td>&quot;0x646174613a2c…</td><td>&quot;0x9be02d4c7987…</td><td>&quot;0x3551bab7c6c8…</td><td>2024-01-26 14:18:53</td><td>275107</td><td>100000000</td><td>0.000028</td><td>1</td><td>&quot;{&quot;p&quot;:&quot;zrc-20&quot;,…</td><td>&quot;zrc-20&quot;</td><td>&quot;transfer&quot;</td><td>&quot;sync&quot;</td><td>&quot;980&quot;</td><td>null</td><td>null</td></tr><tr><td>26660883</td><td>&quot;0xf439a4bf765c…</td><td>&quot;0x646174613a2c…</td><td>&quot;0x91e0f6c5342e…</td><td>&quot;0x7b97c5408604…</td><td>2024-02-15 15:20:25</td><td>459716</td><td>100000000</td><td>0.000046</td><td>1</td><td>&quot;{&quot;p&quot;:&quot;zrc-20&quot;,…</td><td>&quot;zrc-20&quot;</td><td>&quot;transfer&quot;</td><td>&quot;sync&quot;</td><td>&quot;1000&quot;</td><td>null</td><td>null</td></tr><tr><td>26661009</td><td>&quot;0xa0a8d6adc21d…</td><td>&quot;0x646174613a2c…</td><td>&quot;0x2907844a39f8…</td><td>&quot;0x7b97c5408604…</td><td>2024-02-15 15:22:31</td><td>459716</td><td>100000000</td><td>0.000046</td><td>1</td><td>&quot;{&quot;p&quot;:&quot;zrc-20&quot;,…</td><td>&quot;zrc-20&quot;</td><td>&quot;transfer&quot;</td><td>&quot;sync&quot;</td><td>&quot;4000&quot;</td><td>null</td><td>null</td></tr></tbody></table></div>"
      ],
      "text/plain": [
       "shape: (477, 17)\n",
       "┌──────────────┬────────────────┬────────────────┬────────────────┬───┬──────┬──────┬──────┬───────┐\n",
       "│ block_number ┆ tx_hash        ┆ tx_input_data  ┆ issuer         ┆ … ┆ tick ┆ amt  ┆ tx   ┆ price │\n",
       "│ ---          ┆ ---            ┆ ---            ┆ ---            ┆   ┆ ---  ┆ ---  ┆ ---  ┆ ---   │\n",
       "│ i64          ┆ str            ┆ str            ┆ str            ┆   ┆ str  ┆ str  ┆ str  ┆ str   │\n",
       "╞══════════════╪════════════════╪════════════════╪════════════════╪═══╪══════╪══════╪══════╪═══════╡\n",
       "│ 22048559     ┆ 0xcad1a24e5e97 ┆ 0x646174613a2c ┆ 0x4749ab4b7b47 ┆ … ┆ sync ┆ 480  ┆ null ┆ null  │\n",
       "│              ┆ 6ec618734c72b6 ┆ 7b2270223a227a ┆ 50fecfd7ca4353 ┆   ┆      ┆      ┆      ┆       │\n",
       "│              ┆ 2436…          ┆ 7263…          ┆ e61d…          ┆   ┆      ┆      ┆      ┆       │\n",
       "│ 22048747     ┆ 0x9ce1f100c72a ┆ 0x646174613a2c ┆ 0x0a167d46ddf4 ┆ … ┆ sync ┆ 4    ┆ null ┆ null  │\n",
       "│              ┆ 79046060b72228 ┆ 7b2270223a227a ┆ c1c291c30446d7 ┆   ┆      ┆      ┆      ┆       │\n",
       "│              ┆ 7b17…          ┆ 7263…          ┆ cfa0…          ┆   ┆      ┆      ┆      ┆       │\n",
       "│ 22049338     ┆ 0x5ddac4627c80 ┆ 0x646174613a2c ┆ 0x484da9bda5e0 ┆ … ┆ sync ┆ 1    ┆ null ┆ null  │\n",
       "│              ┆ 7d7259d7d94bbd ┆ 7b2270223a227a ┆ 182a9e558d786a ┆   ┆      ┆      ┆      ┆       │\n",
       "│              ┆ 3637…          ┆ 7263…          ┆ 0b69…          ┆   ┆      ┆      ┆      ┆       │\n",
       "│ 22049457     ┆ 0x103b5dffcc19 ┆ 0x646174613a2c ┆ 0x35839602105d ┆ … ┆ sync ┆ 1    ┆ null ┆ null  │\n",
       "│              ┆ 3a13b7118030a4 ┆ 7b2270223a227a ┆ b524687e00e4c3 ┆   ┆      ┆      ┆      ┆       │\n",
       "│              ┆ 5136…          ┆ 7263…          ┆ 4844…          ┆   ┆      ┆      ┆      ┆       │\n",
       "│ 22049549     ┆ 0xd4218e38f169 ┆ 0x646174613a2c ┆ 0x3523f08e37d7 ┆ … ┆ sync ┆ 2952 ┆ null ┆ null  │\n",
       "│              ┆ 5513206fb69704 ┆ 7b2270223a227a ┆ 2e251d267bb5bc ┆   ┆      ┆      ┆      ┆       │\n",
       "│              ┆ 8e90…          ┆ 7263…          ┆ cb8c…          ┆   ┆      ┆      ┆      ┆       │\n",
       "│ …            ┆ …              ┆ …              ┆ …              ┆ … ┆ …    ┆ …    ┆ …    ┆ …     │\n",
       "│ 24269907     ┆ 0xbe1c2d2a167a ┆ 0x646174613a2c ┆ 0xde404aaa7437 ┆ … ┆ sync ┆ 24   ┆ null ┆ null  │\n",
       "│              ┆ 7531d495f3f730 ┆ 7b2270223a227a ┆ 9da40070072faa ┆   ┆      ┆      ┆      ┆       │\n",
       "│              ┆ 36b9…          ┆ 7263…          ┆ eca7…          ┆   ┆      ┆      ┆      ┆       │\n",
       "│ 24269941     ┆ 0xee9659c534e9 ┆ 0x646174613a2c ┆ 0x508703228fed ┆ … ┆ sync ┆ 124  ┆ null ┆ null  │\n",
       "│              ┆ ed9ca8fe1cd331 ┆ 7b2270223a227a ┆ 40169c55b965f7 ┆   ┆      ┆      ┆      ┆       │\n",
       "│              ┆ bbb4…          ┆ 7263…          ┆ 7e26…          ┆   ┆      ┆      ┆      ┆       │\n",
       "│ 25022829     ┆ 0x38a333db012c ┆ 0x646174613a2c ┆ 0x9be02d4c7987 ┆ … ┆ sync ┆ 980  ┆ null ┆ null  │\n",
       "│              ┆ 0b2527eccc7535 ┆ 7b2270223a227a ┆ 24895dc68f2290 ┆   ┆      ┆      ┆      ┆       │\n",
       "│              ┆ 52a5…          ┆ 7263…          ┆ 1cfa…          ┆   ┆      ┆      ┆      ┆       │\n",
       "│ 26660883     ┆ 0xf439a4bf765c ┆ 0x646174613a2c ┆ 0x91e0f6c5342e ┆ … ┆ sync ┆ 1000 ┆ null ┆ null  │\n",
       "│              ┆ ca36bf120ee888 ┆ 7b2270223a227a ┆ 5a57e5b956e795 ┆   ┆      ┆      ┆      ┆       │\n",
       "│              ┆ a300…          ┆ 7263…          ┆ 03ef…          ┆   ┆      ┆      ┆      ┆       │\n",
       "│ 26661009     ┆ 0xa0a8d6adc21d ┆ 0x646174613a2c ┆ 0x2907844a39f8 ┆ … ┆ sync ┆ 4000 ┆ null ┆ null  │\n",
       "│              ┆ a6026464ad88f4 ┆ 7b2270223a227a ┆ 72a41d08b8f633 ┆   ┆      ┆      ┆      ┆       │\n",
       "│              ┆ 9281…          ┆ 7263…          ┆ ec2b…          ┆   ┆      ┆      ┆      ┆       │\n",
       "└──────────────┴────────────────┴────────────────┴────────────────┴───┴──────┴──────┴──────┴───────┘"
      ]
     },
     "execution_count": 60,
     "metadata": {},
     "output_type": "execute_result"
    }
   ],
   "source": [
    "transfer_sync = inscriptions_parsed.filter((pl.col('op')=='transfer') & (pl.col('p')=='zrc-20') & (pl.col('tick')=='sync') )\n",
    "transfer_sync\n"
   ]
  },
  {
   "cell_type": "code",
   "execution_count": 61,
   "metadata": {},
   "outputs": [
    {
     "name": "stderr",
     "output_type": "stream",
     "text": [
      "/Users/kris/Library/Python/3.9/lib/python/site-packages/urllib3/__init__.py:34: NotOpenSSLWarning:\n",
      "\n",
      "urllib3 v2 only supports OpenSSL 1.1.1+, currently the 'ssl' module is compiled with 'LibreSSL 2.8.3'. See: https://github.com/urllib3/urllib3/issues/3020\n",
      "\n"
     ]
    },
    {
     "name": "stdout",
     "output_type": "stream",
     "text": [
      "Is connected to Ethereum node:  True\n",
      "The most recent block is:  31573544\n"
     ]
    }
   ],
   "source": [
    "import os\n",
    "import requests as re\n",
    "from web3 import Web3\n",
    "import json\n",
    "import time\n",
    "\n",
    "# This code connects to our zkSync Era node\n",
    "eth_node = 'https://mainnet.era.zksync.io'\n",
    "\n",
    "adapter = re.adapters.HTTPAdapter(pool_connections=20, pool_maxsize=20)\n",
    "session = re.Session()\n",
    "session.mount('http://', adapter)\n",
    "session.mount('https://', adapter)\n",
    "\n",
    "w3 = Web3(Web3.HTTPProvider(eth_node, session=session,\n",
    "          request_kwargs={'timeout': 60}))\n",
    "\n",
    "print(\"Is connected to Ethereum node: \", w3.is_connected())\n",
    "print(\"The most recent block is: \", w3.eth.block_number)"
   ]
  },
  {
   "cell_type": "code",
   "execution_count": 90,
   "metadata": {},
   "outputs": [
    {
     "data": {
      "text/plain": [
       "0.000140241888"
      ]
     },
     "execution_count": 90,
     "metadata": {},
     "output_type": "execute_result"
    }
   ],
   "source": [
    "tx_hash = transfer_sync['tx_hash'][10]\n",
    "tx_data = w3.eth.get_transaction_receipt(tx_hash)\n",
    "\n",
    "value = int(tx_data['logs'][0]['data'].hex(), 16)/1e18\n",
    "value"
   ]
  },
  {
   "cell_type": "code",
   "execution_count": 62,
   "metadata": {},
   "outputs": [
    {
     "data": {
      "text/html": [
       "<div><style>\n",
       ".dataframe > thead > tr,\n",
       ".dataframe > tbody > tr {\n",
       "  text-align: right;\n",
       "  white-space: pre-wrap;\n",
       "}\n",
       "</style>\n",
       "<small>shape: (477, 18)</small><table border=\"1\" class=\"dataframe\"><thead><tr><th>block_number</th><th>tx_hash</th><th>tx_input_data</th><th>issuer</th><th>receiver</th><th>timestamp</th><th>gas_used</th><th>gas_effective_price</th><th>fees</th><th>tx_status</th><th>decoded_input_data</th><th>p</th><th>op</th><th>tick</th><th>amt</th><th>tx</th><th>price</th><th>value</th></tr><tr><td>i64</td><td>str</td><td>str</td><td>str</td><td>str</td><td>datetime[μs]</td><td>i64</td><td>i64</td><td>f64</td><td>i64</td><td>str</td><td>str</td><td>str</td><td>str</td><td>str</td><td>str</td><td>str</td><td>i32</td></tr></thead><tbody><tr><td>22048559</td><td>&quot;0xcad1a24e5e97…</td><td>&quot;0x646174613a2c…</td><td>&quot;0x4749ab4b7b47…</td><td>&quot;0xb14f884adb66…</td><td>2023-12-21 10:40:14</td><td>248010</td><td>190000000</td><td>0.000047</td><td>1</td><td>&quot;{&quot;p&quot;:&quot;zrc-20&quot;,…</td><td>&quot;zrc-20&quot;</td><td>&quot;transfer&quot;</td><td>&quot;sync&quot;</td><td>&quot;480&quot;</td><td>null</td><td>null</td><td>0</td></tr><tr><td>22048747</td><td>&quot;0x9ce1f100c72a…</td><td>&quot;0x646174613a2c…</td><td>&quot;0x0a167d46ddf4…</td><td>&quot;0xd7fdc1c61b53…</td><td>2023-12-21 10:43:28</td><td>249245</td><td>190000000</td><td>0.000047</td><td>1</td><td>&quot;{&quot;p&quot;:&quot;zrc-20&quot;,…</td><td>&quot;zrc-20&quot;</td><td>&quot;transfer&quot;</td><td>&quot;sync&quot;</td><td>&quot;4&quot;</td><td>null</td><td>null</td><td>0</td></tr><tr><td>22049338</td><td>&quot;0x5ddac4627c80…</td><td>&quot;0x646174613a2c…</td><td>&quot;0x484da9bda5e0…</td><td>&quot;0x484da9bda5e0…</td><td>2023-12-21 10:53:43</td><td>253708</td><td>190000000</td><td>0.000048</td><td>1</td><td>&quot;{&quot;p&quot;:&quot;zrc-20&quot;,…</td><td>&quot;zrc-20&quot;</td><td>&quot;transfer&quot;</td><td>&quot;sync&quot;</td><td>&quot;1&quot;</td><td>null</td><td>null</td><td>0</td></tr><tr><td>22049457</td><td>&quot;0x103b5dffcc19…</td><td>&quot;0x646174613a2c…</td><td>&quot;0x35839602105d…</td><td>&quot;0x484da9bda5e0…</td><td>2023-12-21 10:55:48</td><td>254897</td><td>190000000</td><td>0.000048</td><td>1</td><td>&quot;{&quot;p&quot;:&quot;zrc-20&quot;,…</td><td>&quot;zrc-20&quot;</td><td>&quot;transfer&quot;</td><td>&quot;sync&quot;</td><td>&quot;1&quot;</td><td>null</td><td>null</td><td>0</td></tr><tr><td>22049549</td><td>&quot;0xd4218e38f169…</td><td>&quot;0x646174613a2c…</td><td>&quot;0x3523f08e37d7…</td><td>&quot;0x0dce56a50b39…</td><td>2023-12-21 10:57:22</td><td>254908</td><td>190000000</td><td>0.000048</td><td>1</td><td>&quot;{&quot;p&quot;:&quot;zrc-20&quot;,…</td><td>&quot;zrc-20&quot;</td><td>&quot;transfer&quot;</td><td>&quot;sync&quot;</td><td>&quot;2952&quot;</td><td>null</td><td>null</td><td>0</td></tr><tr><td>&hellip;</td><td>&hellip;</td><td>&hellip;</td><td>&hellip;</td><td>&hellip;</td><td>&hellip;</td><td>&hellip;</td><td>&hellip;</td><td>&hellip;</td><td>&hellip;</td><td>&hellip;</td><td>&hellip;</td><td>&hellip;</td><td>&hellip;</td><td>&hellip;</td><td>&hellip;</td><td>&hellip;</td><td>&hellip;</td></tr><tr><td>24269907</td><td>&quot;0xbe1c2d2a167a…</td><td>&quot;0x646174613a2c…</td><td>&quot;0xde404aaa7437…</td><td>&quot;0x5ba5cf528bae…</td><td>2024-01-17 11:06:12</td><td>417820</td><td>100000000</td><td>0.000042</td><td>1</td><td>&quot;{&quot;p&quot;:&quot;zrc-20&quot;,…</td><td>&quot;zrc-20&quot;</td><td>&quot;transfer&quot;</td><td>&quot;sync&quot;</td><td>&quot;24&quot;</td><td>null</td><td>null</td><td>0</td></tr><tr><td>24269941</td><td>&quot;0xee9659c534e9…</td><td>&quot;0x646174613a2c…</td><td>&quot;0x508703228fed…</td><td>&quot;0x5ba5cf528bae…</td><td>2024-01-17 11:06:48</td><td>417835</td><td>100000000</td><td>0.000042</td><td>1</td><td>&quot;{&quot;p&quot;:&quot;zrc-20&quot;,…</td><td>&quot;zrc-20&quot;</td><td>&quot;transfer&quot;</td><td>&quot;sync&quot;</td><td>&quot;124&quot;</td><td>null</td><td>null</td><td>0</td></tr><tr><td>25022829</td><td>&quot;0x38a333db012c…</td><td>&quot;0x646174613a2c…</td><td>&quot;0x9be02d4c7987…</td><td>&quot;0x3551bab7c6c8…</td><td>2024-01-26 14:18:53</td><td>275107</td><td>100000000</td><td>0.000028</td><td>1</td><td>&quot;{&quot;p&quot;:&quot;zrc-20&quot;,…</td><td>&quot;zrc-20&quot;</td><td>&quot;transfer&quot;</td><td>&quot;sync&quot;</td><td>&quot;980&quot;</td><td>null</td><td>null</td><td>0</td></tr><tr><td>26660883</td><td>&quot;0xf439a4bf765c…</td><td>&quot;0x646174613a2c…</td><td>&quot;0x91e0f6c5342e…</td><td>&quot;0x7b97c5408604…</td><td>2024-02-15 15:20:25</td><td>459716</td><td>100000000</td><td>0.000046</td><td>1</td><td>&quot;{&quot;p&quot;:&quot;zrc-20&quot;,…</td><td>&quot;zrc-20&quot;</td><td>&quot;transfer&quot;</td><td>&quot;sync&quot;</td><td>&quot;1000&quot;</td><td>null</td><td>null</td><td>0</td></tr><tr><td>26661009</td><td>&quot;0xa0a8d6adc21d…</td><td>&quot;0x646174613a2c…</td><td>&quot;0x2907844a39f8…</td><td>&quot;0x7b97c5408604…</td><td>2024-02-15 15:22:31</td><td>459716</td><td>100000000</td><td>0.000046</td><td>1</td><td>&quot;{&quot;p&quot;:&quot;zrc-20&quot;,…</td><td>&quot;zrc-20&quot;</td><td>&quot;transfer&quot;</td><td>&quot;sync&quot;</td><td>&quot;4000&quot;</td><td>null</td><td>null</td><td>0</td></tr></tbody></table></div>"
      ],
      "text/plain": [
       "shape: (477, 18)\n",
       "┌──────────────┬────────────────┬────────────────┬───────────────┬───┬──────┬──────┬───────┬───────┐\n",
       "│ block_number ┆ tx_hash        ┆ tx_input_data  ┆ issuer        ┆ … ┆ amt  ┆ tx   ┆ price ┆ value │\n",
       "│ ---          ┆ ---            ┆ ---            ┆ ---           ┆   ┆ ---  ┆ ---  ┆ ---   ┆ ---   │\n",
       "│ i64          ┆ str            ┆ str            ┆ str           ┆   ┆ str  ┆ str  ┆ str   ┆ i32   │\n",
       "╞══════════════╪════════════════╪════════════════╪═══════════════╪═══╪══════╪══════╪═══════╪═══════╡\n",
       "│ 22048559     ┆ 0xcad1a24e5e97 ┆ 0x646174613a2c ┆ 0x4749ab4b7b4 ┆ … ┆ 480  ┆ null ┆ null  ┆ 0     │\n",
       "│              ┆ 6ec618734c72b6 ┆ 7b2270223a227a ┆ 750fecfd7ca43 ┆   ┆      ┆      ┆       ┆       │\n",
       "│              ┆ 2436…          ┆ 7263…          ┆ 53e61d…       ┆   ┆      ┆      ┆       ┆       │\n",
       "│ 22048747     ┆ 0x9ce1f100c72a ┆ 0x646174613a2c ┆ 0x0a167d46ddf ┆ … ┆ 4    ┆ null ┆ null  ┆ 0     │\n",
       "│              ┆ 79046060b72228 ┆ 7b2270223a227a ┆ 4c1c291c30446 ┆   ┆      ┆      ┆       ┆       │\n",
       "│              ┆ 7b17…          ┆ 7263…          ┆ d7cfa0…       ┆   ┆      ┆      ┆       ┆       │\n",
       "│ 22049338     ┆ 0x5ddac4627c80 ┆ 0x646174613a2c ┆ 0x484da9bda5e ┆ … ┆ 1    ┆ null ┆ null  ┆ 0     │\n",
       "│              ┆ 7d7259d7d94bbd ┆ 7b2270223a227a ┆ 0182a9e558d78 ┆   ┆      ┆      ┆       ┆       │\n",
       "│              ┆ 3637…          ┆ 7263…          ┆ 6a0b69…       ┆   ┆      ┆      ┆       ┆       │\n",
       "│ 22049457     ┆ 0x103b5dffcc19 ┆ 0x646174613a2c ┆ 0x35839602105 ┆ … ┆ 1    ┆ null ┆ null  ┆ 0     │\n",
       "│              ┆ 3a13b7118030a4 ┆ 7b2270223a227a ┆ db524687e00e4 ┆   ┆      ┆      ┆       ┆       │\n",
       "│              ┆ 5136…          ┆ 7263…          ┆ c34844…       ┆   ┆      ┆      ┆       ┆       │\n",
       "│ 22049549     ┆ 0xd4218e38f169 ┆ 0x646174613a2c ┆ 0x3523f08e37d ┆ … ┆ 2952 ┆ null ┆ null  ┆ 0     │\n",
       "│              ┆ 5513206fb69704 ┆ 7b2270223a227a ┆ 72e251d267bb5 ┆   ┆      ┆      ┆       ┆       │\n",
       "│              ┆ 8e90…          ┆ 7263…          ┆ bccb8c…       ┆   ┆      ┆      ┆       ┆       │\n",
       "│ …            ┆ …              ┆ …              ┆ …             ┆ … ┆ …    ┆ …    ┆ …     ┆ …     │\n",
       "│ 24269907     ┆ 0xbe1c2d2a167a ┆ 0x646174613a2c ┆ 0xde404aaa743 ┆ … ┆ 24   ┆ null ┆ null  ┆ 0     │\n",
       "│              ┆ 7531d495f3f730 ┆ 7b2270223a227a ┆ 79da40070072f ┆   ┆      ┆      ┆       ┆       │\n",
       "│              ┆ 36b9…          ┆ 7263…          ┆ aaeca7…       ┆   ┆      ┆      ┆       ┆       │\n",
       "│ 24269941     ┆ 0xee9659c534e9 ┆ 0x646174613a2c ┆ 0x508703228fe ┆ … ┆ 124  ┆ null ┆ null  ┆ 0     │\n",
       "│              ┆ ed9ca8fe1cd331 ┆ 7b2270223a227a ┆ d40169c55b965 ┆   ┆      ┆      ┆       ┆       │\n",
       "│              ┆ bbb4…          ┆ 7263…          ┆ f77e26…       ┆   ┆      ┆      ┆       ┆       │\n",
       "│ 25022829     ┆ 0x38a333db012c ┆ 0x646174613a2c ┆ 0x9be02d4c798 ┆ … ┆ 980  ┆ null ┆ null  ┆ 0     │\n",
       "│              ┆ 0b2527eccc7535 ┆ 7b2270223a227a ┆ 724895dc68f22 ┆   ┆      ┆      ┆       ┆       │\n",
       "│              ┆ 52a5…          ┆ 7263…          ┆ 901cfa…       ┆   ┆      ┆      ┆       ┆       │\n",
       "│ 26660883     ┆ 0xf439a4bf765c ┆ 0x646174613a2c ┆ 0x91e0f6c5342 ┆ … ┆ 1000 ┆ null ┆ null  ┆ 0     │\n",
       "│              ┆ ca36bf120ee888 ┆ 7b2270223a227a ┆ e5a57e5b956e7 ┆   ┆      ┆      ┆       ┆       │\n",
       "│              ┆ a300…          ┆ 7263…          ┆ 9503ef…       ┆   ┆      ┆      ┆       ┆       │\n",
       "│ 26661009     ┆ 0xa0a8d6adc21d ┆ 0x646174613a2c ┆ 0x2907844a39f ┆ … ┆ 4000 ┆ null ┆ null  ┆ 0     │\n",
       "│              ┆ a6026464ad88f4 ┆ 7b2270223a227a ┆ 872a41d08b8f6 ┆   ┆      ┆      ┆       ┆       │\n",
       "│              ┆ 9281…          ┆ 7263…          ┆ 33ec2b…       ┆   ┆      ┆      ┆       ┆       │\n",
       "└──────────────┴────────────────┴────────────────┴───────────────┴───┴──────┴──────┴───────┴───────┘"
      ]
     },
     "execution_count": 62,
     "metadata": {},
     "output_type": "execute_result"
    }
   ],
   "source": [
    "transfer_sync.with_columns(\n",
    "    value = 0\n",
    ")"
   ]
  },
  {
   "cell_type": "code",
   "execution_count": 86,
   "metadata": {},
   "outputs": [],
   "source": [
    "for row in transfer_sync.iter_rows(named=True):\n",
    "    tx_hash = row['tx_hash']\n",
    "    tx_data = w3.eth.get_transaction_receipt(tx_hash)\n",
    "    row['value'] = int(tx_data['logs'][0]['data'].hex(), 16) / 1e18"
   ]
  },
  {
   "cell_type": "code",
   "execution_count": 63,
   "metadata": {},
   "outputs": [
    {
     "name": "stderr",
     "output_type": "stream",
     "text": [
      "/var/folders/y_/27jchs_x56gfpv07wkchjxj40000gn/T/ipykernel_1638/3978057001.py:7: DeprecationWarning:\n",
      "\n",
      "`apply` is deprecated. It has been renamed to `map_elements`.\n",
      "\n"
     ]
    }
   ],
   "source": [
    "def calculate_value(tx_hash):\n",
    "    tx_data = w3.eth.get_transaction_receipt(tx_hash)\n",
    "    return int(tx_data['logs'][0]['data'].hex(), 16) / 1e18\n",
    "\n",
    "# Apply the function to create a new column 'value' in the DataFrame\n",
    "transfer_sync = transfer_sync.with_columns(\n",
    "    pl.col('tx_hash').apply(calculate_value).alias('value')\n",
    ")"
   ]
  },
  {
   "cell_type": "code",
   "execution_count": 71,
   "metadata": {},
   "outputs": [
    {
     "name": "stderr",
     "output_type": "stream",
     "text": [
      "/var/folders/y_/27jchs_x56gfpv07wkchjxj40000gn/T/ipykernel_1638/64109395.py:8: DeprecationWarning:\n",
      "\n",
      "`apply` is deprecated. It has been renamed to `map_elements`.\n",
      "\n"
     ]
    }
   ],
   "source": [
    "def update_amt(amt_str):\n",
    "    if (amt_str == '1e6'):\n",
    "        return '10000000'\n",
    "    return (amt_str)\n",
    "\n",
    "# Apply the function to create a new column 'value' in the DataFrame\n",
    "transfer_sync = transfer_sync.with_columns(\n",
    "    pl.col('amt').apply(update_amt).alias('amt')\n",
    ")\n",
    "\n",
    "transfer_sync = transfer_sync.with_columns(pl.col('amt').cast(pl.Int32))\n"
   ]
  },
  {
   "cell_type": "code",
   "execution_count": 73,
   "metadata": {},
   "outputs": [],
   "source": [
    "transfer_sync = transfer_sync.with_columns((pl.col('value')*4000 / pl.col('amt')).alias('value_USD'))\n"
   ]
  },
  {
   "cell_type": "code",
   "execution_count": 86,
   "metadata": {},
   "outputs": [
    {
     "data": {
      "text/html": [
       "<div><style>\n",
       ".dataframe > thead > tr,\n",
       ".dataframe > tbody > tr {\n",
       "  text-align: right;\n",
       "  white-space: pre-wrap;\n",
       "}\n",
       "</style>\n",
       "<small>shape: (477, 19)</small><table border=\"1\" class=\"dataframe\"><thead><tr><th>block_number</th><th>tx_hash</th><th>tx_input_data</th><th>issuer</th><th>receiver</th><th>timestamp</th><th>gas_used</th><th>gas_effective_price</th><th>fees</th><th>tx_status</th><th>decoded_input_data</th><th>p</th><th>op</th><th>tick</th><th>amt</th><th>tx</th><th>price</th><th>value</th><th>value_USD</th></tr><tr><td>i64</td><td>str</td><td>str</td><td>str</td><td>str</td><td>datetime[μs]</td><td>i64</td><td>i64</td><td>f64</td><td>i64</td><td>str</td><td>str</td><td>str</td><td>str</td><td>i32</td><td>str</td><td>str</td><td>f64</td><td>f64</td></tr></thead><tbody><tr><td>22048559</td><td>&quot;0xcad1a24e5e97…</td><td>&quot;0x646174613a2c…</td><td>&quot;0x4749ab4b7b47…</td><td>&quot;0xb14f884adb66…</td><td>2023-12-21 10:40:14</td><td>248010</td><td>190000000</td><td>0.000047</td><td>1</td><td>&quot;{&quot;p&quot;:&quot;zrc-20&quot;,…</td><td>&quot;zrc-20&quot;</td><td>&quot;transfer&quot;</td><td>&quot;sync&quot;</td><td>480</td><td>null</td><td>null</td><td>0.000099</td><td>0.000824</td></tr><tr><td>22048747</td><td>&quot;0x9ce1f100c72a…</td><td>&quot;0x646174613a2c…</td><td>&quot;0x0a167d46ddf4…</td><td>&quot;0xd7fdc1c61b53…</td><td>2023-12-21 10:43:28</td><td>249245</td><td>190000000</td><td>0.000047</td><td>1</td><td>&quot;{&quot;p&quot;:&quot;zrc-20&quot;,…</td><td>&quot;zrc-20&quot;</td><td>&quot;transfer&quot;</td><td>&quot;sync&quot;</td><td>4</td><td>null</td><td>null</td><td>0.000099</td><td>0.099103</td></tr><tr><td>22049338</td><td>&quot;0x5ddac4627c80…</td><td>&quot;0x646174613a2c…</td><td>&quot;0x484da9bda5e0…</td><td>&quot;0x484da9bda5e0…</td><td>2023-12-21 10:53:43</td><td>253708</td><td>190000000</td><td>0.000048</td><td>1</td><td>&quot;{&quot;p&quot;:&quot;zrc-20&quot;,…</td><td>&quot;zrc-20&quot;</td><td>&quot;transfer&quot;</td><td>&quot;sync&quot;</td><td>1</td><td>null</td><td>null</td><td>0.000073</td><td>0.293006</td></tr><tr><td>22049457</td><td>&quot;0x103b5dffcc19…</td><td>&quot;0x646174613a2c…</td><td>&quot;0x35839602105d…</td><td>&quot;0x484da9bda5e0…</td><td>2023-12-21 10:55:48</td><td>254897</td><td>190000000</td><td>0.000048</td><td>1</td><td>&quot;{&quot;p&quot;:&quot;zrc-20&quot;,…</td><td>&quot;zrc-20&quot;</td><td>&quot;transfer&quot;</td><td>&quot;sync&quot;</td><td>1</td><td>null</td><td>null</td><td>0.000074</td><td>0.294054</td></tr><tr><td>22049549</td><td>&quot;0xd4218e38f169…</td><td>&quot;0x646174613a2c…</td><td>&quot;0x3523f08e37d7…</td><td>&quot;0x0dce56a50b39…</td><td>2023-12-21 10:57:22</td><td>254908</td><td>190000000</td><td>0.000048</td><td>1</td><td>&quot;{&quot;p&quot;:&quot;zrc-20&quot;,…</td><td>&quot;zrc-20&quot;</td><td>&quot;transfer&quot;</td><td>&quot;sync&quot;</td><td>2952</td><td>null</td><td>null</td><td>0.000102</td><td>0.000139</td></tr><tr><td>&hellip;</td><td>&hellip;</td><td>&hellip;</td><td>&hellip;</td><td>&hellip;</td><td>&hellip;</td><td>&hellip;</td><td>&hellip;</td><td>&hellip;</td><td>&hellip;</td><td>&hellip;</td><td>&hellip;</td><td>&hellip;</td><td>&hellip;</td><td>&hellip;</td><td>&hellip;</td><td>&hellip;</td><td>&hellip;</td><td>&hellip;</td></tr><tr><td>24269907</td><td>&quot;0xbe1c2d2a167a…</td><td>&quot;0x646174613a2c…</td><td>&quot;0xde404aaa7437…</td><td>&quot;0x5ba5cf528bae…</td><td>2024-01-17 11:06:12</td><td>417820</td><td>100000000</td><td>0.000042</td><td>1</td><td>&quot;{&quot;p&quot;:&quot;zrc-20&quot;,…</td><td>&quot;zrc-20&quot;</td><td>&quot;transfer&quot;</td><td>&quot;sync&quot;</td><td>24</td><td>null</td><td>null</td><td>0.000062</td><td>0.010382</td></tr><tr><td>24269941</td><td>&quot;0xee9659c534e9…</td><td>&quot;0x646174613a2c…</td><td>&quot;0x508703228fed…</td><td>&quot;0x5ba5cf528bae…</td><td>2024-01-17 11:06:48</td><td>417835</td><td>100000000</td><td>0.000042</td><td>1</td><td>&quot;{&quot;p&quot;:&quot;zrc-20&quot;,…</td><td>&quot;zrc-20&quot;</td><td>&quot;transfer&quot;</td><td>&quot;sync&quot;</td><td>124</td><td>null</td><td>null</td><td>0.000087</td><td>0.002809</td></tr><tr><td>25022829</td><td>&quot;0x38a333db012c…</td><td>&quot;0x646174613a2c…</td><td>&quot;0x9be02d4c7987…</td><td>&quot;0x3551bab7c6c8…</td><td>2024-01-26 14:18:53</td><td>275107</td><td>100000000</td><td>0.000028</td><td>1</td><td>&quot;{&quot;p&quot;:&quot;zrc-20&quot;,…</td><td>&quot;zrc-20&quot;</td><td>&quot;transfer&quot;</td><td>&quot;sync&quot;</td><td>980</td><td>null</td><td>null</td><td>0.000067</td><td>0.000275</td></tr><tr><td>26660883</td><td>&quot;0xf439a4bf765c…</td><td>&quot;0x646174613a2c…</td><td>&quot;0x91e0f6c5342e…</td><td>&quot;0x7b97c5408604…</td><td>2024-02-15 15:20:25</td><td>459716</td><td>100000000</td><td>0.000046</td><td>1</td><td>&quot;{&quot;p&quot;:&quot;zrc-20&quot;,…</td><td>&quot;zrc-20&quot;</td><td>&quot;transfer&quot;</td><td>&quot;sync&quot;</td><td>1000</td><td>null</td><td>null</td><td>0.000112</td><td>0.000448</td></tr><tr><td>26661009</td><td>&quot;0xa0a8d6adc21d…</td><td>&quot;0x646174613a2c…</td><td>&quot;0x2907844a39f8…</td><td>&quot;0x7b97c5408604…</td><td>2024-02-15 15:22:31</td><td>459716</td><td>100000000</td><td>0.000046</td><td>1</td><td>&quot;{&quot;p&quot;:&quot;zrc-20&quot;,…</td><td>&quot;zrc-20&quot;</td><td>&quot;transfer&quot;</td><td>&quot;sync&quot;</td><td>4000</td><td>null</td><td>null</td><td>0.000112</td><td>0.000112</td></tr></tbody></table></div>"
      ],
      "text/plain": [
       "shape: (477, 19)\n",
       "┌──────────────┬─────────────┬─────────────┬─────────────┬───┬──────┬───────┬──────────┬───────────┐\n",
       "│ block_number ┆ tx_hash     ┆ tx_input_da ┆ issuer      ┆ … ┆ tx   ┆ price ┆ value    ┆ value_USD │\n",
       "│ ---          ┆ ---         ┆ ta          ┆ ---         ┆   ┆ ---  ┆ ---   ┆ ---      ┆ ---       │\n",
       "│ i64          ┆ str         ┆ ---         ┆ str         ┆   ┆ str  ┆ str   ┆ f64      ┆ f64       │\n",
       "│              ┆             ┆ str         ┆             ┆   ┆      ┆       ┆          ┆           │\n",
       "╞══════════════╪═════════════╪═════════════╪═════════════╪═══╪══════╪═══════╪══════════╪═══════════╡\n",
       "│ 22048559     ┆ 0xcad1a24e5 ┆ 0x646174613 ┆ 0x4749ab4b7 ┆ … ┆ null ┆ null  ┆ 0.000099 ┆ 0.000824  │\n",
       "│              ┆ e976ec61873 ┆ a2c7b227022 ┆ b4750fecfd7 ┆   ┆      ┆       ┆          ┆           │\n",
       "│              ┆ 4c72b62436… ┆ 3a227a7263… ┆ ca4353e61d… ┆   ┆      ┆       ┆          ┆           │\n",
       "│ 22048747     ┆ 0x9ce1f100c ┆ 0x646174613 ┆ 0x0a167d46d ┆ … ┆ null ┆ null  ┆ 0.000099 ┆ 0.099103  │\n",
       "│              ┆ 72a79046060 ┆ a2c7b227022 ┆ df4c1c291c3 ┆   ┆      ┆       ┆          ┆           │\n",
       "│              ┆ b722287b17… ┆ 3a227a7263… ┆ 0446d7cfa0… ┆   ┆      ┆       ┆          ┆           │\n",
       "│ 22049338     ┆ 0x5ddac4627 ┆ 0x646174613 ┆ 0x484da9bda ┆ … ┆ null ┆ null  ┆ 0.000073 ┆ 0.293006  │\n",
       "│              ┆ c807d7259d7 ┆ a2c7b227022 ┆ 5e0182a9e55 ┆   ┆      ┆       ┆          ┆           │\n",
       "│              ┆ d94bbd3637… ┆ 3a227a7263… ┆ 8d786a0b69… ┆   ┆      ┆       ┆          ┆           │\n",
       "│ 22049457     ┆ 0x103b5dffc ┆ 0x646174613 ┆ 0x358396021 ┆ … ┆ null ┆ null  ┆ 0.000074 ┆ 0.294054  │\n",
       "│              ┆ c193a13b711 ┆ a2c7b227022 ┆ 05db524687e ┆   ┆      ┆       ┆          ┆           │\n",
       "│              ┆ 8030a45136… ┆ 3a227a7263… ┆ 00e4c34844… ┆   ┆      ┆       ┆          ┆           │\n",
       "│ 22049549     ┆ 0xd4218e38f ┆ 0x646174613 ┆ 0x3523f08e3 ┆ … ┆ null ┆ null  ┆ 0.000102 ┆ 0.000139  │\n",
       "│              ┆ 1695513206f ┆ a2c7b227022 ┆ 7d72e251d26 ┆   ┆      ┆       ┆          ┆           │\n",
       "│              ┆ b697048e90… ┆ 3a227a7263… ┆ 7bb5bccb8c… ┆   ┆      ┆       ┆          ┆           │\n",
       "│ …            ┆ …           ┆ …           ┆ …           ┆ … ┆ …    ┆ …     ┆ …        ┆ …         │\n",
       "│ 24269907     ┆ 0xbe1c2d2a1 ┆ 0x646174613 ┆ 0xde404aaa7 ┆ … ┆ null ┆ null  ┆ 0.000062 ┆ 0.010382  │\n",
       "│              ┆ 67a7531d495 ┆ a2c7b227022 ┆ 4379da40070 ┆   ┆      ┆       ┆          ┆           │\n",
       "│              ┆ f3f73036b9… ┆ 3a227a7263… ┆ 072faaeca7… ┆   ┆      ┆       ┆          ┆           │\n",
       "│ 24269941     ┆ 0xee9659c53 ┆ 0x646174613 ┆ 0x508703228 ┆ … ┆ null ┆ null  ┆ 0.000087 ┆ 0.002809  │\n",
       "│              ┆ 4e9ed9ca8fe ┆ a2c7b227022 ┆ fed40169c55 ┆   ┆      ┆       ┆          ┆           │\n",
       "│              ┆ 1cd331bbb4… ┆ 3a227a7263… ┆ b965f77e26… ┆   ┆      ┆       ┆          ┆           │\n",
       "│ 25022829     ┆ 0x38a333db0 ┆ 0x646174613 ┆ 0x9be02d4c7 ┆ … ┆ null ┆ null  ┆ 0.000067 ┆ 0.000275  │\n",
       "│              ┆ 12c0b2527ec ┆ a2c7b227022 ┆ 98724895dc6 ┆   ┆      ┆       ┆          ┆           │\n",
       "│              ┆ cc753552a5… ┆ 3a227a7263… ┆ 8f22901cfa… ┆   ┆      ┆       ┆          ┆           │\n",
       "│ 26660883     ┆ 0xf439a4bf7 ┆ 0x646174613 ┆ 0x91e0f6c53 ┆ … ┆ null ┆ null  ┆ 0.000112 ┆ 0.000448  │\n",
       "│              ┆ 65cca36bf12 ┆ a2c7b227022 ┆ 42e5a57e5b9 ┆   ┆      ┆       ┆          ┆           │\n",
       "│              ┆ 0ee888a300… ┆ 3a227a7263… ┆ 56e79503ef… ┆   ┆      ┆       ┆          ┆           │\n",
       "│ 26661009     ┆ 0xa0a8d6adc ┆ 0x646174613 ┆ 0x2907844a3 ┆ … ┆ null ┆ null  ┆ 0.000112 ┆ 0.000112  │\n",
       "│              ┆ 21da6026464 ┆ a2c7b227022 ┆ 9f872a41d08 ┆   ┆      ┆       ┆          ┆           │\n",
       "│              ┆ ad88f49281… ┆ 3a227a7263… ┆ b8f633ec2b… ┆   ┆      ┆       ┆          ┆           │\n",
       "└──────────────┴─────────────┴─────────────┴─────────────┴───┴──────┴───────┴──────────┴───────────┘"
      ]
     },
     "execution_count": 86,
     "metadata": {},
     "output_type": "execute_result"
    }
   ],
   "source": [
    "transfer_sync"
   ]
  },
  {
   "cell_type": "code",
   "execution_count": 89,
   "metadata": {},
   "outputs": [
    {
     "data": {
      "text/html": [
       "<div><style>\n",
       ".dataframe > thead > tr,\n",
       ".dataframe > tbody > tr {\n",
       "  text-align: right;\n",
       "  white-space: pre-wrap;\n",
       "}\n",
       "</style>\n",
       "<small>shape: (477, 20)</small><table border=\"1\" class=\"dataframe\"><thead><tr><th>block_number</th><th>tx_hash</th><th>tx_input_data</th><th>issuer</th><th>receiver</th><th>timestamp</th><th>gas_used</th><th>gas_effective_price</th><th>fees</th><th>tx_status</th><th>decoded_input_data</th><th>p</th><th>op</th><th>tick</th><th>amt</th><th>tx</th><th>price</th><th>value</th><th>value_USD</th><th>date</th></tr><tr><td>i64</td><td>str</td><td>str</td><td>str</td><td>str</td><td>datetime[μs]</td><td>i64</td><td>i64</td><td>f64</td><td>i64</td><td>str</td><td>str</td><td>str</td><td>str</td><td>i32</td><td>str</td><td>str</td><td>f64</td><td>f64</td><td>date</td></tr></thead><tbody><tr><td>22048559</td><td>&quot;0xcad1a24e5e97…</td><td>&quot;0x646174613a2c…</td><td>&quot;0x4749ab4b7b47…</td><td>&quot;0xb14f884adb66…</td><td>2023-12-21 10:40:14</td><td>248010</td><td>190000000</td><td>0.000047</td><td>1</td><td>&quot;{&quot;p&quot;:&quot;zrc-20&quot;,…</td><td>&quot;zrc-20&quot;</td><td>&quot;transfer&quot;</td><td>&quot;sync&quot;</td><td>480</td><td>null</td><td>null</td><td>0.000099</td><td>0.000824</td><td>2023-12-21</td></tr><tr><td>22048747</td><td>&quot;0x9ce1f100c72a…</td><td>&quot;0x646174613a2c…</td><td>&quot;0x0a167d46ddf4…</td><td>&quot;0xd7fdc1c61b53…</td><td>2023-12-21 10:43:28</td><td>249245</td><td>190000000</td><td>0.000047</td><td>1</td><td>&quot;{&quot;p&quot;:&quot;zrc-20&quot;,…</td><td>&quot;zrc-20&quot;</td><td>&quot;transfer&quot;</td><td>&quot;sync&quot;</td><td>4</td><td>null</td><td>null</td><td>0.000099</td><td>0.099103</td><td>2023-12-21</td></tr><tr><td>22049338</td><td>&quot;0x5ddac4627c80…</td><td>&quot;0x646174613a2c…</td><td>&quot;0x484da9bda5e0…</td><td>&quot;0x484da9bda5e0…</td><td>2023-12-21 10:53:43</td><td>253708</td><td>190000000</td><td>0.000048</td><td>1</td><td>&quot;{&quot;p&quot;:&quot;zrc-20&quot;,…</td><td>&quot;zrc-20&quot;</td><td>&quot;transfer&quot;</td><td>&quot;sync&quot;</td><td>1</td><td>null</td><td>null</td><td>0.000073</td><td>0.293006</td><td>2023-12-21</td></tr><tr><td>22049457</td><td>&quot;0x103b5dffcc19…</td><td>&quot;0x646174613a2c…</td><td>&quot;0x35839602105d…</td><td>&quot;0x484da9bda5e0…</td><td>2023-12-21 10:55:48</td><td>254897</td><td>190000000</td><td>0.000048</td><td>1</td><td>&quot;{&quot;p&quot;:&quot;zrc-20&quot;,…</td><td>&quot;zrc-20&quot;</td><td>&quot;transfer&quot;</td><td>&quot;sync&quot;</td><td>1</td><td>null</td><td>null</td><td>0.000074</td><td>0.294054</td><td>2023-12-21</td></tr><tr><td>22049549</td><td>&quot;0xd4218e38f169…</td><td>&quot;0x646174613a2c…</td><td>&quot;0x3523f08e37d7…</td><td>&quot;0x0dce56a50b39…</td><td>2023-12-21 10:57:22</td><td>254908</td><td>190000000</td><td>0.000048</td><td>1</td><td>&quot;{&quot;p&quot;:&quot;zrc-20&quot;,…</td><td>&quot;zrc-20&quot;</td><td>&quot;transfer&quot;</td><td>&quot;sync&quot;</td><td>2952</td><td>null</td><td>null</td><td>0.000102</td><td>0.000139</td><td>2023-12-21</td></tr><tr><td>&hellip;</td><td>&hellip;</td><td>&hellip;</td><td>&hellip;</td><td>&hellip;</td><td>&hellip;</td><td>&hellip;</td><td>&hellip;</td><td>&hellip;</td><td>&hellip;</td><td>&hellip;</td><td>&hellip;</td><td>&hellip;</td><td>&hellip;</td><td>&hellip;</td><td>&hellip;</td><td>&hellip;</td><td>&hellip;</td><td>&hellip;</td><td>&hellip;</td></tr><tr><td>24269907</td><td>&quot;0xbe1c2d2a167a…</td><td>&quot;0x646174613a2c…</td><td>&quot;0xde404aaa7437…</td><td>&quot;0x5ba5cf528bae…</td><td>2024-01-17 11:06:12</td><td>417820</td><td>100000000</td><td>0.000042</td><td>1</td><td>&quot;{&quot;p&quot;:&quot;zrc-20&quot;,…</td><td>&quot;zrc-20&quot;</td><td>&quot;transfer&quot;</td><td>&quot;sync&quot;</td><td>24</td><td>null</td><td>null</td><td>0.000062</td><td>0.010382</td><td>2024-01-17</td></tr><tr><td>24269941</td><td>&quot;0xee9659c534e9…</td><td>&quot;0x646174613a2c…</td><td>&quot;0x508703228fed…</td><td>&quot;0x5ba5cf528bae…</td><td>2024-01-17 11:06:48</td><td>417835</td><td>100000000</td><td>0.000042</td><td>1</td><td>&quot;{&quot;p&quot;:&quot;zrc-20&quot;,…</td><td>&quot;zrc-20&quot;</td><td>&quot;transfer&quot;</td><td>&quot;sync&quot;</td><td>124</td><td>null</td><td>null</td><td>0.000087</td><td>0.002809</td><td>2024-01-17</td></tr><tr><td>25022829</td><td>&quot;0x38a333db012c…</td><td>&quot;0x646174613a2c…</td><td>&quot;0x9be02d4c7987…</td><td>&quot;0x3551bab7c6c8…</td><td>2024-01-26 14:18:53</td><td>275107</td><td>100000000</td><td>0.000028</td><td>1</td><td>&quot;{&quot;p&quot;:&quot;zrc-20&quot;,…</td><td>&quot;zrc-20&quot;</td><td>&quot;transfer&quot;</td><td>&quot;sync&quot;</td><td>980</td><td>null</td><td>null</td><td>0.000067</td><td>0.000275</td><td>2024-01-26</td></tr><tr><td>26660883</td><td>&quot;0xf439a4bf765c…</td><td>&quot;0x646174613a2c…</td><td>&quot;0x91e0f6c5342e…</td><td>&quot;0x7b97c5408604…</td><td>2024-02-15 15:20:25</td><td>459716</td><td>100000000</td><td>0.000046</td><td>1</td><td>&quot;{&quot;p&quot;:&quot;zrc-20&quot;,…</td><td>&quot;zrc-20&quot;</td><td>&quot;transfer&quot;</td><td>&quot;sync&quot;</td><td>1000</td><td>null</td><td>null</td><td>0.000112</td><td>0.000448</td><td>2024-02-15</td></tr><tr><td>26661009</td><td>&quot;0xa0a8d6adc21d…</td><td>&quot;0x646174613a2c…</td><td>&quot;0x2907844a39f8…</td><td>&quot;0x7b97c5408604…</td><td>2024-02-15 15:22:31</td><td>459716</td><td>100000000</td><td>0.000046</td><td>1</td><td>&quot;{&quot;p&quot;:&quot;zrc-20&quot;,…</td><td>&quot;zrc-20&quot;</td><td>&quot;transfer&quot;</td><td>&quot;sync&quot;</td><td>4000</td><td>null</td><td>null</td><td>0.000112</td><td>0.000112</td><td>2024-02-15</td></tr></tbody></table></div>"
      ],
      "text/plain": [
       "shape: (477, 20)\n",
       "┌────────────┬────────────┬────────────┬────────────┬───┬───────┬──────────┬───────────┬───────────┐\n",
       "│ block_numb ┆ tx_hash    ┆ tx_input_d ┆ issuer     ┆ … ┆ price ┆ value    ┆ value_USD ┆ date      │\n",
       "│ er         ┆ ---        ┆ ata        ┆ ---        ┆   ┆ ---   ┆ ---      ┆ ---       ┆ ---       │\n",
       "│ ---        ┆ str        ┆ ---        ┆ str        ┆   ┆ str   ┆ f64      ┆ f64       ┆ date      │\n",
       "│ i64        ┆            ┆ str        ┆            ┆   ┆       ┆          ┆           ┆           │\n",
       "╞════════════╪════════════╪════════════╪════════════╪═══╪═══════╪══════════╪═══════════╪═══════════╡\n",
       "│ 22048559   ┆ 0xcad1a24e ┆ 0x64617461 ┆ 0x4749ab4b ┆ … ┆ null  ┆ 0.000099 ┆ 0.000824  ┆ 2023-12-2 │\n",
       "│            ┆ 5e976ec618 ┆ 3a2c7b2270 ┆ 7b4750fecf ┆   ┆       ┆          ┆           ┆ 1         │\n",
       "│            ┆ 734c72b624 ┆ 223a227a72 ┆ d7ca4353e6 ┆   ┆       ┆          ┆           ┆           │\n",
       "│            ┆ 36…        ┆ 63…        ┆ 1d…        ┆   ┆       ┆          ┆           ┆           │\n",
       "│ 22048747   ┆ 0x9ce1f100 ┆ 0x64617461 ┆ 0x0a167d46 ┆ … ┆ null  ┆ 0.000099 ┆ 0.099103  ┆ 2023-12-2 │\n",
       "│            ┆ c72a790460 ┆ 3a2c7b2270 ┆ ddf4c1c291 ┆   ┆       ┆          ┆           ┆ 1         │\n",
       "│            ┆ 60b722287b ┆ 223a227a72 ┆ c30446d7cf ┆   ┆       ┆          ┆           ┆           │\n",
       "│            ┆ 17…        ┆ 63…        ┆ a0…        ┆   ┆       ┆          ┆           ┆           │\n",
       "│ 22049338   ┆ 0x5ddac462 ┆ 0x64617461 ┆ 0x484da9bd ┆ … ┆ null  ┆ 0.000073 ┆ 0.293006  ┆ 2023-12-2 │\n",
       "│            ┆ 7c807d7259 ┆ 3a2c7b2270 ┆ a5e0182a9e ┆   ┆       ┆          ┆           ┆ 1         │\n",
       "│            ┆ d7d94bbd36 ┆ 223a227a72 ┆ 558d786a0b ┆   ┆       ┆          ┆           ┆           │\n",
       "│            ┆ 37…        ┆ 63…        ┆ 69…        ┆   ┆       ┆          ┆           ┆           │\n",
       "│ 22049457   ┆ 0x103b5dff ┆ 0x64617461 ┆ 0x35839602 ┆ … ┆ null  ┆ 0.000074 ┆ 0.294054  ┆ 2023-12-2 │\n",
       "│            ┆ cc193a13b7 ┆ 3a2c7b2270 ┆ 105db52468 ┆   ┆       ┆          ┆           ┆ 1         │\n",
       "│            ┆ 118030a451 ┆ 223a227a72 ┆ 7e00e4c348 ┆   ┆       ┆          ┆           ┆           │\n",
       "│            ┆ 36…        ┆ 63…        ┆ 44…        ┆   ┆       ┆          ┆           ┆           │\n",
       "│ 22049549   ┆ 0xd4218e38 ┆ 0x64617461 ┆ 0x3523f08e ┆ … ┆ null  ┆ 0.000102 ┆ 0.000139  ┆ 2023-12-2 │\n",
       "│            ┆ f169551320 ┆ 3a2c7b2270 ┆ 37d72e251d ┆   ┆       ┆          ┆           ┆ 1         │\n",
       "│            ┆ 6fb697048e ┆ 223a227a72 ┆ 267bb5bccb ┆   ┆       ┆          ┆           ┆           │\n",
       "│            ┆ 90…        ┆ 63…        ┆ 8c…        ┆   ┆       ┆          ┆           ┆           │\n",
       "│ …          ┆ …          ┆ …          ┆ …          ┆ … ┆ …     ┆ …        ┆ …         ┆ …         │\n",
       "│ 24269907   ┆ 0xbe1c2d2a ┆ 0x64617461 ┆ 0xde404aaa ┆ … ┆ null  ┆ 0.000062 ┆ 0.010382  ┆ 2024-01-1 │\n",
       "│            ┆ 167a7531d4 ┆ 3a2c7b2270 ┆ 74379da400 ┆   ┆       ┆          ┆           ┆ 7         │\n",
       "│            ┆ 95f3f73036 ┆ 223a227a72 ┆ 70072faaec ┆   ┆       ┆          ┆           ┆           │\n",
       "│            ┆ b9…        ┆ 63…        ┆ a7…        ┆   ┆       ┆          ┆           ┆           │\n",
       "│ 24269941   ┆ 0xee9659c5 ┆ 0x64617461 ┆ 0x50870322 ┆ … ┆ null  ┆ 0.000087 ┆ 0.002809  ┆ 2024-01-1 │\n",
       "│            ┆ 34e9ed9ca8 ┆ 3a2c7b2270 ┆ 8fed40169c ┆   ┆       ┆          ┆           ┆ 7         │\n",
       "│            ┆ fe1cd331bb ┆ 223a227a72 ┆ 55b965f77e ┆   ┆       ┆          ┆           ┆           │\n",
       "│            ┆ b4…        ┆ 63…        ┆ 26…        ┆   ┆       ┆          ┆           ┆           │\n",
       "│ 25022829   ┆ 0x38a333db ┆ 0x64617461 ┆ 0x9be02d4c ┆ … ┆ null  ┆ 0.000067 ┆ 0.000275  ┆ 2024-01-2 │\n",
       "│            ┆ 012c0b2527 ┆ 3a2c7b2270 ┆ 798724895d ┆   ┆       ┆          ┆           ┆ 6         │\n",
       "│            ┆ eccc753552 ┆ 223a227a72 ┆ c68f22901c ┆   ┆       ┆          ┆           ┆           │\n",
       "│            ┆ a5…        ┆ 63…        ┆ fa…        ┆   ┆       ┆          ┆           ┆           │\n",
       "│ 26660883   ┆ 0xf439a4bf ┆ 0x64617461 ┆ 0x91e0f6c5 ┆ … ┆ null  ┆ 0.000112 ┆ 0.000448  ┆ 2024-02-1 │\n",
       "│            ┆ 765cca36bf ┆ 3a2c7b2270 ┆ 342e5a57e5 ┆   ┆       ┆          ┆           ┆ 5         │\n",
       "│            ┆ 120ee888a3 ┆ 223a227a72 ┆ b956e79503 ┆   ┆       ┆          ┆           ┆           │\n",
       "│            ┆ 00…        ┆ 63…        ┆ ef…        ┆   ┆       ┆          ┆           ┆           │\n",
       "│ 26661009   ┆ 0xa0a8d6ad ┆ 0x64617461 ┆ 0x2907844a ┆ … ┆ null  ┆ 0.000112 ┆ 0.000112  ┆ 2024-02-1 │\n",
       "│            ┆ c21da60264 ┆ 3a2c7b2270 ┆ 39f872a41d ┆   ┆       ┆          ┆           ┆ 5         │\n",
       "│            ┆ 64ad88f492 ┆ 223a227a72 ┆ 08b8f633ec ┆   ┆       ┆          ┆           ┆           │\n",
       "│            ┆ 81…        ┆ 63…        ┆ 2b…        ┆   ┆       ┆          ┆           ┆           │\n",
       "└────────────┴────────────┴────────────┴────────────┴───┴───────┴──────────┴───────────┴───────────┘"
      ]
     },
     "execution_count": 89,
     "metadata": {},
     "output_type": "execute_result"
    }
   ],
   "source": [
    "transfer_sync = transfer_sync.with_columns((pl.col('timestamp').cast(pl.Date)).alias('date'))\n",
    "transfer_sync"
   ]
  },
  {
   "cell_type": "code",
   "execution_count": 119,
   "metadata": {},
   "outputs": [
    {
     "data": {
      "application/vnd.plotly.v1+json": {
       "config": {
        "plotlyServerURL": "https://plot.ly"
       },
       "data": [
        {
         "mode": "markers",
         "name": "Price",
         "type": "scatter",
         "x": [
          "2023-12-21T10:40:14.000000",
          "2023-12-21T10:43:28.000000",
          "2023-12-21T10:53:43.000000",
          "2023-12-21T10:55:48.000000",
          "2023-12-21T10:57:22.000000",
          "2023-12-21T11:06:24.000000",
          "2023-12-21T11:11:20.000000",
          "2023-12-21T11:14:36.000000",
          "2023-12-21T11:16:31.000000",
          "2023-12-21T11:18:30.000000",
          "2023-12-21T11:19:31.000000",
          "2023-12-21T11:20:46.000000",
          "2023-12-21T11:23:46.000000",
          "2023-12-21T11:24:47.000000",
          "2023-12-21T11:25:07.000000",
          "2023-12-21T11:28:24.000000",
          "2023-12-21T11:29:27.000000",
          "2023-12-21T11:30:34.000000",
          "2023-12-21T11:32:05.000000",
          "2023-12-21T11:35:20.000000",
          "2023-12-21T11:35:30.000000",
          "2023-12-21T11:35:31.000000",
          "2023-12-21T11:35:56.000000",
          "2023-12-21T11:36:14.000000",
          "2023-12-21T11:41:52.000000",
          "2023-12-21T11:47:19.000000",
          "2023-12-21T11:47:35.000000",
          "2023-12-21T11:47:55.000000",
          "2023-12-21T11:49:41.000000",
          "2023-12-21T11:50:39.000000",
          "2023-12-21T11:51:20.000000",
          "2023-12-21T11:52:17.000000",
          "2023-12-21T11:52:24.000000",
          "2023-12-21T11:52:25.000000",
          "2023-12-21T11:52:26.000000",
          "2023-12-21T11:52:27.000000",
          "2023-12-21T11:52:28.000000",
          "2023-12-21T11:52:35.000000",
          "2023-12-21T11:52:45.000000",
          "2023-12-21T11:52:57.000000",
          "2023-12-21T11:53:07.000000",
          "2023-12-21T11:53:24.000000",
          "2023-12-21T11:53:28.000000",
          "2023-12-21T11:53:53.000000",
          "2023-12-21T11:53:57.000000",
          "2023-12-21T11:54:05.000000",
          "2023-12-21T11:54:08.000000",
          "2023-12-21T11:54:23.000000",
          "2023-12-21T11:54:39.000000",
          "2023-12-21T11:54:49.000000",
          "2023-12-21T11:55:01.000000",
          "2023-12-21T11:55:05.000000",
          "2023-12-21T11:55:17.000000",
          "2023-12-21T11:55:38.000000",
          "2023-12-21T11:55:44.000000",
          "2023-12-21T11:56:25.000000",
          "2023-12-21T11:56:27.000000",
          "2023-12-21T11:56:31.000000",
          "2023-12-21T11:57:09.000000",
          "2023-12-21T11:57:25.000000",
          "2023-12-21T11:57:31.000000",
          "2023-12-21T11:57:32.000000",
          "2023-12-21T11:57:50.000000",
          "2023-12-21T11:58:27.000000",
          "2023-12-21T11:58:31.000000",
          "2023-12-21T11:58:39.000000",
          "2023-12-21T11:59:35.000000",
          "2023-12-21T11:59:38.000000",
          "2023-12-21T11:59:44.000000",
          "2023-12-21T12:00:54.000000",
          "2023-12-21T12:01:12.000000",
          "2023-12-21T12:01:21.000000",
          "2023-12-21T12:02:03.000000",
          "2023-12-21T12:02:26.000000",
          "2023-12-21T12:03:15.000000",
          "2023-12-21T12:03:45.000000",
          "2023-12-21T12:04:43.000000",
          "2023-12-21T12:04:59.000000",
          "2023-12-21T12:05:13.000000",
          "2023-12-21T12:06:07.000000",
          "2023-12-21T12:06:21.000000",
          "2023-12-21T12:06:56.000000",
          "2023-12-21T12:09:16.000000",
          "2023-12-21T12:09:31.000000",
          "2023-12-21T12:11:07.000000",
          "2023-12-21T12:12:55.000000",
          "2023-12-21T12:14:27.000000",
          "2023-12-21T12:18:18.000000",
          "2023-12-21T12:19:21.000000",
          "2023-12-21T12:20:18.000000",
          "2023-12-21T12:27:20.000000",
          "2023-12-21T12:27:20.000000",
          "2023-12-21T12:27:20.000000",
          "2023-12-21T12:27:20.000000",
          "2023-12-21T12:27:21.000000",
          "2023-12-21T12:27:21.000000",
          "2023-12-21T12:27:21.000000",
          "2023-12-21T12:27:21.000000",
          "2023-12-21T12:27:21.000000",
          "2023-12-21T12:27:21.000000",
          "2023-12-21T12:30:34.000000",
          "2023-12-21T12:31:42.000000",
          "2023-12-21T12:31:42.000000",
          "2023-12-21T12:31:42.000000",
          "2023-12-21T12:31:42.000000",
          "2023-12-21T12:31:42.000000",
          "2023-12-21T12:32:26.000000",
          "2023-12-21T12:36:20.000000",
          "2023-12-21T12:44:54.000000",
          "2023-12-21T12:45:04.000000",
          "2023-12-21T12:46:36.000000",
          "2023-12-21T13:02:09.000000",
          "2023-12-21T13:02:09.000000",
          "2023-12-21T13:02:09.000000",
          "2023-12-21T13:02:09.000000",
          "2023-12-21T13:02:09.000000",
          "2023-12-21T13:02:09.000000",
          "2023-12-21T13:02:09.000000",
          "2023-12-21T13:02:09.000000",
          "2023-12-21T13:02:09.000000",
          "2023-12-21T13:05:52.000000",
          "2023-12-21T13:07:19.000000",
          "2023-12-21T13:13:05.000000",
          "2023-12-21T13:13:05.000000",
          "2023-12-21T13:13:05.000000",
          "2023-12-21T13:13:05.000000",
          "2023-12-21T13:13:05.000000",
          "2023-12-21T13:13:45.000000",
          "2023-12-21T13:13:59.000000",
          "2023-12-21T13:14:05.000000",
          "2023-12-21T13:14:28.000000",
          "2023-12-21T13:34:48.000000",
          "2023-12-21T13:34:48.000000",
          "2023-12-21T13:34:48.000000",
          "2023-12-21T13:34:48.000000",
          "2023-12-21T13:34:48.000000",
          "2023-12-21T13:34:48.000000",
          "2023-12-21T13:34:48.000000",
          "2023-12-21T13:34:48.000000",
          "2023-12-21T13:34:48.000000",
          "2023-12-21T13:47:35.000000",
          "2023-12-21T13:47:35.000000",
          "2023-12-21T13:48:23.000000",
          "2023-12-21T13:48:48.000000",
          "2023-12-21T13:48:50.000000",
          "2023-12-21T13:48:50.000000",
          "2023-12-21T13:49:16.000000",
          "2023-12-21T13:49:33.000000",
          "2023-12-21T13:49:55.000000",
          "2023-12-21T13:50:55.000000",
          "2023-12-21T14:28:44.000000",
          "2023-12-22T17:20:40.000000",
          "2023-12-22T17:25:35.000000",
          "2023-12-22T17:34:18.000000",
          "2023-12-22T17:35:23.000000",
          "2023-12-22T17:57:26.000000",
          "2023-12-22T18:06:15.000000",
          "2023-12-22T18:06:57.000000",
          "2023-12-22T19:36:53.000000",
          "2023-12-22T22:30:29.000000",
          "2023-12-22T22:54:30.000000",
          "2023-12-22T22:57:49.000000",
          "2023-12-23T00:24:32.000000",
          "2023-12-23T00:25:32.000000",
          "2023-12-23T00:26:01.000000",
          "2023-12-23T00:31:35.000000",
          "2023-12-23T02:23:00.000000",
          "2023-12-23T06:56:20.000000",
          "2023-12-23T06:56:48.000000",
          "2023-12-23T08:57:26.000000",
          "2023-12-23T10:05:37.000000",
          "2023-12-23T10:08:55.000000",
          "2023-12-23T10:10:42.000000",
          "2023-12-23T10:11:29.000000",
          "2023-12-23T10:13:42.000000",
          "2023-12-23T10:15:04.000000",
          "2023-12-23T10:16:28.000000",
          "2023-12-23T10:17:49.000000",
          "2023-12-23T11:28:40.000000",
          "2023-12-23T11:46:30.000000",
          "2023-12-23T12:09:49.000000",
          "2023-12-23T12:10:35.000000",
          "2023-12-23T12:14:15.000000",
          "2023-12-23T12:46:43.000000",
          "2023-12-23T13:53:51.000000",
          "2023-12-23T13:54:17.000000",
          "2023-12-23T14:22:16.000000",
          "2023-12-23T15:00:34.000000",
          "2023-12-23T15:52:48.000000",
          "2023-12-23T17:16:12.000000",
          "2023-12-23T17:16:26.000000",
          "2023-12-23T17:18:15.000000",
          "2023-12-24T03:38:02.000000",
          "2023-12-24T04:14:34.000000",
          "2023-12-24T04:31:51.000000",
          "2023-12-24T04:31:53.000000",
          "2023-12-24T04:31:55.000000",
          "2023-12-24T04:34:24.000000",
          "2023-12-24T04:34:26.000000",
          "2023-12-24T04:34:28.000000",
          "2023-12-24T04:34:30.000000",
          "2023-12-24T04:34:32.000000",
          "2023-12-24T04:34:35.000000",
          "2023-12-24T04:34:37.000000",
          "2023-12-24T04:34:39.000000",
          "2023-12-24T04:34:41.000000",
          "2023-12-24T04:34:47.000000",
          "2023-12-24T04:34:47.000000",
          "2023-12-24T04:34:47.000000",
          "2023-12-24T04:34:49.000000",
          "2023-12-24T04:34:51.000000",
          "2023-12-24T04:35:56.000000",
          "2023-12-24T04:35:58.000000",
          "2023-12-24T04:36:00.000000",
          "2023-12-24T04:36:02.000000",
          "2023-12-24T04:36:04.000000",
          "2023-12-24T04:36:06.000000",
          "2023-12-24T04:36:08.000000",
          "2023-12-24T04:36:10.000000",
          "2023-12-24T04:36:12.000000",
          "2023-12-24T04:36:14.000000",
          "2023-12-24T04:36:16.000000",
          "2023-12-24T04:36:18.000000",
          "2023-12-24T04:36:21.000000",
          "2023-12-24T04:36:23.000000",
          "2023-12-24T04:36:25.000000",
          "2023-12-24T04:36:28.000000",
          "2023-12-24T04:36:29.000000",
          "2023-12-24T04:36:31.000000",
          "2023-12-24T04:36:33.000000",
          "2023-12-24T04:36:39.000000",
          "2023-12-24T04:36:39.000000",
          "2023-12-24T04:36:40.000000",
          "2023-12-24T04:36:41.000000",
          "2023-12-24T04:36:44.000000",
          "2023-12-24T04:36:47.000000",
          "2023-12-24T04:36:49.000000",
          "2023-12-24T04:36:51.000000",
          "2023-12-24T04:36:53.000000",
          "2023-12-24T04:36:55.000000",
          "2023-12-24T04:36:57.000000",
          "2023-12-24T04:37:00.000000",
          "2023-12-24T04:37:02.000000",
          "2023-12-24T04:37:04.000000",
          "2023-12-24T04:37:06.000000",
          "2023-12-24T04:37:08.000000",
          "2023-12-24T04:37:10.000000",
          "2023-12-24T04:37:12.000000",
          "2023-12-24T04:37:15.000000",
          "2023-12-24T04:37:17.000000",
          "2023-12-24T04:37:19.000000",
          "2023-12-24T04:37:21.000000",
          "2023-12-24T04:37:23.000000",
          "2023-12-24T04:37:25.000000",
          "2023-12-24T04:37:27.000000",
          "2023-12-24T04:37:29.000000",
          "2023-12-24T04:37:31.000000",
          "2023-12-24T04:37:38.000000",
          "2023-12-24T04:37:39.000000",
          "2023-12-24T04:37:39.000000",
          "2023-12-24T04:37:41.000000",
          "2023-12-24T04:37:43.000000",
          "2023-12-24T04:37:47.000000",
          "2023-12-24T04:37:49.000000",
          "2023-12-24T04:37:51.000000",
          "2023-12-24T04:37:53.000000",
          "2023-12-24T04:37:56.000000",
          "2023-12-24T04:37:58.000000",
          "2023-12-24T04:38:00.000000",
          "2023-12-24T04:38:02.000000",
          "2023-12-24T04:38:04.000000",
          "2023-12-24T04:38:06.000000",
          "2023-12-24T04:38:08.000000",
          "2023-12-24T04:38:10.000000",
          "2023-12-24T04:38:12.000000",
          "2023-12-24T04:38:14.000000",
          "2023-12-24T04:38:17.000000",
          "2023-12-24T04:38:18.000000",
          "2023-12-24T04:38:20.000000",
          "2023-12-24T04:38:23.000000",
          "2023-12-24T04:38:26.000000",
          "2023-12-24T04:38:28.000000",
          "2023-12-24T04:38:31.000000",
          "2023-12-24T04:38:33.000000",
          "2023-12-24T04:38:35.000000",
          "2023-12-24T04:38:41.000000",
          "2023-12-24T04:38:42.000000",
          "2023-12-24T04:55:26.000000",
          "2023-12-24T04:57:28.000000",
          "2023-12-24T05:04:36.000000",
          "2023-12-24T06:11:15.000000",
          "2023-12-24T06:53:38.000000",
          "2023-12-24T07:14:43.000000",
          "2023-12-24T07:22:21.000000",
          "2023-12-24T08:51:25.000000",
          "2023-12-24T09:05:52.000000",
          "2023-12-24T10:16:28.000000",
          "2023-12-24T10:24:22.000000",
          "2023-12-24T12:03:24.000000",
          "2023-12-24T12:09:09.000000",
          "2023-12-24T12:09:48.000000",
          "2023-12-24T12:11:07.000000",
          "2023-12-24T12:20:59.000000",
          "2023-12-24T13:39:45.000000",
          "2023-12-24T14:02:41.000000",
          "2023-12-24T16:02:50.000000",
          "2023-12-24T16:31:07.000000",
          "2023-12-24T16:31:45.000000",
          "2023-12-24T17:11:24.000000",
          "2023-12-24T17:11:52.000000",
          "2023-12-24T17:28:58.000000",
          "2023-12-24T17:29:09.000000",
          "2023-12-25T05:15:23.000000",
          "2023-12-25T10:01:51.000000",
          "2023-12-25T10:02:27.000000",
          "2023-12-25T11:07:42.000000",
          "2023-12-25T11:09:32.000000",
          "2023-12-25T12:23:02.000000",
          "2023-12-25T13:03:58.000000",
          "2023-12-25T13:04:37.000000",
          "2023-12-25T15:45:46.000000",
          "2023-12-25T16:11:29.000000",
          "2023-12-25T16:14:04.000000",
          "2023-12-25T16:15:45.000000",
          "2023-12-26T06:50:19.000000",
          "2023-12-26T08:55:30.000000",
          "2023-12-26T11:32:01.000000",
          "2023-12-27T00:59:32.000000",
          "2023-12-27T01:00:16.000000",
          "2023-12-27T01:01:12.000000",
          "2023-12-27T01:01:46.000000",
          "2023-12-27T14:01:43.000000",
          "2023-12-27T17:02:39.000000",
          "2023-12-28T04:14:36.000000",
          "2023-12-28T06:06:23.000000",
          "2023-12-29T04:59:05.000000",
          "2023-12-29T07:35:54.000000",
          "2023-12-30T04:36:24.000000",
          "2023-12-30T10:20:46.000000",
          "2023-12-30T18:28:21.000000",
          "2023-12-31T14:03:11.000000",
          "2024-01-01T13:23:37.000000",
          "2024-01-03T04:09:11.000000",
          "2024-01-03T04:10:05.000000",
          "2024-01-03T11:48:21.000000",
          "2024-01-03T11:48:53.000000",
          "2024-01-03T12:30:32.000000",
          "2024-01-03T12:41:21.000000",
          "2024-01-03T13:36:51.000000",
          "2024-01-03T14:09:44.000000",
          "2024-01-03T14:11:59.000000",
          "2024-01-03T14:14:13.000000",
          "2024-01-03T14:15:45.000000",
          "2024-01-03T14:18:25.000000",
          "2024-01-03T14:28:10.000000",
          "2024-01-03T14:32:48.000000",
          "2024-01-03T14:34:40.000000",
          "2024-01-03T14:40:13.000000",
          "2024-01-03T14:43:51.000000",
          "2024-01-03T14:48:42.000000",
          "2024-01-03T15:05:00.000000",
          "2024-01-03T15:07:13.000000",
          "2024-01-03T15:08:13.000000",
          "2024-01-03T15:09:46.000000",
          "2024-01-03T15:11:18.000000",
          "2024-01-03T15:12:07.000000",
          "2024-01-03T15:12:43.000000",
          "2024-01-03T15:13:36.000000",
          "2024-01-03T15:15:36.000000",
          "2024-01-03T15:15:54.000000",
          "2024-01-03T15:17:29.000000",
          "2024-01-03T15:19:14.000000",
          "2024-01-03T16:03:30.000000",
          "2024-01-03T16:18:20.000000",
          "2024-01-03T16:19:30.000000",
          "2024-01-03T16:20:11.000000",
          "2024-01-03T16:21:09.000000",
          "2024-01-03T16:21:55.000000",
          "2024-01-03T16:22:56.000000",
          "2024-01-03T17:16:33.000000",
          "2024-01-03T17:17:12.000000",
          "2024-01-03T17:20:03.000000",
          "2024-01-03T18:56:32.000000",
          "2024-01-04T00:52:12.000000",
          "2024-01-04T05:22:38.000000",
          "2024-01-04T08:22:25.000000",
          "2024-01-04T08:23:21.000000",
          "2024-01-04T11:03:44.000000",
          "2024-01-04T13:45:04.000000",
          "2024-01-04T14:31:28.000000",
          "2024-01-04T14:33:00.000000",
          "2024-01-04T15:15:23.000000",
          "2024-01-05T00:48:03.000000",
          "2024-01-05T00:48:34.000000",
          "2024-01-05T00:49:03.000000",
          "2024-01-05T05:23:35.000000",
          "2024-01-05T07:41:17.000000",
          "2024-01-05T07:41:39.000000",
          "2024-01-05T07:42:09.000000",
          "2024-01-05T07:44:22.000000",
          "2024-01-05T07:46:01.000000",
          "2024-01-05T07:46:34.000000",
          "2024-01-05T07:47:01.000000",
          "2024-01-05T07:48:48.000000",
          "2024-01-05T07:50:07.000000",
          "2024-01-05T07:51:12.000000",
          "2024-01-05T07:51:56.000000",
          "2024-01-05T07:52:50.000000",
          "2024-01-05T07:57:26.000000",
          "2024-01-05T07:58:00.000000",
          "2024-01-05T07:58:26.000000",
          "2024-01-05T07:59:04.000000",
          "2024-01-05T08:00:13.000000",
          "2024-01-05T08:00:28.000000",
          "2024-01-05T08:01:07.000000",
          "2024-01-05T08:01:27.000000",
          "2024-01-05T13:03:49.000000",
          "2024-01-08T11:53:08.000000",
          "2024-01-08T11:55:54.000000",
          "2024-01-08T11:56:50.000000",
          "2024-01-08T11:57:50.000000",
          "2024-01-08T11:59:59.000000",
          "2024-01-08T12:02:43.000000",
          "2024-01-08T12:03:38.000000",
          "2024-01-08T12:05:44.000000",
          "2024-01-08T12:08:50.000000",
          "2024-01-08T12:13:37.000000",
          "2024-01-08T12:16:41.000000",
          "2024-01-08T13:49:22.000000",
          "2024-01-08T13:53:13.000000",
          "2024-01-08T13:53:31.000000",
          "2024-01-08T13:56:54.000000",
          "2024-01-08T14:00:29.000000",
          "2024-01-08T14:03:19.000000",
          "2024-01-08T14:06:02.000000",
          "2024-01-08T14:06:22.000000",
          "2024-01-08T14:26:54.000000",
          "2024-01-08T14:27:23.000000",
          "2024-01-08T14:27:46.000000",
          "2024-01-08T14:31:57.000000",
          "2024-01-08T14:32:10.000000",
          "2024-01-08T14:32:30.000000",
          "2024-01-08T14:35:31.000000",
          "2024-01-08T14:38:08.000000",
          "2024-01-08T14:40:56.000000",
          "2024-01-08T14:43:20.000000",
          "2024-01-08T14:46:21.000000",
          "2024-01-08T14:49:10.000000",
          "2024-01-08T14:52:01.000000",
          "2024-01-08T14:54:51.000000",
          "2024-01-08T14:57:01.000000",
          "2024-01-08T14:57:32.000000",
          "2024-01-08T15:03:38.000000",
          "2024-01-08T15:06:35.000000",
          "2024-01-08T15:11:08.000000",
          "2024-01-08T15:13:42.000000",
          "2024-01-08T15:16:10.000000",
          "2024-01-08T15:18:47.000000",
          "2024-01-08T15:20:49.000000",
          "2024-01-08T15:24:05.000000",
          "2024-01-08T15:27:34.000000",
          "2024-01-08T15:29:18.000000",
          "2024-01-08T15:35:07.000000",
          "2024-01-08T15:38:24.000000",
          "2024-01-08T15:40:22.000000",
          "2024-01-08T15:45:50.000000",
          "2024-01-08T15:50:48.000000",
          "2024-01-08T15:51:45.000000",
          "2024-01-08T15:54:15.000000",
          "2024-01-08T16:09:58.000000",
          "2024-01-17T10:16:54.000000",
          "2024-01-17T10:19:38.000000",
          "2024-01-17T11:06:12.000000",
          "2024-01-17T11:06:48.000000",
          "2024-01-26T14:18:53.000000",
          "2024-02-15T15:20:25.000000",
          "2024-02-15T15:22:31.000000"
         ],
         "y": [
          0.0008243867249999999,
          0.09910313550000001,
          0.29300610600000004,
          0.294053652,
          0.00013880855487804879,
          0.301375188,
          0.20965540500000002,
          0.0000630973033674083,
          0.00005691635064935065,
          0.0010017277714285712,
          0.000560967552,
          0.000105181416,
          0.140673834,
          0.00007820685,
          0.00013230482142857143,
          0.0070120944,
          0.000418485906,
          0.00038568575,
          0.00036266678496503496,
          0.0016339945714285715,
          0.000043948096153846156,
          0.0204675201,
          0.0990220815,
          0.0033922036551724136,
          0.0002862388,
          0.00019588353444676407,
          0.0002549679701086956,
          0.0375312852,
          0.00017642946700507613,
          0.00010588045523520485,
          0.0099788,
          0.00024985821485411144,
          0.00021087574468085107,
          0.00025146576000000003,
          0.0002494306428571429,
          0.0002494306428571429,
          0.002586688148148148,
          0.0002103163925729443,
          0.0002520983502673797,
          0.000262649642384106,
          0.00025013172413793105,
          0.00021087574468085107,
          0.0002103163925729443,
          0.00025146576000000003,
          0.0006790496115107914,
          0.009935567999999999,
          0.00021051165915119365,
          0.000256488847826087,
          0.00021507559756097562,
          0.00025107120478723405,
          0.00021200342245989305,
          0.000211110414893617,
          0.00025146576000000003,
          0.0002522560909090909,
          0.00013712758430232556,
          0.0002131432258064516,
          0.0002507969680851064,
          0.00025281410187667563,
          0.00023753062972292193,
          0.000211110414893617,
          0.0002522560909090909,
          0.00008443897406082289,
          0.00018450654353562005,
          0.00021055044031830238,
          0.0003191769881756757,
          0.00020999342857142857,
          0.0002498208214285714,
          0.00021070692572944293,
          0.00021014949999999998,
          0.0004723819425,
          0.00024997689285714283,
          0.00023331176666666666,
          0.00023701458471760795,
          0.0005079078,
          0.00023849623333333333,
          0.0006524424121621622,
          0.0002403531879194631,
          0.00015859872794117647,
          0.0005812121047904192,
          0.0003376359375,
          0.0004810911460396039,
          0.0064845765,
          0.010837096499999999,
          0.00002944863179347826,
          0.104717151,
          0.00004425838536890371,
          0.00007006639774919613,
          0.000058588396964856225,
          0.00006295489230769232,
          0.00005916877567855242,
          0.0002984500949197861,
          0.0002984500949197861,
          0.00029984231099195716,
          0.0002984500949197861,
          0.00025769857603686637,
          0.0002984500949197861,
          0.0002992502292225201,
          0.0002990920656836461,
          0.0002982923542780749,
          0.0002992502292225201,
          0.032496498,
          0.0003115553525469169,
          0.0003107223168449198,
          0.00031234548257372654,
          0.00031234548257372654,
          0.0003111557606951872,
          0.00008169608571428572,
          0.0002441450329949239,
          0.0095578056,
          0.006822884911764706,
          0.0013615122685714284,
          0.00026609721897810217,
          0.00026609721897810217,
          0.0002654513519417476,
          0.00026609721897810217,
          0.0002654513519417476,
          0.00026609721897810217,
          0.00026609721897810217,
          0.0002654513519417476,
          0.00026609721897810217,
          0.01104563385,
          0.0014174288653846152,
          0.000265272799270073,
          0.000265272799270073,
          0.00026530837226277374,
          0.0002646289332524272,
          0.00026563102554744524,
          0.0005071028860465116,
          0.0005378046871921182,
          0.00033489064877300614,
          0.000286913475,
          0.00025105733211678834,
          0.00025137998540145985,
          0.00025137998540145985,
          0.00025137998540145985,
          0.00025137998540145985,
          0.00025137998540145985,
          0.00027405085941644564,
          0.00025137998540145985,
          0.0002507698398058252,
          0.00030716139823008847,
          0.00025335210218978103,
          0.000311759622754491,
          0.0004285091111111111,
          0.0002762008328912467,
          0.0002900493426183844,
          0.00031082899701492534,
          0.0005598264193548386,
          0.0002792019691689008,
          0.00009954848374760994,
          0.0005107526881720431,
          0.00283946175,
          0.00005862529166666667,
          0.00002890802938221999,
          0.00005916641911764706,
          0.037223712,
          0.036809640000000005,
          0.036800325,
          0.034424919,
          0.031070061000000003,
          0.07423771500000001,
          0.0039213272368421054,
          0.00007422838326446282,
          0.00011244612676056338,
          0.00014172204142011833,
          0.0001688218001168907,
          0.00011388527324632952,
          0.01016667,
          0.00846505,
          0.009567604285714284,
          0.00009710788235294116,
          0.00022079644817518248,
          0.00022052047664233577,
          0.0002197316923357664,
          0.00021953466788321167,
          0.0002194557208029197,
          0.00021999097865853657,
          0.0002333169069767442,
          0.00003128824675324675,
          0.0026033237999999997,
          0.0673338825,
          0.08317125,
          0.022495050000000003,
          0.0007395710400000001,
          0.000307348252,
          0.000307348252,
          0.02101393125,
          0.0014007116037735852,
          0.000017441496244245214,
          0.0009587485824,
          0.0007094208,
          0.007209729000000001,
          0.000026797298216678698,
          0.00014367579357798166,
          0.0006720430107526882,
          0.000984251968503937,
          0.000992063492063492,
          0.0006720430107526882,
          0.000984251968503937,
          0.000753968253968254,
          0.0008741258741258741,
          0.0007661290322580645,
          0.000683453237410072,
          0.0005792682926829268,
          0.0006934306569343066,
          0.000673758865248227,
          0.0005688622754491018,
          0.0008407079646017699,
          0.0005974842767295597,
          0.0006934306569343066,
          0.004629629629629629,
          0.004629629629629629,
          0.006578947368421052,
          0.0035714285714285713,
          0.004807692307692308,
          0.004629629629629629,
          0.003787878787878788,
          0.005434782608695652,
          0.0035714285714285713,
          0.0035714285714285713,
          0.004310344827586207,
          0.004032258064516129,
          0.003787878787878788,
          0.005208333333333333,
          0.004464285714285714,
          0.002317073170731707,
          0.003472222222222222,
          0.002567567567567568,
          0.00475,
          0.002840909090909091,
          0.002567567567567568,
          0.0027941176470588237,
          0.0029069767441860465,
          0.003958333333333334,
          0.003,
          0.002142857142857143,
          0.006333333333333333,
          0.0035185185185185185,
          0.00475,
          0.0032758620689655174,
          0.004523809523809524,
          0.004523809523809524,
          0.0027941176470588237,
          0.0031666666666666666,
          0.0031666666666666666,
          0.0031666666666666666,
          0.0028787878787878787,
          0.003064516129032258,
          0.002638888888888889,
          0.003653846153846154,
          0.00475,
          0.0032758620689655174,
          0.0033928571428571428,
          0.0067857142857142855,
          0.00296875,
          0.003958333333333334,
          0.00296875,
          0.0038,
          0.0035185185185185185,
          0.0025,
          0.004318181818181818,
          0.002567567567567568,
          0.0027142857142857142,
          0.003409090909090909,
          0.00375,
          0.00234375,
          0.0027941176470588237,
          0.003064516129032258,
          0.005277777777777778,
          0.003064516129032258,
          0.0027941176470588237,
          0.003064516129032258,
          0.00475,
          0.0032758620689655174,
          0.0031666666666666666,
          0.003653846153846154,
          0.0025,
          0.002567567567567568,
          0.0035185185185185185,
          0.004523809523809524,
          0.013571428571428571,
          0.0033928571428571428,
          0.003653846153846154,
          0.0031666666666666666,
          0.0032758620689655174,
          0.003958333333333334,
          0.0025,
          0.00012189460329896907,
          0.00014473280412371134,
          0.0003506566304347826,
          0.017007974999999998,
          0.0013601722499999999,
          0.0002670328125,
          0.00040697196428571427,
          0.0028717902,
          0.07193448,
          0.0005849771120689655,
          0.02664230625,
          0.01020128175,
          0.40630653,
          -0.40588776,
          2.6507898000000002e-8,
          0.40456179,
          0.000052891763358778626,
          0.0010485423,
          0.000022750779263123573,
          0.0004528530298013245,
          0.000136435995,
          0.00014084751968503937,
          0.00016261486363636362,
          0.01752850125,
          0.0109452,
          0.05794659,
          0.003587895,
          0.0002881013190184049,
          0.000717678202247191,
          0.00080016103125,
          0.00018124331592689295,
          0.00016299881305637982,
          0.0000947671551724138,
          0.00020103650277008308,
          0.0025442343,
          0.025524882,
          0.03187704375,
          0.00002522906169940222,
          0.0027593614285714285,
          0.001073280375,
          0.00010377095866388309,
          0.0012724318974358974,
          0.0012406211,
          0.0010788009565217392,
          0.0033608276999999996,
          0.0040494816,
          0.000034627728040540546,
          0.00006233283099297894,
          0.0006529366747572816,
          0.000021133677997275207,
          0.000023643044554455445,
          0.00004714853612167301,
          0.00342194625,
          0.00033237686440677967,
          0.00030041365145228217,
          0.00002953502803738318,
          0.0000032493096000000005,
          0.0009958590293159609,
          0.00003376848064085447,
          0.0004034856281373845,
          0.0005467807985468956,
          0.00014688275111358572,
          0.0001021154,
          0.00009137463670103094,
          0.00008608723551967709,
          0.00010182565474189675,
          0.00010111905828295042,
          0.0001056150638346728,
          0.00009953235103926097,
          0.00008133579754485362,
          0.00007930932971962616,
          0.00007697045230479773,
          0.00009058965480093676,
          0.00008843589702517162,
          0.0009237108214285713,
          0.00008977651152073734,
          0.0010097791363636362,
          0.00008869891912943871,
          0.0009247909821428572,
          0.002508489435483871,
          0.00008957012873563219,
          0.00009468226194285715,
          0.0009030610588235295,
          0.00009479059405034325,
          0.00009512594457142858,
          0.00107736915,
          0.0013558118644067796,
          0.0007712814049586777,
          0.000790890254237288,
          0.0007649594262295081,
          0.0007712814049586777,
          0.000783647656779661,
          0.0019582648163265306,
          0.0013321498125,
          0.002340365268292683,
          0.000216677287012987,
          0.0014024117249999998,
          0.181827828,
          0.00004300123678414097,
          0.047366519600000004,
          0.00008352338823529413,
          0.0002670054857142857,
          0.00275454675,
          0.000023938180363636363,
          0.0000386271504,
          0.000014005341723136495,
          0.00001764331463414634,
          0.00001775881914893617,
          0.0003559966092715232,
          0.00840469048,
          0.00840653842,
          0.008412114660000001,
          0.008447031,
          0.00841584296,
          0.00841584296,
          0.00841584296,
          0.008447031,
          0.008454487600000001,
          0.00844145476,
          0.00841584296,
          0.00841026672,
          0.0083599833,
          0.0083599833,
          0.0083599833,
          0.008356255,
          0.0083525267,
          0.00832506696,
          0.00832506696,
          0.00832133866,
          0.00009946468007590134,
          0.00028823683146067417,
          0.0002848628212290503,
          0.00028769651694915253,
          0.000282901575,
          0.00027219675,
          0.0002741940502793296,
          0.0002853531104651163,
          0.00027656266853932584,
          0.00028058676136363635,
          0.00030027279661016946,
          0.00031476137142857143,
          0.0004704980487804878,
          0.00043856221804511276,
          0.000457086796875,
          0.0003510388023952096,
          0.0003881349,
          0.0004614799606299213,
          0.000433164375,
          0.00054675875,
          0.000645804,
          0.0003841116101694915,
          0.0005698270588235295,
          0.0023401960714285715,
          0.00037809853448275867,
          0.0018201525000000002,
          0.0003344773846153846,
          0.0003595816011235955,
          0.0003514698305084746,
          0.0003544228285714285,
          0.00035173551724137933,
          0.00034857385714285715,
          0.00035488924855491325,
          0.00035396456896551724,
          0.0003137985459183674,
          0.0003122056598984772,
          0.00030210438461538466,
          0.0003037416494845361,
          0.00029322610552763817,
          0.0002951798984771573,
          0.00029726582474226803,
          0.00029661646153846156,
          0.00029753099999999997,
          0.0003024222680412371,
          0.0003026603571428571,
          0.0003108343846153846,
          0.00033360398437499994,
          0.0003275478826530613,
          0.00032588520304568534,
          0.0003257673350253807,
          0.00033125607692307695,
          0.00033125607692307695,
          0.00032486590909090913,
          0.000022184465233881164,
          0.0066408405,
          0.00017339009138381202,
          0.010382265,
          0.002809297741935484,
          0.0002745888979591837,
          0.00044757738,
          0.000111894345
         ]
        }
       ],
       "layout": {
        "font": {
         "family": "Clear Sans",
         "size": 18
        },
        "height": 450,
        "margin": {
         "b": 10,
         "l": 10,
         "r": 10,
         "t": 10
        },
        "template": {
         "data": {
          "bar": [
           {
            "error_x": {
             "color": "rgb(36,36,36)"
            },
            "error_y": {
             "color": "rgb(36,36,36)"
            },
            "marker": {
             "line": {
              "color": "white",
              "width": 0.5
             },
             "pattern": {
              "fillmode": "overlay",
              "size": 10,
              "solidity": 0.2
             }
            },
            "type": "bar"
           }
          ],
          "barpolar": [
           {
            "marker": {
             "line": {
              "color": "white",
              "width": 0.5
             },
             "pattern": {
              "fillmode": "overlay",
              "size": 10,
              "solidity": 0.2
             }
            },
            "type": "barpolar"
           }
          ],
          "carpet": [
           {
            "aaxis": {
             "endlinecolor": "rgb(36,36,36)",
             "gridcolor": "white",
             "linecolor": "white",
             "minorgridcolor": "white",
             "startlinecolor": "rgb(36,36,36)"
            },
            "baxis": {
             "endlinecolor": "rgb(36,36,36)",
             "gridcolor": "white",
             "linecolor": "white",
             "minorgridcolor": "white",
             "startlinecolor": "rgb(36,36,36)"
            },
            "type": "carpet"
           }
          ],
          "choropleth": [
           {
            "colorbar": {
             "outlinewidth": 1,
             "tickcolor": "rgb(36,36,36)",
             "ticks": "outside"
            },
            "type": "choropleth"
           }
          ],
          "contour": [
           {
            "colorbar": {
             "outlinewidth": 1,
             "tickcolor": "rgb(36,36,36)",
             "ticks": "outside"
            },
            "colorscale": [
             [
              0,
              "#440154"
             ],
             [
              0.1111111111111111,
              "#482878"
             ],
             [
              0.2222222222222222,
              "#3e4989"
             ],
             [
              0.3333333333333333,
              "#31688e"
             ],
             [
              0.4444444444444444,
              "#26828e"
             ],
             [
              0.5555555555555556,
              "#1f9e89"
             ],
             [
              0.6666666666666666,
              "#35b779"
             ],
             [
              0.7777777777777778,
              "#6ece58"
             ],
             [
              0.8888888888888888,
              "#b5de2b"
             ],
             [
              1,
              "#fde725"
             ]
            ],
            "type": "contour"
           }
          ],
          "contourcarpet": [
           {
            "colorbar": {
             "outlinewidth": 1,
             "tickcolor": "rgb(36,36,36)",
             "ticks": "outside"
            },
            "type": "contourcarpet"
           }
          ],
          "heatmap": [
           {
            "colorbar": {
             "outlinewidth": 1,
             "tickcolor": "rgb(36,36,36)",
             "ticks": "outside"
            },
            "colorscale": [
             [
              0,
              "#440154"
             ],
             [
              0.1111111111111111,
              "#482878"
             ],
             [
              0.2222222222222222,
              "#3e4989"
             ],
             [
              0.3333333333333333,
              "#31688e"
             ],
             [
              0.4444444444444444,
              "#26828e"
             ],
             [
              0.5555555555555556,
              "#1f9e89"
             ],
             [
              0.6666666666666666,
              "#35b779"
             ],
             [
              0.7777777777777778,
              "#6ece58"
             ],
             [
              0.8888888888888888,
              "#b5de2b"
             ],
             [
              1,
              "#fde725"
             ]
            ],
            "type": "heatmap"
           }
          ],
          "heatmapgl": [
           {
            "colorbar": {
             "outlinewidth": 1,
             "tickcolor": "rgb(36,36,36)",
             "ticks": "outside"
            },
            "colorscale": [
             [
              0,
              "#440154"
             ],
             [
              0.1111111111111111,
              "#482878"
             ],
             [
              0.2222222222222222,
              "#3e4989"
             ],
             [
              0.3333333333333333,
              "#31688e"
             ],
             [
              0.4444444444444444,
              "#26828e"
             ],
             [
              0.5555555555555556,
              "#1f9e89"
             ],
             [
              0.6666666666666666,
              "#35b779"
             ],
             [
              0.7777777777777778,
              "#6ece58"
             ],
             [
              0.8888888888888888,
              "#b5de2b"
             ],
             [
              1,
              "#fde725"
             ]
            ],
            "type": "heatmapgl"
           }
          ],
          "histogram": [
           {
            "marker": {
             "line": {
              "color": "white",
              "width": 0.6
             }
            },
            "type": "histogram"
           }
          ],
          "histogram2d": [
           {
            "colorbar": {
             "outlinewidth": 1,
             "tickcolor": "rgb(36,36,36)",
             "ticks": "outside"
            },
            "colorscale": [
             [
              0,
              "#440154"
             ],
             [
              0.1111111111111111,
              "#482878"
             ],
             [
              0.2222222222222222,
              "#3e4989"
             ],
             [
              0.3333333333333333,
              "#31688e"
             ],
             [
              0.4444444444444444,
              "#26828e"
             ],
             [
              0.5555555555555556,
              "#1f9e89"
             ],
             [
              0.6666666666666666,
              "#35b779"
             ],
             [
              0.7777777777777778,
              "#6ece58"
             ],
             [
              0.8888888888888888,
              "#b5de2b"
             ],
             [
              1,
              "#fde725"
             ]
            ],
            "type": "histogram2d"
           }
          ],
          "histogram2dcontour": [
           {
            "colorbar": {
             "outlinewidth": 1,
             "tickcolor": "rgb(36,36,36)",
             "ticks": "outside"
            },
            "colorscale": [
             [
              0,
              "#440154"
             ],
             [
              0.1111111111111111,
              "#482878"
             ],
             [
              0.2222222222222222,
              "#3e4989"
             ],
             [
              0.3333333333333333,
              "#31688e"
             ],
             [
              0.4444444444444444,
              "#26828e"
             ],
             [
              0.5555555555555556,
              "#1f9e89"
             ],
             [
              0.6666666666666666,
              "#35b779"
             ],
             [
              0.7777777777777778,
              "#6ece58"
             ],
             [
              0.8888888888888888,
              "#b5de2b"
             ],
             [
              1,
              "#fde725"
             ]
            ],
            "type": "histogram2dcontour"
           }
          ],
          "mesh3d": [
           {
            "colorbar": {
             "outlinewidth": 1,
             "tickcolor": "rgb(36,36,36)",
             "ticks": "outside"
            },
            "type": "mesh3d"
           }
          ],
          "parcoords": [
           {
            "line": {
             "colorbar": {
              "outlinewidth": 1,
              "tickcolor": "rgb(36,36,36)",
              "ticks": "outside"
             }
            },
            "type": "parcoords"
           }
          ],
          "pie": [
           {
            "automargin": true,
            "type": "pie"
           }
          ],
          "scatter": [
           {
            "fillpattern": {
             "fillmode": "overlay",
             "size": 10,
             "solidity": 0.2
            },
            "type": "scatter"
           }
          ],
          "scatter3d": [
           {
            "line": {
             "colorbar": {
              "outlinewidth": 1,
              "tickcolor": "rgb(36,36,36)",
              "ticks": "outside"
             }
            },
            "marker": {
             "colorbar": {
              "outlinewidth": 1,
              "tickcolor": "rgb(36,36,36)",
              "ticks": "outside"
             }
            },
            "type": "scatter3d"
           }
          ],
          "scattercarpet": [
           {
            "marker": {
             "colorbar": {
              "outlinewidth": 1,
              "tickcolor": "rgb(36,36,36)",
              "ticks": "outside"
             }
            },
            "type": "scattercarpet"
           }
          ],
          "scattergeo": [
           {
            "marker": {
             "colorbar": {
              "outlinewidth": 1,
              "tickcolor": "rgb(36,36,36)",
              "ticks": "outside"
             }
            },
            "type": "scattergeo"
           }
          ],
          "scattergl": [
           {
            "marker": {
             "colorbar": {
              "outlinewidth": 1,
              "tickcolor": "rgb(36,36,36)",
              "ticks": "outside"
             }
            },
            "type": "scattergl"
           }
          ],
          "scattermapbox": [
           {
            "marker": {
             "colorbar": {
              "outlinewidth": 1,
              "tickcolor": "rgb(36,36,36)",
              "ticks": "outside"
             }
            },
            "type": "scattermapbox"
           }
          ],
          "scatterpolar": [
           {
            "marker": {
             "colorbar": {
              "outlinewidth": 1,
              "tickcolor": "rgb(36,36,36)",
              "ticks": "outside"
             }
            },
            "type": "scatterpolar"
           }
          ],
          "scatterpolargl": [
           {
            "marker": {
             "colorbar": {
              "outlinewidth": 1,
              "tickcolor": "rgb(36,36,36)",
              "ticks": "outside"
             }
            },
            "type": "scatterpolargl"
           }
          ],
          "scatterternary": [
           {
            "marker": {
             "colorbar": {
              "outlinewidth": 1,
              "tickcolor": "rgb(36,36,36)",
              "ticks": "outside"
             }
            },
            "type": "scatterternary"
           }
          ],
          "surface": [
           {
            "colorbar": {
             "outlinewidth": 1,
             "tickcolor": "rgb(36,36,36)",
             "ticks": "outside"
            },
            "colorscale": [
             [
              0,
              "#440154"
             ],
             [
              0.1111111111111111,
              "#482878"
             ],
             [
              0.2222222222222222,
              "#3e4989"
             ],
             [
              0.3333333333333333,
              "#31688e"
             ],
             [
              0.4444444444444444,
              "#26828e"
             ],
             [
              0.5555555555555556,
              "#1f9e89"
             ],
             [
              0.6666666666666666,
              "#35b779"
             ],
             [
              0.7777777777777778,
              "#6ece58"
             ],
             [
              0.8888888888888888,
              "#b5de2b"
             ],
             [
              1,
              "#fde725"
             ]
            ],
            "type": "surface"
           }
          ],
          "table": [
           {
            "cells": {
             "fill": {
              "color": "rgb(237,237,237)"
             },
             "line": {
              "color": "white"
             }
            },
            "header": {
             "fill": {
              "color": "rgb(217,217,217)"
             },
             "line": {
              "color": "white"
             }
            },
            "type": "table"
           }
          ]
         },
         "layout": {
          "annotationdefaults": {
           "arrowhead": 0,
           "arrowwidth": 1
          },
          "autotypenumbers": "strict",
          "coloraxis": {
           "colorbar": {
            "outlinewidth": 1,
            "tickcolor": "rgb(36,36,36)",
            "ticks": "outside"
           }
          },
          "colorscale": {
           "diverging": [
            [
             0,
             "rgb(103,0,31)"
            ],
            [
             0.1,
             "rgb(178,24,43)"
            ],
            [
             0.2,
             "rgb(214,96,77)"
            ],
            [
             0.3,
             "rgb(244,165,130)"
            ],
            [
             0.4,
             "rgb(253,219,199)"
            ],
            [
             0.5,
             "rgb(247,247,247)"
            ],
            [
             0.6,
             "rgb(209,229,240)"
            ],
            [
             0.7,
             "rgb(146,197,222)"
            ],
            [
             0.8,
             "rgb(67,147,195)"
            ],
            [
             0.9,
             "rgb(33,102,172)"
            ],
            [
             1,
             "rgb(5,48,97)"
            ]
           ],
           "sequential": [
            [
             0,
             "#440154"
            ],
            [
             0.1111111111111111,
             "#482878"
            ],
            [
             0.2222222222222222,
             "#3e4989"
            ],
            [
             0.3333333333333333,
             "#31688e"
            ],
            [
             0.4444444444444444,
             "#26828e"
            ],
            [
             0.5555555555555556,
             "#1f9e89"
            ],
            [
             0.6666666666666666,
             "#35b779"
            ],
            [
             0.7777777777777778,
             "#6ece58"
            ],
            [
             0.8888888888888888,
             "#b5de2b"
            ],
            [
             1,
             "#fde725"
            ]
           ],
           "sequentialminus": [
            [
             0,
             "#440154"
            ],
            [
             0.1111111111111111,
             "#482878"
            ],
            [
             0.2222222222222222,
             "#3e4989"
            ],
            [
             0.3333333333333333,
             "#31688e"
            ],
            [
             0.4444444444444444,
             "#26828e"
            ],
            [
             0.5555555555555556,
             "#1f9e89"
            ],
            [
             0.6666666666666666,
             "#35b779"
            ],
            [
             0.7777777777777778,
             "#6ece58"
            ],
            [
             0.8888888888888888,
             "#b5de2b"
            ],
            [
             1,
             "#fde725"
            ]
           ]
          },
          "colorway": [
           "#1F77B4",
           "#FF7F0E",
           "#2CA02C",
           "#D62728",
           "#9467BD",
           "#8C564B",
           "#E377C2",
           "#7F7F7F",
           "#BCBD22",
           "#17BECF"
          ],
          "font": {
           "color": "rgb(36,36,36)"
          },
          "geo": {
           "bgcolor": "white",
           "lakecolor": "white",
           "landcolor": "white",
           "showlakes": true,
           "showland": true,
           "subunitcolor": "white"
          },
          "hoverlabel": {
           "align": "left"
          },
          "hovermode": "closest",
          "mapbox": {
           "style": "light"
          },
          "paper_bgcolor": "white",
          "plot_bgcolor": "white",
          "polar": {
           "angularaxis": {
            "gridcolor": "rgb(232,232,232)",
            "linecolor": "rgb(36,36,36)",
            "showgrid": false,
            "showline": true,
            "ticks": "outside"
           },
           "bgcolor": "white",
           "radialaxis": {
            "gridcolor": "rgb(232,232,232)",
            "linecolor": "rgb(36,36,36)",
            "showgrid": false,
            "showline": true,
            "ticks": "outside"
           }
          },
          "scene": {
           "xaxis": {
            "backgroundcolor": "white",
            "gridcolor": "rgb(232,232,232)",
            "gridwidth": 2,
            "linecolor": "rgb(36,36,36)",
            "showbackground": true,
            "showgrid": false,
            "showline": true,
            "ticks": "outside",
            "zeroline": false,
            "zerolinecolor": "rgb(36,36,36)"
           },
           "yaxis": {
            "backgroundcolor": "white",
            "gridcolor": "rgb(232,232,232)",
            "gridwidth": 2,
            "linecolor": "rgb(36,36,36)",
            "showbackground": true,
            "showgrid": false,
            "showline": true,
            "ticks": "outside",
            "zeroline": false,
            "zerolinecolor": "rgb(36,36,36)"
           },
           "zaxis": {
            "backgroundcolor": "white",
            "gridcolor": "rgb(232,232,232)",
            "gridwidth": 2,
            "linecolor": "rgb(36,36,36)",
            "showbackground": true,
            "showgrid": false,
            "showline": true,
            "ticks": "outside",
            "zeroline": false,
            "zerolinecolor": "rgb(36,36,36)"
           }
          },
          "shapedefaults": {
           "fillcolor": "black",
           "line": {
            "width": 0
           },
           "opacity": 0.3
          },
          "ternary": {
           "aaxis": {
            "gridcolor": "rgb(232,232,232)",
            "linecolor": "rgb(36,36,36)",
            "showgrid": false,
            "showline": true,
            "ticks": "outside"
           },
           "baxis": {
            "gridcolor": "rgb(232,232,232)",
            "linecolor": "rgb(36,36,36)",
            "showgrid": false,
            "showline": true,
            "ticks": "outside"
           },
           "bgcolor": "white",
           "caxis": {
            "gridcolor": "rgb(232,232,232)",
            "linecolor": "rgb(36,36,36)",
            "showgrid": false,
            "showline": true,
            "ticks": "outside"
           }
          },
          "title": {
           "x": 0.05
          },
          "xaxis": {
           "automargin": true,
           "gridcolor": "rgb(232,232,232)",
           "linecolor": "rgb(36,36,36)",
           "showgrid": false,
           "showline": true,
           "ticks": "outside",
           "title": {
            "standoff": 15
           },
           "zeroline": false,
           "zerolinecolor": "rgb(36,36,36)"
          },
          "yaxis": {
           "automargin": true,
           "gridcolor": "rgb(232,232,232)",
           "linecolor": "rgb(36,36,36)",
           "showgrid": false,
           "showline": true,
           "ticks": "outside",
           "title": {
            "standoff": 15
           },
           "zeroline": false,
           "zerolinecolor": "rgb(36,36,36)"
          }
         }
        },
        "width": 800,
        "xaxis": {
         "griddash": "dash",
         "minor": {
          "griddash": "dot",
          "ticks": "inside"
         },
         "showgrid": true,
         "title": {
          "text": "Transaction Timestamp"
         }
        },
        "yaxis": {
         "griddash": "dash",
         "minor": {
          "griddash": "dot",
          "ticks": "inside"
         },
         "range": [
          -0.01,
          0.8
         ],
         "showgrid": true,
         "title": {
          "text": "Price (USD)"
         }
        }
       }
      }
     },
     "metadata": {},
     "output_type": "display_data"
    }
   ],
   "source": [
    "fig = go.Figure(layout=layout)\n",
    "\n",
    "\n",
    "temp_df = transfer_sync.filter((pl.col('value_USD')<1))\n",
    "\n",
    "fig.add_trace(go.Scatter(x=temp_df['timestamp'], y=temp_df['value_USD'], mode='markers', name='Price'))\n",
    "\n",
    "# Update layout\n",
    "fig.update_layout(xaxis_title='Transaction Timestamp',\n",
    "                  yaxis_title='Price (USD)')\n",
    "\n",
    "fig.update_layout(yaxis=dict(range=[-0.01, 0.8]))\n",
    "\n",
    "fig.write_image(plots_dir+\"transfersync_blue.pdf\",\n",
    "                width=1540, height=380, scale=1)\n",
    "\n",
    "fig.show()"
   ]
  },
  {
   "cell_type": "code",
   "execution_count": 199,
   "metadata": {},
   "outputs": [
    {
     "data": {
      "text/html": [
       "<div><style>\n",
       ".dataframe > thead > tr,\n",
       ".dataframe > tbody > tr {\n",
       "  text-align: right;\n",
       "  white-space: pre-wrap;\n",
       "}\n",
       "</style>\n",
       "<small>shape: (1,)</small><table border=\"1\" class=\"dataframe\"><thead><tr><th>value_USD</th></tr><tr><td>f64</td></tr></thead><tbody><tr><td>0.406307</td></tr></tbody></table></div>"
      ],
      "text/plain": [
       "shape: (1,)\n",
       "Series: 'value_USD' [f64]\n",
       "[\n",
       "\t0.406307\n",
       "]"
      ]
     },
     "execution_count": 199,
     "metadata": {},
     "output_type": "execute_result"
    }
   ],
   "source": [
    "df = transfer_sync.select(pl.std(\"value_USD\"))\n",
    "df[\"value_USD\"]\n",
    "\n",
    "df = transfer_sync.select(pl.median(\"value_USD\"))\n",
    "df[\"value_USD\"]\n",
    "\n",
    "df = transfer_sync.select(pl.mean(\"value_USD\"))\n",
    "df[\"value_USD\"]\n",
    "\n",
    "df = transfer_sync.select(pl.min(\"value_USD\"))\n",
    "df[\"value_USD\"]\n",
    "\n",
    "df = transfer_sync.select(pl.max(\"value_USD\"))\n",
    "df[\"value_USD\"]"
   ]
  },
  {
   "cell_type": "code",
   "execution_count": null,
   "metadata": {},
   "outputs": [],
   "source": [
    "data = transfer_sync.group_by('date').agg(pl.col(\"value_USD\").sum())\n",
    "data = data.sort(pl.col(\"date\"))\n",
    "data\n"
   ]
  },
  {
   "cell_type": "code",
   "execution_count": 156,
   "metadata": {},
   "outputs": [
    {
     "data": {
      "application/vnd.plotly.v1+json": {
       "config": {
        "plotlyServerURL": "https://plot.ly"
       },
       "data": [
        {
         "line": {
          "color": "#a65628",
          "width": 2
         },
         "mode": "lines",
         "name": "Median Price",
         "type": "scatter",
         "x": [
          "2023-12-21",
          "2023-12-22",
          "2023-12-23",
          "2023-12-24",
          "2023-12-25",
          "2023-12-26",
          "2023-12-27",
          "2023-12-28",
          "2023-12-29",
          "2023-12-30",
          "2023-12-31",
          "2024-01-01",
          "2024-01-03",
          "2024-01-04",
          "2024-01-05",
          "2024-01-08",
          "2024-01-17",
          "2024-01-26",
          "2024-02-15"
         ],
         "y": [
          0.0002654513519417476,
          0.031070061000000003,
          0.0002703325794883721,
          0.003064516129032258,
          0.0007589196167485955,
          0.001073280375,
          0.0012565264987179487,
          0.00004848027951675974,
          0.0003370351763772784,
          0.00004714853612167301,
          0.00033237686440677967,
          0.00030041365145228217,
          0.0001056150638346728,
          0.0002670054857142857,
          0.0083599833,
          0.00032588520304568534,
          0.004725069120967742,
          0.0002745888979591837,
          0.0002797358625
         ]
        },
        {
         "fillcolor": "#ffffff",
         "line": {
          "width": 1.5
         },
         "marker": {
          "color": "#50be61"
         },
         "name": "Transaction Price",
         "type": "box",
         "whiskerwidth": 0.5,
         "x": [
          "2023-12-21",
          "2023-12-21",
          "2023-12-21",
          "2023-12-21",
          "2023-12-21",
          "2023-12-21",
          "2023-12-21",
          "2023-12-21",
          "2023-12-21",
          "2023-12-21",
          "2023-12-21",
          "2023-12-21",
          "2023-12-21",
          "2023-12-21",
          "2023-12-21",
          "2023-12-21",
          "2023-12-21",
          "2023-12-21",
          "2023-12-21",
          "2023-12-21",
          "2023-12-21",
          "2023-12-21",
          "2023-12-21",
          "2023-12-21",
          "2023-12-21",
          "2023-12-21",
          "2023-12-21",
          "2023-12-21",
          "2023-12-21",
          "2023-12-21",
          "2023-12-21",
          "2023-12-21",
          "2023-12-21",
          "2023-12-21",
          "2023-12-21",
          "2023-12-21",
          "2023-12-21",
          "2023-12-21",
          "2023-12-21",
          "2023-12-21",
          "2023-12-21",
          "2023-12-21",
          "2023-12-21",
          "2023-12-21",
          "2023-12-21",
          "2023-12-21",
          "2023-12-21",
          "2023-12-21",
          "2023-12-21",
          "2023-12-21",
          "2023-12-21",
          "2023-12-21",
          "2023-12-21",
          "2023-12-21",
          "2023-12-21",
          "2023-12-21",
          "2023-12-21",
          "2023-12-21",
          "2023-12-21",
          "2023-12-21",
          "2023-12-21",
          "2023-12-21",
          "2023-12-21",
          "2023-12-21",
          "2023-12-21",
          "2023-12-21",
          "2023-12-21",
          "2023-12-21",
          "2023-12-21",
          "2023-12-21",
          "2023-12-21",
          "2023-12-21",
          "2023-12-21",
          "2023-12-21",
          "2023-12-21",
          "2023-12-21",
          "2023-12-21",
          "2023-12-21",
          "2023-12-21",
          "2023-12-21",
          "2023-12-21",
          "2023-12-21",
          "2023-12-21",
          "2023-12-21",
          "2023-12-21",
          "2023-12-21",
          "2023-12-21",
          "2023-12-21",
          "2023-12-21",
          "2023-12-21",
          "2023-12-21",
          "2023-12-21",
          "2023-12-21",
          "2023-12-21",
          "2023-12-21",
          "2023-12-21",
          "2023-12-21",
          "2023-12-21",
          "2023-12-21",
          "2023-12-21",
          "2023-12-21",
          "2023-12-21",
          "2023-12-21",
          "2023-12-21",
          "2023-12-21",
          "2023-12-21",
          "2023-12-21",
          "2023-12-21",
          "2023-12-21",
          "2023-12-21",
          "2023-12-21",
          "2023-12-21",
          "2023-12-21",
          "2023-12-21",
          "2023-12-21",
          "2023-12-21",
          "2023-12-21",
          "2023-12-21",
          "2023-12-21",
          "2023-12-21",
          "2023-12-21",
          "2023-12-21",
          "2023-12-21",
          "2023-12-21",
          "2023-12-21",
          "2023-12-21",
          "2023-12-21",
          "2023-12-21",
          "2023-12-21",
          "2023-12-21",
          "2023-12-21",
          "2023-12-21",
          "2023-12-21",
          "2023-12-21",
          "2023-12-21",
          "2023-12-21",
          "2023-12-21",
          "2023-12-21",
          "2023-12-21",
          "2023-12-21",
          "2023-12-21",
          "2023-12-21",
          "2023-12-21",
          "2023-12-21",
          "2023-12-21",
          "2023-12-21",
          "2023-12-21",
          "2023-12-21",
          "2023-12-21",
          "2023-12-21",
          "2023-12-21",
          "2023-12-22",
          "2023-12-22",
          "2023-12-22",
          "2023-12-22",
          "2023-12-22",
          "2023-12-22",
          "2023-12-22",
          "2023-12-22",
          "2023-12-22",
          "2023-12-22",
          "2023-12-22",
          "2023-12-23",
          "2023-12-23",
          "2023-12-23",
          "2023-12-23",
          "2023-12-23",
          "2023-12-23",
          "2023-12-23",
          "2023-12-23",
          "2023-12-23",
          "2023-12-23",
          "2023-12-23",
          "2023-12-23",
          "2023-12-23",
          "2023-12-23",
          "2023-12-23",
          "2023-12-23",
          "2023-12-23",
          "2023-12-23",
          "2023-12-23",
          "2023-12-23",
          "2023-12-23",
          "2023-12-23",
          "2023-12-23",
          "2023-12-23",
          "2023-12-23",
          "2023-12-23",
          "2023-12-23",
          "2023-12-23",
          "2023-12-23",
          "2023-12-23",
          "2023-12-24",
          "2023-12-24",
          "2023-12-24",
          "2023-12-24",
          "2023-12-24",
          "2023-12-24",
          "2023-12-24",
          "2023-12-24",
          "2023-12-24",
          "2023-12-24",
          "2023-12-24",
          "2023-12-24",
          "2023-12-24",
          "2023-12-24",
          "2023-12-24",
          "2023-12-24",
          "2023-12-24",
          "2023-12-24",
          "2023-12-24",
          "2023-12-24",
          "2023-12-24",
          "2023-12-24",
          "2023-12-24",
          "2023-12-24",
          "2023-12-24",
          "2023-12-24",
          "2023-12-24",
          "2023-12-24",
          "2023-12-24",
          "2023-12-24",
          "2023-12-24",
          "2023-12-24",
          "2023-12-24",
          "2023-12-24",
          "2023-12-24",
          "2023-12-24",
          "2023-12-24",
          "2023-12-24",
          "2023-12-24",
          "2023-12-24",
          "2023-12-24",
          "2023-12-24",
          "2023-12-24",
          "2023-12-24",
          "2023-12-24",
          "2023-12-24",
          "2023-12-24",
          "2023-12-24",
          "2023-12-24",
          "2023-12-24",
          "2023-12-24",
          "2023-12-24",
          "2023-12-24",
          "2023-12-24",
          "2023-12-24",
          "2023-12-24",
          "2023-12-24",
          "2023-12-24",
          "2023-12-24",
          "2023-12-24",
          "2023-12-24",
          "2023-12-24",
          "2023-12-24",
          "2023-12-24",
          "2023-12-24",
          "2023-12-24",
          "2023-12-24",
          "2023-12-24",
          "2023-12-24",
          "2023-12-24",
          "2023-12-24",
          "2023-12-24",
          "2023-12-24",
          "2023-12-24",
          "2023-12-24",
          "2023-12-24",
          "2023-12-24",
          "2023-12-24",
          "2023-12-24",
          "2023-12-24",
          "2023-12-24",
          "2023-12-24",
          "2023-12-24",
          "2023-12-24",
          "2023-12-24",
          "2023-12-24",
          "2023-12-24",
          "2023-12-24",
          "2023-12-24",
          "2023-12-24",
          "2023-12-24",
          "2023-12-24",
          "2023-12-24",
          "2023-12-24",
          "2023-12-24",
          "2023-12-24",
          "2023-12-24",
          "2023-12-24",
          "2023-12-24",
          "2023-12-24",
          "2023-12-24",
          "2023-12-24",
          "2023-12-24",
          "2023-12-24",
          "2023-12-24",
          "2023-12-24",
          "2023-12-24",
          "2023-12-24",
          "2023-12-24",
          "2023-12-24",
          "2023-12-24",
          "2023-12-24",
          "2023-12-24",
          "2023-12-24",
          "2023-12-24",
          "2023-12-24",
          "2023-12-24",
          "2023-12-24",
          "2023-12-24",
          "2023-12-24",
          "2023-12-25",
          "2023-12-25",
          "2023-12-25",
          "2023-12-25",
          "2023-12-25",
          "2023-12-25",
          "2023-12-25",
          "2023-12-25",
          "2023-12-25",
          "2023-12-25",
          "2023-12-25",
          "2023-12-25",
          "2023-12-26",
          "2023-12-26",
          "2023-12-26",
          "2023-12-27",
          "2023-12-27",
          "2023-12-27",
          "2023-12-27",
          "2023-12-27",
          "2023-12-27",
          "2023-12-28",
          "2023-12-28",
          "2023-12-29",
          "2023-12-29",
          "2023-12-30",
          "2023-12-30",
          "2023-12-30",
          "2023-12-31",
          "2024-01-01",
          "2024-01-03",
          "2024-01-03",
          "2024-01-03",
          "2024-01-03",
          "2024-01-03",
          "2024-01-03",
          "2024-01-03",
          "2024-01-03",
          "2024-01-03",
          "2024-01-03",
          "2024-01-03",
          "2024-01-03",
          "2024-01-03",
          "2024-01-03",
          "2024-01-03",
          "2024-01-03",
          "2024-01-03",
          "2024-01-03",
          "2024-01-03",
          "2024-01-03",
          "2024-01-03",
          "2024-01-03",
          "2024-01-03",
          "2024-01-03",
          "2024-01-03",
          "2024-01-03",
          "2024-01-03",
          "2024-01-03",
          "2024-01-03",
          "2024-01-03",
          "2024-01-03",
          "2024-01-03",
          "2024-01-03",
          "2024-01-03",
          "2024-01-03",
          "2024-01-03",
          "2024-01-03",
          "2024-01-03",
          "2024-01-03",
          "2024-01-03",
          "2024-01-03",
          "2024-01-04",
          "2024-01-04",
          "2024-01-04",
          "2024-01-04",
          "2024-01-04",
          "2024-01-04",
          "2024-01-04",
          "2024-01-04",
          "2024-01-04",
          "2024-01-05",
          "2024-01-05",
          "2024-01-05",
          "2024-01-05",
          "2024-01-05",
          "2024-01-05",
          "2024-01-05",
          "2024-01-05",
          "2024-01-05",
          "2024-01-05",
          "2024-01-05",
          "2024-01-05",
          "2024-01-05",
          "2024-01-05",
          "2024-01-05",
          "2024-01-05",
          "2024-01-05",
          "2024-01-05",
          "2024-01-05",
          "2024-01-05",
          "2024-01-05",
          "2024-01-05",
          "2024-01-05",
          "2024-01-05",
          "2024-01-05",
          "2024-01-08",
          "2024-01-08",
          "2024-01-08",
          "2024-01-08",
          "2024-01-08",
          "2024-01-08",
          "2024-01-08",
          "2024-01-08",
          "2024-01-08",
          "2024-01-08",
          "2024-01-08",
          "2024-01-08",
          "2024-01-08",
          "2024-01-08",
          "2024-01-08",
          "2024-01-08",
          "2024-01-08",
          "2024-01-08",
          "2024-01-08",
          "2024-01-08",
          "2024-01-08",
          "2024-01-08",
          "2024-01-08",
          "2024-01-08",
          "2024-01-08",
          "2024-01-08",
          "2024-01-08",
          "2024-01-08",
          "2024-01-08",
          "2024-01-08",
          "2024-01-08",
          "2024-01-08",
          "2024-01-08",
          "2024-01-08",
          "2024-01-08",
          "2024-01-08",
          "2024-01-08",
          "2024-01-08",
          "2024-01-08",
          "2024-01-08",
          "2024-01-08",
          "2024-01-08",
          "2024-01-08",
          "2024-01-08",
          "2024-01-08",
          "2024-01-08",
          "2024-01-08",
          "2024-01-08",
          "2024-01-08",
          "2024-01-08",
          "2024-01-08",
          "2024-01-08",
          "2024-01-08",
          "2024-01-17",
          "2024-01-17",
          "2024-01-17",
          "2024-01-17",
          "2024-01-26",
          "2024-02-15",
          "2024-02-15"
         ],
         "y": [
          0.0008243867249999999,
          0.09910313550000001,
          0.29300610600000004,
          0.294053652,
          0.00013880855487804879,
          0.301375188,
          0.20965540500000002,
          0.0000630973033674083,
          0.00005691635064935065,
          0.0010017277714285712,
          0.000560967552,
          0.000105181416,
          0.140673834,
          0.00007820685,
          0.00013230482142857143,
          0.0070120944,
          0.000418485906,
          0.00038568575,
          0.00036266678496503496,
          0.0016339945714285715,
          0.000043948096153846156,
          0.0204675201,
          0.0990220815,
          0.0033922036551724136,
          0.0002862388,
          0.00019588353444676407,
          0.0002549679701086956,
          0.0375312852,
          0.00017642946700507613,
          0.00010588045523520485,
          0.0099788,
          0.00024985821485411144,
          0.00021087574468085107,
          0.00025146576000000003,
          0.0002494306428571429,
          0.0002494306428571429,
          0.002586688148148148,
          0.0002103163925729443,
          0.0002520983502673797,
          0.000262649642384106,
          0.00025013172413793105,
          0.00021087574468085107,
          0.0002103163925729443,
          0.00025146576000000003,
          0.0006790496115107914,
          0.009935567999999999,
          0.00021051165915119365,
          0.000256488847826087,
          0.00021507559756097562,
          0.00025107120478723405,
          0.00021200342245989305,
          0.000211110414893617,
          0.00025146576000000003,
          0.0002522560909090909,
          0.00013712758430232556,
          0.0002131432258064516,
          0.0002507969680851064,
          0.00025281410187667563,
          0.00023753062972292193,
          0.000211110414893617,
          0.0002522560909090909,
          0.00008443897406082289,
          0.00018450654353562005,
          0.00021055044031830238,
          0.0003191769881756757,
          0.00020999342857142857,
          0.0002498208214285714,
          0.00021070692572944293,
          0.00021014949999999998,
          0.0004723819425,
          0.00024997689285714283,
          0.00023331176666666666,
          0.00023701458471760795,
          0.0005079078,
          0.00023849623333333333,
          0.0006524424121621622,
          0.0002403531879194631,
          0.00015859872794117647,
          0.0005812121047904192,
          0.0003376359375,
          0.0004810911460396039,
          0.0064845765,
          0.010837096499999999,
          0.00002944863179347826,
          0.104717151,
          0.00004425838536890371,
          0.00007006639774919613,
          0.000058588396964856225,
          0.00006295489230769232,
          0.00005916877567855242,
          0.0002984500949197861,
          0.0002984500949197861,
          0.00029984231099195716,
          0.0002984500949197861,
          0.00025769857603686637,
          0.0002984500949197861,
          0.0002992502292225201,
          0.0002990920656836461,
          0.0002982923542780749,
          0.0002992502292225201,
          0.032496498,
          0.0003115553525469169,
          0.0003107223168449198,
          0.00031234548257372654,
          0.00031234548257372654,
          0.0003111557606951872,
          0.00008169608571428572,
          0.0002441450329949239,
          0.0095578056,
          0.006822884911764706,
          0.0013615122685714284,
          0.00026609721897810217,
          0.00026609721897810217,
          0.0002654513519417476,
          0.00026609721897810217,
          0.0002654513519417476,
          0.00026609721897810217,
          0.00026609721897810217,
          0.0002654513519417476,
          0.00026609721897810217,
          0.01104563385,
          0.0014174288653846152,
          0.000265272799270073,
          0.000265272799270073,
          0.00026530837226277374,
          0.0002646289332524272,
          0.00026563102554744524,
          0.0005071028860465116,
          0.0005378046871921182,
          0.00033489064877300614,
          0.000286913475,
          0.00025105733211678834,
          0.00025137998540145985,
          0.00025137998540145985,
          0.00025137998540145985,
          0.00025137998540145985,
          0.00025137998540145985,
          0.00027405085941644564,
          0.00025137998540145985,
          0.0002507698398058252,
          0.00030716139823008847,
          0.00025335210218978103,
          0.000311759622754491,
          0.0004285091111111111,
          0.0002762008328912467,
          0.0002900493426183844,
          0.00031082899701492534,
          0.0005598264193548386,
          0.0002792019691689008,
          0.00009954848374760994,
          0.0005107526881720431,
          0.00283946175,
          0.00005862529166666667,
          0.00002890802938221999,
          0.00005916641911764706,
          0.037223712,
          0.036809640000000005,
          0.036800325,
          0.034424919,
          0.031070061000000003,
          0.07423771500000001,
          0.0039213272368421054,
          0.00007422838326446282,
          0.00011244612676056338,
          0.00014172204142011833,
          0.0001688218001168907,
          0.00011388527324632952,
          0.01016667,
          0.00846505,
          0.009567604285714284,
          0.00009710788235294116,
          0.00022079644817518248,
          0.00022052047664233577,
          0.0002197316923357664,
          0.00021953466788321167,
          0.0002194557208029197,
          0.00021999097865853657,
          0.0002333169069767442,
          0.00003128824675324675,
          0.0026033237999999997,
          0.0673338825,
          0.08317125,
          0.022495050000000003,
          0.0007395710400000001,
          0.000307348252,
          0.000307348252,
          0.02101393125,
          0.0014007116037735852,
          0.000017441496244245214,
          0.0009587485824,
          0.0007094208,
          0.007209729000000001,
          0.000026797298216678698,
          0.00014367579357798166,
          0.0006720430107526882,
          0.000984251968503937,
          0.000992063492063492,
          0.0006720430107526882,
          0.000984251968503937,
          0.000753968253968254,
          0.0008741258741258741,
          0.0007661290322580645,
          0.000683453237410072,
          0.0005792682926829268,
          0.0006934306569343066,
          0.000673758865248227,
          0.0005688622754491018,
          0.0008407079646017699,
          0.0005974842767295597,
          0.0006934306569343066,
          0.004629629629629629,
          0.004629629629629629,
          0.006578947368421052,
          0.0035714285714285713,
          0.004807692307692308,
          0.004629629629629629,
          0.003787878787878788,
          0.005434782608695652,
          0.0035714285714285713,
          0.0035714285714285713,
          0.004310344827586207,
          0.004032258064516129,
          0.003787878787878788,
          0.005208333333333333,
          0.004464285714285714,
          0.002317073170731707,
          0.003472222222222222,
          0.002567567567567568,
          0.00475,
          0.002840909090909091,
          0.002567567567567568,
          0.0027941176470588237,
          0.0029069767441860465,
          0.003958333333333334,
          0.003,
          0.002142857142857143,
          0.006333333333333333,
          0.0035185185185185185,
          0.00475,
          0.0032758620689655174,
          0.004523809523809524,
          0.004523809523809524,
          0.0027941176470588237,
          0.0031666666666666666,
          0.0031666666666666666,
          0.0031666666666666666,
          0.0028787878787878787,
          0.003064516129032258,
          0.002638888888888889,
          0.003653846153846154,
          0.00475,
          0.0032758620689655174,
          0.0033928571428571428,
          0.0067857142857142855,
          0.00296875,
          0.003958333333333334,
          0.00296875,
          0.0038,
          0.0035185185185185185,
          0.0025,
          0.004318181818181818,
          0.002567567567567568,
          0.0027142857142857142,
          0.003409090909090909,
          0.00375,
          0.00234375,
          0.0027941176470588237,
          0.003064516129032258,
          0.005277777777777778,
          0.003064516129032258,
          0.0027941176470588237,
          0.003064516129032258,
          0.00475,
          0.0032758620689655174,
          0.0031666666666666666,
          0.003653846153846154,
          0.0025,
          0.002567567567567568,
          0.0035185185185185185,
          0.004523809523809524,
          0.013571428571428571,
          0.0033928571428571428,
          0.003653846153846154,
          0.0031666666666666666,
          0.0032758620689655174,
          0.003958333333333334,
          0.0025,
          0.00012189460329896907,
          0.00014473280412371134,
          0.0003506566304347826,
          0.017007974999999998,
          0.0013601722499999999,
          0.0002670328125,
          0.00040697196428571427,
          0.0028717902,
          0.07193448,
          0.0005849771120689655,
          0.02664230625,
          0.01020128175,
          0.40630653,
          -0.40588776,
          2.6507898000000002e-8,
          0.40456179,
          0.000052891763358778626,
          0.0010485423,
          0.000022750779263123573,
          0.0004528530298013245,
          0.000136435995,
          0.00014084751968503937,
          0.00016261486363636362,
          0.01752850125,
          0.0109452,
          0.05794659,
          0.003587895,
          0.0002881013190184049,
          0.000717678202247191,
          0.00080016103125,
          0.00018124331592689295,
          0.00016299881305637982,
          0.0000947671551724138,
          0.00020103650277008308,
          0.0025442343,
          0.025524882,
          0.03187704375,
          0.00002522906169940222,
          0.0027593614285714285,
          0.001073280375,
          0.00010377095866388309,
          0.0012724318974358974,
          0.0012406211,
          0.0010788009565217392,
          0.0033608276999999996,
          0.0040494816,
          0.000034627728040540546,
          0.00006233283099297894,
          0.0006529366747572816,
          0.000021133677997275207,
          0.000023643044554455445,
          0.00004714853612167301,
          0.00342194625,
          0.00033237686440677967,
          0.00030041365145228217,
          0.00002953502803738318,
          0.0000032493096000000005,
          0.0009958590293159609,
          0.00003376848064085447,
          0.0004034856281373845,
          0.0005467807985468956,
          0.00014688275111358572,
          0.0001021154,
          0.00009137463670103094,
          0.00008608723551967709,
          0.00010182565474189675,
          0.00010111905828295042,
          0.0001056150638346728,
          0.00009953235103926097,
          0.00008133579754485362,
          0.00007930932971962616,
          0.00007697045230479773,
          0.00009058965480093676,
          0.00008843589702517162,
          0.0009237108214285713,
          0.00008977651152073734,
          0.0010097791363636362,
          0.00008869891912943871,
          0.0009247909821428572,
          0.002508489435483871,
          0.00008957012873563219,
          0.00009468226194285715,
          0.0009030610588235295,
          0.00009479059405034325,
          0.00009512594457142858,
          0.00107736915,
          0.0013558118644067796,
          0.0007712814049586777,
          0.000790890254237288,
          0.0007649594262295081,
          0.0007712814049586777,
          0.000783647656779661,
          0.0019582648163265306,
          0.0013321498125,
          0.002340365268292683,
          0.000216677287012987,
          0.0014024117249999998,
          0.181827828,
          0.00004300123678414097,
          0.047366519600000004,
          0.00008352338823529413,
          0.0002670054857142857,
          0.00275454675,
          0.000023938180363636363,
          0.0000386271504,
          0.000014005341723136495,
          0.00001764331463414634,
          0.00001775881914893617,
          0.0003559966092715232,
          0.00840469048,
          0.00840653842,
          0.008412114660000001,
          0.008447031,
          0.00841584296,
          0.00841584296,
          0.00841584296,
          0.008447031,
          0.008454487600000001,
          0.00844145476,
          0.00841584296,
          0.00841026672,
          0.0083599833,
          0.0083599833,
          0.0083599833,
          0.008356255,
          0.0083525267,
          0.00832506696,
          0.00832506696,
          0.00832133866,
          0.00009946468007590134,
          0.00028823683146067417,
          0.0002848628212290503,
          0.00028769651694915253,
          0.000282901575,
          0.00027219675,
          0.0002741940502793296,
          0.0002853531104651163,
          0.00027656266853932584,
          0.00028058676136363635,
          0.00030027279661016946,
          0.00031476137142857143,
          0.0004704980487804878,
          0.00043856221804511276,
          0.000457086796875,
          0.0003510388023952096,
          0.0003881349,
          0.0004614799606299213,
          0.000433164375,
          0.00054675875,
          0.000645804,
          0.0003841116101694915,
          0.0005698270588235295,
          0.0023401960714285715,
          0.00037809853448275867,
          0.0018201525000000002,
          0.0003344773846153846,
          0.0003595816011235955,
          0.0003514698305084746,
          0.0003544228285714285,
          0.00035173551724137933,
          0.00034857385714285715,
          0.00035488924855491325,
          0.00035396456896551724,
          0.0003137985459183674,
          0.0003122056598984772,
          0.00030210438461538466,
          0.0003037416494845361,
          0.00029322610552763817,
          0.0002951798984771573,
          0.00029726582474226803,
          0.00029661646153846156,
          0.00029753099999999997,
          0.0003024222680412371,
          0.0003026603571428571,
          0.0003108343846153846,
          0.00033360398437499994,
          0.0003275478826530613,
          0.00032588520304568534,
          0.0003257673350253807,
          0.00033125607692307695,
          0.00033125607692307695,
          0.00032486590909090913,
          0.000022184465233881164,
          0.0066408405,
          0.00017339009138381202,
          0.010382265,
          0.002809297741935484,
          0.0002745888979591837,
          0.00044757738,
          0.000111894345
         ]
        }
       ],
       "layout": {
        "font": {
         "family": "Clear Sans",
         "size": 18
        },
        "height": 450,
        "legend": {
         "orientation": "h",
         "x": 0.5,
         "xanchor": "center",
         "y": 1.02
        },
        "margin": {
         "b": 10,
         "l": 10,
         "r": 10,
         "t": 10
        },
        "template": {
         "data": {
          "bar": [
           {
            "error_x": {
             "color": "rgb(36,36,36)"
            },
            "error_y": {
             "color": "rgb(36,36,36)"
            },
            "marker": {
             "line": {
              "color": "white",
              "width": 0.5
             },
             "pattern": {
              "fillmode": "overlay",
              "size": 10,
              "solidity": 0.2
             }
            },
            "type": "bar"
           }
          ],
          "barpolar": [
           {
            "marker": {
             "line": {
              "color": "white",
              "width": 0.5
             },
             "pattern": {
              "fillmode": "overlay",
              "size": 10,
              "solidity": 0.2
             }
            },
            "type": "barpolar"
           }
          ],
          "carpet": [
           {
            "aaxis": {
             "endlinecolor": "rgb(36,36,36)",
             "gridcolor": "white",
             "linecolor": "white",
             "minorgridcolor": "white",
             "startlinecolor": "rgb(36,36,36)"
            },
            "baxis": {
             "endlinecolor": "rgb(36,36,36)",
             "gridcolor": "white",
             "linecolor": "white",
             "minorgridcolor": "white",
             "startlinecolor": "rgb(36,36,36)"
            },
            "type": "carpet"
           }
          ],
          "choropleth": [
           {
            "colorbar": {
             "outlinewidth": 1,
             "tickcolor": "rgb(36,36,36)",
             "ticks": "outside"
            },
            "type": "choropleth"
           }
          ],
          "contour": [
           {
            "colorbar": {
             "outlinewidth": 1,
             "tickcolor": "rgb(36,36,36)",
             "ticks": "outside"
            },
            "colorscale": [
             [
              0,
              "#440154"
             ],
             [
              0.1111111111111111,
              "#482878"
             ],
             [
              0.2222222222222222,
              "#3e4989"
             ],
             [
              0.3333333333333333,
              "#31688e"
             ],
             [
              0.4444444444444444,
              "#26828e"
             ],
             [
              0.5555555555555556,
              "#1f9e89"
             ],
             [
              0.6666666666666666,
              "#35b779"
             ],
             [
              0.7777777777777778,
              "#6ece58"
             ],
             [
              0.8888888888888888,
              "#b5de2b"
             ],
             [
              1,
              "#fde725"
             ]
            ],
            "type": "contour"
           }
          ],
          "contourcarpet": [
           {
            "colorbar": {
             "outlinewidth": 1,
             "tickcolor": "rgb(36,36,36)",
             "ticks": "outside"
            },
            "type": "contourcarpet"
           }
          ],
          "heatmap": [
           {
            "colorbar": {
             "outlinewidth": 1,
             "tickcolor": "rgb(36,36,36)",
             "ticks": "outside"
            },
            "colorscale": [
             [
              0,
              "#440154"
             ],
             [
              0.1111111111111111,
              "#482878"
             ],
             [
              0.2222222222222222,
              "#3e4989"
             ],
             [
              0.3333333333333333,
              "#31688e"
             ],
             [
              0.4444444444444444,
              "#26828e"
             ],
             [
              0.5555555555555556,
              "#1f9e89"
             ],
             [
              0.6666666666666666,
              "#35b779"
             ],
             [
              0.7777777777777778,
              "#6ece58"
             ],
             [
              0.8888888888888888,
              "#b5de2b"
             ],
             [
              1,
              "#fde725"
             ]
            ],
            "type": "heatmap"
           }
          ],
          "heatmapgl": [
           {
            "colorbar": {
             "outlinewidth": 1,
             "tickcolor": "rgb(36,36,36)",
             "ticks": "outside"
            },
            "colorscale": [
             [
              0,
              "#440154"
             ],
             [
              0.1111111111111111,
              "#482878"
             ],
             [
              0.2222222222222222,
              "#3e4989"
             ],
             [
              0.3333333333333333,
              "#31688e"
             ],
             [
              0.4444444444444444,
              "#26828e"
             ],
             [
              0.5555555555555556,
              "#1f9e89"
             ],
             [
              0.6666666666666666,
              "#35b779"
             ],
             [
              0.7777777777777778,
              "#6ece58"
             ],
             [
              0.8888888888888888,
              "#b5de2b"
             ],
             [
              1,
              "#fde725"
             ]
            ],
            "type": "heatmapgl"
           }
          ],
          "histogram": [
           {
            "marker": {
             "line": {
              "color": "white",
              "width": 0.6
             }
            },
            "type": "histogram"
           }
          ],
          "histogram2d": [
           {
            "colorbar": {
             "outlinewidth": 1,
             "tickcolor": "rgb(36,36,36)",
             "ticks": "outside"
            },
            "colorscale": [
             [
              0,
              "#440154"
             ],
             [
              0.1111111111111111,
              "#482878"
             ],
             [
              0.2222222222222222,
              "#3e4989"
             ],
             [
              0.3333333333333333,
              "#31688e"
             ],
             [
              0.4444444444444444,
              "#26828e"
             ],
             [
              0.5555555555555556,
              "#1f9e89"
             ],
             [
              0.6666666666666666,
              "#35b779"
             ],
             [
              0.7777777777777778,
              "#6ece58"
             ],
             [
              0.8888888888888888,
              "#b5de2b"
             ],
             [
              1,
              "#fde725"
             ]
            ],
            "type": "histogram2d"
           }
          ],
          "histogram2dcontour": [
           {
            "colorbar": {
             "outlinewidth": 1,
             "tickcolor": "rgb(36,36,36)",
             "ticks": "outside"
            },
            "colorscale": [
             [
              0,
              "#440154"
             ],
             [
              0.1111111111111111,
              "#482878"
             ],
             [
              0.2222222222222222,
              "#3e4989"
             ],
             [
              0.3333333333333333,
              "#31688e"
             ],
             [
              0.4444444444444444,
              "#26828e"
             ],
             [
              0.5555555555555556,
              "#1f9e89"
             ],
             [
              0.6666666666666666,
              "#35b779"
             ],
             [
              0.7777777777777778,
              "#6ece58"
             ],
             [
              0.8888888888888888,
              "#b5de2b"
             ],
             [
              1,
              "#fde725"
             ]
            ],
            "type": "histogram2dcontour"
           }
          ],
          "mesh3d": [
           {
            "colorbar": {
             "outlinewidth": 1,
             "tickcolor": "rgb(36,36,36)",
             "ticks": "outside"
            },
            "type": "mesh3d"
           }
          ],
          "parcoords": [
           {
            "line": {
             "colorbar": {
              "outlinewidth": 1,
              "tickcolor": "rgb(36,36,36)",
              "ticks": "outside"
             }
            },
            "type": "parcoords"
           }
          ],
          "pie": [
           {
            "automargin": true,
            "type": "pie"
           }
          ],
          "scatter": [
           {
            "fillpattern": {
             "fillmode": "overlay",
             "size": 10,
             "solidity": 0.2
            },
            "type": "scatter"
           }
          ],
          "scatter3d": [
           {
            "line": {
             "colorbar": {
              "outlinewidth": 1,
              "tickcolor": "rgb(36,36,36)",
              "ticks": "outside"
             }
            },
            "marker": {
             "colorbar": {
              "outlinewidth": 1,
              "tickcolor": "rgb(36,36,36)",
              "ticks": "outside"
             }
            },
            "type": "scatter3d"
           }
          ],
          "scattercarpet": [
           {
            "marker": {
             "colorbar": {
              "outlinewidth": 1,
              "tickcolor": "rgb(36,36,36)",
              "ticks": "outside"
             }
            },
            "type": "scattercarpet"
           }
          ],
          "scattergeo": [
           {
            "marker": {
             "colorbar": {
              "outlinewidth": 1,
              "tickcolor": "rgb(36,36,36)",
              "ticks": "outside"
             }
            },
            "type": "scattergeo"
           }
          ],
          "scattergl": [
           {
            "marker": {
             "colorbar": {
              "outlinewidth": 1,
              "tickcolor": "rgb(36,36,36)",
              "ticks": "outside"
             }
            },
            "type": "scattergl"
           }
          ],
          "scattermapbox": [
           {
            "marker": {
             "colorbar": {
              "outlinewidth": 1,
              "tickcolor": "rgb(36,36,36)",
              "ticks": "outside"
             }
            },
            "type": "scattermapbox"
           }
          ],
          "scatterpolar": [
           {
            "marker": {
             "colorbar": {
              "outlinewidth": 1,
              "tickcolor": "rgb(36,36,36)",
              "ticks": "outside"
             }
            },
            "type": "scatterpolar"
           }
          ],
          "scatterpolargl": [
           {
            "marker": {
             "colorbar": {
              "outlinewidth": 1,
              "tickcolor": "rgb(36,36,36)",
              "ticks": "outside"
             }
            },
            "type": "scatterpolargl"
           }
          ],
          "scatterternary": [
           {
            "marker": {
             "colorbar": {
              "outlinewidth": 1,
              "tickcolor": "rgb(36,36,36)",
              "ticks": "outside"
             }
            },
            "type": "scatterternary"
           }
          ],
          "surface": [
           {
            "colorbar": {
             "outlinewidth": 1,
             "tickcolor": "rgb(36,36,36)",
             "ticks": "outside"
            },
            "colorscale": [
             [
              0,
              "#440154"
             ],
             [
              0.1111111111111111,
              "#482878"
             ],
             [
              0.2222222222222222,
              "#3e4989"
             ],
             [
              0.3333333333333333,
              "#31688e"
             ],
             [
              0.4444444444444444,
              "#26828e"
             ],
             [
              0.5555555555555556,
              "#1f9e89"
             ],
             [
              0.6666666666666666,
              "#35b779"
             ],
             [
              0.7777777777777778,
              "#6ece58"
             ],
             [
              0.8888888888888888,
              "#b5de2b"
             ],
             [
              1,
              "#fde725"
             ]
            ],
            "type": "surface"
           }
          ],
          "table": [
           {
            "cells": {
             "fill": {
              "color": "rgb(237,237,237)"
             },
             "line": {
              "color": "white"
             }
            },
            "header": {
             "fill": {
              "color": "rgb(217,217,217)"
             },
             "line": {
              "color": "white"
             }
            },
            "type": "table"
           }
          ]
         },
         "layout": {
          "annotationdefaults": {
           "arrowhead": 0,
           "arrowwidth": 1
          },
          "autotypenumbers": "strict",
          "coloraxis": {
           "colorbar": {
            "outlinewidth": 1,
            "tickcolor": "rgb(36,36,36)",
            "ticks": "outside"
           }
          },
          "colorscale": {
           "diverging": [
            [
             0,
             "rgb(103,0,31)"
            ],
            [
             0.1,
             "rgb(178,24,43)"
            ],
            [
             0.2,
             "rgb(214,96,77)"
            ],
            [
             0.3,
             "rgb(244,165,130)"
            ],
            [
             0.4,
             "rgb(253,219,199)"
            ],
            [
             0.5,
             "rgb(247,247,247)"
            ],
            [
             0.6,
             "rgb(209,229,240)"
            ],
            [
             0.7,
             "rgb(146,197,222)"
            ],
            [
             0.8,
             "rgb(67,147,195)"
            ],
            [
             0.9,
             "rgb(33,102,172)"
            ],
            [
             1,
             "rgb(5,48,97)"
            ]
           ],
           "sequential": [
            [
             0,
             "#440154"
            ],
            [
             0.1111111111111111,
             "#482878"
            ],
            [
             0.2222222222222222,
             "#3e4989"
            ],
            [
             0.3333333333333333,
             "#31688e"
            ],
            [
             0.4444444444444444,
             "#26828e"
            ],
            [
             0.5555555555555556,
             "#1f9e89"
            ],
            [
             0.6666666666666666,
             "#35b779"
            ],
            [
             0.7777777777777778,
             "#6ece58"
            ],
            [
             0.8888888888888888,
             "#b5de2b"
            ],
            [
             1,
             "#fde725"
            ]
           ],
           "sequentialminus": [
            [
             0,
             "#440154"
            ],
            [
             0.1111111111111111,
             "#482878"
            ],
            [
             0.2222222222222222,
             "#3e4989"
            ],
            [
             0.3333333333333333,
             "#31688e"
            ],
            [
             0.4444444444444444,
             "#26828e"
            ],
            [
             0.5555555555555556,
             "#1f9e89"
            ],
            [
             0.6666666666666666,
             "#35b779"
            ],
            [
             0.7777777777777778,
             "#6ece58"
            ],
            [
             0.8888888888888888,
             "#b5de2b"
            ],
            [
             1,
             "#fde725"
            ]
           ]
          },
          "colorway": [
           "#1F77B4",
           "#FF7F0E",
           "#2CA02C",
           "#D62728",
           "#9467BD",
           "#8C564B",
           "#E377C2",
           "#7F7F7F",
           "#BCBD22",
           "#17BECF"
          ],
          "font": {
           "color": "rgb(36,36,36)"
          },
          "geo": {
           "bgcolor": "white",
           "lakecolor": "white",
           "landcolor": "white",
           "showlakes": true,
           "showland": true,
           "subunitcolor": "white"
          },
          "hoverlabel": {
           "align": "left"
          },
          "hovermode": "closest",
          "mapbox": {
           "style": "light"
          },
          "paper_bgcolor": "white",
          "plot_bgcolor": "white",
          "polar": {
           "angularaxis": {
            "gridcolor": "rgb(232,232,232)",
            "linecolor": "rgb(36,36,36)",
            "showgrid": false,
            "showline": true,
            "ticks": "outside"
           },
           "bgcolor": "white",
           "radialaxis": {
            "gridcolor": "rgb(232,232,232)",
            "linecolor": "rgb(36,36,36)",
            "showgrid": false,
            "showline": true,
            "ticks": "outside"
           }
          },
          "scene": {
           "xaxis": {
            "backgroundcolor": "white",
            "gridcolor": "rgb(232,232,232)",
            "gridwidth": 2,
            "linecolor": "rgb(36,36,36)",
            "showbackground": true,
            "showgrid": false,
            "showline": true,
            "ticks": "outside",
            "zeroline": false,
            "zerolinecolor": "rgb(36,36,36)"
           },
           "yaxis": {
            "backgroundcolor": "white",
            "gridcolor": "rgb(232,232,232)",
            "gridwidth": 2,
            "linecolor": "rgb(36,36,36)",
            "showbackground": true,
            "showgrid": false,
            "showline": true,
            "ticks": "outside",
            "zeroline": false,
            "zerolinecolor": "rgb(36,36,36)"
           },
           "zaxis": {
            "backgroundcolor": "white",
            "gridcolor": "rgb(232,232,232)",
            "gridwidth": 2,
            "linecolor": "rgb(36,36,36)",
            "showbackground": true,
            "showgrid": false,
            "showline": true,
            "ticks": "outside",
            "zeroline": false,
            "zerolinecolor": "rgb(36,36,36)"
           }
          },
          "shapedefaults": {
           "fillcolor": "black",
           "line": {
            "width": 0
           },
           "opacity": 0.3
          },
          "ternary": {
           "aaxis": {
            "gridcolor": "rgb(232,232,232)",
            "linecolor": "rgb(36,36,36)",
            "showgrid": false,
            "showline": true,
            "ticks": "outside"
           },
           "baxis": {
            "gridcolor": "rgb(232,232,232)",
            "linecolor": "rgb(36,36,36)",
            "showgrid": false,
            "showline": true,
            "ticks": "outside"
           },
           "bgcolor": "white",
           "caxis": {
            "gridcolor": "rgb(232,232,232)",
            "linecolor": "rgb(36,36,36)",
            "showgrid": false,
            "showline": true,
            "ticks": "outside"
           }
          },
          "title": {
           "x": 0.05
          },
          "xaxis": {
           "automargin": true,
           "gridcolor": "rgb(232,232,232)",
           "linecolor": "rgb(36,36,36)",
           "showgrid": false,
           "showline": true,
           "ticks": "outside",
           "title": {
            "standoff": 15
           },
           "zeroline": false,
           "zerolinecolor": "rgb(36,36,36)"
          },
          "yaxis": {
           "automargin": true,
           "gridcolor": "rgb(232,232,232)",
           "linecolor": "rgb(36,36,36)",
           "showgrid": false,
           "showline": true,
           "ticks": "outside",
           "title": {
            "standoff": 15
           },
           "zeroline": false,
           "zerolinecolor": "rgb(36,36,36)"
          }
         }
        },
        "width": 800,
        "xaxis": {
         "griddash": "dash",
         "minor": {
          "griddash": "dot",
          "ticks": "inside"
         },
         "showgrid": true,
         "title": {
          "text": "Transaction Date"
         }
        },
        "yaxis": {
         "griddash": "dash",
         "minor": {
          "griddash": "dot",
          "ticks": "inside"
         },
         "range": [
          -0.01,
          0.9
         ],
         "showgrid": true,
         "title": {
          "text": "Price (USD)"
         }
        }
       }
      }
     },
     "metadata": {},
     "output_type": "display_data"
    }
   ],
   "source": [
    "fig = go.Figure(layout=layout)\n",
    "\n",
    "\n",
    "#data = transfer_sync.group_by('date').agg(pl.col(\"value_USD\").sum())\n",
    "#data = data.sort(pl.col(\"date\"))\n",
    "#fig.add_trace(go.Scatter(x=data['date'], y=data['value_USD'], line=dict(\n",
    "#    color=colors['light_purple'], width=4), mode='lines', name='Total Volume'))\n",
    "\n",
    "data = transfer_sync.group_by('date').agg(pl.col(\"value_USD\").median())\n",
    "data = data.sort(pl.col(\"date\"))\n",
    "fig.add_trace(go.Scatter(x=data['date'], y=data['value_USD'], line=dict(\n",
    "    color=colors['brown'], width=2), mode='lines', name='Median Price'))\n",
    "\n",
    "data = transfer_sync\n",
    "data = data.sort(pl.col(\"date\"))\n",
    "fig.add_trace(go.Box(x=data['date'], y=data['value_USD'],\n",
    "              name='Transaction Price', marker_color=colors['green'], line=dict(width=1.5), whiskerwidth=0.5, fillcolor=colors['white']))\n",
    "\n",
    "# Update layout\n",
    "fig.update_layout(xaxis_title='Transaction Date',\n",
    "                  yaxis_title='Price (USD)', legend=dict(xanchor='center',\n",
    "                                                  x=0.5, y=1.02, orientation='h'))\n",
    "\n",
    "fig.update_layout(yaxis=dict(range=[-0.01, 0.9]))\n",
    "#fig.update_yaxes(type='log', range=[-11, 2])\n",
    "\n",
    "\n",
    "fig.write_image(plots_dir+\"transfersync.pdf\",\n",
    "                width=770, height=380, scale=1) #1540\n",
    "fig.show()"
   ]
  },
  {
   "cell_type": "code",
   "execution_count": null,
   "metadata": {},
   "outputs": [],
   "source": [
    "from plot_utils import get_plotly_layout\n",
    "from plot_utils import colors\n",
    "width, height = 800, 450\n",
    "fig = go.Figure(layout=get_plotly_layout(width=width, height=height))\n",
    "\n",
    "\n",
    "data = votes_cost_df.groupby('proposalId').tx_fee_usd.sum()\n",
    "fig.add_trace(go.Scatter(x=data.index, y=data, line=dict(\n",
    "    color=colors['light_purple'], width=4), mode='lines', name='total cost'))\n",
    "\n",
    "data = votes_cost_df.groupby('proposalId').tx_fee_usd.median()\n",
    "fig.add_trace(go.Scatter(x=data.index, y=data, line=dict(\n",
    "    color=colors['brown'], width=2), mode='lines', name='median cost'))\n",
    "\n",
    "\n",
    "data = votes_cost_df.query(\n",
    "    'proposalId not in @proposals_defeated_df.proposalId')\n",
    "fig.add_trace(go.Box(x=data.proposalId, y=data.tx_fee_usd,\n",
    "              name='Executed', marker_color=colors['green'], line=dict(width=1.5), whiskerwidth=0.5, fillcolor=colors['white']))\n",
    "\n",
    "data = votes_cost_df.query(\n",
    "    'proposalId in @proposals_defeated_df.proposalId')\n",
    "fig.add_trace(go.Box(x=data.proposalId, y=data.tx_fee_usd,\n",
    "              name='Defeated', marker_color=colors['red'], line=dict(width=1.5), whiskerwidth=0.5, fillcolor=colors['white']))\n",
    "\n",
    "data = votes_cost_df.query(\n",
    "    'proposalId in @proposals_canceled_df.proposalId')\n",
    "fig.add_trace(go.Box(x=data.proposalId, y=data.tx_fee_usd,\n",
    "              name='Cancelled', marker_color=colors['blue'], line=dict(width=1.5), whiskerwidth=0.5, fillcolor=colors['white']))\n",
    "\n",
    "fig.update_layout(yaxis_title=\"Voting cost (in USD)\", xaxis_title=\"Proposal ID\", template='simple_white',\n",
    "                  font=dict(size=18, family='Clear Sans'), xaxis=dict(tickmode='linear', tick0=0, dtick=10),\n",
    "                  legend=dict(xanchor='center', x=0.5, y=1.15, orientation='h'))\n",
    "\n",
    "\n",
    "fig.update_xaxes(minor_ticks=\"inside\", showgrid=True,\n",
    "                 griddash='dash', minor_griddash=\"dot\")\n",
    "fig.update_yaxes(minor_ticks=\"inside\", showgrid=True,\n",
    "                 griddash='dash', minor_griddash=\"dot\")\n",
    "fig.update_yaxes(type='log')\n",
    "\n",
    "fig.write_image(plots_dir+\"voting_cost_per_proposal.pdf\",\n",
    "                width=1540, height=380, scale=1)\n",
    "fig.show()"
   ]
  },
  {
   "cell_type": "code",
   "execution_count": null,
   "metadata": {},
   "outputs": [],
   "source": []
  }
 ],
 "metadata": {
  "kernelspec": {
   "display_name": "base",
   "language": "python",
   "name": "python3"
  },
  "language_info": {
   "codemirror_mode": {
    "name": "ipython",
    "version": 3
   },
   "file_extension": ".py",
   "mimetype": "text/x-python",
   "name": "python",
   "nbconvert_exporter": "python",
   "pygments_lexer": "ipython3",
   "version": "3.9.6"
  },
  "orig_nbformat": 4
 },
 "nbformat": 4,
 "nbformat_minor": 2
}
