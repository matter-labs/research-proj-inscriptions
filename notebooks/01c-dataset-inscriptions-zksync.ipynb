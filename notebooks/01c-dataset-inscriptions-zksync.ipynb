{
 "cells": [
  {
   "cell_type": "markdown",
   "metadata": {},
   "source": [
    "# Project Inscriptions -- Data set construction\n",
    "\n",
    "**Johnnatan Messias**, May 2024\n"
   ]
  },
  {
   "cell_type": "code",
   "execution_count": 1,
   "metadata": {},
   "outputs": [],
   "source": [
    "import os\n",
    "import pandas as pd\n",
    "import polars as pl\n",
    "import web3"
   ]
  },
  {
   "cell_type": "code",
   "execution_count": 2,
   "metadata": {},
   "outputs": [],
   "source": [
    "import sys\n",
    "code_dir = os.path.realpath(os.path.join(os.getcwd(), \"..\", \"src\"))\n",
    "\n",
    "sys.path.append(code_dir)"
   ]
  },
  {
   "cell_type": "code",
   "execution_count": 3,
   "metadata": {},
   "outputs": [],
   "source": [
    "from utils import Utils\n",
    "utils = Utils(\n",
    "    zkSync_data_dir='/Users/johnnatan/matterlabs/zkSync-node-crawler/data/parquet_files/')"
   ]
  },
  {
   "cell_type": "code",
   "execution_count": 4,
   "metadata": {},
   "outputs": [],
   "source": [
    "# Existing dataset dir\n",
    "data_dir = '../data/'\n",
    "\n",
    "# Existing plots dir\n",
    "plots_dir = data_dir+'/plots/'\n",
    "os.makedirs(data_dir, exist_ok=True)\n",
    "os.makedirs(plots_dir, exist_ok=True)"
   ]
  },
  {
   "cell_type": "code",
   "execution_count": 5,
   "metadata": {},
   "outputs": [
    {
     "data": {
      "text/plain": [
       "'data:,{\"p\":\"zrc-20\",\"op\":\"mint\",\"tick\":\"sync\",\"amt\":\"4\"}'"
      ]
     },
     "execution_count": 5,
     "metadata": {},
     "output_type": "execute_result"
    }
   ],
   "source": [
    "web3.Web3.to_text(\n",
    "    '0x646174613a2c7b2270223a227a72632d3230222c226f70223a226d696e74222c227469636b223a2273796e63222c22616d74223a2234227d')"
   ]
  },
  {
   "cell_type": "code",
   "execution_count": 6,
   "metadata": {},
   "outputs": [],
   "source": [
    "inscriptions_tag = '0x646174613a'"
   ]
  },
  {
   "cell_type": "code",
   "execution_count": 7,
   "metadata": {},
   "outputs": [
    {
     "data": {
      "text/html": [
       "<div>\n",
       "<style scoped>\n",
       "    .dataframe tbody tr th:only-of-type {\n",
       "        vertical-align: middle;\n",
       "    }\n",
       "\n",
       "    .dataframe tbody tr th {\n",
       "        vertical-align: top;\n",
       "    }\n",
       "\n",
       "    .dataframe thead th {\n",
       "        text-align: right;\n",
       "    }\n",
       "</style>\n",
       "<table border=\"1\" class=\"dataframe\">\n",
       "  <thead>\n",
       "    <tr style=\"text-align: right;\">\n",
       "      <th></th>\n",
       "      <th>contractAddress</th>\n",
       "      <th>codeFormat</th>\n",
       "      <th>contractName</th>\n",
       "      <th>compilerZksolcVersion</th>\n",
       "      <th>compilerSolcVersion</th>\n",
       "      <th>optimizationUsed</th>\n",
       "      <th>optimizerMode</th>\n",
       "      <th>constructorArguments</th>\n",
       "      <th>isSystem</th>\n",
       "      <th>compilerZkvyperVersion</th>\n",
       "      <th>compilerVyperVersion</th>\n",
       "    </tr>\n",
       "  </thead>\n",
       "  <tbody>\n",
       "    <tr>\n",
       "      <th>0</th>\n",
       "      <td>0x5500052b962685a86217fc37107425ef32c1ff20</td>\n",
       "      <td>solidity-single-file</td>\n",
       "      <td>Contracts/Greeter.sol:GreeterOneFour</td>\n",
       "      <td>v1.3.13</td>\n",
       "      <td>0.8.17</td>\n",
       "      <td>True</td>\n",
       "      <td>NaN</td>\n",
       "      <td>0x00000000000000000000000000000000000000000000...</td>\n",
       "      <td>False</td>\n",
       "      <td>NaN</td>\n",
       "      <td>NaN</td>\n",
       "    </tr>\n",
       "  </tbody>\n",
       "</table>\n",
       "</div>"
      ],
      "text/plain": [
       "                              contractAddress            codeFormat  \\\n",
       "0  0x5500052b962685a86217fc37107425ef32c1ff20  solidity-single-file   \n",
       "\n",
       "                           contractName compilerZksolcVersion  \\\n",
       "0  Contracts/Greeter.sol:GreeterOneFour               v1.3.13   \n",
       "\n",
       "  compilerSolcVersion  optimizationUsed  optimizerMode  \\\n",
       "0              0.8.17              True            NaN   \n",
       "\n",
       "                                constructorArguments  isSystem  \\\n",
       "0  0x00000000000000000000000000000000000000000000...     False   \n",
       "\n",
       "  compilerZkvyperVersion compilerVyperVersion  \n",
       "0                    NaN                  NaN  "
      ]
     },
     "execution_count": 7,
     "metadata": {},
     "output_type": "execute_result"
    }
   ],
   "source": [
    "verified_contracts_df = pd.read_csv(data_dir+'verified-contracts.csv')\n",
    "verified_contracts_map = verified_contracts_df.set_index('contractAddress')[\n",
    "    'contractName'].to_dict()\n",
    "verified_contracts_df.head(1)"
   ]
  },
  {
   "cell_type": "code",
   "execution_count": 8,
   "metadata": {},
   "outputs": [
    {
     "data": {
      "text/html": [
       "<div>\n",
       "<style scoped>\n",
       "    .dataframe tbody tr th:only-of-type {\n",
       "        vertical-align: middle;\n",
       "    }\n",
       "\n",
       "    .dataframe tbody tr th {\n",
       "        vertical-align: top;\n",
       "    }\n",
       "\n",
       "    .dataframe thead th {\n",
       "        text-align: right;\n",
       "    }\n",
       "</style>\n",
       "<table border=\"1\" class=\"dataframe\">\n",
       "  <thead>\n",
       "    <tr style=\"text-align: right;\">\n",
       "      <th></th>\n",
       "      <th>name</th>\n",
       "      <th>symbol</th>\n",
       "      <th>decimals</th>\n",
       "      <th>l2Address</th>\n",
       "      <th>l1Address</th>\n",
       "    </tr>\n",
       "  </thead>\n",
       "  <tbody>\n",
       "    <tr>\n",
       "      <th>0</th>\n",
       "      <td>Ether</td>\n",
       "      <td>ETH</td>\n",
       "      <td>18</td>\n",
       "      <td>0x000000000000000000000000000000000000800a</td>\n",
       "      <td>0x0000000000000000000000000000000000000000</td>\n",
       "    </tr>\n",
       "    <tr>\n",
       "      <th>1</th>\n",
       "      <td>ChainLink Token</td>\n",
       "      <td>LINK</td>\n",
       "      <td>18</td>\n",
       "      <td>0x082fade8b84b18c441d506e1d3a43a387cc59d20</td>\n",
       "      <td>0x514910771af9ca656af840dff83e8264ecf986ca</td>\n",
       "    </tr>\n",
       "    <tr>\n",
       "      <th>2</th>\n",
       "      <td>Wrapped BTC</td>\n",
       "      <td>WBTC</td>\n",
       "      <td>8</td>\n",
       "      <td>0xbbeb516fb02a01611cbbe0453fe3c580d7281011</td>\n",
       "      <td>0x2260fac5e5542a773aa44fbcfedf7c193bc2c599</td>\n",
       "    </tr>\n",
       "    <tr>\n",
       "      <th>3</th>\n",
       "      <td>Matic Token</td>\n",
       "      <td>MATIC</td>\n",
       "      <td>18</td>\n",
       "      <td>0x770e221ec6f3e8a2e2e168399bb3aa56a63e397d</td>\n",
       "      <td>0x7d1afa7b718fb893db30a3abc0cfc608aacfebb0</td>\n",
       "    </tr>\n",
       "    <tr>\n",
       "      <th>4</th>\n",
       "      <td>Uniswap</td>\n",
       "      <td>UNI</td>\n",
       "      <td>18</td>\n",
       "      <td>0x1c6f53185061d7cc387e481c350ad00c2c876f3e</td>\n",
       "      <td>0x1f9840a85d5af5bf1d1762f925bdaddc4201f984</td>\n",
       "    </tr>\n",
       "  </tbody>\n",
       "</table>\n",
       "</div>"
      ],
      "text/plain": [
       "              name symbol  decimals  \\\n",
       "0            Ether    ETH        18   \n",
       "1  ChainLink Token   LINK        18   \n",
       "2      Wrapped BTC   WBTC         8   \n",
       "3      Matic Token  MATIC        18   \n",
       "4          Uniswap    UNI        18   \n",
       "\n",
       "                                    l2Address  \\\n",
       "0  0x000000000000000000000000000000000000800a   \n",
       "1  0x082fade8b84b18c441d506e1d3a43a387cc59d20   \n",
       "2  0xbbeb516fb02a01611cbbe0453fe3c580d7281011   \n",
       "3  0x770e221ec6f3e8a2e2e168399bb3aa56a63e397d   \n",
       "4  0x1c6f53185061d7cc387e481c350ad00c2c876f3e   \n",
       "\n",
       "                                    l1Address  \n",
       "0  0x0000000000000000000000000000000000000000  \n",
       "1  0x514910771af9ca656af840dff83e8264ecf986ca  \n",
       "2  0x2260fac5e5542a773aa44fbcfedf7c193bc2c599  \n",
       "3  0x7d1afa7b718fb893db30a3abc0cfc608aacfebb0  \n",
       "4  0x1f9840a85d5af5bf1d1762f925bdaddc4201f984  "
      ]
     },
     "execution_count": 8,
     "metadata": {},
     "output_type": "execute_result"
    }
   ],
   "source": [
    "contracts_df = pd.read_csv(data_dir+'contracts.csv')\n",
    "contracts_map = contracts_df.set_index('l2Address').to_dict(orient='index')\n",
    "contracts_df.head()"
   ]
  },
  {
   "cell_type": "code",
   "execution_count": 9,
   "metadata": {},
   "outputs": [],
   "source": [
    "address_to_name_dict = dict(\n",
    "    map(lambda x: (x[0], x[1]['name']), contracts_map.items()))"
   ]
  },
  {
   "cell_type": "code",
   "execution_count": 10,
   "metadata": {},
   "outputs": [
    {
     "name": "stdout",
     "output_type": "stream",
     "text": [
      "There are 328694216 transactions and 29800000 blocks in our dataset.\n",
      "Blocks range from 1 (2023-02-14 14:22:22) to 29799999 (2024-03-25 02:21:27)\n"
     ]
    }
   ],
   "source": [
    "n_transactions = utils.get_num_transactions()\n",
    "n_blocks = utils.get_num_blocks()\n",
    "block_info = utils.get_min_max_blocks()\n",
    "print(\n",
    "    f\"There are {n_transactions} transactions and {n_blocks} blocks in our dataset.\")\n",
    "print(\n",
    "    f\"Blocks range from {block_info['min_number'][0]} ({block_info['min_timestamp'][0]}) to {block_info['max_number'][0]} ({block_info['max_timestamp'][0]})\")"
   ]
  },
  {
   "cell_type": "markdown",
   "metadata": {},
   "source": [
    "## Data gathering\n"
   ]
  },
  {
   "cell_type": "markdown",
   "metadata": {},
   "source": [
    "### Filter transactions of interest\n"
   ]
  },
  {
   "cell_type": "code",
   "execution_count": 11,
   "metadata": {},
   "outputs": [
    {
     "data": {
      "text/plain": [
       "(17054466, 6)"
      ]
     },
     "execution_count": 11,
     "metadata": {},
     "output_type": "execute_result"
    }
   ],
   "source": [
    "# Gathering transactions that contains inscriptions\n",
    "txs_df = utils.get_txs(inscriptions_tag)\n",
    "txs_df.shape"
   ]
  },
  {
   "cell_type": "code",
   "execution_count": 12,
   "metadata": {},
   "outputs": [
    {
     "data": {
      "text/plain": [
       "(17054466, 6)"
      ]
     },
     "execution_count": 12,
     "metadata": {},
     "output_type": "execute_result"
    }
   ],
   "source": [
    "txs_df.shape"
   ]
  },
  {
   "cell_type": "code",
   "execution_count": 13,
   "metadata": {},
   "outputs": [
    {
     "data": {
      "text/plain": [
       "(470864,)"
      ]
     },
     "execution_count": 13,
     "metadata": {},
     "output_type": "execute_result"
    }
   ],
   "source": [
    "# Gathering unique issuers' wallet addresses from transactions\n",
    "wallet_addresses = txs_df['issuer'].unique()\n",
    "wallet_addresses.shape"
   ]
  },
  {
   "cell_type": "code",
   "execution_count": 14,
   "metadata": {},
   "outputs": [
    {
     "data": {
      "text/plain": [
       "(62698179, 5)"
      ]
     },
     "execution_count": 14,
     "metadata": {},
     "output_type": "execute_result"
    }
   ],
   "source": [
    "# Gathering receipts for the issuers\n",
    "receipts_df = utils.get_receipts(wallet_addresses)\n",
    "receipts_df.shape"
   ]
  },
  {
   "cell_type": "code",
   "execution_count": 15,
   "metadata": {},
   "outputs": [],
   "source": [
    "# Merging the transactions and receipts dataframes\n",
    "inscriptions_df = txs_df.join(receipts_df, on='tx_hash', how='left').sort(\n",
    "    pl.col(['block_number']))"
   ]
  },
  {
   "cell_type": "code",
   "execution_count": 16,
   "metadata": {},
   "outputs": [
    {
     "name": "stdout",
     "output_type": "stream",
     "text": [
      "There are 17060492 inscriptions in our dataset.\n"
     ]
    }
   ],
   "source": [
    "inscriptions_df = inscriptions_df.with_columns(pl.col('tx_input_data').map_elements(\n",
    "    Utils.decode_input_data).alias('decoded_input_data'))\n",
    "print(\"There are {} inscriptions in our dataset.\".format(\n",
    "    inscriptions_df.shape[0]))"
   ]
  },
  {
   "cell_type": "code",
   "execution_count": 17,
   "metadata": {},
   "outputs": [
    {
     "data": {
      "text/html": [
       "<div><style>\n",
       ".dataframe > thead > tr,\n",
       ".dataframe > tbody > tr {\n",
       "  text-align: right;\n",
       "  white-space: pre-wrap;\n",
       "}\n",
       "</style>\n",
       "<small>shape: (5, 11)</small><table border=\"1\" class=\"dataframe\"><thead><tr><th>block_number</th><th>tx_hash</th><th>tx_input_data</th><th>issuer</th><th>receiver</th><th>timestamp</th><th>gas_used</th><th>gas_effective_price</th><th>fees</th><th>tx_status</th><th>decoded_input_data</th></tr><tr><td>i64</td><td>str</td><td>str</td><td>str</td><td>str</td><td>datetime[μs]</td><td>i64</td><td>i64</td><td>f64</td><td>i64</td><td>str</td></tr></thead><tbody><tr><td>6332862</td><td>&quot;0x2359c19cc715…</td><td>&quot;0x646174613a2c…</td><td>&quot;0x86f04d8f599a…</td><td>&quot;0x86f04d8f599a…</td><td>2023-06-18 02:04:06</td><td>215530</td><td>250000000</td><td>0.000054</td><td>1</td><td>&quot;data:,dashboar…</td></tr><tr><td>6351363</td><td>&quot;0x9fb936db1466…</td><td>&quot;0x646174613a69…</td><td>&quot;0x39ebe965aff2…</td><td>&quot;0x488bd13f16a2…</td><td>2023-06-18 07:13:34</td><td>221181</td><td>250000000</td><td>0.000055</td><td>1</td><td>&quot;data:image/png…</td></tr><tr><td>6351394</td><td>&quot;0x364528a9e973…</td><td>&quot;0x646174613a69…</td><td>&quot;0x39ebe965aff2…</td><td>&quot;0x488bd13f16a2…</td><td>2023-06-18 07:14:05</td><td>148688</td><td>250000000</td><td>0.000037</td><td>1</td><td>&quot;data:image/png…</td></tr><tr><td>6351410</td><td>&quot;0x0d746c0320ff…</td><td>&quot;0x646174613a69…</td><td>&quot;0x39ebe965aff2…</td><td>&quot;0x488bd13f16a2…</td><td>2023-06-18 07:14:21</td><td>220987</td><td>250000000</td><td>0.000055</td><td>1</td><td>&quot;data:image/png…</td></tr><tr><td>6351431</td><td>&quot;0xcd99fb93cee9…</td><td>&quot;0x646174613a69…</td><td>&quot;0x39ebe965aff2…</td><td>&quot;0x488bd13f16a2…</td><td>2023-06-18 07:14:42</td><td>147604</td><td>250000000</td><td>0.000037</td><td>1</td><td>&quot;data:image/png…</td></tr></tbody></table></div>"
      ],
      "text/plain": [
       "shape: (5, 11)\n",
       "┌───────────┬───────────┬───────────┬───────────┬───┬───────────┬──────────┬───────────┬───────────┐\n",
       "│ block_num ┆ tx_hash   ┆ tx_input_ ┆ issuer    ┆ … ┆ gas_effec ┆ fees     ┆ tx_status ┆ decoded_i │\n",
       "│ ber       ┆ ---       ┆ data      ┆ ---       ┆   ┆ tive_pric ┆ ---      ┆ ---       ┆ nput_data │\n",
       "│ ---       ┆ str       ┆ ---       ┆ str       ┆   ┆ e         ┆ f64      ┆ i64       ┆ ---       │\n",
       "│ i64       ┆           ┆ str       ┆           ┆   ┆ ---       ┆          ┆           ┆ str       │\n",
       "│           ┆           ┆           ┆           ┆   ┆ i64       ┆          ┆           ┆           │\n",
       "╞═══════════╪═══════════╪═══════════╪═══════════╪═══╪═══════════╪══════════╪═══════════╪═══════════╡\n",
       "│ 6332862   ┆ 0x2359c19 ┆ 0x6461746 ┆ 0x86f04d8 ┆ … ┆ 250000000 ┆ 0.000054 ┆ 1         ┆ data:,das │\n",
       "│           ┆ cc71569da ┆ 13a2c6461 ┆ f599a5b56 ┆   ┆           ┆          ┆           ┆ hboard    │\n",
       "│           ┆ f700191b8 ┆ 7368626f6 ┆ ddcd91a96 ┆   ┆           ┆          ┆           ┆           │\n",
       "│           ┆ 94cf4…    ┆ 17264     ┆ 89a66…    ┆   ┆           ┆          ┆           ┆           │\n",
       "│ 6351363   ┆ 0x9fb936d ┆ 0x6461746 ┆ 0x39ebe96 ┆ … ┆ 250000000 ┆ 0.000055 ┆ 1         ┆ data:imag │\n",
       "│           ┆ b146658f1 ┆ 13a696d61 ┆ 5aff2f380 ┆   ┆           ┆          ┆           ┆ e/png;bas │\n",
       "│           ┆ d43a79373 ┆ 67652f706 ┆ 3305db701 ┆   ┆           ┆          ┆           ┆ e64,iVBOR │\n",
       "│           ┆ 4269d…    ┆ e673b…    ┆ c8ebc…    ┆   ┆           ┆          ┆           ┆ w0KGg…    │\n",
       "│ 6351394   ┆ 0x364528a ┆ 0x6461746 ┆ 0x39ebe96 ┆ … ┆ 250000000 ┆ 0.000037 ┆ 1         ┆ data:imag │\n",
       "│           ┆ 9e973bbc6 ┆ 13a696d61 ┆ 5aff2f380 ┆   ┆           ┆          ┆           ┆ e/png;bas │\n",
       "│           ┆ 9cabc3250 ┆ 67652f706 ┆ 3305db701 ┆   ┆           ┆          ┆           ┆ e64,iVBOR │\n",
       "│           ┆ f99f3…    ┆ e673b…    ┆ c8ebc…    ┆   ┆           ┆          ┆           ┆ w0KGg…    │\n",
       "│ 6351410   ┆ 0x0d746c0 ┆ 0x6461746 ┆ 0x39ebe96 ┆ … ┆ 250000000 ┆ 0.000055 ┆ 1         ┆ data:imag │\n",
       "│           ┆ 320ff460b ┆ 13a696d61 ┆ 5aff2f380 ┆   ┆           ┆          ┆           ┆ e/png;bas │\n",
       "│           ┆ 817e974c8 ┆ 67652f706 ┆ 3305db701 ┆   ┆           ┆          ┆           ┆ e64,iVBOR │\n",
       "│           ┆ b3f1d…    ┆ e673b…    ┆ c8ebc…    ┆   ┆           ┆          ┆           ┆ w0KGg…    │\n",
       "│ 6351431   ┆ 0xcd99fb9 ┆ 0x6461746 ┆ 0x39ebe96 ┆ … ┆ 250000000 ┆ 0.000037 ┆ 1         ┆ data:imag │\n",
       "│           ┆ 3cee9376e ┆ 13a696d61 ┆ 5aff2f380 ┆   ┆           ┆          ┆           ┆ e/png;bas │\n",
       "│           ┆ 985142223 ┆ 67652f706 ┆ 3305db701 ┆   ┆           ┆          ┆           ┆ e64,iVBOR │\n",
       "│           ┆ d52f8…    ┆ e673b…    ┆ c8ebc…    ┆   ┆           ┆          ┆           ┆ w0KGg…    │\n",
       "└───────────┴───────────┴───────────┴───────────┴───┴───────────┴──────────┴───────────┴───────────┘"
      ]
     },
     "execution_count": 17,
     "metadata": {},
     "output_type": "execute_result"
    }
   ],
   "source": [
    "inscriptions_df.head()"
   ]
  },
  {
   "cell_type": "code",
   "execution_count": 18,
   "metadata": {},
   "outputs": [
    {
     "name": "stdout",
     "output_type": "stream",
     "text": [
      "(17060492, 11)\n"
     ]
    }
   ],
   "source": [
    "# Persisting inscriptions dataframe to a file\n",
    "print(inscriptions_df.shape)\n",
    "inscriptions_df.write_parquet(data_dir+'inscriptions_df.parquet')"
   ]
  },
  {
   "cell_type": "code",
   "execution_count": 19,
   "metadata": {},
   "outputs": [
    {
     "name": "stdout",
     "output_type": "stream",
     "text": [
      "(289466141, 5)\n"
     ]
    },
    {
     "data": {
      "text/html": [
       "<div><style>\n",
       ".dataframe > thead > tr,\n",
       ".dataframe > tbody > tr {\n",
       "  text-align: right;\n",
       "  white-space: pre-wrap;\n",
       "}\n",
       "</style>\n",
       "<small>shape: (5, 5)</small><table border=\"1\" class=\"dataframe\"><thead><tr><th>block_number</th><th>tx_hash</th><th>is_self_transfer</th><th>is_inscription</th><th>timestamp</th></tr><tr><td>i64</td><td>str</td><td>bool</td><td>bool</td><td>datetime[μs]</td></tr></thead><tbody><tr><td>10000000</td><td>&quot;0x60b1dd4432b7…</td><td>false</td><td>false</td><td>2023-07-31 06:11:24</td></tr><tr><td>10000000</td><td>&quot;0x50225618b693…</td><td>false</td><td>false</td><td>2023-07-31 06:11:24</td></tr><tr><td>10000000</td><td>&quot;0xc9eca17d5877…</td><td>false</td><td>false</td><td>2023-07-31 06:11:24</td></tr><tr><td>10000000</td><td>&quot;0x56d6d32deef0…</td><td>false</td><td>false</td><td>2023-07-31 06:11:24</td></tr><tr><td>10000000</td><td>&quot;0x6dd263ae54dd…</td><td>false</td><td>false</td><td>2023-07-31 06:11:24</td></tr></tbody></table></div>"
      ],
      "text/plain": [
       "shape: (5, 5)\n",
       "┌──────────────┬─────────────────────────┬──────────────────┬────────────────┬─────────────────────┐\n",
       "│ block_number ┆ tx_hash                 ┆ is_self_transfer ┆ is_inscription ┆ timestamp           │\n",
       "│ ---          ┆ ---                     ┆ ---              ┆ ---            ┆ ---                 │\n",
       "│ i64          ┆ str                     ┆ bool             ┆ bool           ┆ datetime[μs]        │\n",
       "╞══════════════╪═════════════════════════╪══════════════════╪════════════════╪═════════════════════╡\n",
       "│ 10000000     ┆ 0x60b1dd4432b73c862c0ef ┆ false            ┆ false          ┆ 2023-07-31 06:11:24 │\n",
       "│              ┆ 3fef4a09a…              ┆                  ┆                ┆                     │\n",
       "│ 10000000     ┆ 0x50225618b693a6c86aceb ┆ false            ┆ false          ┆ 2023-07-31 06:11:24 │\n",
       "│              ┆ 4e3249fee…              ┆                  ┆                ┆                     │\n",
       "│ 10000000     ┆ 0xc9eca17d58773cbc98de7 ┆ false            ┆ false          ┆ 2023-07-31 06:11:24 │\n",
       "│              ┆ 25fbf4998…              ┆                  ┆                ┆                     │\n",
       "│ 10000000     ┆ 0x56d6d32deef05581f90d7 ┆ false            ┆ false          ┆ 2023-07-31 06:11:24 │\n",
       "│              ┆ 3c0db83e5…              ┆                  ┆                ┆                     │\n",
       "│ 10000000     ┆ 0x6dd263ae54dd10735f3d3 ┆ false            ┆ false          ┆ 2023-07-31 06:11:24 │\n",
       "│              ┆ e63018b85…              ┆                  ┆                ┆                     │\n",
       "└──────────────┴─────────────────────────┴──────────────────┴────────────────┴─────────────────────┘"
      ]
     },
     "execution_count": 19,
     "metadata": {},
     "output_type": "execute_result"
    }
   ],
   "source": [
    "min_block, max_block = inscriptions_df['block_number'].min(\n",
    "), inscriptions_df['block_number'].max()\n",
    "q_1 = (pl.scan_parquet(utils.data_path['transactions'])\n",
    "       .filter(pl.col('blockNumber').is_between(min_block, max_block))\n",
    "       .select([\n",
    "           pl.col('blockNumber').alias('block_number'),\n",
    "           pl.col('hash').alias('tx_hash'),\n",
    "           pl.col('from').eq(pl.col('to')).alias('is_self_transfer'),\n",
    "           pl.col('hash').is_in(\n",
    "               inscriptions_df['tx_hash'].unique()).alias('is_inscription')\n",
    "       ])\n",
    "       # ).with_columns(\n",
    "       #     pl.col('tx_hash').is_in(\n",
    "       #         inscriptions_df['tx_hash'].unique()).alias('is_inscription')\n",
    "       )\n",
    "q_2 = (pl.scan_parquet(utils.data_path['blocks'])\n",
    "       .filter(pl.col('number').is_between(min_block, max_block))\n",
    "       .select(pl.col('number').alias('block_number'), pl.from_epoch(pl.col('timestamp')))\n",
    "       )\n",
    "q = q_1.join(q_2, left_on='block_number', right_on='block_number', how='left')\n",
    "all_txs_df = q.collect(streaming=True)\n",
    "\n",
    "print(all_txs_df.shape)\n",
    "all_txs_df.head()"
   ]
  },
  {
   "cell_type": "code",
   "execution_count": 20,
   "metadata": {},
   "outputs": [
    {
     "name": "stdout",
     "output_type": "stream",
     "text": [
      "There are 289466141 unique transactions in our dataset.\n",
      "There are 23070883 unique blocks in our dataset.\n",
      "The average number of txs per block is 12.55 txs.\n",
      "The minimum and max number of txs per block are: 6332862 and 29799866.\n",
      "The minimum timestamp is 2023-06-18 02:04:06 and the maximum timestamp is 2024-03-25 02:19:14.\n"
     ]
    }
   ],
   "source": [
    "print(\"There are {} unique transactions in our dataset.\".format(\n",
    "    all_txs_df['tx_hash'].n_unique()))\n",
    "print(\"There are {} unique blocks in our dataset.\".format(\n",
    "    all_txs_df['block_number'].n_unique()))\n",
    "print(\"The average number of txs per block is {} txs.\".format(round(\n",
    "    all_txs_df['tx_hash'].n_unique()/all_txs_df['block_number'].n_unique(), 2)))\n",
    "\n",
    "print(\"The minimum and max number of txs per block are: {} and {}.\".format(\n",
    "    all_txs_df['block_number'].min(), all_txs_df['block_number'].max()))\n",
    "\n",
    "print(\"The minimum timestamp is {} and the maximum timestamp is {}.\".format(\n",
    "    all_txs_df['timestamp'].min(), all_txs_df['timestamp'].max()))"
   ]
  },
  {
   "cell_type": "code",
   "execution_count": 21,
   "metadata": {},
   "outputs": [
    {
     "name": "stdout",
     "output_type": "stream",
     "text": [
      "There are 289466141 unique transactions in our dataset.\n",
      "There are 23070883 unique blocks in our dataset.\n",
      "The average number of txs per block is 12.55 txs.\n",
      "The minimum and max number of txs per block are: 6332862 and 29799866.\n",
      "The minimum timestamp is 2023-06-18 02:04:06 and the maximum timestamp is 2024-03-25 02:19:14.\n"
     ]
    }
   ],
   "source": [
    "print(\"There are {} unique transactions in our dataset.\".format(\n",
    "    all_txs_df['tx_hash'].n_unique()))\n",
    "print(\"There are {} unique blocks in our dataset.\".format(\n",
    "    all_txs_df['block_number'].n_unique()))\n",
    "print(\"The average number of txs per block is {} txs.\".format(round(\n",
    "    all_txs_df['tx_hash'].n_unique()/all_txs_df['block_number'].n_unique(), 2)))\n",
    "\n",
    "print(\"The minimum and max number of txs per block are: {} and {}.\".format(\n",
    "    all_txs_df['block_number'].min(), all_txs_df['block_number'].max()))\n",
    "\n",
    "print(\"The minimum timestamp is {} and the maximum timestamp is {}.\".format(\n",
    "    all_txs_df['timestamp'].min(), all_txs_df['timestamp'].max()))"
   ]
  },
  {
   "cell_type": "code",
   "execution_count": 22,
   "metadata": {},
   "outputs": [],
   "source": [
    "all_txs_df.write_parquet(data_dir+'inscriptions_all_txs_df.parquet')"
   ]
  }
 ],
 "metadata": {
  "kernelspec": {
   "display_name": "base",
   "language": "python",
   "name": "python3"
  },
  "language_info": {
   "codemirror_mode": {
    "name": "ipython",
    "version": 3
   },
   "file_extension": ".py",
   "mimetype": "text/x-python",
   "name": "python",
   "nbconvert_exporter": "python",
   "pygments_lexer": "ipython3",
   "version": "3.11.7"
  },
  "orig_nbformat": 4
 },
 "nbformat": 4,
 "nbformat_minor": 2
}
