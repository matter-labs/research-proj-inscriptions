{
 "cells": [
  {
   "cell_type": "code",
   "execution_count": null,
   "metadata": {},
   "outputs": [],
   "source": [
    "import pandas as pd\n",
    "from tqdm.notebook import tqdm\n",
    "import pandas_gbq\n",
    "from google.cloud import bigquery\n",
    "%load_ext google.cloud.bigquery\n"
   ]
  },
  {
   "cell_type": "code",
   "execution_count": null,
   "metadata": {},
   "outputs": [],
   "source": [
    "progress_bar_type = 'tqdm_notebook'\n",
    "project_id = 'proof-time-prediction'"
   ]
  },
  {
   "cell_type": "code",
   "execution_count": null,
   "metadata": {},
   "outputs": [],
   "source": [
    "import os\n",
    "data_dir = os.path.realpath(os.path.join(\n",
    "    os.getcwd(), \"..\", \"data\", \"chains\")) + os.sep\n",
    "print(data_dir)"
   ]
  },
  {
   "cell_type": "code",
   "execution_count": null,
   "metadata": {},
   "outputs": [],
   "source": [
    "chain_tables = [\n",
    "    {'chain_table': 'raw_arbitrum', 'effective_gas_price': 'effective_gas_price'},\n",
    "    {'chain_table': 'raw_base', 'effective_gas_price': 'effective_gas_price'},\n",
    "    {'chain_table': 'raw_bsc', 'effective_gas_price': ''},\n",
    "    {'chain_table': 'raw_ethereum',\n",
    "        'effective_gas_price': 'receipt_effective_gas_price'},\n",
    "    {'chain_table': 'raw_optimism', 'effective_gas_price': ''},\n",
    "    {'chain_table': 'raw_zksync', 'effective_gas_price': ''},\n",
    "    {'chain_table': 'raw_avalanche', 'effective_gas_price': ''},\n",
    "    {'chain_table': 'raw_fantom', 'effective_gas_price': ''},\n",
    "]"
   ]
  },
  {
   "cell_type": "code",
   "execution_count": null,
   "metadata": {},
   "outputs": [],
   "source": [
    "for chain in chain_tables:\n",
    "    os.makedirs(data_dir + chain['chain_table'][4:], exist_ok=True)"
   ]
  },
  {
   "cell_type": "code",
   "execution_count": null,
   "metadata": {},
   "outputs": [],
   "source": [
    "sql = \"\"\"\n",
    "WITH view_incriptions AS (\n",
    "  SELECT\n",
    "    txs.hash as tx_hash,\n",
    "    from_address as tx_from_address,\n",
    "    to_address as tx_to_address,\n",
    "    block_timestamp,\n",
    "    block_number,\n",
    "    gas,\n",
    "    gas_price,\n",
    "    receipt_gas_used,\n",
    "    value,\n",
    "    transaction_index,\n",
    "    receipt_status,\n",
    "    input as tx_input,\n",
    "    {effective_gas_price}\n",
    "  FROM\n",
    "    nansen-query.{chain_table}.transactions as txs\n",
    "  WHERE input LIKE '0x646174613a%' AND block_timestamp >= '{start_date}' AND block_timestamp < '{end_date}'\n",
    ")\n",
    "SELECT\n",
    "  *\n",
    "FROM\n",
    "  view_incriptions\n",
    "ORDER BY block_number DESC\n",
    "\"\"\""
   ]
  },
  {
   "cell_type": "code",
   "execution_count": null,
   "metadata": {},
   "outputs": [],
   "source": [
    "start_date, end_date = '2023-01-01', 'today'\n",
    "dates = list(map(lambda x: x.date(), pd.date_range(\n",
    "    start=start_date, end=end_date, freq='MS')))\n",
    "\n",
    "for chain in tqdm(chain_tables, desc='Gathering data'):\n",
    "    chain_name = chain['chain_table'][4:]\n",
    "    print(f'Gathering data for {chain_name}')\n",
    "    os.makedirs(data_dir+chain_name, exist_ok=True)\n",
    "    for end_date in dates[1:]:\n",
    "        query = sql.format(\n",
    "            chain_table=chain['chain_table'],\n",
    "            effective_gas_price=chain['effective_gas_price'],\n",
    "            start_date=str(start_date),\n",
    "            end_date=str(end_date))\n",
    "\n",
    "        df = pandas_gbq.read_gbq(\n",
    "            query, project_id=project_id, progress_bar_type=progress_bar_type)\n",
    "\n",
    "        filename = chain_name + \\\n",
    "            \"/{}_{}_{}.csv.gz\".format(chain['chain_table'],\n",
    "                                      str(start_date), str(end_date))\n",
    "        df.to_csv(data_dir+filename, index=False, compression='gzip')\n",
    "\n",
    "        print(f\"{chain['chain_table']} {str(start_date)} {str(end_date)} done\")\n",
    "        start_date = end_date"
   ]
  }
 ],
 "metadata": {
  "kernelspec": {
   "display_name": "Python 3",
   "language": "python",
   "name": "python3"
  },
  "language_info": {
   "codemirror_mode": {
    "name": "ipython",
    "version": 3
   },
   "file_extension": ".py",
   "mimetype": "text/x-python",
   "name": "python",
   "nbconvert_exporter": "python",
   "pygments_lexer": "ipython3",
   "version": "3.11.7"
  }
 },
 "nbformat": 4,
 "nbformat_minor": 2
}
